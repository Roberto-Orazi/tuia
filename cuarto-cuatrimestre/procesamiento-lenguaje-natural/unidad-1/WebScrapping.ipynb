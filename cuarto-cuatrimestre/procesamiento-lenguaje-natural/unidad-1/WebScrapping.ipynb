{
 "cells": [
  {
   "cell_type": "markdown",
   "id": "ee1be1f0",
   "metadata": {},
   "source": [
    "## Librerias"
   ]
  },
  {
   "cell_type": "code",
   "execution_count": 1,
   "id": "b11b4fce",
   "metadata": {},
   "outputs": [],
   "source": [
    "import requests\n",
    "from bs4 import BeautifulSoup"
   ]
  },
  {
   "cell_type": "markdown",
   "id": "5ea81bbf",
   "metadata": {},
   "source": [
    "## Web Scrapping"
   ]
  },
  {
   "cell_type": "code",
   "execution_count": 15,
   "id": "16169e82",
   "metadata": {},
   "outputs": [
    {
     "name": "stdout",
     "output_type": "stream",
     "text": [
      "No vuelvas\n",
      "no vuelvas sin razón\n",
      "no vuelvas\n",
      "estaré a un millón de años luz…\n",
      "Cuando el mundo enmudece\n",
      "y las promesas engañan\n",
      "nos revolcamos en el jardín por donde nadie pasa\n",
      "del fuego vino el diluvio\n",
      "la nave vuelve a partir\n",
      "mi alimento son las cenizas de una noche larga\n",
      "No vuelvas\n",
      "no vuelvas sin razón\n",
      "no vuelvas\n",
      "estaré a un millón de años luz\n",
      "de casa…\n",
      "De las historias pasadas\n",
      "ya no me aturde saber\n",
      "ella conoce mi perversión en una noche larga\n",
      "(y esta noche es larga…)\n",
      "No vuelvas\n",
      "no vuelvas sin razón\n",
      "no vuelvas\n",
      "estaré a un millón de años luz\n",
      "de casa.\n"
     ]
    }
   ],
   "source": [
    "url='https://rock.com.ar/letras/un-millon-de-anos-luz'\n",
    "\n",
    "response=requests.get(url) # Llamamos al metodo get para traer la informacion\n",
    "soup=BeautifulSoup(response.text, 'html.parser') # Aca usamos el html parser para parsear el texto que nos trae\n",
    "\n",
    "letra_div=soup.find('section', {'class': 'entry-content'}) # Primero el elemento y despues un filtro del elemento una clase, id, etc.\n",
    "\n",
    "paragraphs=letra_div.find_all('p') # Aca vamos a obtener todos los p que tengamos sobre nuestra seccion de clase entry content\n",
    "\n",
    "letras=[]\n",
    "for par in paragraphs:\n",
    "    letras.append(par.text)\n",
    "\n",
    "letras='\\n'.join(letras)\n",
    "\n",
    "'''\n",
    "letras = '\\n'.join(par.text for par in paragraphs)\n",
    "Esa es la forma de hacer lo anterior en una sola linea, es menos comprensible\n",
    "'''\n",
    "print(letras)"
   ]
  },
  {
   "cell_type": "markdown",
   "id": "b340778e",
   "metadata": {},
   "source": [
    "### Metodo Select"
   ]
  },
  {
   "cell_type": "code",
   "execution_count": 16,
   "id": "f3a8215d",
   "metadata": {},
   "outputs": [
    {
     "name": "stdout",
     "output_type": "stream",
     "text": [
      "No vuelvas\n",
      "no vuelvas sin razón\n",
      "no vuelvas\n",
      "estaré a un millón de años luz…\n",
      "Cuando el mundo enmudece\n",
      "y las promesas engañan\n",
      "nos revolcamos en el jardín por donde nadie pasa\n",
      "del fuego vino el diluvio\n",
      "la nave vuelve a partir\n",
      "mi alimento son las cenizas de una noche larga\n",
      "No vuelvas\n",
      "no vuelvas sin razón\n",
      "no vuelvas\n",
      "estaré a un millón de años luz\n",
      "de casa…\n",
      "De las historias pasadas\n",
      "ya no me aturde saber\n",
      "ella conoce mi perversión en una noche larga\n",
      "(y esta noche es larga…)\n",
      "No vuelvas\n",
      "no vuelvas sin razón\n",
      "no vuelvas\n",
      "estaré a un millón de años luz\n",
      "de casa.\n"
     ]
    }
   ],
   "source": [
    "letras_section=soup.select('section.entry-content > p')\n",
    "\n",
    "letras_section = '\\n'.join(par.text for par in paragraphs)\n",
    "\n",
    "print(letras_section)"
   ]
  },
  {
   "cell_type": "markdown",
   "id": "986ccece",
   "metadata": {},
   "source": [
    "### Request con sesiones"
   ]
  },
  {
   "cell_type": "code",
   "execution_count": null,
   "id": "4af64f94",
   "metadata": {},
   "outputs": [],
   "source": [
    "s=requests.Session()\n",
    "login_url='https://www.ejemplo.com/login'\n",
    "\n",
    "login_params={\n",
    "    'username': 'tu_usuario',\n",
    "    'password': 'tu_password'\n",
    "}\n",
    "\n",
    "s.post(login_url, data=login_params)\n",
    "\n",
    "url='https://www.ejemplo.com/pagina_protegida'\n",
    "response=s.get(url)\n",
    "\n",
    "soup=BeautifulSoup(response.content, 'html.parser')\n",
    "\n",
    "parrafos=soup.find_all('p')\n",
    "\n",
    "for parrafo in parrafos:\n",
    "    print(parrafo.get_text())"
   ]
  },
  {
   "cell_type": "markdown",
   "id": "611bff81",
   "metadata": {},
   "source": [
    "### Libreria Playwright"
   ]
  }
 ],
 "metadata": {
  "kernelspec": {
   "display_name": "teoria-1 (3.13.3)",
   "language": "python",
   "name": "python3"
  },
  "language_info": {
   "codemirror_mode": {
    "name": "ipython",
    "version": 3
   },
   "file_extension": ".py",
   "mimetype": "text/x-python",
   "name": "python",
   "nbconvert_exporter": "python",
   "pygments_lexer": "ipython3",
   "version": "3.13.3"
  }
 },
 "nbformat": 4,
 "nbformat_minor": 5
}
