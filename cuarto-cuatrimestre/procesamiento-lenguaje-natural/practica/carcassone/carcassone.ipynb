{
 "cells": [
  {
   "cell_type": "code",
   "execution_count": null,
   "metadata": {},
   "outputs": [],
   "source": [
    "import requests\n",
    "from bs4 import BeautifulSoup"
   ]
  },
  {
   "cell_type": "code",
   "execution_count": 2,
   "metadata": {},
   "outputs": [
    {
     "name": "stdout",
     "output_type": "stream",
     "text": [
      "Ta todo cheto\n"
     ]
    }
   ],
   "source": [
    "url = 'https://misutmeeple.com/2015/10/resena-carcassonne/'\n",
    "response=requests.get(url)\n",
    "\n",
    "if response.status_code == 200:\n",
    "    html_content = response.text\n",
    "    print('Ta todo cheto')\n",
    "else:\n",
    "    print(f'Ta to mal {response.status_code}')"
   ]
  },
  {
   "cell_type": "code",
   "execution_count": 3,
   "metadata": {},
   "outputs": [
    {
     "name": "stdout",
     "output_type": "stream",
     "text": [
      "<!DOCTYPE html>\n",
      "<html class=\"no-js\" dir=\"ltr\" itemscope=\"\" itemtype=\"https://schema.org/Blog\" lang=\"es\" prefix=\"og: https://ogp.me/ns#\">\n",
      " <head>\n",
      "  <meta charset=\"utf-8\"/>\n",
      "  <meta content=\"width=device-width, initial-scale=1, minimum-scale=1\" name=\"viewport\"/>\n",
      "  <title>\n",
      "   Reseña: Carcassonne | Misut Meeple\n",
      "  </title>\n",
      "  <style>\n",
      "   img:is([sizes=\"auto\" i], [sizes^=\"auto,\" i]){contain-intrinsic-size:3000px 1500px}\n",
      "  </style>\n",
      "  <meta content=\"Reseña de Carcassonne, diseñado por Klaus-Jürgen Wrede, ilustrado por Doris Matthäus, Anne Pätzke y Chris Quilliams\" name=\"description\"/>\n",
      "  <meta content=\"max-image-preview:large\" name=\"robots\"/>\n",
      "  <meta content=\"iMisut\" name=\"author\"/>\n",
      "  <meta content=\"iJfWzcPgmmN6dvYJQ8mK43UT2fGrqwfgHRHBzpHTkzc\" name=\"google-site-verification\"/>\n",
      "  <meta content=\"3adf79b746734dc795e741979ac11b7c\" name=\"msvalidate.01\"/>\n",
      "  <meta content=\"7a8e0d54755436f4\" name=\"yandex-verification\"/>\n",
      "  <meta content=\"colocación de losetas,control de áreas,doris matthäus,eurogames,juego\n"
     ]
    }
   ],
   "source": [
    "soup = BeautifulSoup(html_content, 'html.parser')\n",
    "print(soup.prettify()[:1000])"
   ]
  }
 ],
 "metadata": {
  "kernelspec": {
   "display_name": "fcd",
   "language": "python",
   "name": "python3"
  },
  "language_info": {
   "codemirror_mode": {
    "name": "ipython",
    "version": 3
   },
   "file_extension": ".py",
   "mimetype": "text/x-python",
   "name": "python",
   "nbconvert_exporter": "python",
   "pygments_lexer": "ipython3",
   "version": "3.13.1"
  }
 },
 "nbformat": 4,
 "nbformat_minor": 2
}
