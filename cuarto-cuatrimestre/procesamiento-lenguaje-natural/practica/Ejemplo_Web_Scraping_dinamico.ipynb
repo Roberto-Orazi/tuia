{
  "cells": [
    {
      "cell_type": "markdown",
      "metadata": {
        "id": "Lxd1k15m-NuN"
      },
      "source": [
        "# Ejemplo de uso de Selenium\n",
        "\n",
        "Asignatura: Procesamiento del Lenguaje Natural\n",
        "\n",
        "Fecha: 20/3/2025\n",
        "\n",
        "Docentes:\n",
        "- Ferrucci, Constantino\n",
        "- Geary, Alan\n",
        "- Manson, Juan Pablo\n",
        "- Sollberger, Dolores"
      ]
    },
    {
      "cell_type": "markdown",
      "metadata": {
        "id": "e2FKsuMlIsRx"
      },
      "source": [
        "## Introducción"
      ]
    },
    {
      "cell_type": "markdown",
      "metadata": {
        "id": "Dao-sAgVW91e"
      },
      "source": [
        "### Instalación de dependencias\n",
        "En esta celda, actualizamos las dependencias del sistema y luego instalamos las librerías necesarias para trabajar con Selenium:  \n",
        "- **Selenium**: para la automatización de navegadores web.  \n",
        "- **webdriver-manager**: para gestionar automáticamente los controladores del navegador (Chrome, en este caso)."
      ]
    },
    {
      "cell_type": "markdown",
      "metadata": {
        "id": "6XZFzV_mXB0R"
      },
      "source": [
        "### Configuración del entorno y opciones para Selenium\n",
        "En esta celda:\n",
        "1. Importamos las librerías necesarias de Selenium y otras utilidades.\n",
        "2. Configuramos opciones del navegador Chrome:\n",
        "   - **--headless**: ejecuta Chrome sin interfaz gráfica.\n",
        "   - **--no-sandbox**: evita restricciones de seguridad en entornos virtualizados.\n",
        "   - **--disable-dev-shm-usage**: mejora la gestión de memoria compartida en Docker.\n",
        "3. Especificamos la ruta al controlador de Chrome."
      ]
    },
    {
      "cell_type": "code",
      "execution_count": 1,
      "metadata": {
        "id": "WqNxwmsPXBcC"
      },
      "outputs": [],
      "source": [
        "from selenium import webdriver\n",
        "from selenium.webdriver.chrome.service import Service\n",
        "from selenium.webdriver.chrome.options import Options\n",
        "from selenium.webdriver.common.by import By\n",
        "from selenium.webdriver.support.ui import WebDriverWait\n",
        "from selenium.webdriver.support import expected_conditions as EC\n",
        "import time\n",
        "\n",
        "# Configuración más detallada de las opciones de Chrome\n",
        "chrome_options = Options()\n",
        "chrome_options.add_argument('--headless')\n",
        "chrome_options.add_argument('--no-sandbox')\n",
        "chrome_options.add_argument('--disable-dev-shm-usage')\n",
        "chrome_options.add_argument('--disable-gpu')\n",
        "\n",
        "# Configurar la ruta del driver\n",
        "service = Service('/usr/bin/chromedriver')"
      ]
    },
    {
      "cell_type": "markdown",
      "metadata": {
        "id": "-THdFmB1XOm6"
      },
      "source": [
        "### Función para extraer videos de YouTube\n",
        "Esta función permite:\n",
        "1. Esperar un tiempo opcional para cargar el contenido de la página.\n",
        "2. Extraer información sobre los primeros 5 videos:\n",
        "   - **Título**.\n",
        "   - **Nombre del canal**.\n",
        "   - **Likes** y **tiempo de publicación**.\n",
        "3. Imprimir los resultados de forma ordenada."
      ]
    },
    {
      "cell_type": "code",
      "execution_count": null,
      "metadata": {
        "id": "m-kKeeuUOajG"
      },
      "outputs": [],
      "source": [
        "def extraer_videos_youtube(driver, esperar_carga=True, delay=5, num_of_videos=10):\n",
        "    \"\"\"\n",
        "    Extrae y muestra los títulos, canales y metadata de los videos en una página de resultados de YouTube.\n",
        "\n",
        "    Args:\n",
        "        driver (webdriver.Chrome): Instancia del navegador.\n",
        "        esperar_carga (bool): Si True, espera un tiempo definido para que cargue la página.\n",
        "        delay (int): Tiempo en segundos a esperar si esperar_carga es True.\n",
        "\n",
        "    Returns:\n",
        "        None\n",
        "    \"\"\"\n",
        "    # Verificar si se debe esperar por la carga de la página\n",
        "    if esperar_carga:\n",
        "        print(f\"Esperando {delay} segundos para que cargue la página...\")\n",
        "        time.sleep(delay)\n",
        "\n",
        "    # Intentar extraer los videos\n",
        "    videos = driver.find_elements(By.TAG_NAME, \"ytd-video-renderer\")\n",
        "\n",
        "    # Verificar si se encontraron videos\n",
        "    if not videos:\n",
        "        print(\"No se encontraron videos en la página.\")\n",
        "        return\n",
        "\n",
        "    # Imprimir encabezado\n",
        "    print(f\"Títulos de los primeros {min(num_of_videos, len(videos))} videos encontrados:\")\n",
        "    print(\"-\" * 50)\n",
        "\n",
        "    # Iterar y mostrar detalles de los videos\n",
        "    for i, video in enumerate(videos[:num_of_videos], start=1):\n",
        "        # Extraer detalles del video\n",
        "        titulo = video.find_element(By.ID, \"video-title\").text\n",
        "        canal = video.find_element(By.ID, \"channel-name\").find_element(By.CSS_SELECTOR, 'ytd-channel-name a').get_attribute('innerText')\n",
        "        metadata = video.find_element(By.ID, \"metadata-line\").text.split('\\n')\n",
        "        likes = metadata[0]\n",
        "        tiempo = metadata[1]\n",
        "\n",
        "        # Imprimir los detalles de cada video\n",
        "        print(f\"Video {i}:\")\n",
        "        print(f\"  Título: {titulo}\")\n",
        "        print(f\"  Canal: {canal}\")\n",
        "        print(f\"  Likes: {likes}\")\n",
        "        print(f\"  Tiempo: {tiempo}\")\n",
        "        print(\"-\" * 50)"
      ]
    },
    {
      "cell_type": "markdown",
      "metadata": {
        "id": "Yyx69TN0YXTB"
      },
      "source": [
        "### Inicialización del navegador y ejecución\n",
        "1. **Navegador Chrome**:\n",
        "   - Se inicializa con las opciones configuradas previamente.\n",
        "2. **Navegar a YouTube**:\n",
        "   - URL de búsqueda: `openai gpt 3.5 turbo`.\n",
        "3. **Ejecutar la función `extraer_videos_youtube`**:\n",
        "   - Se llama a la función para extraer los detalles de los videos.\n",
        "4. **Liberar recursos**:\n",
        "   - Cierra el navegador con `driver.quit()`."
      ]
    },
    {
      "cell_type": "markdown",
      "metadata": {
        "id": "G5EA_A4soPjC"
      },
      "source": [
        "Prueba sin tiempo de espera"
      ]
    },
    {
      "cell_type": "code",
      "execution_count": null,
      "metadata": {
        "colab": {
          "base_uri": "https://localhost:8080/"
        },
        "id": "AGWPMO8eYZBh",
        "outputId": "54502300-6eb2-419f-c2a7-07b7e692f8bf"
      },
      "outputs": [
        {
          "name": "stdout",
          "output_type": "stream",
          "text": [
            "No se encontraron videos en la página.\n"
          ]
        }
      ],
      "source": [
        "# Inicializar el webdriver\n",
        "driver = webdriver.Chrome(options=chrome_options)\n",
        "\n",
        "# Navegar a la página de YouTube\n",
        "driver.get('https://www.youtube.com/results?search_query=openai+gpt+3.5+turbo')\n",
        "\n",
        "# Llamar a la función para extraer videos\n",
        "extraer_videos_youtube(driver, esperar_carga=False, num_of_videos=15)\n",
        "\n",
        "# Cerrar el navegador\n",
        "driver.quit()"
      ]
    },
    {
      "cell_type": "markdown",
      "metadata": {
        "id": "CG1l7HrioU7Y"
      },
      "source": [
        "Prueba con tiempo de espera"
      ]
    },
    {
      "cell_type": "code",
      "execution_count": null,
      "metadata": {
        "colab": {
          "base_uri": "https://localhost:8080/"
        },
        "id": "TZoZnNkGYb-_",
        "outputId": "5e2f194a-a8b7-4af3-a8b9-91b56d2db1c1"
      },
      "outputs": [
        {
          "name": "stdout",
          "output_type": "stream",
          "text": [
            "Esperando 5 segundos para que cargue la página...\n",
            "Títulos de los primeros 5 videos encontrados:\n",
            "--------------------------------------------------\n",
            "Video 1:\n",
            "  Título: OpenAI GPT 3.5 Turbo Explained in 100 Seconds\n",
            "  Canal: Ai Austin\n",
            "  Likes: 7.5K views\n",
            "  Tiempo: 2 years ago\n",
            "--------------------------------------------------\n",
            "Video 2:\n",
            "  Título: Getting started with the NEW OpenAI ChatGPT API (gpt-3.5-turbo)\n",
            "  Canal: Tinkering with Deep Learning & AI\n",
            "  Likes: 34K views\n",
            "  Tiempo: 2 years ago\n",
            "--------------------------------------------------\n",
            "Video 3:\n",
            "  Título: How to Fine Tune GPT 3.5 Turbo with OpenAI's API\n",
            "  Canal: CreateContentWithGenAI\n",
            "  Likes: 296 views\n",
            "  Tiempo: 1 year ago\n",
            "--------------------------------------------------\n",
            "Video 4:\n",
            "  Título: How to Use OpenAI API to Communicate with GPT-3.5 Turbo Model\n",
            "  Canal: Tom Media\n",
            "  Likes: 562 views\n",
            "  Tiempo: 1 year ago\n",
            "--------------------------------------------------\n",
            "Video 5:\n",
            "  Título: OpenAI Fights Back (GPT 4.5 is wild)\n",
            "  Canal: Theo - t3․gg\n",
            "  Likes: 114K views\n",
            "  Tiempo: 2 weeks ago\n",
            "--------------------------------------------------\n"
          ]
        }
      ],
      "source": [
        "# Inicializar el webdriver\n",
        "driver = webdriver.Chrome(options=chrome_options)\n",
        "\n",
        "# Navegar a la página de YouTube\n",
        "driver.get('https://www.youtube.com/results?search_query=openai+gpt+3.5+turbo')\n",
        "\n",
        "# Llamar a la función para extraer videos\n",
        "extraer_videos_youtube(driver, esperar_carga=True, delay=5, num_of_videos=5)\n",
        "\n",
        "# Cerrar el navegador\n",
        "driver.quit()"
      ]
    },
    {
      "cell_type": "markdown",
      "metadata": {
        "id": "h3Df-JWuLmcu"
      },
      "source": [
        "### Ejemplo con requests"
      ]
    },
    {
      "cell_type": "code",
      "execution_count": null,
      "metadata": {
        "id": "iC-vxEi6LpoA"
      },
      "outputs": [],
      "source": [
        "import requests\n",
        "from bs4 import BeautifulSoup\n",
        "import re\n",
        "\n",
        "def extraer_videos_youtube(url, num_of_videos=10):\n",
        "    \"\"\"\n",
        "    Extrae y muestra los títulos, canales y metadata de los videos en una página de resultados de YouTube\n",
        "    utilizando requests y BeautifulSoup.\n",
        "\n",
        "    Args:\n",
        "        url (str): URL de la página de resultados de YouTube.\n",
        "        num_of_videos (int): Número máximo de videos a extraer.\n",
        "\n",
        "    Returns:\n",
        "        list: Lista de diccionarios con información de cada video.\n",
        "    \"\"\"\n",
        "    # Configurar headers para simular un navegador\n",
        "    headers = {\n",
        "        'User-Agent': 'Mozilla/5.0 (Windows NT 10.0; Win64; x64) AppleWebKit/537.36 (KHTML, like Gecko) Chrome/91.0.4472.124 Safari/537.36',\n",
        "        'Accept-Language': 'es-ES,es;q=0.9'\n",
        "    }\n",
        "\n",
        "    # Realizar la solicitud HTTP\n",
        "    response = requests.get(url, headers=headers)\n",
        "\n",
        "    # Verificar si la solicitud fue exitosa\n",
        "    if response.status_code != 200:\n",
        "        print(f\"Error al acceder a la página. Código de estado: {response.status_code}\")\n",
        "        return []\n",
        "\n",
        "    # Parsear el HTML con BeautifulSoup\n",
        "    soup = BeautifulSoup(response.text, 'html.parser')\n",
        "\n",
        "    # Lista para almacenar la información de los videos\n",
        "    videos_info = []\n",
        "\n",
        "    # Intentamos encontrar los contenedores principales de videos\n",
        "    videos = soup.select('div#contents ytd-video-renderer')\n",
        "\n",
        "    # Si no encontramos videos con el selector anterior, intentamos otro enfoque\n",
        "    if not videos:\n",
        "        # Alternativa: buscar secciones que contengan videos\n",
        "        videos = soup.find_all('div', {'id': re.compile('dismissible')})\n",
        "\n",
        "    # Verificar si se encontraron videos\n",
        "    if not videos:\n",
        "        print(\"No se encontraron videos en la página.\")\n",
        "        return []\n",
        "\n",
        "    # Imprimir encabezado\n",
        "    print(f\"Títulos de los primeros {min(num_of_videos, len(videos))} videos encontrados:\")\n",
        "    print(\"-\" * 50)\n",
        "\n",
        "    # Limitar la cantidad de videos a procesar\n",
        "    videos = videos[:num_of_videos]\n",
        "\n",
        "    # Iterar y extraer detalles de los videos\n",
        "    for i, video in enumerate(videos, start=1):\n",
        "        try:\n",
        "            # Intentamos diferentes selectores para adaptarnos a la estructura de YouTube\n",
        "            # Título del video\n",
        "            titulo_elem = video.select_one('a#video-title') or video.select_one('h3 a')\n",
        "            titulo = titulo_elem.text.strip() if titulo_elem else \"Título no disponible\"\n",
        "\n",
        "            # Canal\n",
        "            canal_elem = video.select_one('div#channel-info a') or video.select_one('ytd-channel-name a')\n",
        "            canal = canal_elem.text.strip() if canal_elem else \"Canal no disponible\"\n",
        "\n",
        "            # Metadatos (vistas, tiempo)\n",
        "            metadata_elem = video.select_one('div#metadata-line') or video.select_one('span.style-scope.ytd-video-meta-block')\n",
        "\n",
        "            if metadata_elem:\n",
        "                metadata_text = metadata_elem.text.strip()\n",
        "                # Intentar extraer vistas y tiempo\n",
        "                metadata_parts = metadata_text.split('\\n')\n",
        "                vistas = metadata_parts[0].strip() if len(metadata_parts) > 0 else \"Vistas no disponibles\"\n",
        "                tiempo = metadata_parts[1].strip() if len(metadata_parts) > 1 else \"Tiempo no disponible\"\n",
        "            else:\n",
        "                vistas = \"Vistas no disponibles\"\n",
        "                tiempo = \"Tiempo no disponible\"\n",
        "\n",
        "            # Crear diccionario con la información del video\n",
        "            video_info = {\n",
        "                'titulo': titulo,\n",
        "                'canal': canal,\n",
        "                'vistas': vistas,\n",
        "                'tiempo': tiempo\n",
        "            }\n",
        "\n",
        "            # Agregar a la lista de videos\n",
        "            videos_info.append(video_info)\n",
        "\n",
        "            # Imprimir los detalles del video\n",
        "            print(f\"Video {i}:\")\n",
        "            print(f\"  Título: {titulo}\")\n",
        "            print(f\"  Canal: {canal}\")\n",
        "            print(f\"  Vistas: {vistas}\")\n",
        "            print(f\"  Tiempo: {tiempo}\")\n",
        "            print(\"-\" * 50)\n",
        "\n",
        "        except Exception as e:\n",
        "            print(f\"Error al procesar el video {i}: {str(e)}\")\n",
        "\n",
        "    return videos_info"
      ]
    },
    {
      "cell_type": "code",
      "execution_count": null,
      "metadata": {
        "colab": {
          "base_uri": "https://localhost:8080/"
        },
        "id": "bw7aXKCrNb3i",
        "outputId": "44128add-bdeb-4420-f30e-992a4ea48ddf"
      },
      "outputs": [
        {
          "name": "stdout",
          "output_type": "stream",
          "text": [
            "No se encontraron videos en la página.\n"
          ]
        },
        {
          "data": {
            "text/plain": [
              "[]"
            ]
          },
          "execution_count": 118,
          "metadata": {},
          "output_type": "execute_result"
        }
      ],
      "source": [
        "url = \"https://www.youtube.com/results?search_query=python+tutorial\"\n",
        "extraer_videos_youtube(url, num_of_videos=5)"
      ]
    },
    {
      "cell_type": "markdown",
      "metadata": {
        "id": "pB1Quqa7AZ8W"
      },
      "source": [
        "## Ejemplo"
      ]
    },
    {
      "cell_type": "markdown",
      "metadata": {
        "id": "2_7BM4lbIyyS"
      },
      "source": [
        "### Levantamos un servidor con un HTML"
      ]
    },
    {
      "cell_type": "code",
      "execution_count": null,
      "metadata": {
        "colab": {
          "base_uri": "https://localhost:8080/"
        },
        "id": "ZaHkRDdlAcl5",
        "outputId": "58f257bf-a305-4a16-c1b0-1f61751193fa"
      },
      "outputs": [
        {
          "name": "stdout",
          "output_type": "stream",
          "text": [
            " * Serving Flask app '__main__'\n",
            " * Debug mode: off\n"
          ]
        }
      ],
      "source": [
        "from flask import Flask, render_template_string, jsonify\n",
        "import threading\n",
        "import requests\n",
        "import time\n",
        "import logging\n",
        "\n",
        "app = Flask(__name__)\n",
        "\n",
        "# Función para obtener el valor del dólar\n",
        "def obtener_dolar():\n",
        "    try:\n",
        "        response = requests.get(\"https://dolarapi.com/v1/dolares\")\n",
        "        if response.status_code == 200:\n",
        "            return response.json()\n",
        "        else:\n",
        "            return {\"error\": \"No se pudo obtener el valor del dólar\"}\n",
        "    except Exception as e:\n",
        "        return {\"error\": str(e)}\n",
        "\n",
        "# Página HTML dinámica\n",
        "html_code = \"\"\"\n",
        "<!DOCTYPE html>\n",
        "<html lang=\"es\">\n",
        "<head>\n",
        "    <meta charset=\"UTF-8\">\n",
        "    <meta name=\"viewport\" content=\"width=device-width, initial-scale=1.0\">\n",
        "    <title>Dólar API</title>\n",
        "    <link rel=\"preconnect\" href=\"https://fonts.googleapis.com\">\n",
        "    <link href=\"https://fonts.googleapis.com/css2?family=Poppins:wght@300;400;600&display=swap\" rel=\"stylesheet\">\n",
        "    <style>\n",
        "        /* Estilos generales */\n",
        "        body {\n",
        "            font-family: 'Poppins', sans-serif;\n",
        "            background-color: #f4f4f9;\n",
        "            display: flex;\n",
        "            justify-content: center;\n",
        "            align-items: center;\n",
        "            height: 100vh;\n",
        "            margin: 0;\n",
        "        }\n",
        "\n",
        "        /* Contenedor principal */\n",
        "        .container {\n",
        "            background: #ffffff;\n",
        "            padding: 20px 30px;\n",
        "            border-radius: 12px;\n",
        "            box-shadow: 0 5px 15px rgba(0, 0, 0, 0.1);\n",
        "            text-align: center;\n",
        "            max-width: 400px;\n",
        "            width: 100%;\n",
        "        }\n",
        "\n",
        "        h1 {\n",
        "            font-size: 22px;\n",
        "            color: #333;\n",
        "            margin-bottom: 10px;\n",
        "        }\n",
        "\n",
        "        /* Lista de valores */\n",
        "        .dolar-list {\n",
        "            list-style: none;\n",
        "            padding: 0;\n",
        "        }\n",
        "\n",
        "        .dolar-list li {\n",
        "            background: #007bff;\n",
        "            color: white;\n",
        "            padding: 12px;\n",
        "            margin: 8px 0;\n",
        "            border-radius: 8px;\n",
        "            font-size: 16px;\n",
        "            font-weight: 600;\n",
        "        }\n",
        "\n",
        "        /* Animación de carga */\n",
        "        .loading {\n",
        "            font-size: 16px;\n",
        "            color: #777;\n",
        "            margin-top: 10px;\n",
        "        }\n",
        "\n",
        "        .loading::after {\n",
        "            content: \"⏳\";\n",
        "            animation: dots 1.5s infinite;\n",
        "        }\n",
        "\n",
        "        @keyframes dots {\n",
        "            0% { content: \"⏳\"; }\n",
        "            33% { content: \"⌛\"; }\n",
        "            66% { content: \"⏳\"; }\n",
        "            100% { content: \"⌛\"; }\n",
        "        }\n",
        "    </style>\n",
        "</head>\n",
        "<body>\n",
        "    <div class=\"container\">\n",
        "        <h1>Valores del Dólar 💰</h1>\n",
        "        <ul class=\"dolar-list\" id=\"lista-dolar\">\n",
        "            <li class=\"loading\">Cargando datos...</li>\n",
        "        </ul>\n",
        "    </div>\n",
        "\n",
        "    <script>\n",
        "        // Esperar 3 segundos antes de hacer la petición\n",
        "        setTimeout(() => {\n",
        "            fetch('https://dolarapi.com/v1/dolares')\n",
        "                .then(response => response.json())\n",
        "                .then(data => {\n",
        "                    const lista = document.getElementById(\"lista-dolar\");\n",
        "                    lista.innerHTML = \"\"; // Limpiar la lista\n",
        "\n",
        "                    // Agregar cada tipo de dólar a la lista\n",
        "                    data.forEach(d => {\n",
        "                        const li = document.createElement(\"li\");\n",
        "                        li.textContent = `${d.nombre}: Compra ${d.compra} | Venta ${d.venta}`;\n",
        "                        lista.appendChild(li);\n",
        "                    });\n",
        "                })\n",
        "                .catch(error => {\n",
        "                    console.error(\"Error al obtener los datos:\", error);\n",
        "                    document.getElementById(\"lista-dolar\").innerHTML = \"<li>Error al cargar los datos</li>\";\n",
        "                });\n",
        "        }, 3000);\n",
        "    </script>\n",
        "</body>\n",
        "</html>\n",
        "\"\"\"\n",
        "\n",
        "@app.route('/')\n",
        "def home():\n",
        "    return render_template_string(html_code)\n",
        "\n",
        "@app.route('/api/dolar')\n",
        "def dolar():\n",
        "    return jsonify(obtener_dolar())\n",
        "\n",
        "# Iniciar Flask en un hilo separado\n",
        "def run_flask():\n",
        "    # Configurar el nivel de logging de Flask\n",
        "    log = logging.getLogger('werkzeug')\n",
        "    log.setLevel(logging.ERROR)  # Oculta logs de peticiones normales, pero muestra errores\n",
        "    app.run(host='0.0.0.0', port=5000)\n",
        "\n",
        "flask_thread = threading.Thread(target=run_flask)\n",
        "flask_thread.start()"
      ]
    },
    {
      "cell_type": "markdown",
      "metadata": {
        "id": "vbb6a5HvI13T"
      },
      "source": [
        "### Definimos las funciones"
      ]
    },
    {
      "cell_type": "markdown",
      "metadata": {
        "id": "Mz0uz7XhI3o7"
      },
      "source": [
        "#### Requests"
      ]
    },
    {
      "cell_type": "code",
      "execution_count": null,
      "metadata": {
        "id": "D9QNHIjKAqzm"
      },
      "outputs": [],
      "source": [
        "import requests\n",
        "from bs4 import BeautifulSoup\n",
        "\n",
        "def obtener_dolar_requests():\n",
        "    \"\"\"\n",
        "    Obtiene el valor del dólar desde una página HTML estática con Requests y BeautifulSoup.\n",
        "    \"\"\"\n",
        "    url = \"http://localhost:5000\"\n",
        "    response = requests.get(url)\n",
        "\n",
        "    if response.status_code == 200:\n",
        "        soup = BeautifulSoup(response.text, \"html.parser\")\n",
        "\n",
        "        # Buscar los valores del dólar en la lista\n",
        "        dolares = soup.find_all(\"li\")\n",
        "\n",
        "        if dolares:\n",
        "            print(\"💰 Valores del dólar (Requests - Estático):\")\n",
        "            for dolar in dolares:\n",
        "                print(dolar.text)\n",
        "        else:\n",
        "            print(\"⚠ No se encontraron valores del dólar en la página.\")\n",
        "\n",
        "    else:\n",
        "        print(f\"❌ Error al conectar con la página. Código: {response.status_code}\")"
      ]
    },
    {
      "cell_type": "markdown",
      "metadata": {
        "id": "yN-Gpna9I6x9"
      },
      "source": [
        "#### Selenium"
      ]
    },
    {
      "cell_type": "code",
      "execution_count": null,
      "metadata": {
        "id": "WRJZnNtZDvsK"
      },
      "outputs": [],
      "source": [
        "from selenium import webdriver\n",
        "from selenium.webdriver.common.by import By\n",
        "from selenium.webdriver.chrome.service import Service\n",
        "from webdriver_manager.chrome import ChromeDriverManager\n",
        "import time\n",
        "\n",
        "def obtener_dolar_solo_selenium(delay=5):\n",
        "    \"\"\"\n",
        "    Obtiene el valor del dólar desde una página dinámica usando solo Selenium.\n",
        "    \"\"\"\n",
        "    # Configurar Selenium con WebDriver Manager\n",
        "    driver = webdriver.Chrome(options=chrome_options)\n",
        "\n",
        "    try:\n",
        "        url = \"http://localhost:5000\"\n",
        "        driver.get(url)\n",
        "\n",
        "        print(f\"⏳ Esperando {delay} segundos para que carguen los datos...\")\n",
        "        time.sleep(delay)  # Esperar para permitir que el JavaScript cargue los datos dinámicos\n",
        "\n",
        "        # Buscar los elementos de la lista que contienen los valores del dólar\n",
        "        dolares = driver.find_elements(By.TAG_NAME, \"li\")\n",
        "\n",
        "        if dolares:\n",
        "            print(\"💰 Valores del dólar (Selenium - Solo Selenium):\")\n",
        "            for dolar in dolares:\n",
        "                print(dolar.text)\n",
        "        else:\n",
        "            print(\"⚠ No se encontraron valores del dólar en la página.\")\n",
        "\n",
        "    finally:\n",
        "        driver.quit()  # Cerrar el navegador"
      ]
    },
    {
      "cell_type": "markdown",
      "metadata": {
        "id": "How6ct_aJDf0"
      },
      "source": [
        "### Probamos las funciones"
      ]
    },
    {
      "cell_type": "markdown",
      "metadata": {
        "id": "UuKqbFJ3JFO7"
      },
      "source": [
        "#### De forma estática"
      ]
    },
    {
      "cell_type": "code",
      "execution_count": null,
      "metadata": {
        "colab": {
          "base_uri": "https://localhost:8080/"
        },
        "id": "p7RV7PvkJIMB",
        "outputId": "674ba44a-46c3-4346-8d9f-00a92fde9669"
      },
      "outputs": [
        {
          "name": "stdout",
          "output_type": "stream",
          "text": [
            "💰 Valores del dólar (Requests - Estático):\n",
            "Cargando datos...\n"
          ]
        }
      ],
      "source": [
        "obtener_dolar_requests()"
      ]
    },
    {
      "cell_type": "code",
      "execution_count": null,
      "metadata": {
        "colab": {
          "base_uri": "https://localhost:8080/"
        },
        "id": "uUjuNOq4JKMK",
        "outputId": "3478b37b-152a-406b-eaeb-8c518a34204f"
      },
      "outputs": [
        {
          "name": "stdout",
          "output_type": "stream",
          "text": [
            "⏳ Esperando 0 segundos para que carguen los datos...\n",
            "💰 Valores del dólar (Selenium - Solo Selenium):\n",
            "Cargando datos...\n"
          ]
        }
      ],
      "source": [
        "obtener_dolar_solo_selenium(0)"
      ]
    },
    {
      "cell_type": "markdown",
      "metadata": {
        "id": "4SOEHLKlJIkL"
      },
      "source": [
        "#### De forma dinámica"
      ]
    },
    {
      "cell_type": "code",
      "execution_count": null,
      "metadata": {
        "colab": {
          "base_uri": "https://localhost:8080/"
        },
        "id": "Q0rwFMIdJPPE",
        "outputId": "60b1ed2b-7f3b-4f1c-a123-aa1ae5e57cc3"
      },
      "outputs": [
        {
          "name": "stdout",
          "output_type": "stream",
          "text": [
            "⏳ Esperando 5 segundos para que carguen los datos...\n",
            "💰 Valores del dólar (Selenium - Solo Selenium):\n",
            "Oficial: Compra 1049.5 | Venta 1089.5\n",
            "Blue: Compra 1245 | Venta 1265\n",
            "Bolsa: Compra 1282.2 | Venta 1286.7\n",
            "Contado con liquidación: Compra 1285.3 | Venta 1286.4\n",
            "Mayorista: Compra 1066.5 | Venta 1069.5\n",
            "Cripto: Compra 1289.9 | Venta 1295.1\n",
            "Tarjeta: Compra 1364.35 | Venta 1416.35\n"
          ]
        }
      ],
      "source": [
        "obtener_dolar_solo_selenium(5)"
      ]
    },
    {
      "cell_type": "markdown",
      "metadata": {
        "id": "RlklDWKaI-p0"
      },
      "source": [
        "#### Bajamos el servidor"
      ]
    },
    {
      "cell_type": "code",
      "execution_count": null,
      "metadata": {
        "id": "CcMPGP2QCHtf"
      },
      "outputs": [],
      "source": [
        "!pkill -9 flask"
      ]
    },
    {
      "cell_type": "markdown",
      "metadata": {
        "id": "Q8NeaShYMKtM"
      },
      "source": [
        "## Conclusión final"
      ]
    },
    {
      "cell_type": "markdown",
      "metadata": {
        "id": "ef1nZiHPML_g"
      },
      "source": [
        "### Comparación entre Búsqueda Estática y Dinámica en Web Scraping\n",
        "\n",
        "| Característica        | Búsqueda Estática | Búsqueda Dinámica |\n",
        "|----------------------|------------------|------------------|\n",
        "| **Método**          | `requests` + `BeautifulSoup` | `Selenium`, `Playwright` |\n",
        "| **Velocidad**       | Rápida | Lenta |\n",
        "| **Carga JavaScript** | No | Sí |\n",
        "| **Consumo de recursos** | Bajo | Alto |\n",
        "| **Dificultad**      | Fácil | Más compleja |\n",
        "| **Riesgo de bloqueo** | Bajo | Alto |\n",
        "| **Uso recomendado** | Datos visibles en el HTML | Datos cargados con JavaScript |\n",
        "\n",
        "\n",
        "La búsqueda dinámica en web scraping es útil cuando los datos no están en el HTML y se generan con JavaScript. Aunque es más lenta y consume más recursos, permite extraer información que no se puede obtener con un método estático. Se debe usar solo cuando sea necesario y con cuidado para evitar bloqueos o problemas legales.\n"
      ]
    }
  ],
  "metadata": {
    "colab": {
      "provenance": []
    },
    "kernelspec": {
      "display_name": "nlp",
      "language": "python",
      "name": "python3"
    },
    "language_info": {
      "codemirror_mode": {
        "name": "ipython",
        "version": 3
      },
      "file_extension": ".py",
      "mimetype": "text/x-python",
      "name": "python",
      "nbconvert_exporter": "python",
      "pygments_lexer": "ipython3",
      "version": "3.13.1"
    }
  },
  "nbformat": 4,
  "nbformat_minor": 0
}
