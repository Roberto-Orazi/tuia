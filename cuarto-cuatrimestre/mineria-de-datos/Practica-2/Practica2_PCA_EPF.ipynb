{
  "cells": [
    {
      "cell_type": "markdown",
      "metadata": {
        "id": "YApFRBv0GIGW"
      },
      "source": [
        "# Ejemplo PCA - EPF"
      ]
    },
    {
      "cell_type": "markdown",
      "metadata": {
        "id": "-NijWxwhGG4e"
      },
      "source": [
        "Los datos de la encuesta de presupuestos familiares (EPF) en España presentan los gastos medios de las familias españolas para las 19 comunidades autónomas en nueve variables:\n",
        "\n",
        "  - **X1** = Alimentos y bebidas no alcohólicas\n",
        "  - **X2** = Bebidas alcohólicas y tabaco\n",
        "  - **X3** = Vestido y calzado\n",
        "  - **X4** = Vivienda, agua, electricidad, gas y otros combustibles\n",
        "  - **X5** = Muebles, artículos del hogar y artículos para el mantenimiento corriente del hogar\n",
        "  - **X6** = Sanidad\n",
        "  - **X7** = Transporte\n",
        "  - **X8** = Comunicaciones\n",
        "  - **X9** = Ocio y cultura\n",
        "  - **X10** = Enseñanza\n",
        "  - **X11** = Restaurantes y hoteles\n",
        "  - **X12** = Otros bienes y servicios\n",
        "\n",
        "Realizar un análisis de componentes principales para entender qué comunidades son similares entre sí.\n",
        "\n",
        "Fuente de datos: Servicio de atención estadístico. Instituto de Estadística de la Comunidad de Madrid (IECM). (https://iestadis.edatos.io/statistical-visualizer/visualizer/data.html?resourceType=dataset&agencyId=IECM&resourceId=127_000032&version=~latest#visualization/table)"
      ]
    },
    {
      "cell_type": "code",
      "execution_count": 63,
      "metadata": {
        "id": "nXHyZGgtFltJ"
      },
      "outputs": [],
      "source": [
        "import pandas as pd\n",
        "import numpy as np\n",
        "import matplotlib.pyplot as plt\n",
        "import matplotlib.colors as mcolors\n",
        "import plotly.express as px\n",
        "import seaborn as sns\n",
        "from sklearn.preprocessing import StandardScaler\n",
        "from sklearn import decomposition\n",
        "from sklearn.decomposition import PCA"
      ]
    },
    {
      "cell_type": "markdown",
      "metadata": {},
      "source": [
        "Descarga de los datos de drive:"
      ]
    },
    {
      "cell_type": "code",
      "execution_count": 22,
      "metadata": {
        "id": "mnitbQrDNWEa"
      },
      "outputs": [],
      "source": [
        "df = pd.read_excel(\"dataset-IECM.xlsx\")\n",
        "df['Comunidad'] = df['Comunidad'].astype('category')"
      ]
    },
    {
      "cell_type": "markdown",
      "metadata": {
        "id": "TNA1s_50ts-I"
      },
      "source": [
        "## Análisis exploratorio"
      ]
    },
    {
      "cell_type": "code",
      "execution_count": 23,
      "metadata": {
        "colab": {
          "base_uri": "https://localhost:8080/",
          "height": 206
        },
        "id": "YgqiRu4fts-J",
        "outputId": "e8c91ce0-a738-4b1b-ab3e-436eea46f1e0"
      },
      "outputs": [
        {
          "data": {
            "text/html": [
              "<div>\n",
              "<style scoped>\n",
              "    .dataframe tbody tr th:only-of-type {\n",
              "        vertical-align: middle;\n",
              "    }\n",
              "\n",
              "    .dataframe tbody tr th {\n",
              "        vertical-align: top;\n",
              "    }\n",
              "\n",
              "    .dataframe thead th {\n",
              "        text-align: right;\n",
              "    }\n",
              "</style>\n",
              "<table border=\"1\" class=\"dataframe\">\n",
              "  <thead>\n",
              "    <tr style=\"text-align: right;\">\n",
              "      <th></th>\n",
              "      <th>Comunidad</th>\n",
              "      <th>X1</th>\n",
              "      <th>X2</th>\n",
              "      <th>X3</th>\n",
              "      <th>X4</th>\n",
              "      <th>X5</th>\n",
              "      <th>X6</th>\n",
              "      <th>X7</th>\n",
              "      <th>X8</th>\n",
              "      <th>X9</th>\n",
              "      <th>X10</th>\n",
              "      <th>X11</th>\n",
              "      <th>X12</th>\n",
              "    </tr>\n",
              "  </thead>\n",
              "  <tbody>\n",
              "    <tr>\n",
              "      <th>0</th>\n",
              "      <td>Madrid</td>\n",
              "      <td>4696.7</td>\n",
              "      <td>471.4</td>\n",
              "      <td>1238.4</td>\n",
              "      <td>12627.0</td>\n",
              "      <td>1548.2</td>\n",
              "      <td>1477.2</td>\n",
              "      <td>3471.6</td>\n",
              "      <td>1044.8</td>\n",
              "      <td>1572.8</td>\n",
              "      <td>734.6</td>\n",
              "      <td>2798.9</td>\n",
              "      <td>2644.8</td>\n",
              "    </tr>\n",
              "    <tr>\n",
              "      <th>1</th>\n",
              "      <td>Andalusia</td>\n",
              "      <td>4719.5</td>\n",
              "      <td>568.3</td>\n",
              "      <td>1072.7</td>\n",
              "      <td>8267.9</td>\n",
              "      <td>1308.8</td>\n",
              "      <td>1058.9</td>\n",
              "      <td>3329.6</td>\n",
              "      <td>873.7</td>\n",
              "      <td>1154.8</td>\n",
              "      <td>243.8</td>\n",
              "      <td>2344.0</td>\n",
              "      <td>2023.3</td>\n",
              "    </tr>\n",
              "    <tr>\n",
              "      <th>2</th>\n",
              "      <td>Aragon</td>\n",
              "      <td>5080.6</td>\n",
              "      <td>524.5</td>\n",
              "      <td>1134.8</td>\n",
              "      <td>9623.0</td>\n",
              "      <td>1324.0</td>\n",
              "      <td>1231.6</td>\n",
              "      <td>2617.2</td>\n",
              "      <td>940.6</td>\n",
              "      <td>1254.8</td>\n",
              "      <td>456.0</td>\n",
              "      <td>2279.2</td>\n",
              "      <td>2161.1</td>\n",
              "    </tr>\n",
              "    <tr>\n",
              "      <th>3</th>\n",
              "      <td>Asturias</td>\n",
              "      <td>4596.1</td>\n",
              "      <td>517.4</td>\n",
              "      <td>1242.5</td>\n",
              "      <td>8622.2</td>\n",
              "      <td>1170.6</td>\n",
              "      <td>1066.4</td>\n",
              "      <td>2741.3</td>\n",
              "      <td>902.9</td>\n",
              "      <td>1015.5</td>\n",
              "      <td>244.2</td>\n",
              "      <td>1923.4</td>\n",
              "      <td>2050.2</td>\n",
              "    </tr>\n",
              "    <tr>\n",
              "      <th>4</th>\n",
              "      <td>Balearic Islands</td>\n",
              "      <td>5036.0</td>\n",
              "      <td>488.1</td>\n",
              "      <td>988.6</td>\n",
              "      <td>11523.1</td>\n",
              "      <td>1108.7</td>\n",
              "      <td>1150.2</td>\n",
              "      <td>3730.5</td>\n",
              "      <td>1130.6</td>\n",
              "      <td>1352.8</td>\n",
              "      <td>312.0</td>\n",
              "      <td>2137.0</td>\n",
              "      <td>2219.7</td>\n",
              "    </tr>\n",
              "  </tbody>\n",
              "</table>\n",
              "</div>"
            ],
            "text/plain": [
              "          Comunidad      X1     X2      X3       X4      X5      X6      X7  \\\n",
              "0            Madrid  4696.7  471.4  1238.4  12627.0  1548.2  1477.2  3471.6   \n",
              "1         Andalusia  4719.5  568.3  1072.7   8267.9  1308.8  1058.9  3329.6   \n",
              "2            Aragon  5080.6  524.5  1134.8   9623.0  1324.0  1231.6  2617.2   \n",
              "3          Asturias  4596.1  517.4  1242.5   8622.2  1170.6  1066.4  2741.3   \n",
              "4  Balearic Islands  5036.0  488.1   988.6  11523.1  1108.7  1150.2  3730.5   \n",
              "\n",
              "       X8      X9    X10     X11     X12  \n",
              "0  1044.8  1572.8  734.6  2798.9  2644.8  \n",
              "1   873.7  1154.8  243.8  2344.0  2023.3  \n",
              "2   940.6  1254.8  456.0  2279.2  2161.1  \n",
              "3   902.9  1015.5  244.2  1923.4  2050.2  \n",
              "4  1130.6  1352.8  312.0  2137.0  2219.7  "
            ]
          },
          "execution_count": 23,
          "metadata": {},
          "output_type": "execute_result"
        }
      ],
      "source": [
        "df.head()"
      ]
    },
    {
      "cell_type": "code",
      "execution_count": 29,
      "metadata": {
        "colab": {
          "base_uri": "https://localhost:8080/"
        },
        "id": "yhMRjnXiTRkI",
        "outputId": "b95f7db5-5563-47c1-a0f0-15fbe9e6227a"
      },
      "outputs": [
        {
          "name": "stdout",
          "output_type": "stream",
          "text": [
            "<class 'pandas.core.frame.DataFrame'>\n",
            "RangeIndex: 19 entries, 0 to 18\n",
            "Data columns (total 13 columns):\n",
            " #   Column     Non-Null Count  Dtype   \n",
            "---  ------     --------------  -----   \n",
            " 0   Comunidad  19 non-null     category\n",
            " 1   X1         19 non-null     float64 \n",
            " 2   X2         19 non-null     float64 \n",
            " 3   X3         19 non-null     float64 \n",
            " 4   X4         19 non-null     float64 \n",
            " 5   X5         19 non-null     float64 \n",
            " 6   X6         19 non-null     float64 \n",
            " 7   X7         19 non-null     float64 \n",
            " 8   X8         19 non-null     float64 \n",
            " 9   X9         19 non-null     float64 \n",
            " 10  X10        19 non-null     float64 \n",
            " 11  X11        19 non-null     float64 \n",
            " 12  X12        19 non-null     float64 \n",
            "dtypes: category(1), float64(12)\n",
            "memory usage: 2.6 KB\n"
          ]
        }
      ],
      "source": [
        "df.info()"
      ]
    },
    {
      "cell_type": "code",
      "execution_count": 28,
      "metadata": {},
      "outputs": [
        {
          "data": {
            "text/plain": [
              "Comunidad    0\n",
              "X1           0\n",
              "X2           0\n",
              "X3           0\n",
              "X4           0\n",
              "X5           0\n",
              "X6           0\n",
              "X7           0\n",
              "X8           0\n",
              "X9           0\n",
              "X10          0\n",
              "X11          0\n",
              "X12          0\n",
              "dtype: int64"
            ]
          },
          "execution_count": 28,
          "metadata": {},
          "output_type": "execute_result"
        }
      ],
      "source": [
        "# Chequeo de datos null\n",
        "df.isnull().sum()"
      ]
    },
    {
      "cell_type": "markdown",
      "metadata": {
        "id": "3TURX5nlJCsZ"
      },
      "source": [
        "Reemplazamos los valores nulos de la variable X10 con la media."
      ]
    },
    {
      "cell_type": "code",
      "execution_count": 27,
      "metadata": {
        "id": "rn-OjV4AJI1s"
      },
      "outputs": [
        {
          "data": {
            "text/plain": [
              "0     734.600000\n",
              "1     243.800000\n",
              "2     456.000000\n",
              "3     244.200000\n",
              "4     312.000000\n",
              "5     312.900000\n",
              "6     203.000000\n",
              "7     253.100000\n",
              "8     177.000000\n",
              "9     666.600000\n",
              "10    445.800000\n",
              "11    226.300000\n",
              "12    283.800000\n",
              "13    298.500000\n",
              "14    608.700000\n",
              "15    643.300000\n",
              "16    202.800000\n",
              "17    371.317647\n",
              "18    371.317647\n",
              "Name: X10, dtype: float64"
            ]
          },
          "execution_count": 27,
          "metadata": {},
          "output_type": "execute_result"
        }
      ],
      "source": [
        "df['X10'].fillna(value=df['X10'].mean())"
      ]
    },
    {
      "cell_type": "code",
      "execution_count": 30,
      "metadata": {
        "colab": {
          "base_uri": "https://localhost:8080/",
          "height": 320
        },
        "id": "YJRPecapTVBu",
        "outputId": "c0dd011e-b96b-4a39-e642-9c5704529d03"
      },
      "outputs": [
        {
          "data": {
            "text/html": [
              "<div>\n",
              "<style scoped>\n",
              "    .dataframe tbody tr th:only-of-type {\n",
              "        vertical-align: middle;\n",
              "    }\n",
              "\n",
              "    .dataframe tbody tr th {\n",
              "        vertical-align: top;\n",
              "    }\n",
              "\n",
              "    .dataframe thead th {\n",
              "        text-align: right;\n",
              "    }\n",
              "</style>\n",
              "<table border=\"1\" class=\"dataframe\">\n",
              "  <thead>\n",
              "    <tr style=\"text-align: right;\">\n",
              "      <th></th>\n",
              "      <th>X1</th>\n",
              "      <th>X2</th>\n",
              "      <th>X3</th>\n",
              "      <th>X4</th>\n",
              "      <th>X5</th>\n",
              "      <th>X6</th>\n",
              "      <th>X7</th>\n",
              "      <th>X8</th>\n",
              "      <th>X9</th>\n",
              "      <th>X10</th>\n",
              "      <th>X11</th>\n",
              "      <th>X12</th>\n",
              "    </tr>\n",
              "  </thead>\n",
              "  <tbody>\n",
              "    <tr>\n",
              "      <th>count</th>\n",
              "      <td>19.000000</td>\n",
              "      <td>19.000000</td>\n",
              "      <td>19.000000</td>\n",
              "      <td>19.000000</td>\n",
              "      <td>19.000000</td>\n",
              "      <td>19.000000</td>\n",
              "      <td>19.000000</td>\n",
              "      <td>19.000000</td>\n",
              "      <td>19.000000</td>\n",
              "      <td>19.000000</td>\n",
              "      <td>19.000000</td>\n",
              "      <td>19.000000</td>\n",
              "    </tr>\n",
              "    <tr>\n",
              "      <th>mean</th>\n",
              "      <td>4768.063158</td>\n",
              "      <td>474.831579</td>\n",
              "      <td>1201.378947</td>\n",
              "      <td>9422.947368</td>\n",
              "      <td>1283.378947</td>\n",
              "      <td>1183.984211</td>\n",
              "      <td>3113.763158</td>\n",
              "      <td>933.936842</td>\n",
              "      <td>1243.784211</td>\n",
              "      <td>371.317647</td>\n",
              "      <td>2214.163158</td>\n",
              "      <td>2164.226316</td>\n",
              "    </tr>\n",
              "    <tr>\n",
              "      <th>std</th>\n",
              "      <td>345.916236</td>\n",
              "      <td>62.395442</td>\n",
              "      <td>198.185406</td>\n",
              "      <td>1580.342853</td>\n",
              "      <td>218.596151</td>\n",
              "      <td>196.678546</td>\n",
              "      <td>323.104615</td>\n",
              "      <td>98.732046</td>\n",
              "      <td>231.496197</td>\n",
              "      <td>173.847913</td>\n",
              "      <td>397.852283</td>\n",
              "      <td>305.589805</td>\n",
              "    </tr>\n",
              "    <tr>\n",
              "      <th>min</th>\n",
              "      <td>4325.500000</td>\n",
              "      <td>370.900000</td>\n",
              "      <td>908.500000</td>\n",
              "      <td>7210.100000</td>\n",
              "      <td>960.600000</td>\n",
              "      <td>865.300000</td>\n",
              "      <td>2617.200000</td>\n",
              "      <td>794.500000</td>\n",
              "      <td>847.300000</td>\n",
              "      <td>177.000000</td>\n",
              "      <td>1542.100000</td>\n",
              "      <td>1609.000000</td>\n",
              "    </tr>\n",
              "    <tr>\n",
              "      <th>25%</th>\n",
              "      <td>4503.250000</td>\n",
              "      <td>436.950000</td>\n",
              "      <td>1084.000000</td>\n",
              "      <td>8417.300000</td>\n",
              "      <td>1130.200000</td>\n",
              "      <td>1056.600000</td>\n",
              "      <td>2947.150000</td>\n",
              "      <td>851.550000</td>\n",
              "      <td>1074.700000</td>\n",
              "      <td>244.000000</td>\n",
              "      <td>2030.200000</td>\n",
              "      <td>1990.100000</td>\n",
              "    </tr>\n",
              "    <tr>\n",
              "      <th>50%</th>\n",
              "      <td>4696.700000</td>\n",
              "      <td>454.300000</td>\n",
              "      <td>1174.600000</td>\n",
              "      <td>8747.500000</td>\n",
              "      <td>1255.900000</td>\n",
              "      <td>1162.800000</td>\n",
              "      <td>3070.500000</td>\n",
              "      <td>902.900000</td>\n",
              "      <td>1199.300000</td>\n",
              "      <td>312.000000</td>\n",
              "      <td>2189.300000</td>\n",
              "      <td>2124.200000</td>\n",
              "    </tr>\n",
              "    <tr>\n",
              "      <th>75%</th>\n",
              "      <td>5058.300000</td>\n",
              "      <td>520.950000</td>\n",
              "      <td>1268.000000</td>\n",
              "      <td>10305.800000</td>\n",
              "      <td>1408.050000</td>\n",
              "      <td>1280.700000</td>\n",
              "      <td>3375.900000</td>\n",
              "      <td>1009.150000</td>\n",
              "      <td>1338.650000</td>\n",
              "      <td>450.900000</td>\n",
              "      <td>2344.150000</td>\n",
              "      <td>2235.800000</td>\n",
              "    </tr>\n",
              "    <tr>\n",
              "      <th>max</th>\n",
              "      <td>5542.000000</td>\n",
              "      <td>575.600000</td>\n",
              "      <td>1683.600000</td>\n",
              "      <td>12627.000000</td>\n",
              "      <td>1750.300000</td>\n",
              "      <td>1558.800000</td>\n",
              "      <td>3730.500000</td>\n",
              "      <td>1130.600000</td>\n",
              "      <td>1864.300000</td>\n",
              "      <td>734.600000</td>\n",
              "      <td>2965.900000</td>\n",
              "      <td>3010.700000</td>\n",
              "    </tr>\n",
              "  </tbody>\n",
              "</table>\n",
              "</div>"
            ],
            "text/plain": [
              "                X1          X2           X3            X4           X5  \\\n",
              "count    19.000000   19.000000    19.000000     19.000000    19.000000   \n",
              "mean   4768.063158  474.831579  1201.378947   9422.947368  1283.378947   \n",
              "std     345.916236   62.395442   198.185406   1580.342853   218.596151   \n",
              "min    4325.500000  370.900000   908.500000   7210.100000   960.600000   \n",
              "25%    4503.250000  436.950000  1084.000000   8417.300000  1130.200000   \n",
              "50%    4696.700000  454.300000  1174.600000   8747.500000  1255.900000   \n",
              "75%    5058.300000  520.950000  1268.000000  10305.800000  1408.050000   \n",
              "max    5542.000000  575.600000  1683.600000  12627.000000  1750.300000   \n",
              "\n",
              "                X6           X7           X8           X9         X10  \\\n",
              "count    19.000000    19.000000    19.000000    19.000000   19.000000   \n",
              "mean   1183.984211  3113.763158   933.936842  1243.784211  371.317647   \n",
              "std     196.678546   323.104615    98.732046   231.496197  173.847913   \n",
              "min     865.300000  2617.200000   794.500000   847.300000  177.000000   \n",
              "25%    1056.600000  2947.150000   851.550000  1074.700000  244.000000   \n",
              "50%    1162.800000  3070.500000   902.900000  1199.300000  312.000000   \n",
              "75%    1280.700000  3375.900000  1009.150000  1338.650000  450.900000   \n",
              "max    1558.800000  3730.500000  1130.600000  1864.300000  734.600000   \n",
              "\n",
              "               X11          X12  \n",
              "count    19.000000    19.000000  \n",
              "mean   2214.163158  2164.226316  \n",
              "std     397.852283   305.589805  \n",
              "min    1542.100000  1609.000000  \n",
              "25%    2030.200000  1990.100000  \n",
              "50%    2189.300000  2124.200000  \n",
              "75%    2344.150000  2235.800000  \n",
              "max    2965.900000  3010.700000  "
            ]
          },
          "execution_count": 30,
          "metadata": {},
          "output_type": "execute_result"
        }
      ],
      "source": [
        "df.describe()"
      ]
    },
    {
      "cell_type": "markdown",
      "metadata": {
        "id": "HTaBR429T-ZI"
      },
      "source": [
        "### Vemos la matriz de correlación"
      ]
    },
    {
      "cell_type": "code",
      "execution_count": 33,
      "metadata": {
        "colab": {
          "base_uri": "https://localhost:8080/",
          "height": 450
        },
        "id": "-iGfmw2VTDcK",
        "outputId": "8450e143-f768-4c9d-85bc-51fee6660eb1"
      },
      "outputs": [
        {
          "data": {
            "image/png": "[encoded data removed]",
            "text/plain": [
              "<Figure size 432x288 with 2 Axes>"
            ]
          },
          "metadata": {
            "needs_background": "light"
          },
          "output_type": "display_data"
        }
      ],
      "source": [
        "df_sub = df.drop(['Comunidad'], axis=1)\n",
        "corr = df_sub.corr()\n",
        "ax = sns.heatmap(\n",
        "    corr,\n",
        "    vmin=-1, vmax=1, center=0,\n",
        "    cmap=sns.diverging_palette(20, 220, n=200),\n",
        "    square=True,\n",
        "    annot = True,\n",
        "    annot_kws = {'size': 6}\n",
        ")\n",
        "ax.set_xticklabels(\n",
        "    ax.get_xticklabels(),\n",
        "    rotation=45,\n",
        "    horizontalalignment='right'\n",
        ")\n",
        "plt.title(f'Matriz de correlación')\n",
        "plt.show()"
      ]
    },
    {
      "cell_type": "markdown",
      "metadata": {
        "id": "r8y2gXSvts-K"
      },
      "source": [
        "## PCA"
      ]
    },
    {
      "cell_type": "markdown",
      "metadata": {
        "id": "EwMNPpzfts-K"
      },
      "source": [
        "### Estandarización"
      ]
    },
    {
      "cell_type": "markdown",
      "metadata": {
        "id": "IIlFLSsGgFnv"
      },
      "source": [
        "Se realiza para evitar problemas con variables con distinta naturaleza y variabilidad. Podemos elegir hacerlo como no, pero las variables con mayores valores de varianza le quitarán peso al resto de las variables, por lo tanto en este caso vamos a realizar la estandarización."
      ]
    },
    {
      "cell_type": "code",
      "execution_count": 38,
      "metadata": {
        "id": "TpcN2rgfts-L"
      },
      "outputs": [
        {
          "data": {
            "text/html": [
              "<div>\n",
              "<style scoped>\n",
              "    .dataframe tbody tr th:only-of-type {\n",
              "        vertical-align: middle;\n",
              "    }\n",
              "\n",
              "    .dataframe tbody tr th {\n",
              "        vertical-align: top;\n",
              "    }\n",
              "\n",
              "    .dataframe thead th {\n",
              "        text-align: right;\n",
              "    }\n",
              "</style>\n",
              "<table border=\"1\" class=\"dataframe\">\n",
              "  <thead>\n",
              "    <tr style=\"text-align: right;\">\n",
              "      <th></th>\n",
              "      <th>X1</th>\n",
              "      <th>X2</th>\n",
              "      <th>X3</th>\n",
              "      <th>X4</th>\n",
              "      <th>X5</th>\n",
              "      <th>X6</th>\n",
              "      <th>X7</th>\n",
              "      <th>X8</th>\n",
              "      <th>X9</th>\n",
              "      <th>X10</th>\n",
              "      <th>X11</th>\n",
              "      <th>X12</th>\n",
              "    </tr>\n",
              "  </thead>\n",
              "  <tbody>\n",
              "    <tr>\n",
              "      <th>0</th>\n",
              "      <td>-0.211955</td>\n",
              "      <td>-0.056504</td>\n",
              "      <td>0.191919</td>\n",
              "      <td>2.082998</td>\n",
              "      <td>1.244659</td>\n",
              "      <td>1.531690</td>\n",
              "      <td>1.137843</td>\n",
              "      <td>1.153638</td>\n",
              "      <td>1.460204</td>\n",
              "      <td>2.146918e+00</td>\n",
              "      <td>1.510008</td>\n",
              "      <td>1.615704</td>\n",
              "    </tr>\n",
              "    <tr>\n",
              "      <th>1</th>\n",
              "      <td>-0.144237</td>\n",
              "      <td>1.539050</td>\n",
              "      <td>-0.667078</td>\n",
              "      <td>-0.750912</td>\n",
              "      <td>0.119479</td>\n",
              "      <td>-0.653410</td>\n",
              "      <td>0.686314</td>\n",
              "      <td>-0.626823</td>\n",
              "      <td>-0.394920</td>\n",
              "      <td>-7.536008e-01</td>\n",
              "      <td>0.335287</td>\n",
              "      <td>-0.473799</td>\n",
              "    </tr>\n",
              "    <tr>\n",
              "      <th>2</th>\n",
              "      <td>0.928263</td>\n",
              "      <td>0.817839</td>\n",
              "      <td>-0.345148</td>\n",
              "      <td>0.130057</td>\n",
              "      <td>0.190919</td>\n",
              "      <td>0.248734</td>\n",
              "      <td>-1.578963</td>\n",
              "      <td>0.069337</td>\n",
              "      <td>0.048889</td>\n",
              "      <td>5.004538e-01</td>\n",
              "      <td>0.167949</td>\n",
              "      <td>-0.010511</td>\n",
              "    </tr>\n",
              "    <tr>\n",
              "      <th>3</th>\n",
              "      <td>-0.510746</td>\n",
              "      <td>0.700931</td>\n",
              "      <td>0.213173</td>\n",
              "      <td>-0.520577</td>\n",
              "      <td>-0.530061</td>\n",
              "      <td>-0.614232</td>\n",
              "      <td>-1.184352</td>\n",
              "      <td>-0.322968</td>\n",
              "      <td>-1.013147</td>\n",
              "      <td>-7.512369e-01</td>\n",
              "      <td>-0.750858</td>\n",
              "      <td>-0.383360</td>\n",
              "    </tr>\n",
              "    <tr>\n",
              "      <th>4</th>\n",
              "      <td>0.795797</td>\n",
              "      <td>0.218478</td>\n",
              "      <td>-1.103056</td>\n",
              "      <td>1.365338</td>\n",
              "      <td>-0.820991</td>\n",
              "      <td>-0.176481</td>\n",
              "      <td>1.961089</td>\n",
              "      <td>2.046470</td>\n",
              "      <td>0.483823</td>\n",
              "      <td>-3.505540e-01</td>\n",
              "      <td>-0.199264</td>\n",
              "      <td>0.186504</td>\n",
              "    </tr>\n",
              "    <tr>\n",
              "      <th>5</th>\n",
              "      <td>-0.894185</td>\n",
              "      <td>-0.675625</td>\n",
              "      <td>-1.518298</td>\n",
              "      <td>-0.883535</td>\n",
              "      <td>-0.863291</td>\n",
              "      <td>-1.664731</td>\n",
              "      <td>0.325409</td>\n",
              "      <td>1.095365</td>\n",
              "      <td>-0.845387</td>\n",
              "      <td>-3.452352e-01</td>\n",
              "      <td>-1.421242</td>\n",
              "      <td>-0.849001</td>\n",
              "    </tr>\n",
              "    <tr>\n",
              "      <th>6</th>\n",
              "      <td>-0.106814</td>\n",
              "      <td>-0.338073</td>\n",
              "      <td>-0.549918</td>\n",
              "      <td>-0.113346</td>\n",
              "      <td>-0.291301</td>\n",
              "      <td>-0.078274</td>\n",
              "      <td>-0.075880</td>\n",
              "      <td>-0.973341</td>\n",
              "      <td>-0.927048</td>\n",
              "      <td>-9.947197e-01</td>\n",
              "      <td>-1.735517</td>\n",
              "      <td>-0.410592</td>\n",
              "    </tr>\n",
              "    <tr>\n",
              "      <th>7</th>\n",
              "      <td>-0.678853</td>\n",
              "      <td>-0.407230</td>\n",
              "      <td>-0.325967</td>\n",
              "      <td>-0.439117</td>\n",
              "      <td>-1.517062</td>\n",
              "      <td>-0.110661</td>\n",
              "      <td>0.980762</td>\n",
              "      <td>-0.875525</td>\n",
              "      <td>0.799815</td>\n",
              "      <td>-6.986399e-01</td>\n",
              "      <td>0.137477</td>\n",
              "      <td>-0.697037</td>\n",
              "    </tr>\n",
              "    <tr>\n",
              "      <th>8</th>\n",
              "      <td>-1.191788</td>\n",
              "      <td>-1.711336</td>\n",
              "      <td>-1.205182</td>\n",
              "      <td>-0.615948</td>\n",
              "      <td>-1.407552</td>\n",
              "      <td>-0.901539</td>\n",
              "      <td>-0.294331</td>\n",
              "      <td>-1.109659</td>\n",
              "      <td>-1.759635</td>\n",
              "      <td>-1.148374e+00</td>\n",
              "      <td>-1.505169</td>\n",
              "      <td>-1.866688</td>\n",
              "    </tr>\n",
              "    <tr>\n",
              "      <th>9</th>\n",
              "      <td>1.122209</td>\n",
              "      <td>-0.700324</td>\n",
              "      <td>0.040545</td>\n",
              "      <td>1.441596</td>\n",
              "      <td>-0.132441</td>\n",
              "      <td>0.748648</td>\n",
              "      <td>-0.304188</td>\n",
              "      <td>0.940316</td>\n",
              "      <td>0.351123</td>\n",
              "      <td>1.745053e+00</td>\n",
              "      <td>-0.061365</td>\n",
              "      <td>1.052563</td>\n",
              "    </tr>\n",
              "    <tr>\n",
              "      <th>10</th>\n",
              "      <td>-0.604898</td>\n",
              "      <td>1.659251</td>\n",
              "      <td>-0.476305</td>\n",
              "      <td>-0.302009</td>\n",
              "      <td>-0.129151</td>\n",
              "      <td>0.361567</td>\n",
              "      <td>0.258315</td>\n",
              "      <td>-0.839104</td>\n",
              "      <td>0.358224</td>\n",
              "      <td>4.401741e-01</td>\n",
              "      <td>0.336062</td>\n",
              "      <td>0.043954</td>\n",
              "    </tr>\n",
              "    <tr>\n",
              "      <th>11</th>\n",
              "      <td>-1.314452</td>\n",
              "      <td>-0.557070</td>\n",
              "      <td>-1.098390</td>\n",
              "      <td>-1.105224</td>\n",
              "      <td>-1.356322</td>\n",
              "      <td>-0.985119</td>\n",
              "      <td>-0.299418</td>\n",
              "      <td>-1.450975</td>\n",
              "      <td>-0.307934</td>\n",
              "      <td>-8.570219e-01</td>\n",
              "      <td>-0.065239</td>\n",
              "      <td>-0.707124</td>\n",
              "    </tr>\n",
              "    <tr>\n",
              "      <th>12</th>\n",
              "      <td>1.449216</td>\n",
              "      <td>1.468246</td>\n",
              "      <td>0.460971</td>\n",
              "      <td>-0.618094</td>\n",
              "      <td>0.233219</td>\n",
              "      <td>0.150527</td>\n",
              "      <td>1.505426</td>\n",
              "      <td>-0.382282</td>\n",
              "      <td>0.844196</td>\n",
              "      <td>-5.172097e-01</td>\n",
              "      <td>-0.947377</td>\n",
              "      <td>0.294762</td>\n",
              "    </tr>\n",
              "    <tr>\n",
              "      <th>13</th>\n",
              "      <td>0.334839</td>\n",
              "      <td>1.542343</td>\n",
              "      <td>0.229762</td>\n",
              "      <td>-0.689476</td>\n",
              "      <td>0.833879</td>\n",
              "      <td>-0.677440</td>\n",
              "      <td>0.989983</td>\n",
              "      <td>-1.124228</td>\n",
              "      <td>-0.197425</td>\n",
              "      <td>-4.303360e-01</td>\n",
              "      <td>-0.139353</td>\n",
              "      <td>-0.301999</td>\n",
              "    </tr>\n",
              "    <tr>\n",
              "      <th>14</th>\n",
              "      <td>2.298662</td>\n",
              "      <td>-1.031291</td>\n",
              "      <td>1.332927</td>\n",
              "      <td>0.889650</td>\n",
              "      <td>1.678470</td>\n",
              "      <td>0.648874</td>\n",
              "      <td>-0.432651</td>\n",
              "      <td>0.495981</td>\n",
              "      <td>2.753909</td>\n",
              "      <td>1.402877e+00</td>\n",
              "      <td>1.819376</td>\n",
              "      <td>0.029161</td>\n",
              "    </tr>\n",
              "    <tr>\n",
              "      <th>15</th>\n",
              "      <td>1.197947</td>\n",
              "      <td>0.057111</td>\n",
              "      <td>0.911983</td>\n",
              "      <td>1.782906</td>\n",
              "      <td>0.639769</td>\n",
              "      <td>-0.291926</td>\n",
              "      <td>-0.137567</td>\n",
              "      <td>0.191086</td>\n",
              "      <td>0.312512</td>\n",
              "      <td>1.607355e+00</td>\n",
              "      <td>1.941264</td>\n",
              "      <td>0.654499</td>\n",
              "    </tr>\n",
              "    <tr>\n",
              "      <th>16</th>\n",
              "      <td>-1.039125</td>\n",
              "      <td>-0.550484</td>\n",
              "      <td>-0.138823</td>\n",
              "      <td>-0.473964</td>\n",
              "      <td>0.532139</td>\n",
              "      <td>1.957949</td>\n",
              "      <td>-1.428559</td>\n",
              "      <td>-0.566468</td>\n",
              "      <td>-0.662981</td>\n",
              "      <td>-9.959017e-01</td>\n",
              "      <td>-0.086673</td>\n",
              "      <td>-0.888337</td>\n",
              "    </tr>\n",
              "    <tr>\n",
              "      <th>17</th>\n",
              "      <td>-0.491440</td>\n",
              "      <td>-1.403422</td>\n",
              "      <td>1.547029</td>\n",
              "      <td>0.258259</td>\n",
              "      <td>2.194530</td>\n",
              "      <td>1.917726</td>\n",
              "      <td>-0.626936</td>\n",
              "      <td>0.625015</td>\n",
              "      <td>-0.466374</td>\n",
              "      <td>3.359319e-16</td>\n",
              "      <td>0.728840</td>\n",
              "      <td>2.845871</td>\n",
              "    </tr>\n",
              "    <tr>\n",
              "      <th>18</th>\n",
              "      <td>-0.938439</td>\n",
              "      <td>-0.571890</td>\n",
              "      <td>2.499856</td>\n",
              "      <td>-1.438602</td>\n",
              "      <td>-0.618891</td>\n",
              "      <td>-1.411901</td>\n",
              "      <td>-1.482297</td>\n",
              "      <td>1.654165</td>\n",
              "      <td>-0.837842</td>\n",
              "      <td>3.359319e-16</td>\n",
              "      <td>-0.064206</td>\n",
              "      <td>-0.134570</td>\n",
              "    </tr>\n",
              "  </tbody>\n",
              "</table>\n",
              "</div>"
            ],
            "text/plain": [
              "          X1        X2        X3        X4        X5        X6        X7  \\\n",
              "0  -0.211955 -0.056504  0.191919  2.082998  1.244659  1.531690  1.137843   \n",
              "1  -0.144237  1.539050 -0.667078 -0.750912  0.119479 -0.653410  0.686314   \n",
              "2   0.928263  0.817839 -0.345148  0.130057  0.190919  0.248734 -1.578963   \n",
              "3  -0.510746  0.700931  0.213173 -0.520577 -0.530061 -0.614232 -1.184352   \n",
              "4   0.795797  0.218478 -1.103056  1.365338 -0.820991 -0.176481  1.961089   \n",
              "5  -0.894185 -0.675625 -1.518298 -0.883535 -0.863291 -1.664731  0.325409   \n",
              "6  -0.106814 -0.338073 -0.549918 -0.113346 -0.291301 -0.078274 -0.075880   \n",
              "7  -0.678853 -0.407230 -0.325967 -0.439117 -1.517062 -0.110661  0.980762   \n",
              "8  -1.191788 -1.711336 -1.205182 -0.615948 -1.407552 -0.901539 -0.294331   \n",
              "9   1.122209 -0.700324  0.040545  1.441596 -0.132441  0.748648 -0.304188   \n",
              "10 -0.604898  1.659251 -0.476305 -0.302009 -0.129151  0.361567  0.258315   \n",
              "11 -1.314452 -0.557070 -1.098390 -1.105224 -1.356322 -0.985119 -0.299418   \n",
              "12  1.449216  1.468246  0.460971 -0.618094  0.233219  0.150527  1.505426   \n",
              "13  0.334839  1.542343  0.229762 -0.689476  0.833879 -0.677440  0.989983   \n",
              "14  2.298662 -1.031291  1.332927  0.889650  1.678470  0.648874 -0.432651   \n",
              "15  1.197947  0.057111  0.911983  1.782906  0.639769 -0.291926 -0.137567   \n",
              "16 -1.039125 -0.550484 -0.138823 -0.473964  0.532139  1.957949 -1.428559   \n",
              "17 -0.491440 -1.403422  1.547029  0.258259  2.194530  1.917726 -0.626936   \n",
              "18 -0.938439 -0.571890  2.499856 -1.438602 -0.618891 -1.411901 -1.482297   \n",
              "\n",
              "          X8        X9           X10       X11       X12  \n",
              "0   1.153638  1.460204  2.146918e+00  1.510008  1.615704  \n",
              "1  -0.626823 -0.394920 -7.536008e-01  0.335287 -0.473799  \n",
              "2   0.069337  0.048889  5.004538e-01  0.167949 -0.010511  \n",
              "3  -0.322968 -1.013147 -7.512369e-01 -0.750858 -0.383360  \n",
              "4   2.046470  0.483823 -3.505540e-01 -0.199264  0.186504  \n",
              "5   1.095365 -0.845387 -3.452352e-01 -1.421242 -0.849001  \n",
              "6  -0.973341 -0.927048 -9.947197e-01 -1.735517 -0.410592  \n",
              "7  -0.875525  0.799815 -6.986399e-01  0.137477 -0.697037  \n",
              "8  -1.109659 -1.759635 -1.148374e+00 -1.505169 -1.866688  \n",
              "9   0.940316  0.351123  1.745053e+00 -0.061365  1.052563  \n",
              "10 -0.839104  0.358224  4.401741e-01  0.336062  0.043954  \n",
              "11 -1.450975 -0.307934 -8.570219e-01 -0.065239 -0.707124  \n",
              "12 -0.382282  0.844196 -5.172097e-01 -0.947377  0.294762  \n",
              "13 -1.124228 -0.197425 -4.303360e-01 -0.139353 -0.301999  \n",
              "14  0.495981  2.753909  1.402877e+00  1.819376  0.029161  \n",
              "15  0.191086  0.312512  1.607355e+00  1.941264  0.654499  \n",
              "16 -0.566468 -0.662981 -9.959017e-01 -0.086673 -0.888337  \n",
              "17  0.625015 -0.466374  3.359319e-16  0.728840  2.845871  \n",
              "18  1.654165 -0.837842  3.359319e-16 -0.064206 -0.134570  "
            ]
          },
          "execution_count": 38,
          "metadata": {},
          "output_type": "execute_result"
        }
      ],
      "source": [
        "#df_std = (df_sub-df_sub.mean())/df_sub.std()\n",
        "scaler = StandardScaler().set_output(transform=\"pandas\")\n",
        "df_std = scaler.fit_transform(df_sub)\n",
        "df_std"
      ]
    },
    {
      "cell_type": "markdown",
      "metadata": {
        "id": "uefMGTJIts-L"
      },
      "source": [
        "### Aplicación de la técnica"
      ]
    },
    {
      "cell_type": "code",
      "execution_count": 40,
      "metadata": {
        "id": "vRASJhxEts-L"
      },
      "outputs": [],
      "source": [
        "# Obtener todas las componentes principales\n",
        "pca = PCA(n_components=df_sub.shape[1])\n",
        "\n",
        "pca_features = pca.fit_transform(df_std)\n",
        "\n",
        "# PC dataframe\n",
        "pca_df = pd.DataFrame(\n",
        "    data=pca_features,\n",
        "    columns=['PC1', 'PC2', 'PC3', 'PC4', 'PC5', 'PC6', 'PC7', 'PC8', 'PC9', 'PC10', 'PC11', 'PC12'])\n",
        "pca_df['Comunidad'] = df['Comunidad']"
      ]
    },
    {
      "cell_type": "markdown",
      "metadata": {
        "id": "rWO2ySEqVjLS"
      },
      "source": [
        "En la siguiente tabla vemos la proyección de cada comunidad en cada una de las nuevas variables. Surje de multiplicar, por ejemplo, los valores que tenía Madrid en X1, X2,.., hasta X12 por los valores del vector de PC1."
      ]
    },
    {
      "cell_type": "code",
      "execution_count": 12,
      "metadata": {
        "colab": {
          "base_uri": "https://localhost:8080/",
          "height": 752
        },
        "id": "k3pp4MmmWkMT",
        "outputId": "138dc6d2-2cb7-47af-d6ef-36616bea5cd5"
      },
      "outputs": [
        {
          "data": {
            "text/html": [
              "\n",
              "  <div id=\"df-40c8916f-d6df-4a74-98bf-83eea52a2b96\" class=\"colab-df-container\">\n",
              "    <div>\n",
              "<style scoped>\n",
              "    .dataframe tbody tr th:only-of-type {\n",
              "        vertical-align: middle;\n",
              "    }\n",
              "\n",
              "    .dataframe tbody tr th {\n",
              "        vertical-align: top;\n",
              "    }\n",
              "\n",
              "    .dataframe thead th {\n",
              "        text-align: right;\n",
              "    }\n",
              "</style>\n",
              "<table border=\"1\" class=\"dataframe\">\n",
              "  <thead>\n",
              "    <tr style=\"text-align: right;\">\n",
              "      <th></th>\n",
              "      <th>PC1</th>\n",
              "      <th>PC2</th>\n",
              "      <th>PC3</th>\n",
              "      <th>PC4</th>\n",
              "      <th>PC5</th>\n",
              "      <th>PC6</th>\n",
              "      <th>PC7</th>\n",
              "      <th>PC8</th>\n",
              "      <th>PC9</th>\n",
              "      <th>PC10</th>\n",
              "      <th>PC11</th>\n",
              "      <th>PC12</th>\n",
              "      <th>Comunidad</th>\n",
              "    </tr>\n",
              "  </thead>\n",
              "  <tbody>\n",
              "    <tr>\n",
              "      <th>0</th>\n",
              "      <td>4.120390</td>\n",
              "      <td>-0.509337</td>\n",
              "      <td>0.779304</td>\n",
              "      <td>-1.209691</td>\n",
              "      <td>-0.395478</td>\n",
              "      <td>1.197633</td>\n",
              "      <td>0.154319</td>\n",
              "      <td>0.153357</td>\n",
              "      <td>0.000296</td>\n",
              "      <td>0.261020</td>\n",
              "      <td>-0.582178</td>\n",
              "      <td>0.188804</td>\n",
              "      <td>Madrid</td>\n",
              "    </tr>\n",
              "    <tr>\n",
              "      <th>1</th>\n",
              "      <td>-1.158163</td>\n",
              "      <td>-1.245964</td>\n",
              "      <td>-1.177993</td>\n",
              "      <td>0.256449</td>\n",
              "      <td>-0.396793</td>\n",
              "      <td>0.541451</td>\n",
              "      <td>0.253217</td>\n",
              "      <td>-0.024043</td>\n",
              "      <td>-0.700586</td>\n",
              "      <td>-0.147350</td>\n",
              "      <td>0.235793</td>\n",
              "      <td>-0.173910</td>\n",
              "      <td>Andalusia</td>\n",
              "    </tr>\n",
              "    <tr>\n",
              "      <th>2</th>\n",
              "      <td>0.554464</td>\n",
              "      <td>0.217157</td>\n",
              "      <td>-0.545693</td>\n",
              "      <td>0.470314</td>\n",
              "      <td>0.630974</td>\n",
              "      <td>-0.655082</td>\n",
              "      <td>1.437137</td>\n",
              "      <td>0.536561</td>\n",
              "      <td>0.006848</td>\n",
              "      <td>0.205480</td>\n",
              "      <td>0.455871</td>\n",
              "      <td>-0.025628</td>\n",
              "      <td>Aragon</td>\n",
              "    </tr>\n",
              "    <tr>\n",
              "      <th>3</th>\n",
              "      <td>-1.716402</td>\n",
              "      <td>0.730937</td>\n",
              "      <td>-0.542509</td>\n",
              "      <td>0.647123</td>\n",
              "      <td>-0.253325</td>\n",
              "      <td>-0.163150</td>\n",
              "      <td>0.810539</td>\n",
              "      <td>0.109939</td>\n",
              "      <td>0.253597</td>\n",
              "      <td>-0.288481</td>\n",
              "      <td>0.087283</td>\n",
              "      <td>0.368374</td>\n",
              "      <td>Asturias</td>\n",
              "    </tr>\n",
              "    <tr>\n",
              "      <th>4</th>\n",
              "      <td>0.649742</td>\n",
              "      <td>-2.176374</td>\n",
              "      <td>2.159930</td>\n",
              "      <td>-0.236929</td>\n",
              "      <td>-1.056872</td>\n",
              "      <td>-0.368091</td>\n",
              "      <td>-0.160210</td>\n",
              "      <td>0.543487</td>\n",
              "      <td>-0.330628</td>\n",
              "      <td>-0.753048</td>\n",
              "      <td>0.343926</td>\n",
              "      <td>0.058273</td>\n",
              "      <td>Balearic Islands</td>\n",
              "    </tr>\n",
              "    <tr>\n",
              "      <th>5</th>\n",
              "      <td>-2.559103</td>\n",
              "      <td>-0.258918</td>\n",
              "      <td>1.912865</td>\n",
              "      <td>0.364069</td>\n",
              "      <td>-0.559392</td>\n",
              "      <td>-0.031070</td>\n",
              "      <td>0.092374</td>\n",
              "      <td>0.136099</td>\n",
              "      <td>-0.710094</td>\n",
              "      <td>0.902624</td>\n",
              "      <td>-0.026819</td>\n",
              "      <td>-0.008945</td>\n",
              "      <td>Canary Islands</td>\n",
              "    </tr>\n",
              "    <tr>\n",
              "      <th>6</th>\n",
              "      <td>-1.919865</td>\n",
              "      <td>0.104146</td>\n",
              "      <td>-0.098009</td>\n",
              "      <td>-0.777149</td>\n",
              "      <td>-0.174347</td>\n",
              "      <td>-1.140385</td>\n",
              "      <td>0.076450</td>\n",
              "      <td>-0.550915</td>\n",
              "      <td>0.305784</td>\n",
              "      <td>-0.011427</td>\n",
              "      <td>-0.192204</td>\n",
              "      <td>0.301017</td>\n",
              "      <td>Cantabria</td>\n",
              "    </tr>\n",
              "    <tr>\n",
              "      <th>7</th>\n",
              "      <td>-1.284449</td>\n",
              "      <td>-0.895992</td>\n",
              "      <td>0.215005</td>\n",
              "      <td>-0.440169</td>\n",
              "      <td>0.780311</td>\n",
              "      <td>0.809990</td>\n",
              "      <td>-1.271565</td>\n",
              "      <td>0.254148</td>\n",
              "      <td>0.705989</td>\n",
              "      <td>-0.305503</td>\n",
              "      <td>0.147607</td>\n",
              "      <td>-0.022809</td>\n",
              "      <td>Castile and Leon</td>\n",
              "    </tr>\n",
              "    <tr>\n",
              "      <th>8</th>\n",
              "      <td>-3.904537</td>\n",
              "      <td>0.738753</td>\n",
              "      <td>1.111262</td>\n",
              "      <td>-0.801013</td>\n",
              "      <td>0.913797</td>\n",
              "      <td>-0.355341</td>\n",
              "      <td>-0.162014</td>\n",
              "      <td>-0.695499</td>\n",
              "      <td>-0.156456</td>\n",
              "      <td>-0.167138</td>\n",
              "      <td>-0.409025</td>\n",
              "      <td>-0.150221</td>\n",
              "      <td>Castile-La Mancha</td>\n",
              "    </tr>\n",
              "    <tr>\n",
              "      <th>9</th>\n",
              "      <td>2.253600</td>\n",
              "      <td>0.151822</td>\n",
              "      <td>1.405634</td>\n",
              "      <td>-0.240550</td>\n",
              "      <td>0.194517</td>\n",
              "      <td>-0.677702</td>\n",
              "      <td>0.817672</td>\n",
              "      <td>-0.170668</td>\n",
              "      <td>0.822027</td>\n",
              "      <td>0.273840</td>\n",
              "      <td>-0.044126</td>\n",
              "      <td>-0.270095</td>\n",
              "      <td>Catalonia</td>\n",
              "    </tr>\n",
              "    <tr>\n",
              "      <th>10</th>\n",
              "      <td>-0.113562</td>\n",
              "      <td>-0.980737</td>\n",
              "      <td>-1.229202</td>\n",
              "      <td>-0.314010</td>\n",
              "      <td>-0.030106</td>\n",
              "      <td>1.005879</td>\n",
              "      <td>0.671065</td>\n",
              "      <td>0.457107</td>\n",
              "      <td>0.384396</td>\n",
              "      <td>0.324852</td>\n",
              "      <td>-0.171741</td>\n",
              "      <td>-0.031739</td>\n",
              "      <td>Valencia</td>\n",
              "    </tr>\n",
              "    <tr>\n",
              "      <th>11</th>\n",
              "      <td>-2.713696</td>\n",
              "      <td>0.084829</td>\n",
              "      <td>-0.026250</td>\n",
              "      <td>-0.366838</td>\n",
              "      <td>0.983815</td>\n",
              "      <td>0.998165</td>\n",
              "      <td>-0.322578</td>\n",
              "      <td>-0.261661</td>\n",
              "      <td>0.213003</td>\n",
              "      <td>0.333274</td>\n",
              "      <td>0.657627</td>\n",
              "      <td>0.061636</td>\n",
              "      <td>Extremadura</td>\n",
              "    </tr>\n",
              "    <tr>\n",
              "      <th>12</th>\n",
              "      <td>0.246630</td>\n",
              "      <td>-1.905319</td>\n",
              "      <td>-1.264139</td>\n",
              "      <td>0.490005</td>\n",
              "      <td>-0.984763</td>\n",
              "      <td>-1.121195</td>\n",
              "      <td>-0.815241</td>\n",
              "      <td>0.083897</td>\n",
              "      <td>0.585280</td>\n",
              "      <td>0.139049</td>\n",
              "      <td>-0.087270</td>\n",
              "      <td>-0.132867</td>\n",
              "      <td>Galicia</td>\n",
              "    </tr>\n",
              "    <tr>\n",
              "      <th>13</th>\n",
              "      <td>-0.581864</td>\n",
              "      <td>-1.243037</td>\n",
              "      <td>-1.764186</td>\n",
              "      <td>0.526062</td>\n",
              "      <td>-0.556042</td>\n",
              "      <td>0.003731</td>\n",
              "      <td>-0.148443</td>\n",
              "      <td>-0.673151</td>\n",
              "      <td>-0.438787</td>\n",
              "      <td>0.083170</td>\n",
              "      <td>-0.374210</td>\n",
              "      <td>-0.010342</td>\n",
              "      <td>Murcia</td>\n",
              "    </tr>\n",
              "    <tr>\n",
              "      <th>14</th>\n",
              "      <td>4.119030</td>\n",
              "      <td>0.015537</td>\n",
              "      <td>-0.192789</td>\n",
              "      <td>0.928273</td>\n",
              "      <td>1.965061</td>\n",
              "      <td>-0.797676</td>\n",
              "      <td>-1.158764</td>\n",
              "      <td>0.218307</td>\n",
              "      <td>-0.495612</td>\n",
              "      <td>0.306131</td>\n",
              "      <td>0.032487</td>\n",
              "      <td>0.128782</td>\n",
              "      <td>Navarre</td>\n",
              "    </tr>\n",
              "    <tr>\n",
              "      <th>15</th>\n",
              "      <td>2.896467</td>\n",
              "      <td>-0.141952</td>\n",
              "      <td>0.221633</td>\n",
              "      <td>0.782409</td>\n",
              "      <td>0.795029</td>\n",
              "      <td>0.530538</td>\n",
              "      <td>0.761585</td>\n",
              "      <td>-1.080561</td>\n",
              "      <td>-0.169383</td>\n",
              "      <td>-0.658523</td>\n",
              "      <td>0.015617</td>\n",
              "      <td>-0.066749</td>\n",
              "      <td>Basque Country</td>\n",
              "    </tr>\n",
              "    <tr>\n",
              "      <th>16</th>\n",
              "      <td>-0.859677</td>\n",
              "      <td>1.867881</td>\n",
              "      <td>-1.015740</td>\n",
              "      <td>-1.536256</td>\n",
              "      <td>0.561504</td>\n",
              "      <td>-0.353999</td>\n",
              "      <td>0.071977</td>\n",
              "      <td>1.102494</td>\n",
              "      <td>-0.417793</td>\n",
              "      <td>-0.453033</td>\n",
              "      <td>-0.335605</td>\n",
              "      <td>-0.125577</td>\n",
              "      <td>La Rioja</td>\n",
              "    </tr>\n",
              "    <tr>\n",
              "      <th>17</th>\n",
              "      <td>2.743967</td>\n",
              "      <td>2.889207</td>\n",
              "      <td>-0.585790</td>\n",
              "      <td>-1.295262</td>\n",
              "      <td>-1.637753</td>\n",
              "      <td>-0.023375</td>\n",
              "      <td>-0.648609</td>\n",
              "      <td>-0.521792</td>\n",
              "      <td>-0.127470</td>\n",
              "      <td>0.124402</td>\n",
              "      <td>0.537978</td>\n",
              "      <td>-0.041389</td>\n",
              "      <td>Ceuta</td>\n",
              "    </tr>\n",
              "    <tr>\n",
              "      <th>18</th>\n",
              "      <td>-0.772972</td>\n",
              "      <td>2.557362</td>\n",
              "      <td>0.636669</td>\n",
              "      <td>2.753165</td>\n",
              "      <td>-0.780137</td>\n",
              "      <td>0.599679</td>\n",
              "      <td>-0.458913</td>\n",
              "      <td>0.382896</td>\n",
              "      <td>0.269587</td>\n",
              "      <td>-0.169338</td>\n",
              "      <td>-0.291011</td>\n",
              "      <td>-0.046614</td>\n",
              "      <td>Melilla</td>\n",
              "    </tr>\n",
              "  </tbody>\n",
              "</table>\n",
              "</div>\n",
              "    <div class=\"colab-df-buttons\">\n",
              "\n",
              "  <div class=\"colab-df-container\">\n",
              "    <button class=\"colab-df-convert\" onclick=\"convertToInteractive('df-40c8916f-d6df-4a74-98bf-83eea52a2b96')\"\n",
              "            title=\"Convert this dataframe to an interactive table.\"\n",
              "            style=\"display:none;\">\n",
              "\n",
              "  <svg xmlns=\"http://www.w3.org/2000/svg\" height=\"24px\" viewBox=\"0 -960 960 960\">\n",
              "    <path d=\"M120-120v-720h720v720H120Zm60-500h600v-160H180v160Zm220 220h160v-160H400v160Zm0 220h160v-160H400v160ZM180-400h160v-160H180v160Zm440 0h160v-160H620v160ZM180-180h160v-160H180v160Zm440 0h160v-160H620v160Z\"/>\n",
              "  </svg>\n",
              "    </button>\n",
              "\n",
              "  <style>\n",
              "    .colab-df-container {\n",
              "      display:flex;\n",
              "      gap: 12px;\n",
              "    }\n",
              "\n",
              "    .colab-df-convert {\n",
              "      background-color: #E8F0FE;\n",
              "      border: none;\n",
              "      border-radius: 50%;\n",
              "      cursor: pointer;\n",
              "      display: none;\n",
              "      fill: #1967D2;\n",
              "      height: 32px;\n",
              "      padding: 0 0 0 0;\n",
              "      width: 32px;\n",
              "    }\n",
              "\n",
              "    .colab-df-convert:hover {\n",
              "      background-color: #E2EBFA;\n",
              "      box-shadow: 0px 1px 2px rgba(60, 64, 67, 0.3), 0px 1px 3px 1px rgba(60, 64, 67, 0.15);\n",
              "      fill: #174EA6;\n",
              "    }\n",
              "\n",
              "    .colab-df-buttons div {\n",
              "      margin-bottom: 4px;\n",
              "    }\n",
              "\n",
              "    [theme=dark] .colab-df-convert {\n",
              "      background-color: #3B4455;\n",
              "      fill: #D2E3FC;\n",
              "    }\n",
              "\n",
              "    [theme=dark] .colab-df-convert:hover {\n",
              "      background-color: #434B5C;\n",
              "      box-shadow: 0px 1px 3px 1px rgba(0, 0, 0, 0.15);\n",
              "      filter: drop-shadow(0px 1px 2px rgba(0, 0, 0, 0.3));\n",
              "      fill: #FFFFFF;\n",
              "    }\n",
              "  </style>\n",
              "\n",
              "    <script>\n",
              "      const buttonEl =\n",
              "        document.querySelector('#df-40c8916f-d6df-4a74-98bf-83eea52a2b96 button.colab-df-convert');\n",
              "      buttonEl.style.display =\n",
              "        google.colab.kernel.accessAllowed ? 'block' : 'none';\n",
              "\n",
              "      async function convertToInteractive(key) {\n",
              "        const element = document.querySelector('#df-40c8916f-d6df-4a74-98bf-83eea52a2b96');\n",
              "        const dataTable =\n",
              "          await google.colab.kernel.invokeFunction('convertToInteractive',\n",
              "                                                    [key], {});\n",
              "        if (!dataTable) return;\n",
              "\n",
              "        const docLinkHtml = 'Like what you see? Visit the ' +\n",
              "          '<a target=\"_blank\" href=https://colab.research.google.com/notebooks/data_table.ipynb>data table notebook</a>'\n",
              "          + ' to learn more about interactive tables.';\n",
              "        element.innerHTML = '';\n",
              "        dataTable['output_type'] = 'display_data';\n",
              "        await google.colab.output.renderOutput(dataTable, element);\n",
              "        const docLink = document.createElement('div');\n",
              "        docLink.innerHTML = docLinkHtml;\n",
              "        element.appendChild(docLink);\n",
              "      }\n",
              "    </script>\n",
              "  </div>\n",
              "\n",
              "\n",
              "<div id=\"df-6e19d935-b134-4cbe-97bd-419526b4ee09\">\n",
              "  <button class=\"colab-df-quickchart\" onclick=\"quickchart('df-6e19d935-b134-4cbe-97bd-419526b4ee09')\"\n",
              "            title=\"Suggest charts.\"\n",
              "            style=\"display:none;\">\n",
              "\n",
              "<svg xmlns=\"http://www.w3.org/2000/svg\" height=\"24px\"viewBox=\"0 0 24 24\"\n",
              "     width=\"24px\">\n",
              "    <g>\n",
              "        <path d=\"M19 3H5c-1.1 0-2 .9-2 2v14c0 1.1.9 2 2 2h14c1.1 0 2-.9 2-2V5c0-1.1-.9-2-2-2zM9 17H7v-7h2v7zm4 0h-2V7h2v10zm4 0h-2v-4h2v4z\"/>\n",
              "    </g>\n",
              "</svg>\n",
              "  </button>\n",
              "\n",
              "<style>\n",
              "  .colab-df-quickchart {\n",
              "      --bg-color: #E8F0FE;\n",
              "      --fill-color: #1967D2;\n",
              "      --hover-bg-color: #E2EBFA;\n",
              "      --hover-fill-color: #174EA6;\n",
              "      --disabled-fill-color: #AAA;\n",
              "      --disabled-bg-color: #DDD;\n",
              "  }\n",
              "\n",
              "  [theme=dark] .colab-df-quickchart {\n",
              "      --bg-color: #3B4455;\n",
              "      --fill-color: #D2E3FC;\n",
              "      --hover-bg-color: #434B5C;\n",
              "      --hover-fill-color: #FFFFFF;\n",
              "      --disabled-bg-color: #3B4455;\n",
              "      --disabled-fill-color: #666;\n",
              "  }\n",
              "\n",
              "  .colab-df-quickchart {\n",
              "    background-color: var(--bg-color);\n",
              "    border: none;\n",
              "    border-radius: 50%;\n",
              "    cursor: pointer;\n",
              "    display: none;\n",
              "    fill: var(--fill-color);\n",
              "    height: 32px;\n",
              "    padding: 0;\n",
              "    width: 32px;\n",
              "  }\n",
              "\n",
              "  .colab-df-quickchart:hover {\n",
              "    background-color: var(--hover-bg-color);\n",
              "    box-shadow: 0 1px 2px rgba(60, 64, 67, 0.3), 0 1px 3px 1px rgba(60, 64, 67, 0.15);\n",
              "    fill: var(--button-hover-fill-color);\n",
              "  }\n",
              "\n",
              "  .colab-df-quickchart-complete:disabled,\n",
              "  .colab-df-quickchart-complete:disabled:hover {\n",
              "    background-color: var(--disabled-bg-color);\n",
              "    fill: var(--disabled-fill-color);\n",
              "    box-shadow: none;\n",
              "  }\n",
              "\n",
              "  .colab-df-spinner {\n",
              "    border: 2px solid var(--fill-color);\n",
              "    border-color: transparent;\n",
              "    border-bottom-color: var(--fill-color);\n",
              "    animation:\n",
              "      spin 1s steps(1) infinite;\n",
              "  }\n",
              "\n",
              "  @keyframes spin {\n",
              "    0% {\n",
              "      border-color: transparent;\n",
              "      border-bottom-color: var(--fill-color);\n",
              "      border-left-color: var(--fill-color);\n",
              "    }\n",
              "    20% {\n",
              "      border-color: transparent;\n",
              "      border-left-color: var(--fill-color);\n",
              "      border-top-color: var(--fill-color);\n",
              "    }\n",
              "    30% {\n",
              "      border-color: transparent;\n",
              "      border-left-color: var(--fill-color);\n",
              "      border-top-color: var(--fill-color);\n",
              "      border-right-color: var(--fill-color);\n",
              "    }\n",
              "    40% {\n",
              "      border-color: transparent;\n",
              "      border-right-color: var(--fill-color);\n",
              "      border-top-color: var(--fill-color);\n",
              "    }\n",
              "    60% {\n",
              "      border-color: transparent;\n",
              "      border-right-color: var(--fill-color);\n",
              "    }\n",
              "    80% {\n",
              "      border-color: transparent;\n",
              "      border-right-color: var(--fill-color);\n",
              "      border-bottom-color: var(--fill-color);\n",
              "    }\n",
              "    90% {\n",
              "      border-color: transparent;\n",
              "      border-bottom-color: var(--fill-color);\n",
              "    }\n",
              "  }\n",
              "</style>\n",
              "\n",
              "  <script>\n",
              "    async function quickchart(key) {\n",
              "      const quickchartButtonEl =\n",
              "        document.querySelector('#' + key + ' button');\n",
              "      quickchartButtonEl.disabled = true;  // To prevent multiple clicks.\n",
              "      quickchartButtonEl.classList.add('colab-df-spinner');\n",
              "      try {\n",
              "        const charts = await google.colab.kernel.invokeFunction(\n",
              "            'suggestCharts', [key], {});\n",
              "      } catch (error) {\n",
              "        console.error('Error during call to suggestCharts:', error);\n",
              "      }\n",
              "      quickchartButtonEl.classList.remove('colab-df-spinner');\n",
              "      quickchartButtonEl.classList.add('colab-df-quickchart-complete');\n",
              "    }\n",
              "    (() => {\n",
              "      let quickchartButtonEl =\n",
              "        document.querySelector('#df-6e19d935-b134-4cbe-97bd-419526b4ee09 button');\n",
              "      quickchartButtonEl.style.display =\n",
              "        google.colab.kernel.accessAllowed ? 'block' : 'none';\n",
              "    })();\n",
              "  </script>\n",
              "</div>\n",
              "    </div>\n",
              "  </div>\n"
            ],
            "text/plain": [
              "         PC1       PC2       PC3       PC4       PC5       PC6       PC7  \\\n",
              "0   4.120390 -0.509337  0.779304 -1.209691 -0.395478  1.197633  0.154319   \n",
              "1  -1.158163 -1.245964 -1.177993  0.256449 -0.396793  0.541451  0.253217   \n",
              "2   0.554464  0.217157 -0.545693  0.470314  0.630974 -0.655082  1.437137   \n",
              "3  -1.716402  0.730937 -0.542509  0.647123 -0.253325 -0.163150  0.810539   \n",
              "4   0.649742 -2.176374  2.159930 -0.236929 -1.056872 -0.368091 -0.160210   \n",
              "5  -2.559103 -0.258918  1.912865  0.364069 -0.559392 -0.031070  0.092374   \n",
              "6  -1.919865  0.104146 -0.098009 -0.777149 -0.174347 -1.140385  0.076450   \n",
              "7  -1.284449 -0.895992  0.215005 -0.440169  0.780311  0.809990 -1.271565   \n",
              "8  -3.904537  0.738753  1.111262 -0.801013  0.913797 -0.355341 -0.162014   \n",
              "9   2.253600  0.151822  1.405634 -0.240550  0.194517 -0.677702  0.817672   \n",
              "10 -0.113562 -0.980737 -1.229202 -0.314010 -0.030106  1.005879  0.671065   \n",
              "11 -2.713696  0.084829 -0.026250 -0.366838  0.983815  0.998165 -0.322578   \n",
              "12  0.246630 -1.905319 -1.264139  0.490005 -0.984763 -1.121195 -0.815241   \n",
              "13 -0.581864 -1.243037 -1.764186  0.526062 -0.556042  0.003731 -0.148443   \n",
              "14  4.119030  0.015537 -0.192789  0.928273  1.965061 -0.797676 -1.158764   \n",
              "15  2.896467 -0.141952  0.221633  0.782409  0.795029  0.530538  0.761585   \n",
              "16 -0.859677  1.867881 -1.015740 -1.536256  0.561504 -0.353999  0.071977   \n",
              "17  2.743967  2.889207 -0.585790 -1.295262 -1.637753 -0.023375 -0.648609   \n",
              "18 -0.772972  2.557362  0.636669  2.753165 -0.780137  0.599679 -0.458913   \n",
              "\n",
              "         PC8       PC9      PC10      PC11      PC12          Comunidad  \n",
              "0   0.153357  0.000296  0.261020 -0.582178  0.188804             Madrid  \n",
              "1  -0.024043 -0.700586 -0.147350  0.235793 -0.173910          Andalusia  \n",
              "2   0.536561  0.006848  0.205480  0.455871 -0.025628             Aragon  \n",
              "3   0.109939  0.253597 -0.288481  0.087283  0.368374           Asturias  \n",
              "4   0.543487 -0.330628 -0.753048  0.343926  0.058273   Balearic Islands  \n",
              "5   0.136099 -0.710094  0.902624 -0.026819 -0.008945     Canary Islands  \n",
              "6  -0.550915  0.305784 -0.011427 -0.192204  0.301017          Cantabria  \n",
              "7   0.254148  0.705989 -0.305503  0.147607 -0.022809   Castile and Leon  \n",
              "8  -0.695499 -0.156456 -0.167138 -0.409025 -0.150221  Castile-La Mancha  \n",
              "9  -0.170668  0.822027  0.273840 -0.044126 -0.270095          Catalonia  \n",
              "10  0.457107  0.384396  0.324852 -0.171741 -0.031739           Valencia  \n",
              "11 -0.261661  0.213003  0.333274  0.657627  0.061636        Extremadura  \n",
              "12  0.083897  0.585280  0.139049 -0.087270 -0.132867            Galicia  \n",
              "13 -0.673151 -0.438787  0.083170 -0.374210 -0.010342             Murcia  \n",
              "14  0.218307 -0.495612  0.306131  0.032487  0.128782            Navarre  \n",
              "15 -1.080561 -0.169383 -0.658523  0.015617 -0.066749     Basque Country  \n",
              "16  1.102494 -0.417793 -0.453033 -0.335605 -0.125577           La Rioja  \n",
              "17 -0.521792 -0.127470  0.124402  0.537978 -0.041389              Ceuta  \n",
              "18  0.382896  0.269587 -0.169338 -0.291011 -0.046614            Melilla  "
            ]
          },
          "execution_count": 12,
          "metadata": {},
          "output_type": "execute_result"
        }
      ],
      "source": [
        "pca_df"
      ]
    },
    {
      "cell_type": "markdown",
      "metadata": {
        "id": "JaVKSvL8VG6J"
      },
      "source": [
        "### Eigenvectors"
      ]
    },
    {
      "cell_type": "markdown",
      "metadata": {
        "id": "hZO2KBOM90nM"
      },
      "source": [
        "Son los valores que conforman los coeficientes de cada una de las nuevas variables."
      ]
    },
    {
      "cell_type": "code",
      "execution_count": 43,
      "metadata": {
        "colab": {
          "base_uri": "https://localhost:8080/",
          "height": 426
        },
        "id": "JD_x5iufcPQB",
        "outputId": "9024790c-53bc-40aa-d52c-58891af61fa3"
      },
      "outputs": [
        {
          "data": {
            "text/html": [
              "<div>\n",
              "<style scoped>\n",
              "    .dataframe tbody tr th:only-of-type {\n",
              "        vertical-align: middle;\n",
              "    }\n",
              "\n",
              "    .dataframe tbody tr th {\n",
              "        vertical-align: top;\n",
              "    }\n",
              "\n",
              "    .dataframe thead th {\n",
              "        text-align: right;\n",
              "    }\n",
              "</style>\n",
              "<table border=\"1\" class=\"dataframe\">\n",
              "  <thead>\n",
              "    <tr style=\"text-align: right;\">\n",
              "      <th></th>\n",
              "      <th>PC1</th>\n",
              "      <th>PC2</th>\n",
              "      <th>PC3</th>\n",
              "      <th>PC4</th>\n",
              "      <th>PC5</th>\n",
              "      <th>PC6</th>\n",
              "      <th>PC7</th>\n",
              "      <th>PC8</th>\n",
              "      <th>PC9</th>\n",
              "      <th>PC10</th>\n",
              "      <th>PC11</th>\n",
              "      <th>PC12</th>\n",
              "    </tr>\n",
              "  </thead>\n",
              "  <tbody>\n",
              "    <tr>\n",
              "      <th>X1</th>\n",
              "      <td>0.290945</td>\n",
              "      <td>-0.008583</td>\n",
              "      <td>0.243076</td>\n",
              "      <td>0.347445</td>\n",
              "      <td>0.338573</td>\n",
              "      <td>0.277893</td>\n",
              "      <td>0.039392</td>\n",
              "      <td>0.224168</td>\n",
              "      <td>0.328181</td>\n",
              "      <td>0.372874</td>\n",
              "      <td>0.352541</td>\n",
              "      <td>0.347551</td>\n",
              "    </tr>\n",
              "    <tr>\n",
              "      <th>X2</th>\n",
              "      <td>-0.296465</td>\n",
              "      <td>-0.455480</td>\n",
              "      <td>0.372142</td>\n",
              "      <td>-0.143855</td>\n",
              "      <td>0.157756</td>\n",
              "      <td>0.168936</td>\n",
              "      <td>-0.610701</td>\n",
              "      <td>0.088904</td>\n",
              "      <td>-0.304042</td>\n",
              "      <td>-0.025106</td>\n",
              "      <td>0.025061</td>\n",
              "      <td>0.132198</td>\n",
              "    </tr>\n",
              "    <tr>\n",
              "      <th>X3</th>\n",
              "      <td>-0.051372</td>\n",
              "      <td>-0.516595</td>\n",
              "      <td>-0.226409</td>\n",
              "      <td>0.317907</td>\n",
              "      <td>-0.368648</td>\n",
              "      <td>-0.217907</td>\n",
              "      <td>0.125568</td>\n",
              "      <td>0.569635</td>\n",
              "      <td>-0.036921</td>\n",
              "      <td>0.192056</td>\n",
              "      <td>-0.125849</td>\n",
              "      <td>-0.021026</td>\n",
              "    </tr>\n",
              "    <tr>\n",
              "      <th>X4</th>\n",
              "      <td>0.283618</td>\n",
              "      <td>0.240645</td>\n",
              "      <td>0.481233</td>\n",
              "      <td>-0.259431</td>\n",
              "      <td>-0.110484</td>\n",
              "      <td>-0.618955</td>\n",
              "      <td>-0.187874</td>\n",
              "      <td>0.287519</td>\n",
              "      <td>0.065877</td>\n",
              "      <td>0.125570</td>\n",
              "      <td>0.082053</td>\n",
              "      <td>-0.150481</td>\n",
              "    </tr>\n",
              "    <tr>\n",
              "      <th>X5</th>\n",
              "      <td>0.184628</td>\n",
              "      <td>-0.312006</td>\n",
              "      <td>-0.151217</td>\n",
              "      <td>0.113953</td>\n",
              "      <td>-0.166676</td>\n",
              "      <td>-0.021839</td>\n",
              "      <td>-0.355454</td>\n",
              "      <td>-0.422697</td>\n",
              "      <td>0.328302</td>\n",
              "      <td>0.194147</td>\n",
              "      <td>0.308389</td>\n",
              "      <td>-0.508779</td>\n",
              "    </tr>\n",
              "    <tr>\n",
              "      <th>X6</th>\n",
              "      <td>-0.695762</td>\n",
              "      <td>0.143462</td>\n",
              "      <td>0.012079</td>\n",
              "      <td>-0.056486</td>\n",
              "      <td>-0.185193</td>\n",
              "      <td>-0.173706</td>\n",
              "      <td>0.163611</td>\n",
              "      <td>-0.057625</td>\n",
              "      <td>0.043579</td>\n",
              "      <td>0.218911</td>\n",
              "      <td>0.579619</td>\n",
              "      <td>0.107979</td>\n",
              "    </tr>\n",
              "    <tr>\n",
              "      <th>X7</th>\n",
              "      <td>0.034398</td>\n",
              "      <td>0.484641</td>\n",
              "      <td>-0.348730</td>\n",
              "      <td>0.322524</td>\n",
              "      <td>-0.040886</td>\n",
              "      <td>-0.020960</td>\n",
              "      <td>-0.471501</td>\n",
              "      <td>0.039861</td>\n",
              "      <td>-0.426803</td>\n",
              "      <td>0.356711</td>\n",
              "      <td>-0.032819</td>\n",
              "      <td>0.042571</td>\n",
              "    </tr>\n",
              "    <tr>\n",
              "      <th>X8</th>\n",
              "      <td>-0.158246</td>\n",
              "      <td>0.285593</td>\n",
              "      <td>-0.117210</td>\n",
              "      <td>-0.242468</td>\n",
              "      <td>-0.175600</td>\n",
              "      <td>0.471677</td>\n",
              "      <td>-0.241423</td>\n",
              "      <td>0.511871</td>\n",
              "      <td>0.395958</td>\n",
              "      <td>-0.131472</td>\n",
              "      <td>-0.007278</td>\n",
              "      <td>-0.270430</td>\n",
              "    </tr>\n",
              "    <tr>\n",
              "      <th>X9</th>\n",
              "      <td>0.009688</td>\n",
              "      <td>0.070956</td>\n",
              "      <td>0.328312</td>\n",
              "      <td>0.034447</td>\n",
              "      <td>-0.668015</td>\n",
              "      <td>0.208484</td>\n",
              "      <td>-0.054533</td>\n",
              "      <td>-0.288023</td>\n",
              "      <td>0.170166</td>\n",
              "      <td>0.219541</td>\n",
              "      <td>-0.334233</td>\n",
              "      <td>0.348410</td>\n",
              "    </tr>\n",
              "    <tr>\n",
              "      <th>X10</th>\n",
              "      <td>-0.106958</td>\n",
              "      <td>-0.111898</td>\n",
              "      <td>-0.347210</td>\n",
              "      <td>-0.478263</td>\n",
              "      <td>0.291082</td>\n",
              "      <td>-0.179815</td>\n",
              "      <td>-0.086053</td>\n",
              "      <td>-0.052754</td>\n",
              "      <td>0.313797</td>\n",
              "      <td>0.487780</td>\n",
              "      <td>-0.332443</td>\n",
              "      <td>0.229308</td>\n",
              "    </tr>\n",
              "    <tr>\n",
              "      <th>X11</th>\n",
              "      <td>0.266452</td>\n",
              "      <td>-0.063592</td>\n",
              "      <td>-0.357899</td>\n",
              "      <td>-0.154876</td>\n",
              "      <td>-0.216390</td>\n",
              "      <td>-0.158796</td>\n",
              "      <td>-0.260867</td>\n",
              "      <td>0.017397</td>\n",
              "      <td>0.107128</td>\n",
              "      <td>-0.437564</td>\n",
              "      <td>0.339334</td>\n",
              "      <td>0.560714</td>\n",
              "    </tr>\n",
              "    <tr>\n",
              "      <th>X12</th>\n",
              "      <td>-0.342715</td>\n",
              "      <td>0.108238</td>\n",
              "      <td>0.069142</td>\n",
              "      <td>0.507269</td>\n",
              "      <td>0.199981</td>\n",
              "      <td>-0.330246</td>\n",
              "      <td>-0.249567</td>\n",
              "      <td>-0.055280</td>\n",
              "      <td>0.454561</td>\n",
              "      <td>-0.316146</td>\n",
              "      <td>-0.288006</td>\n",
              "      <td>0.069376</td>\n",
              "    </tr>\n",
              "  </tbody>\n",
              "</table>\n",
              "</div>"
            ],
            "text/plain": [
              "          PC1       PC2       PC3       PC4       PC5       PC6       PC7  \\\n",
              "X1   0.290945 -0.008583  0.243076  0.347445  0.338573  0.277893  0.039392   \n",
              "X2  -0.296465 -0.455480  0.372142 -0.143855  0.157756  0.168936 -0.610701   \n",
              "X3  -0.051372 -0.516595 -0.226409  0.317907 -0.368648 -0.217907  0.125568   \n",
              "X4   0.283618  0.240645  0.481233 -0.259431 -0.110484 -0.618955 -0.187874   \n",
              "X5   0.184628 -0.312006 -0.151217  0.113953 -0.166676 -0.021839 -0.355454   \n",
              "X6  -0.695762  0.143462  0.012079 -0.056486 -0.185193 -0.173706  0.163611   \n",
              "X7   0.034398  0.484641 -0.348730  0.322524 -0.040886 -0.020960 -0.471501   \n",
              "X8  -0.158246  0.285593 -0.117210 -0.242468 -0.175600  0.471677 -0.241423   \n",
              "X9   0.009688  0.070956  0.328312  0.034447 -0.668015  0.208484 -0.054533   \n",
              "X10 -0.106958 -0.111898 -0.347210 -0.478263  0.291082 -0.179815 -0.086053   \n",
              "X11  0.266452 -0.063592 -0.357899 -0.154876 -0.216390 -0.158796 -0.260867   \n",
              "X12 -0.342715  0.108238  0.069142  0.507269  0.199981 -0.330246 -0.249567   \n",
              "\n",
              "          PC8       PC9      PC10      PC11      PC12  \n",
              "X1   0.224168  0.328181  0.372874  0.352541  0.347551  \n",
              "X2   0.088904 -0.304042 -0.025106  0.025061  0.132198  \n",
              "X3   0.569635 -0.036921  0.192056 -0.125849 -0.021026  \n",
              "X4   0.287519  0.065877  0.125570  0.082053 -0.150481  \n",
              "X5  -0.422697  0.328302  0.194147  0.308389 -0.508779  \n",
              "X6  -0.057625  0.043579  0.218911  0.579619  0.107979  \n",
              "X7   0.039861 -0.426803  0.356711 -0.032819  0.042571  \n",
              "X8   0.511871  0.395958 -0.131472 -0.007278 -0.270430  \n",
              "X9  -0.288023  0.170166  0.219541 -0.334233  0.348410  \n",
              "X10 -0.052754  0.313797  0.487780 -0.332443  0.229308  \n",
              "X11  0.017397  0.107128 -0.437564  0.339334  0.560714  \n",
              "X12 -0.055280  0.454561 -0.316146 -0.288006  0.069376  "
            ]
          },
          "execution_count": 43,
          "metadata": {},
          "output_type": "execute_result"
        }
      ],
      "source": [
        "pca_ev = pd.DataFrame(pca.components_, columns=['PC1', 'PC2', 'PC3', 'PC4', 'PC5', 'PC6', 'PC7', 'PC8', 'PC9', 'PC10', 'PC11', 'PC12'], index=['X1', 'X2', 'X3', 'X4', 'X5', 'X6', 'X7', 'X8', 'X9', 'X10', 'X11', 'X12'])\n",
        "pca_ev"
      ]
    },
    {
      "cell_type": "code",
      "execution_count": 61,
      "metadata": {},
      "outputs": [
        {
          "data": {
            "text/plain": [
              "-0.8101753537970857"
            ]
          },
          "execution_count": 61,
          "metadata": {},
          "output_type": "execute_result"
        }
      ],
      "source": [
        "sum(pca_ev[\"PC1\"].values * df_std.values[0])"
      ]
    },
    {
      "cell_type": "code",
      "execution_count": 57,
      "metadata": {},
      "outputs": [
        {
          "data": {
            "text/plain": [
              "array([ 0.29094545, -0.29646547, -0.05137232,  0.28361805,  0.18462773,\n",
              "       -0.69576156,  0.03439831, -0.15824646,  0.00968793, -0.1069579 ,\n",
              "        0.26645197, -0.34271478])"
            ]
          },
          "execution_count": 57,
          "metadata": {},
          "output_type": "execute_result"
        }
      ],
      "source": [
        "pca_ev[\"PC1\"].values"
      ]
    },
    {
      "cell_type": "code",
      "execution_count": 52,
      "metadata": {},
      "outputs": [
        {
          "data": {
            "text/plain": [
              "array([-0.211955  , -0.05650432,  0.19191885,  2.08299809,  1.24465946,\n",
              "        1.53169013,  1.13784325,  1.15363827,  1.46020364,  2.14691756,\n",
              "        1.51000766,  1.61570353])"
            ]
          },
          "execution_count": 52,
          "metadata": {},
          "output_type": "execute_result"
        }
      ],
      "source": [
        "df_std.values[0]"
      ]
    },
    {
      "cell_type": "markdown",
      "metadata": {
        "id": "CY8-7fydts-L"
      },
      "source": [
        "### Selección del número de componentes principales"
      ]
    },
    {
      "cell_type": "code",
      "execution_count": 14,
      "metadata": {
        "id": "aApVEz2nUp_3"
      },
      "outputs": [],
      "source": [
        "# Creamos función para acumular la varianza\n",
        "def acumular(numbers):\n",
        "     sum = 0\n",
        "     var_c = []\n",
        "     for num in numbers:\n",
        "        sum += num\n",
        "        var_c.append(sum)\n",
        "     return var_c"
      ]
    },
    {
      "cell_type": "code",
      "execution_count": 15,
      "metadata": {
        "colab": {
          "base_uri": "https://localhost:8080/",
          "height": 426
        },
        "id": "hr0qztLQts-L",
        "outputId": "368f57f9-2de7-46d6-a0aa-5e84eea7c0a0"
      },
      "outputs": [
        {
          "data": {
            "text/html": [
              "\n",
              "  <div id=\"df-a8d9dfd7-dc53-41d4-98b7-a4292a6fd80b\" class=\"colab-df-container\">\n",
              "    <div>\n",
              "<style scoped>\n",
              "    .dataframe tbody tr th:only-of-type {\n",
              "        vertical-align: middle;\n",
              "    }\n",
              "\n",
              "    .dataframe tbody tr th {\n",
              "        vertical-align: top;\n",
              "    }\n",
              "\n",
              "    .dataframe thead th {\n",
              "        text-align: right;\n",
              "    }\n",
              "</style>\n",
              "<table border=\"1\" class=\"dataframe\">\n",
              "  <thead>\n",
              "    <tr style=\"text-align: right;\">\n",
              "      <th></th>\n",
              "      <th>Eigenvalues</th>\n",
              "      <th>Proporción de variancia explicada</th>\n",
              "      <th>Proporción acumulado de variancia explicada</th>\n",
              "    </tr>\n",
              "  </thead>\n",
              "  <tbody>\n",
              "    <tr>\n",
              "      <th>0</th>\n",
              "      <td>5.344536</td>\n",
              "      <td>0.445378</td>\n",
              "      <td>0.445378</td>\n",
              "    </tr>\n",
              "    <tr>\n",
              "      <th>1</th>\n",
              "      <td>1.840043</td>\n",
              "      <td>0.153337</td>\n",
              "      <td>0.598715</td>\n",
              "    </tr>\n",
              "    <tr>\n",
              "      <th>2</th>\n",
              "      <td>1.237029</td>\n",
              "      <td>0.103086</td>\n",
              "      <td>0.701801</td>\n",
              "    </tr>\n",
              "    <tr>\n",
              "      <th>3</th>\n",
              "      <td>0.983141</td>\n",
              "      <td>0.081928</td>\n",
              "      <td>0.783729</td>\n",
              "    </tr>\n",
              "    <tr>\n",
              "      <th>4</th>\n",
              "      <td>0.781422</td>\n",
              "      <td>0.065119</td>\n",
              "      <td>0.848848</td>\n",
              "    </tr>\n",
              "    <tr>\n",
              "      <th>5</th>\n",
              "      <td>0.529459</td>\n",
              "      <td>0.044122</td>\n",
              "      <td>0.892969</td>\n",
              "    </tr>\n",
              "    <tr>\n",
              "      <th>6</th>\n",
              "      <td>0.497905</td>\n",
              "      <td>0.041492</td>\n",
              "      <td>0.934461</td>\n",
              "    </tr>\n",
              "    <tr>\n",
              "      <th>7</th>\n",
              "      <td>0.283675</td>\n",
              "      <td>0.023640</td>\n",
              "      <td>0.958101</td>\n",
              "    </tr>\n",
              "    <tr>\n",
              "      <th>8</th>\n",
              "      <td>0.207049</td>\n",
              "      <td>0.017254</td>\n",
              "      <td>0.975355</td>\n",
              "    </tr>\n",
              "    <tr>\n",
              "      <th>9</th>\n",
              "      <td>0.156283</td>\n",
              "      <td>0.013024</td>\n",
              "      <td>0.988379</td>\n",
              "    </tr>\n",
              "    <tr>\n",
              "      <th>10</th>\n",
              "      <td>0.114145</td>\n",
              "      <td>0.009512</td>\n",
              "      <td>0.997891</td>\n",
              "    </tr>\n",
              "    <tr>\n",
              "      <th>11</th>\n",
              "      <td>0.025313</td>\n",
              "      <td>0.002109</td>\n",
              "      <td>1.000000</td>\n",
              "    </tr>\n",
              "  </tbody>\n",
              "</table>\n",
              "</div>\n",
              "    <div class=\"colab-df-buttons\">\n",
              "\n",
              "  <div class=\"colab-df-container\">\n",
              "    <button class=\"colab-df-convert\" onclick=\"convertToInteractive('df-a8d9dfd7-dc53-41d4-98b7-a4292a6fd80b')\"\n",
              "            title=\"Convert this dataframe to an interactive table.\"\n",
              "            style=\"display:none;\">\n",
              "\n",
              "  <svg xmlns=\"http://www.w3.org/2000/svg\" height=\"24px\" viewBox=\"0 -960 960 960\">\n",
              "    <path d=\"M120-120v-720h720v720H120Zm60-500h600v-160H180v160Zm220 220h160v-160H400v160Zm0 220h160v-160H400v160ZM180-400h160v-160H180v160Zm440 0h160v-160H620v160ZM180-180h160v-160H180v160Zm440 0h160v-160H620v160Z\"/>\n",
              "  </svg>\n",
              "    </button>\n",
              "\n",
              "  <style>\n",
              "    .colab-df-container {\n",
              "      display:flex;\n",
              "      gap: 12px;\n",
              "    }\n",
              "\n",
              "    .colab-df-convert {\n",
              "      background-color: #E8F0FE;\n",
              "      border: none;\n",
              "      border-radius: 50%;\n",
              "      cursor: pointer;\n",
              "      display: none;\n",
              "      fill: #1967D2;\n",
              "      height: 32px;\n",
              "      padding: 0 0 0 0;\n",
              "      width: 32px;\n",
              "    }\n",
              "\n",
              "    .colab-df-convert:hover {\n",
              "      background-color: #E2EBFA;\n",
              "      box-shadow: 0px 1px 2px rgba(60, 64, 67, 0.3), 0px 1px 3px 1px rgba(60, 64, 67, 0.15);\n",
              "      fill: #174EA6;\n",
              "    }\n",
              "\n",
              "    .colab-df-buttons div {\n",
              "      margin-bottom: 4px;\n",
              "    }\n",
              "\n",
              "    [theme=dark] .colab-df-convert {\n",
              "      background-color: #3B4455;\n",
              "      fill: #D2E3FC;\n",
              "    }\n",
              "\n",
              "    [theme=dark] .colab-df-convert:hover {\n",
              "      background-color: #434B5C;\n",
              "      box-shadow: 0px 1px 3px 1px rgba(0, 0, 0, 0.15);\n",
              "      filter: drop-shadow(0px 1px 2px rgba(0, 0, 0, 0.3));\n",
              "      fill: #FFFFFF;\n",
              "    }\n",
              "  </style>\n",
              "\n",
              "    <script>\n",
              "      const buttonEl =\n",
              "        document.querySelector('#df-a8d9dfd7-dc53-41d4-98b7-a4292a6fd80b button.colab-df-convert');\n",
              "      buttonEl.style.display =\n",
              "        google.colab.kernel.accessAllowed ? 'block' : 'none';\n",
              "\n",
              "      async function convertToInteractive(key) {\n",
              "        const element = document.querySelector('#df-a8d9dfd7-dc53-41d4-98b7-a4292a6fd80b');\n",
              "        const dataTable =\n",
              "          await google.colab.kernel.invokeFunction('convertToInteractive',\n",
              "                                                    [key], {});\n",
              "        if (!dataTable) return;\n",
              "\n",
              "        const docLinkHtml = 'Like what you see? Visit the ' +\n",
              "          '<a target=\"_blank\" href=https://colab.research.google.com/notebooks/data_table.ipynb>data table notebook</a>'\n",
              "          + ' to learn more about interactive tables.';\n",
              "        element.innerHTML = '';\n",
              "        dataTable['output_type'] = 'display_data';\n",
              "        await google.colab.output.renderOutput(dataTable, element);\n",
              "        const docLink = document.createElement('div');\n",
              "        docLink.innerHTML = docLinkHtml;\n",
              "        element.appendChild(docLink);\n",
              "      }\n",
              "    </script>\n",
              "  </div>\n",
              "\n",
              "\n",
              "<div id=\"df-6ad46039-0b23-4609-9aee-f93e4b04cb36\">\n",
              "  <button class=\"colab-df-quickchart\" onclick=\"quickchart('df-6ad46039-0b23-4609-9aee-f93e4b04cb36')\"\n",
              "            title=\"Suggest charts.\"\n",
              "            style=\"display:none;\">\n",
              "\n",
              "<svg xmlns=\"http://www.w3.org/2000/svg\" height=\"24px\"viewBox=\"0 0 24 24\"\n",
              "     width=\"24px\">\n",
              "    <g>\n",
              "        <path d=\"M19 3H5c-1.1 0-2 .9-2 2v14c0 1.1.9 2 2 2h14c1.1 0 2-.9 2-2V5c0-1.1-.9-2-2-2zM9 17H7v-7h2v7zm4 0h-2V7h2v10zm4 0h-2v-4h2v4z\"/>\n",
              "    </g>\n",
              "</svg>\n",
              "  </button>\n",
              "\n",
              "<style>\n",
              "  .colab-df-quickchart {\n",
              "      --bg-color: #E8F0FE;\n",
              "      --fill-color: #1967D2;\n",
              "      --hover-bg-color: #E2EBFA;\n",
              "      --hover-fill-color: #174EA6;\n",
              "      --disabled-fill-color: #AAA;\n",
              "      --disabled-bg-color: #DDD;\n",
              "  }\n",
              "\n",
              "  [theme=dark] .colab-df-quickchart {\n",
              "      --bg-color: #3B4455;\n",
              "      --fill-color: #D2E3FC;\n",
              "      --hover-bg-color: #434B5C;\n",
              "      --hover-fill-color: #FFFFFF;\n",
              "      --disabled-bg-color: #3B4455;\n",
              "      --disabled-fill-color: #666;\n",
              "  }\n",
              "\n",
              "  .colab-df-quickchart {\n",
              "    background-color: var(--bg-color);\n",
              "    border: none;\n",
              "    border-radius: 50%;\n",
              "    cursor: pointer;\n",
              "    display: none;\n",
              "    fill: var(--fill-color);\n",
              "    height: 32px;\n",
              "    padding: 0;\n",
              "    width: 32px;\n",
              "  }\n",
              "\n",
              "  .colab-df-quickchart:hover {\n",
              "    background-color: var(--hover-bg-color);\n",
              "    box-shadow: 0 1px 2px rgba(60, 64, 67, 0.3), 0 1px 3px 1px rgba(60, 64, 67, 0.15);\n",
              "    fill: var(--button-hover-fill-color);\n",
              "  }\n",
              "\n",
              "  .colab-df-quickchart-complete:disabled,\n",
              "  .colab-df-quickchart-complete:disabled:hover {\n",
              "    background-color: var(--disabled-bg-color);\n",
              "    fill: var(--disabled-fill-color);\n",
              "    box-shadow: none;\n",
              "  }\n",
              "\n",
              "  .colab-df-spinner {\n",
              "    border: 2px solid var(--fill-color);\n",
              "    border-color: transparent;\n",
              "    border-bottom-color: var(--fill-color);\n",
              "    animation:\n",
              "      spin 1s steps(1) infinite;\n",
              "  }\n",
              "\n",
              "  @keyframes spin {\n",
              "    0% {\n",
              "      border-color: transparent;\n",
              "      border-bottom-color: var(--fill-color);\n",
              "      border-left-color: var(--fill-color);\n",
              "    }\n",
              "    20% {\n",
              "      border-color: transparent;\n",
              "      border-left-color: var(--fill-color);\n",
              "      border-top-color: var(--fill-color);\n",
              "    }\n",
              "    30% {\n",
              "      border-color: transparent;\n",
              "      border-left-color: var(--fill-color);\n",
              "      border-top-color: var(--fill-color);\n",
              "      border-right-color: var(--fill-color);\n",
              "    }\n",
              "    40% {\n",
              "      border-color: transparent;\n",
              "      border-right-color: var(--fill-color);\n",
              "      border-top-color: var(--fill-color);\n",
              "    }\n",
              "    60% {\n",
              "      border-color: transparent;\n",
              "      border-right-color: var(--fill-color);\n",
              "    }\n",
              "    80% {\n",
              "      border-color: transparent;\n",
              "      border-right-color: var(--fill-color);\n",
              "      border-bottom-color: var(--fill-color);\n",
              "    }\n",
              "    90% {\n",
              "      border-color: transparent;\n",
              "      border-bottom-color: var(--fill-color);\n",
              "    }\n",
              "  }\n",
              "</style>\n",
              "\n",
              "  <script>\n",
              "    async function quickchart(key) {\n",
              "      const quickchartButtonEl =\n",
              "        document.querySelector('#' + key + ' button');\n",
              "      quickchartButtonEl.disabled = true;  // To prevent multiple clicks.\n",
              "      quickchartButtonEl.classList.add('colab-df-spinner');\n",
              "      try {\n",
              "        const charts = await google.colab.kernel.invokeFunction(\n",
              "            'suggestCharts', [key], {});\n",
              "      } catch (error) {\n",
              "        console.error('Error during call to suggestCharts:', error);\n",
              "      }\n",
              "      quickchartButtonEl.classList.remove('colab-df-spinner');\n",
              "      quickchartButtonEl.classList.add('colab-df-quickchart-complete');\n",
              "    }\n",
              "    (() => {\n",
              "      let quickchartButtonEl =\n",
              "        document.querySelector('#df-6ad46039-0b23-4609-9aee-f93e4b04cb36 button');\n",
              "      quickchartButtonEl.style.display =\n",
              "        google.colab.kernel.accessAllowed ? 'block' : 'none';\n",
              "    })();\n",
              "  </script>\n",
              "</div>\n",
              "    </div>\n",
              "  </div>\n"
            ],
            "text/plain": [
              "    Eigenvalues  Proporción de variancia explicada  \\\n",
              "0      5.344536                           0.445378   \n",
              "1      1.840043                           0.153337   \n",
              "2      1.237029                           0.103086   \n",
              "3      0.983141                           0.081928   \n",
              "4      0.781422                           0.065119   \n",
              "5      0.529459                           0.044122   \n",
              "6      0.497905                           0.041492   \n",
              "7      0.283675                           0.023640   \n",
              "8      0.207049                           0.017254   \n",
              "9      0.156283                           0.013024   \n",
              "10     0.114145                           0.009512   \n",
              "11     0.025313                           0.002109   \n",
              "\n",
              "    Proporción acumulado de variancia explicada  \n",
              "0                                      0.445378  \n",
              "1                                      0.598715  \n",
              "2                                      0.701801  \n",
              "3                                      0.783729  \n",
              "4                                      0.848848  \n",
              "5                                      0.892969  \n",
              "6                                      0.934461  \n",
              "7                                      0.958101  \n",
              "8                                      0.975355  \n",
              "9                                      0.988379  \n",
              "10                                     0.997891  \n",
              "11                                     1.000000  "
            ]
          },
          "execution_count": 15,
          "metadata": {},
          "output_type": "execute_result"
        }
      ],
      "source": [
        "var_c = acumular(pca.explained_variance_ratio_)\n",
        "pca_rtd = pd.DataFrame({'Eigenvalues':pca.explained_variance_, 'Proporción de variancia explicada':pca.explained_variance_ratio_, 'Proporción acumulado de variancia explicada': var_c})\n",
        "pca_rtd"
      ]
    },
    {
      "cell_type": "markdown",
      "metadata": {
        "id": "WsEMoOrjUrlk"
      },
      "source": [
        "Vemos gráficamente la varianza acumulada:"
      ]
    },
    {
      "cell_type": "code",
      "execution_count": 16,
      "metadata": {
        "colab": {
          "base_uri": "https://localhost:8080/",
          "height": 449
        },
        "id": "ur-GAc1sRnvQ",
        "outputId": "f9f9aa7a-ac9a-4571-e35f-d7e3136740c7"
      },
      "outputs": [
        {
          "data": {
            "image/png": "[encoded data removed]",
            "text/plain": [
              "<Figure size 640x480 with 1 Axes>"
            ]
          },
          "metadata": {},
          "output_type": "display_data"
        }
      ],
      "source": [
        "plt.bar(range(1,13), pca.explained_variance_ratio_,\n",
        "        alpha=0.5,\n",
        "        align='center')\n",
        "plt.step(range(1,13), np.cumsum(pca.explained_variance_ratio_),\n",
        "         where='mid',\n",
        "         color='red')\n",
        "plt.ylabel('Proporción de variancia explicada')\n",
        "plt.xlabel('Componente principales')\n",
        "plt.show()"
      ]
    },
    {
      "cell_type": "markdown",
      "metadata": {
        "id": "3sfZZI-TZTJv"
      },
      "source": [
        "**Criterios de selección:**\n",
        "* Proporción de variancia acumulada (~75% -80%)​\n",
        "* Criterio de Kaiser (eigenvalues > 1)​\n",
        "* Gráfico del codo (Scree)"
      ]
    },
    {
      "cell_type": "markdown",
      "metadata": {
        "id": "rWDgPJe-ts-L"
      },
      "source": [
        "Las tres primeras componentes acumulan el 70% de la variabilidad total, es decir, están cercanas a cumplir con el primer criterio (>~75%). Además, son las únicas cuyos eigenvalues son superiores a 1 (Criterio de Kaiser)."
      ]
    },
    {
      "cell_type": "code",
      "execution_count": null,
      "metadata": {
        "colab": {
          "base_uri": "https://localhost:8080/",
          "height": 472
        },
        "id": "UDJLQKNYts-L",
        "outputId": "84b434d8-0d77-4e1d-f765-873877e6fb87"
      },
      "outputs": [
        {
          "data": {
            "image/png": "[encoded data removed]",
            "text/plain": [
              "<Figure size 640x480 with 1 Axes>"
            ]
          },
          "metadata": {},
          "output_type": "display_data"
        }
      ],
      "source": [
        "PC_values = np.arange(pca.n_components_) + 1\n",
        "plt.plot(PC_values, pca.explained_variance_ratio_, 'o-', linewidth=2, color='steelblue')\n",
        "plt.title('Scree Plot')\n",
        "plt.xlabel('Componentes principales')\n",
        "plt.ylabel('Proporción de variancia explicada')\n",
        "plt.show()"
      ]
    },
    {
      "cell_type": "markdown",
      "metadata": {
        "id": "mMXWMCMtts-L"
      },
      "source": [
        "Al observar el gráfico del codo, vemos que el quiebre parece producirse entre la segunda y tercera componente. Considerando la primera y la segunda componentes llegaríamos a un ~60% de la variabilidad total, por lo que consideramos óptimo tomar hasta la tercera componente."
      ]
    },
    {
      "cell_type": "markdown",
      "metadata": {
        "id": "1nOQPfkbe0BG"
      },
      "source": [
        "### Matriz de correlación de PC seleccionados"
      ]
    },
    {
      "cell_type": "code",
      "execution_count": null,
      "metadata": {
        "colab": {
          "base_uri": "https://localhost:8080/",
          "height": 450
        },
        "id": "C2NhPnqJe3O2",
        "outputId": "5d7b3b83-d5f0-4ee2-8164-f74d88beb0d8"
      },
      "outputs": [
        {
          "data": {
            "image/png": "[encoded data removed]",
            "text/plain": [
              "<Figure size 640x480 with 2 Axes>"
            ]
          },
          "metadata": {},
          "output_type": "display_data"
        }
      ],
      "source": [
        "corr = pca_df[['PC1', 'PC2', 'PC3']].corr()\n",
        "ax = sns.heatmap(\n",
        "    corr,\n",
        "    vmin=-1, vmax=1, center=0,\n",
        "    cmap=sns.diverging_palette(20, 220, n=200),\n",
        "    square=True,\n",
        "    annot = True,\n",
        "    annot_kws = {'size': 6}\n",
        ")\n",
        "ax.set_xticklabels(\n",
        "    ax.get_xticklabels(),\n",
        "    rotation=45,\n",
        "    horizontalalignment='right'\n",
        ")\n",
        "plt.show()"
      ]
    },
    {
      "cell_type": "markdown",
      "metadata": {
        "id": "2WENAqLie8hf"
      },
      "source": [
        "### Scatter plots"
      ]
    },
    {
      "cell_type": "code",
      "execution_count": null,
      "metadata": {
        "colab": {
          "base_uri": "https://localhost:8080/"
        },
        "id": "Fpn29dxCBgii",
        "outputId": "9dae28c8-2b72-428f-d175-a03442cff597"
      },
      "outputs": [
        {
          "data": {
            "text/plain": [
              "['X1', 'X2', 'X3', 'X4', 'X5', 'X6', 'X7', 'X8', 'X9', 'X10', 'X11', 'X12']"
            ]
          },
          "execution_count": 21,
          "metadata": {},
          "output_type": "execute_result"
        }
      ],
      "source": [
        "df.drop(columns=['Comunidad']).columns.to_list()"
      ]
    },
    {
      "cell_type": "code",
      "execution_count": 70,
      "metadata": {
        "colab": {
          "base_uri": "https://localhost:8080/",
          "height": 1000
        },
        "id": "jBIzi18pBKEY",
        "outputId": "a3e2c8e8-c2d9-492c-cf49-44b303382576"
      },
      "outputs": [
        {
          "data": {
            "application/vnd.plotly.v1+json": {
              "config": {
                "plotlyServerURL": "https://plot.ly"
              },
              "data": [
                {
                  "hovertemplate": "Comunidad=Madrid<br>0=%{x}<br>1=%{y}<extra></extra>",
                  "legendgroup": "Madrid",
                  "marker": {
                    "color": "#1f77b4",
                    "symbol": "circle"
                  },
                  "mode": "markers",
                  "name": "Madrid",
                  "orientation": "v",
                  "showlegend": true,
                  "type": "scatter",
                  "x": [
                    4.233298324222592
                  ],
                  "xaxis": "x",
                  "y": [
                    -0.5232936321568182
                  ],
                  "yaxis": "y"
                },
                {
                  "hovertemplate": "Comunidad=Andalusia<br>0=%{x}<br>1=%{y}<extra></extra>",
                  "legendgroup": "Andalusia",
                  "marker": {
                    "color": "#aec7e8",
                    "symbol": "circle"
                  },
                  "mode": "markers",
                  "name": "Andalusia",
                  "orientation": "v",
                  "showlegend": true,
                  "type": "scatter",
                  "x": [
                    -1.1898997358921213
                  ],
                  "xaxis": "x",
                  "y": [
                    -1.280105995286646
                  ],
                  "yaxis": "y"
                },
                {
                  "hovertemplate": "Comunidad=Aragon<br>0=%{x}<br>1=%{y}<extra></extra>",
                  "legendgroup": "Aragon",
                  "marker": {
                    "color": "#ff7f0e",
                    "symbol": "circle"
                  },
                  "mode": "markers",
                  "name": "Aragon",
                  "orientation": "v",
                  "showlegend": true,
                  "type": "scatter",
                  "x": [
                    0.5696576630299397
                  ],
                  "xaxis": "x",
                  "y": [
                    0.2231072607269705
                  ],
                  "yaxis": "y"
                },
                {
                  "hovertemplate": "Comunidad=Asturias<br>0=%{x}<br>1=%{y}<extra></extra>",
                  "legendgroup": "Asturias",
                  "marker": {
                    "color": "#ffbb78",
                    "symbol": "circle"
                  },
                  "mode": "markers",
                  "name": "Asturias",
                  "orientation": "v",
                  "showlegend": true,
                  "type": "scatter",
                  "x": [
                    -1.7634351062822047
                  ],
                  "xaxis": "x",
                  "y": [
                    0.7509664654721598
                  ],
                  "yaxis": "y"
                },
                {
                  "hovertemplate": "Comunidad=Balearic Islands<br>0=%{x}<br>1=%{y}<extra></extra>",
                  "legendgroup": "Balearic Islands",
                  "marker": {
                    "color": "#2ca02c",
                    "symbol": "circle"
                  },
                  "mode": "markers",
                  "name": "Balearic Islands",
                  "orientation": "v",
                  "showlegend": true,
                  "type": "scatter",
                  "x": [
                    0.6675464322082865
                  ],
                  "xaxis": "x",
                  "y": [
                    -2.2360118685816746
                  ],
                  "yaxis": "y"
                },
                {
                  "hovertemplate": "Comunidad=Canary Islands<br>0=%{x}<br>1=%{y}<extra></extra>",
                  "legendgroup": "Canary Islands",
                  "marker": {
                    "color": "#98df8a",
                    "symbol": "circle"
                  },
                  "mode": "markers",
                  "name": "Canary Islands",
                  "orientation": "v",
                  "showlegend": true,
                  "type": "scatter",
                  "x": [
                    -2.6292285388678285
                  ],
                  "xaxis": "x",
                  "y": [
                    -0.2660129532379744
                  ],
                  "yaxis": "y"
                },
                {
                  "hovertemplate": "Comunidad=Cantabria<br>0=%{x}<br>1=%{y}<extra></extra>",
                  "legendgroup": "Cantabria",
                  "marker": {
                    "color": "#d62728",
                    "symbol": "circle"
                  },
                  "mode": "markers",
                  "name": "Cantabria",
                  "orientation": "v",
                  "showlegend": true,
                  "type": "scatter",
                  "x": [
                    -1.9724742249594567
                  ],
                  "xaxis": "x",
                  "y": [
                    0.1069999868403283
                  ],
                  "yaxis": "y"
                },
                {
                  "hovertemplate": "Comunidad=Castile and Leon<br>0=%{x}<br>1=%{y}<extra></extra>",
                  "legendgroup": "Castile and Leon",
                  "marker": {
                    "color": "#ff9896",
                    "symbol": "circle"
                  },
                  "mode": "markers",
                  "name": "Castile and Leon",
                  "orientation": "v",
                  "showlegend": true,
                  "type": "scatter",
                  "x": [
                    -1.3196463147335071
                  ],
                  "xaxis": "x",
                  "y": [
                    -0.9205446968729105
                  ],
                  "yaxis": "y"
                },
                {
                  "hovertemplate": "Comunidad=Castile-La Mancha<br>0=%{x}<br>1=%{y}<extra></extra>",
                  "legendgroup": "Castile-La Mancha",
                  "marker": {
                    "color": "#9467bd",
                    "symbol": "circle"
                  },
                  "mode": "markers",
                  "name": "Castile-La Mancha",
                  "orientation": "v",
                  "showlegend": true,
                  "type": "scatter",
                  "x": [
                    -4.011530467444004
                  ],
                  "xaxis": "x",
                  "y": [
                    0.7589964990637034
                  ],
                  "yaxis": "y"
                },
                {
                  "hovertemplate": "Comunidad=Catalonia<br>0=%{x}<br>1=%{y}<extra></extra>",
                  "legendgroup": "Catalonia",
                  "marker": {
                    "color": "#8c564b",
                    "symbol": "circle"
                  },
                  "mode": "markers",
                  "name": "Catalonia",
                  "orientation": "v",
                  "showlegend": true,
                  "type": "scatter",
                  "x": [
                    2.3153539958135276
                  ],
                  "xaxis": "x",
                  "y": [
                    0.1559820958173836
                  ],
                  "yaxis": "y"
                },
                {
                  "hovertemplate": "Comunidad=Valencia<br>0=%{x}<br>1=%{y}<extra></extra>",
                  "legendgroup": "Valencia",
                  "marker": {
                    "color": "#c49c94",
                    "symbol": "circle"
                  },
                  "mode": "markers",
                  "name": "Valencia",
                  "orientation": "v",
                  "showlegend": true,
                  "type": "scatter",
                  "x": [
                    -0.11667355203927018
                  ],
                  "xaxis": "x",
                  "y": [
                    -1.007611658875563
                  ],
                  "yaxis": "y"
                },
                {
                  "hovertemplate": "Comunidad=Extremadura<br>0=%{x}<br>1=%{y}<extra></extra>",
                  "legendgroup": "Extremadura",
                  "marker": {
                    "color": "#e377c2",
                    "symbol": "circle"
                  },
                  "mode": "markers",
                  "name": "Extremadura",
                  "orientation": "v",
                  "showlegend": true,
                  "type": "scatter",
                  "x": [
                    -2.788057194549488
                  ],
                  "xaxis": "x",
                  "y": [
                    0.08715302501140816
                  ],
                  "yaxis": "y"
                },
                {
                  "hovertemplate": "Comunidad=Galicia<br>0=%{x}<br>1=%{y}<extra></extra>",
                  "legendgroup": "Galicia",
                  "marker": {
                    "color": "#f7b6d2",
                    "symbol": "circle"
                  },
                  "mode": "markers",
                  "name": "Galicia",
                  "orientation": "v",
                  "showlegend": true,
                  "type": "scatter",
                  "x": [
                    0.25338830410147645
                  ],
                  "xaxis": "x",
                  "y": [
                    -1.9575293308934776
                  ],
                  "yaxis": "y"
                },
                {
                  "hovertemplate": "Comunidad=Murcia<br>0=%{x}<br>1=%{y}<extra></extra>",
                  "legendgroup": "Murcia",
                  "marker": {
                    "color": "#7f7f7f",
                    "symbol": "circle"
                  },
                  "mode": "markers",
                  "name": "Murcia",
                  "orientation": "v",
                  "showlegend": true,
                  "type": "scatter",
                  "x": [
                    -0.5978080802997285
                  ],
                  "xaxis": "x",
                  "y": [
                    -1.2770986388266474
                  ],
                  "yaxis": "y"
                },
                {
                  "hovertemplate": "Comunidad=Navarre<br>0=%{x}<br>1=%{y}<extra></extra>",
                  "legendgroup": "Navarre",
                  "marker": {
                    "color": "#c7c7c7",
                    "symbol": "circle"
                  },
                  "mode": "markers",
                  "name": "Navarre",
                  "orientation": "v",
                  "showlegend": true,
                  "type": "scatter",
                  "x": [
                    4.231900740199777
                  ],
                  "xaxis": "x",
                  "y": [
                    0.015962288812841303
                  ],
                  "yaxis": "y"
                },
                {
                  "hovertemplate": "Comunidad=Basque Country<br>0=%{x}<br>1=%{y}<extra></extra>",
                  "legendgroup": "Basque Country",
                  "marker": {
                    "color": "#bcbd22",
                    "symbol": "circle"
                  },
                  "mode": "markers",
                  "name": "Basque Country",
                  "orientation": "v",
                  "showlegend": true,
                  "type": "scatter",
                  "x": [
                    2.97583646109325
                  ],
                  "xaxis": "x",
                  "y": [
                    -0.14584131424398836
                  ],
                  "yaxis": "y"
                },
                {
                  "hovertemplate": "Comunidad=La Rioja<br>0=%{x}<br>1=%{y}<extra></extra>",
                  "legendgroup": "La Rioja",
                  "marker": {
                    "color": "#dbdb8d",
                    "symbol": "circle"
                  },
                  "mode": "markers",
                  "name": "La Rioja",
                  "orientation": "v",
                  "showlegend": true,
                  "type": "scatter",
                  "x": [
                    -0.8832344627099097
                  ],
                  "xaxis": "x",
                  "y": [
                    1.9190652547201688
                  ],
                  "yaxis": "y"
                },
                {
                  "hovertemplate": "Comunidad=Ceuta<br>0=%{x}<br>1=%{y}<extra></extra>",
                  "legendgroup": "Ceuta",
                  "marker": {
                    "color": "#17becf",
                    "symbol": "circle"
                  },
                  "mode": "markers",
                  "name": "Ceuta",
                  "orientation": "v",
                  "showlegend": true,
                  "type": "scatter",
                  "x": [
                    2.819158498719235
                  ],
                  "xaxis": "x",
                  "y": [
                    2.9683777014097115
                  ],
                  "yaxis": "y"
                },
                {
                  "hovertemplate": "Comunidad=Melilla<br>0=%{x}<br>1=%{y}<extra></extra>",
                  "legendgroup": "Melilla",
                  "marker": {
                    "color": "#9edae5",
                    "symbol": "circle"
                  },
                  "mode": "markers",
                  "name": "Melilla",
                  "orientation": "v",
                  "showlegend": true,
                  "type": "scatter",
                  "x": [
                    -0.794152741610564
                  ],
                  "xaxis": "x",
                  "y": [
                    2.627439511101023
                  ],
                  "yaxis": "y"
                }
              ],
              "layout": {
                "legend": {
                  "title": {
                    "text": "Comunidad"
                  },
                  "tracegroupgap": 0
                },
                "template": {
                  "data": {
                    "bar": [
                      {
                        "error_x": {
                          "color": "#2a3f5f"
                        },
                        "error_y": {
                          "color": "#2a3f5f"
                        },
                        "marker": {
                          "line": {
                            "color": "#E5ECF6",
                            "width": 0.5
                          },
                          "pattern": {
                            "fillmode": "overlay",
                            "size": 10,
                            "solidity": 0.2
                          }
                        },
                        "type": "bar"
                      }
                    ],
                    "barpolar": [
                      {
                        "marker": {
                          "line": {
                            "color": "#E5ECF6",
                            "width": 0.5
                          },
                          "pattern": {
                            "fillmode": "overlay",
                            "size": 10,
                            "solidity": 0.2
                          }
                        },
                        "type": "barpolar"
                      }
                    ],
                    "carpet": [
                      {
                        "aaxis": {
                          "endlinecolor": "#2a3f5f",
                          "gridcolor": "white",
                          "linecolor": "white",
                          "minorgridcolor": "white",
                          "startlinecolor": "#2a3f5f"
                        },
                        "baxis": {
                          "endlinecolor": "#2a3f5f",
                          "gridcolor": "white",
                          "linecolor": "white",
                          "minorgridcolor": "white",
                          "startlinecolor": "#2a3f5f"
                        },
                        "type": "carpet"
                      }
                    ],
                    "choropleth": [
                      {
                        "colorbar": {
                          "outlinewidth": 0,
                          "ticks": ""
                        },
                        "type": "choropleth"
                      }
                    ],
                    "contour": [
                      {
                        "colorbar": {
                          "outlinewidth": 0,
                          "ticks": ""
                        },
                        "colorscale": [
                          [
                            0,
                            "#0d0887"
                          ],
                          [
                            0.1111111111111111,
                            "#46039f"
                          ],
                          [
                            0.2222222222222222,
                            "#7201a8"
                          ],
                          [
                            0.3333333333333333,
                            "#9c179e"
                          ],
                          [
                            0.4444444444444444,
                            "#bd3786"
                          ],
                          [
                            0.5555555555555556,
                            "#d8576b"
                          ],
                          [
                            0.6666666666666666,
                            "#ed7953"
                          ],
                          [
                            0.7777777777777778,
                            "#fb9f3a"
                          ],
                          [
                            0.8888888888888888,
                            "#fdca26"
                          ],
                          [
                            1,
                            "#f0f921"
                          ]
                        ],
                        "type": "contour"
                      }
                    ],
                    "contourcarpet": [
                      {
                        "colorbar": {
                          "outlinewidth": 0,
                          "ticks": ""
                        },
                        "type": "contourcarpet"
                      }
                    ],
                    "heatmap": [
                      {
                        "colorbar": {
                          "outlinewidth": 0,
                          "ticks": ""
                        },
                        "colorscale": [
                          [
                            0,
                            "#0d0887"
                          ],
                          [
                            0.1111111111111111,
                            "#46039f"
                          ],
                          [
                            0.2222222222222222,
                            "#7201a8"
                          ],
                          [
                            0.3333333333333333,
                            "#9c179e"
                          ],
                          [
                            0.4444444444444444,
                            "#bd3786"
                          ],
                          [
                            0.5555555555555556,
                            "#d8576b"
                          ],
                          [
                            0.6666666666666666,
                            "#ed7953"
                          ],
                          [
                            0.7777777777777778,
                            "#fb9f3a"
                          ],
                          [
                            0.8888888888888888,
                            "#fdca26"
                          ],
                          [
                            1,
                            "#f0f921"
                          ]
                        ],
                        "type": "heatmap"
                      }
                    ],
                    "heatmapgl": [
                      {
                        "colorbar": {
                          "outlinewidth": 0,
                          "ticks": ""
                        },
                        "colorscale": [
                          [
                            0,
                            "#0d0887"
                          ],
                          [
                            0.1111111111111111,
                            "#46039f"
                          ],
                          [
                            0.2222222222222222,
                            "#7201a8"
                          ],
                          [
                            0.3333333333333333,
                            "#9c179e"
                          ],
                          [
                            0.4444444444444444,
                            "#bd3786"
                          ],
                          [
                            0.5555555555555556,
                            "#d8576b"
                          ],
                          [
                            0.6666666666666666,
                            "#ed7953"
                          ],
                          [
                            0.7777777777777778,
                            "#fb9f3a"
                          ],
                          [
                            0.8888888888888888,
                            "#fdca26"
                          ],
                          [
                            1,
                            "#f0f921"
                          ]
                        ],
                        "type": "heatmapgl"
                      }
                    ],
                    "histogram": [
                      {
                        "marker": {
                          "pattern": {
                            "fillmode": "overlay",
                            "size": 10,
                            "solidity": 0.2
                          }
                        },
                        "type": "histogram"
                      }
                    ],
                    "histogram2d": [
                      {
                        "colorbar": {
                          "outlinewidth": 0,
                          "ticks": ""
                        },
                        "colorscale": [
                          [
                            0,
                            "#0d0887"
                          ],
                          [
                            0.1111111111111111,
                            "#46039f"
                          ],
                          [
                            0.2222222222222222,
                            "#7201a8"
                          ],
                          [
                            0.3333333333333333,
                            "#9c179e"
                          ],
                          [
                            0.4444444444444444,
                            "#bd3786"
                          ],
                          [
                            0.5555555555555556,
                            "#d8576b"
                          ],
                          [
                            0.6666666666666666,
                            "#ed7953"
                          ],
                          [
                            0.7777777777777778,
                            "#fb9f3a"
                          ],
                          [
                            0.8888888888888888,
                            "#fdca26"
                          ],
                          [
                            1,
                            "#f0f921"
                          ]
                        ],
                        "type": "histogram2d"
                      }
                    ],
                    "histogram2dcontour": [
                      {
                        "colorbar": {
                          "outlinewidth": 0,
                          "ticks": ""
                        },
                        "colorscale": [
                          [
                            0,
                            "#0d0887"
                          ],
                          [
                            0.1111111111111111,
                            "#46039f"
                          ],
                          [
                            0.2222222222222222,
                            "#7201a8"
                          ],
                          [
                            0.3333333333333333,
                            "#9c179e"
                          ],
                          [
                            0.4444444444444444,
                            "#bd3786"
                          ],
                          [
                            0.5555555555555556,
                            "#d8576b"
                          ],
                          [
                            0.6666666666666666,
                            "#ed7953"
                          ],
                          [
                            0.7777777777777778,
                            "#fb9f3a"
                          ],
                          [
                            0.8888888888888888,
                            "#fdca26"
                          ],
                          [
                            1,
                            "#f0f921"
                          ]
                        ],
                        "type": "histogram2dcontour"
                      }
                    ],
                    "mesh3d": [
                      {
                        "colorbar": {
                          "outlinewidth": 0,
                          "ticks": ""
                        },
                        "type": "mesh3d"
                      }
                    ],
                    "parcoords": [
                      {
                        "line": {
                          "colorbar": {
                            "outlinewidth": 0,
                            "ticks": ""
                          }
                        },
                        "type": "parcoords"
                      }
                    ],
                    "pie": [
                      {
                        "automargin": true,
                        "type": "pie"
                      }
                    ],
                    "scatter": [
                      {
                        "fillpattern": {
                          "fillmode": "overlay",
                          "size": 10,
                          "solidity": 0.2
                        },
                        "type": "scatter"
                      }
                    ],
                    "scatter3d": [
                      {
                        "line": {
                          "colorbar": {
                            "outlinewidth": 0,
                            "ticks": ""
                          }
                        },
                        "marker": {
                          "colorbar": {
                            "outlinewidth": 0,
                            "ticks": ""
                          }
                        },
                        "type": "scatter3d"
                      }
                    ],
                    "scattercarpet": [
                      {
                        "marker": {
                          "colorbar": {
                            "outlinewidth": 0,
                            "ticks": ""
                          }
                        },
                        "type": "scattercarpet"
                      }
                    ],
                    "scattergeo": [
                      {
                        "marker": {
                          "colorbar": {
                            "outlinewidth": 0,
                            "ticks": ""
                          }
                        },
                        "type": "scattergeo"
                      }
                    ],
                    "scattergl": [
                      {
                        "marker": {
                          "colorbar": {
                            "outlinewidth": 0,
                            "ticks": ""
                          }
                        },
                        "type": "scattergl"
                      }
                    ],
                    "scattermapbox": [
                      {
                        "marker": {
                          "colorbar": {
                            "outlinewidth": 0,
                            "ticks": ""
                          }
                        },
                        "type": "scattermapbox"
                      }
                    ],
                    "scatterpolar": [
                      {
                        "marker": {
                          "colorbar": {
                            "outlinewidth": 0,
                            "ticks": ""
                          }
                        },
                        "type": "scatterpolar"
                      }
                    ],
                    "scatterpolargl": [
                      {
                        "marker": {
                          "colorbar": {
                            "outlinewidth": 0,
                            "ticks": ""
                          }
                        },
                        "type": "scatterpolargl"
                      }
                    ],
                    "scatterternary": [
                      {
                        "marker": {
                          "colorbar": {
                            "outlinewidth": 0,
                            "ticks": ""
                          }
                        },
                        "type": "scatterternary"
                      }
                    ],
                    "surface": [
                      {
                        "colorbar": {
                          "outlinewidth": 0,
                          "ticks": ""
                        },
                        "colorscale": [
                          [
                            0,
                            "#0d0887"
                          ],
                          [
                            0.1111111111111111,
                            "#46039f"
                          ],
                          [
                            0.2222222222222222,
                            "#7201a8"
                          ],
                          [
                            0.3333333333333333,
                            "#9c179e"
                          ],
                          [
                            0.4444444444444444,
                            "#bd3786"
                          ],
                          [
                            0.5555555555555556,
                            "#d8576b"
                          ],
                          [
                            0.6666666666666666,
                            "#ed7953"
                          ],
                          [
                            0.7777777777777778,
                            "#fb9f3a"
                          ],
                          [
                            0.8888888888888888,
                            "#fdca26"
                          ],
                          [
                            1,
                            "#f0f921"
                          ]
                        ],
                        "type": "surface"
                      }
                    ],
                    "table": [
                      {
                        "cells": {
                          "fill": {
                            "color": "#EBF0F8"
                          },
                          "line": {
                            "color": "white"
                          }
                        },
                        "header": {
                          "fill": {
                            "color": "#C8D4E3"
                          },
                          "line": {
                            "color": "white"
                          }
                        },
                        "type": "table"
                      }
                    ]
                  },
                  "layout": {
                    "annotationdefaults": {
                      "arrowcolor": "#2a3f5f",
                      "arrowhead": 0,
                      "arrowwidth": 1
                    },
                    "autotypenumbers": "strict",
                    "coloraxis": {
                      "colorbar": {
                        "outlinewidth": 0,
                        "ticks": ""
                      }
                    },
                    "colorscale": {
                      "diverging": [
                        [
                          0,
                          "#8e0152"
                        ],
                        [
                          0.1,
                          "#c51b7d"
                        ],
                        [
                          0.2,
                          "#de77ae"
                        ],
                        [
                          0.3,
                          "#f1b6da"
                        ],
                        [
                          0.4,
                          "#fde0ef"
                        ],
                        [
                          0.5,
                          "#f7f7f7"
                        ],
                        [
                          0.6,
                          "#e6f5d0"
                        ],
                        [
                          0.7,
                          "#b8e186"
                        ],
                        [
                          0.8,
                          "#7fbc41"
                        ],
                        [
                          0.9,
                          "#4d9221"
                        ],
                        [
                          1,
                          "#276419"
                        ]
                      ],
                      "sequential": [
                        [
                          0,
                          "#0d0887"
                        ],
                        [
                          0.1111111111111111,
                          "#46039f"
                        ],
                        [
                          0.2222222222222222,
                          "#7201a8"
                        ],
                        [
                          0.3333333333333333,
                          "#9c179e"
                        ],
                        [
                          0.4444444444444444,
                          "#bd3786"
                        ],
                        [
                          0.5555555555555556,
                          "#d8576b"
                        ],
                        [
                          0.6666666666666666,
                          "#ed7953"
                        ],
                        [
                          0.7777777777777778,
                          "#fb9f3a"
                        ],
                        [
                          0.8888888888888888,
                          "#fdca26"
                        ],
                        [
                          1,
                          "#f0f921"
                        ]
                      ],
                      "sequentialminus": [
                        [
                          0,
                          "#0d0887"
                        ],
                        [
                          0.1111111111111111,
                          "#46039f"
                        ],
                        [
                          0.2222222222222222,
                          "#7201a8"
                        ],
                        [
                          0.3333333333333333,
                          "#9c179e"
                        ],
                        [
                          0.4444444444444444,
                          "#bd3786"
                        ],
                        [
                          0.5555555555555556,
                          "#d8576b"
                        ],
                        [
                          0.6666666666666666,
                          "#ed7953"
                        ],
                        [
                          0.7777777777777778,
                          "#fb9f3a"
                        ],
                        [
                          0.8888888888888888,
                          "#fdca26"
                        ],
                        [
                          1,
                          "#f0f921"
                        ]
                      ]
                    },
                    "colorway": [
                      "#636efa",
                      "#EF553B",
                      "#00cc96",
                      "#ab63fa",
                      "#FFA15A",
                      "#19d3f3",
                      "#FF6692",
                      "#B6E880",
                      "#FF97FF",
                      "#FECB52"
                    ],
                    "font": {
                      "color": "#2a3f5f"
                    },
                    "geo": {
                      "bgcolor": "white",
                      "lakecolor": "white",
                      "landcolor": "#E5ECF6",
                      "showlakes": true,
                      "showland": true,
                      "subunitcolor": "white"
                    },
                    "hoverlabel": {
                      "align": "left"
                    },
                    "hovermode": "closest",
                    "mapbox": {
                      "style": "light"
                    },
                    "paper_bgcolor": "white",
                    "plot_bgcolor": "#E5ECF6",
                    "polar": {
                      "angularaxis": {
                        "gridcolor": "white",
                        "linecolor": "white",
                        "ticks": ""
                      },
                      "bgcolor": "#E5ECF6",
                      "radialaxis": {
                        "gridcolor": "white",
                        "linecolor": "white",
                        "ticks": ""
                      }
                    },
                    "scene": {
                      "xaxis": {
                        "backgroundcolor": "#E5ECF6",
                        "gridcolor": "white",
                        "gridwidth": 2,
                        "linecolor": "white",
                        "showbackground": true,
                        "ticks": "",
                        "zerolinecolor": "white"
                      },
                      "yaxis": {
                        "backgroundcolor": "#E5ECF6",
                        "gridcolor": "white",
                        "gridwidth": 2,
                        "linecolor": "white",
                        "showbackground": true,
                        "ticks": "",
                        "zerolinecolor": "white"
                      },
                      "zaxis": {
                        "backgroundcolor": "#E5ECF6",
                        "gridcolor": "white",
                        "gridwidth": 2,
                        "linecolor": "white",
                        "showbackground": true,
                        "ticks": "",
                        "zerolinecolor": "white"
                      }
                    },
                    "shapedefaults": {
                      "line": {
                        "color": "#2a3f5f"
                      }
                    },
                    "ternary": {
                      "aaxis": {
                        "gridcolor": "white",
                        "linecolor": "white",
                        "ticks": ""
                      },
                      "baxis": {
                        "gridcolor": "white",
                        "linecolor": "white",
                        "ticks": ""
                      },
                      "bgcolor": "#E5ECF6",
                      "caxis": {
                        "gridcolor": "white",
                        "linecolor": "white",
                        "ticks": ""
                      }
                    },
                    "title": {
                      "x": 0.05
                    },
                    "xaxis": {
                      "automargin": true,
                      "gridcolor": "white",
                      "linecolor": "white",
                      "ticks": "",
                      "title": {
                        "standoff": 15
                      },
                      "zerolinecolor": "white",
                      "zerolinewidth": 2
                    },
                    "yaxis": {
                      "automargin": true,
                      "gridcolor": "white",
                      "linecolor": "white",
                      "ticks": "",
                      "title": {
                        "standoff": 15
                      },
                      "zerolinecolor": "white",
                      "zerolinewidth": 2
                    }
                  }
                },
                "title": {
                  "text": "Distribución de las comunidades en 2 dimensiones"
                },
                "xaxis": {
                  "anchor": "y",
                  "domain": [
                    0,
                    1
                  ],
                  "title": {
                    "text": "0"
                  }
                },
                "yaxis": {
                  "anchor": "x",
                  "domain": [
                    0,
                    1
                  ],
                  "title": {
                    "text": "1"
                  }
                }
              }
            }
          },
          "metadata": {},
          "output_type": "display_data"
        },
        {
          "data": {
            "application/vnd.plotly.v1+json": {
              "config": {
                "plotlyServerURL": "https://plot.ly"
              },
              "data": [
                {
                  "hovertemplate": "Comunidad=Madrid<br>0=%{x}<br>1=%{y}<br>2=%{z}<extra></extra>",
                  "legendgroup": "Madrid",
                  "marker": {
                    "color": "#1f77b4",
                    "symbol": "circle"
                  },
                  "mode": "markers",
                  "name": "Madrid",
                  "scene": "scene",
                  "showlegend": true,
                  "type": "scatter3d",
                  "x": [
                    4.233298324222592
                  ],
                  "y": [
                    -0.5232936321568182
                  ],
                  "z": [
                    0.8006589128932496
                  ]
                },
                {
                  "hovertemplate": "Comunidad=Andalusia<br>0=%{x}<br>1=%{y}<br>2=%{z}<extra></extra>",
                  "legendgroup": "Andalusia",
                  "marker": {
                    "color": "#aec7e8",
                    "symbol": "circle"
                  },
                  "mode": "markers",
                  "name": "Andalusia",
                  "scene": "scene",
                  "showlegend": true,
                  "type": "scatter3d",
                  "x": [
                    -1.1898997358921213
                  ],
                  "y": [
                    -1.280105995286646
                  ],
                  "z": [
                    -1.2102732710245379
                  ]
                },
                {
                  "hovertemplate": "Comunidad=Aragon<br>0=%{x}<br>1=%{y}<br>2=%{z}<extra></extra>",
                  "legendgroup": "Aragon",
                  "marker": {
                    "color": "#ff7f0e",
                    "symbol": "circle"
                  },
                  "mode": "markers",
                  "name": "Aragon",
                  "scene": "scene",
                  "showlegend": true,
                  "type": "scatter3d",
                  "x": [
                    0.5696576630299397
                  ],
                  "y": [
                    0.2231072607269705
                  ],
                  "z": [
                    -0.5606461078106633
                  ]
                },
                {
                  "hovertemplate": "Comunidad=Asturias<br>0=%{x}<br>1=%{y}<br>2=%{z}<extra></extra>",
                  "legendgroup": "Asturias",
                  "marker": {
                    "color": "#ffbb78",
                    "symbol": "circle"
                  },
                  "mode": "markers",
                  "name": "Asturias",
                  "scene": "scene",
                  "showlegend": true,
                  "type": "scatter3d",
                  "x": [
                    -1.7634351062822047
                  ],
                  "y": [
                    0.7509664654721598
                  ],
                  "z": [
                    -0.5573752772436656
                  ]
                },
                {
                  "hovertemplate": "Comunidad=Balearic Islands<br>0=%{x}<br>1=%{y}<br>2=%{z}<extra></extra>",
                  "legendgroup": "Balearic Islands",
                  "marker": {
                    "color": "#2ca02c",
                    "symbol": "circle"
                  },
                  "mode": "markers",
                  "name": "Balearic Islands",
                  "scene": "scene",
                  "showlegend": true,
                  "type": "scatter3d",
                  "x": [
                    0.6675464322082865
                  ],
                  "y": [
                    -2.2360118685816746
                  ],
                  "z": [
                    2.219117009128058
                  ]
                },
                {
                  "hovertemplate": "Comunidad=Canary Islands<br>0=%{x}<br>1=%{y}<br>2=%{z}<extra></extra>",
                  "legendgroup": "Canary Islands",
                  "marker": {
                    "color": "#98df8a",
                    "symbol": "circle"
                  },
                  "mode": "markers",
                  "name": "Canary Islands",
                  "scene": "scene",
                  "showlegend": true,
                  "type": "scatter3d",
                  "x": [
                    -2.6292285388678285
                  ],
                  "y": [
                    -0.2660129532379744
                  ],
                  "z": [
                    1.9652821354631618
                  ]
                },
                {
                  "hovertemplate": "Comunidad=Cantabria<br>0=%{x}<br>1=%{y}<br>2=%{z}<extra></extra>",
                  "legendgroup": "Cantabria",
                  "marker": {
                    "color": "#d62728",
                    "symbol": "circle"
                  },
                  "mode": "markers",
                  "name": "Cantabria",
                  "scene": "scene",
                  "showlegend": true,
                  "type": "scatter3d",
                  "x": [
                    -1.9724742249594567
                  ],
                  "y": [
                    0.1069999868403283
                  ],
                  "z": [
                    -0.10069473878267261
                  ]
                },
                {
                  "hovertemplate": "Comunidad=Castile and Leon<br>0=%{x}<br>1=%{y}<br>2=%{z}<extra></extra>",
                  "legendgroup": "Castile and Leon",
                  "marker": {
                    "color": "#ff9896",
                    "symbol": "circle"
                  },
                  "mode": "markers",
                  "name": "Castile and Leon",
                  "scene": "scene",
                  "showlegend": true,
                  "type": "scatter3d",
                  "x": [
                    -1.3196463147335071
                  ],
                  "y": [
                    -0.9205446968729105
                  ],
                  "z": [
                    0.2208962395298162
                  ]
                },
                {
                  "hovertemplate": "Comunidad=Castile-La Mancha<br>0=%{x}<br>1=%{y}<br>2=%{z}<extra></extra>",
                  "legendgroup": "Castile-La Mancha",
                  "marker": {
                    "color": "#9467bd",
                    "symbol": "circle"
                  },
                  "mode": "markers",
                  "name": "Castile-La Mancha",
                  "scene": "scene",
                  "showlegend": true,
                  "type": "scatter3d",
                  "x": [
                    -4.011530467444004
                  ],
                  "y": [
                    0.7589964990637034
                  ],
                  "z": [
                    1.1417135745891014
                  ]
                },
                {
                  "hovertemplate": "Comunidad=Catalonia<br>0=%{x}<br>1=%{y}<br>2=%{z}<extra></extra>",
                  "legendgroup": "Catalonia",
                  "marker": {
                    "color": "#8c564b",
                    "symbol": "circle"
                  },
                  "mode": "markers",
                  "name": "Catalonia",
                  "scene": "scene",
                  "showlegend": true,
                  "type": "scatter3d",
                  "x": [
                    2.3153539958135276
                  ],
                  "y": [
                    0.1559820958173836
                  ],
                  "z": [
                    1.4441513389941445
                  ]
                },
                {
                  "hovertemplate": "Comunidad=Valencia<br>0=%{x}<br>1=%{y}<br>2=%{z}<extra></extra>",
                  "legendgroup": "Valencia",
                  "marker": {
                    "color": "#c49c94",
                    "symbol": "circle"
                  },
                  "mode": "markers",
                  "name": "Valencia",
                  "scene": "scene",
                  "showlegend": true,
                  "type": "scatter3d",
                  "x": [
                    -0.11667355203927018
                  ],
                  "y": [
                    -1.007611658875563
                  ],
                  "z": [
                    -1.2628853242557991
                  ]
                },
                {
                  "hovertemplate": "Comunidad=Extremadura<br>0=%{x}<br>1=%{y}<br>2=%{z}<extra></extra>",
                  "legendgroup": "Extremadura",
                  "marker": {
                    "color": "#e377c2",
                    "symbol": "circle"
                  },
                  "mode": "markers",
                  "name": "Extremadura",
                  "scene": "scene",
                  "showlegend": true,
                  "type": "scatter3d",
                  "x": [
                    -2.788057194549488
                  ],
                  "y": [
                    0.08715302501140816
                  ],
                  "z": [
                    -0.02696934029068948
                  ]
                },
                {
                  "hovertemplate": "Comunidad=Galicia<br>0=%{x}<br>1=%{y}<br>2=%{z}<extra></extra>",
                  "legendgroup": "Galicia",
                  "marker": {
                    "color": "#f7b6d2",
                    "symbol": "circle"
                  },
                  "mode": "markers",
                  "name": "Galicia",
                  "scene": "scene",
                  "showlegend": true,
                  "type": "scatter3d",
                  "x": [
                    0.25338830410147645
                  ],
                  "y": [
                    -1.9575293308934776
                  ],
                  "z": [
                    -1.2987795807267277
                  ]
                },
                {
                  "hovertemplate": "Comunidad=Murcia<br>0=%{x}<br>1=%{y}<br>2=%{z}<extra></extra>",
                  "legendgroup": "Murcia",
                  "marker": {
                    "color": "#7f7f7f",
                    "symbol": "circle"
                  },
                  "mode": "markers",
                  "name": "Murcia",
                  "scene": "scene",
                  "showlegend": true,
                  "type": "scatter3d",
                  "x": [
                    -0.5978080802997285
                  ],
                  "y": [
                    -1.2770986388266474
                  ],
                  "z": [
                    -1.812528572380332
                  ]
                },
                {
                  "hovertemplate": "Comunidad=Navarre<br>0=%{x}<br>1=%{y}<br>2=%{z}<extra></extra>",
                  "legendgroup": "Navarre",
                  "marker": {
                    "color": "#c7c7c7",
                    "symbol": "circle"
                  },
                  "mode": "markers",
                  "name": "Navarre",
                  "scene": "scene",
                  "showlegend": true,
                  "type": "scatter3d",
                  "x": [
                    4.231900740199777
                  ],
                  "y": [
                    0.015962288812841303
                  ],
                  "z": [
                    -0.19807196850604952
                  ]
                },
                {
                  "hovertemplate": "Comunidad=Basque Country<br>0=%{x}<br>1=%{y}<br>2=%{z}<extra></extra>",
                  "legendgroup": "Basque Country",
                  "marker": {
                    "color": "#bcbd22",
                    "symbol": "circle"
                  },
                  "mode": "markers",
                  "name": "Basque Country",
                  "scene": "scene",
                  "showlegend": true,
                  "type": "scatter3d",
                  "x": [
                    2.97583646109325
                  ],
                  "y": [
                    -0.14584131424398836
                  ],
                  "z": [
                    0.22770629319142457
                  ]
                },
                {
                  "hovertemplate": "Comunidad=La Rioja<br>0=%{x}<br>1=%{y}<br>2=%{z}<extra></extra>",
                  "legendgroup": "La Rioja",
                  "marker": {
                    "color": "#dbdb8d",
                    "symbol": "circle"
                  },
                  "mode": "markers",
                  "name": "La Rioja",
                  "scene": "scene",
                  "showlegend": true,
                  "type": "scatter3d",
                  "x": [
                    -0.8832344627099097
                  ],
                  "y": [
                    1.9190652547201688
                  ],
                  "z": [
                    -1.0435739079686635
                  ]
                },
                {
                  "hovertemplate": "Comunidad=Ceuta<br>0=%{x}<br>1=%{y}<br>2=%{z}<extra></extra>",
                  "legendgroup": "Ceuta",
                  "marker": {
                    "color": "#17becf",
                    "symbol": "circle"
                  },
                  "mode": "markers",
                  "name": "Ceuta",
                  "scene": "scene",
                  "showlegend": true,
                  "type": "scatter3d",
                  "x": [
                    2.819158498719235
                  ],
                  "y": [
                    2.9683777014097115
                  ],
                  "z": [
                    -0.6018424057660822
                  ]
                },
                {
                  "hovertemplate": "Comunidad=Melilla<br>0=%{x}<br>1=%{y}<br>2=%{z}<extra></extra>",
                  "legendgroup": "Melilla",
                  "marker": {
                    "color": "#9edae5",
                    "symbol": "circle"
                  },
                  "mode": "markers",
                  "name": "Melilla",
                  "scene": "scene",
                  "showlegend": true,
                  "type": "scatter3d",
                  "x": [
                    -0.794152741610564
                  ],
                  "y": [
                    2.627439511101023
                  ],
                  "z": [
                    0.6541149909669279
                  ]
                }
              ],
              "layout": {
                "legend": {
                  "title": {
                    "text": "Comunidad"
                  },
                  "tracegroupgap": 0
                },
                "scene": {
                  "domain": {
                    "x": [
                      0,
                      1
                    ],
                    "y": [
                      0,
                      1
                    ]
                  },
                  "xaxis": {
                    "title": {
                      "text": "0"
                    }
                  },
                  "yaxis": {
                    "title": {
                      "text": "1"
                    }
                  },
                  "zaxis": {
                    "title": {
                      "text": "2"
                    }
                  }
                },
                "template": {
                  "data": {
                    "bar": [
                      {
                        "error_x": {
                          "color": "#2a3f5f"
                        },
                        "error_y": {
                          "color": "#2a3f5f"
                        },
                        "marker": {
                          "line": {
                            "color": "#E5ECF6",
                            "width": 0.5
                          },
                          "pattern": {
                            "fillmode": "overlay",
                            "size": 10,
                            "solidity": 0.2
                          }
                        },
                        "type": "bar"
                      }
                    ],
                    "barpolar": [
                      {
                        "marker": {
                          "line": {
                            "color": "#E5ECF6",
                            "width": 0.5
                          },
                          "pattern": {
                            "fillmode": "overlay",
                            "size": 10,
                            "solidity": 0.2
                          }
                        },
                        "type": "barpolar"
                      }
                    ],
                    "carpet": [
                      {
                        "aaxis": {
                          "endlinecolor": "#2a3f5f",
                          "gridcolor": "white",
                          "linecolor": "white",
                          "minorgridcolor": "white",
                          "startlinecolor": "#2a3f5f"
                        },
                        "baxis": {
                          "endlinecolor": "#2a3f5f",
                          "gridcolor": "white",
                          "linecolor": "white",
                          "minorgridcolor": "white",
                          "startlinecolor": "#2a3f5f"
                        },
                        "type": "carpet"
                      }
                    ],
                    "choropleth": [
                      {
                        "colorbar": {
                          "outlinewidth": 0,
                          "ticks": ""
                        },
                        "type": "choropleth"
                      }
                    ],
                    "contour": [
                      {
                        "colorbar": {
                          "outlinewidth": 0,
                          "ticks": ""
                        },
                        "colorscale": [
                          [
                            0,
                            "#0d0887"
                          ],
                          [
                            0.1111111111111111,
                            "#46039f"
                          ],
                          [
                            0.2222222222222222,
                            "#7201a8"
                          ],
                          [
                            0.3333333333333333,
                            "#9c179e"
                          ],
                          [
                            0.4444444444444444,
                            "#bd3786"
                          ],
                          [
                            0.5555555555555556,
                            "#d8576b"
                          ],
                          [
                            0.6666666666666666,
                            "#ed7953"
                          ],
                          [
                            0.7777777777777778,
                            "#fb9f3a"
                          ],
                          [
                            0.8888888888888888,
                            "#fdca26"
                          ],
                          [
                            1,
                            "#f0f921"
                          ]
                        ],
                        "type": "contour"
                      }
                    ],
                    "contourcarpet": [
                      {
                        "colorbar": {
                          "outlinewidth": 0,
                          "ticks": ""
                        },
                        "type": "contourcarpet"
                      }
                    ],
                    "heatmap": [
                      {
                        "colorbar": {
                          "outlinewidth": 0,
                          "ticks": ""
                        },
                        "colorscale": [
                          [
                            0,
                            "#0d0887"
                          ],
                          [
                            0.1111111111111111,
                            "#46039f"
                          ],
                          [
                            0.2222222222222222,
                            "#7201a8"
                          ],
                          [
                            0.3333333333333333,
                            "#9c179e"
                          ],
                          [
                            0.4444444444444444,
                            "#bd3786"
                          ],
                          [
                            0.5555555555555556,
                            "#d8576b"
                          ],
                          [
                            0.6666666666666666,
                            "#ed7953"
                          ],
                          [
                            0.7777777777777778,
                            "#fb9f3a"
                          ],
                          [
                            0.8888888888888888,
                            "#fdca26"
                          ],
                          [
                            1,
                            "#f0f921"
                          ]
                        ],
                        "type": "heatmap"
                      }
                    ],
                    "heatmapgl": [
                      {
                        "colorbar": {
                          "outlinewidth": 0,
                          "ticks": ""
                        },
                        "colorscale": [
                          [
                            0,
                            "#0d0887"
                          ],
                          [
                            0.1111111111111111,
                            "#46039f"
                          ],
                          [
                            0.2222222222222222,
                            "#7201a8"
                          ],
                          [
                            0.3333333333333333,
                            "#9c179e"
                          ],
                          [
                            0.4444444444444444,
                            "#bd3786"
                          ],
                          [
                            0.5555555555555556,
                            "#d8576b"
                          ],
                          [
                            0.6666666666666666,
                            "#ed7953"
                          ],
                          [
                            0.7777777777777778,
                            "#fb9f3a"
                          ],
                          [
                            0.8888888888888888,
                            "#fdca26"
                          ],
                          [
                            1,
                            "#f0f921"
                          ]
                        ],
                        "type": "heatmapgl"
                      }
                    ],
                    "histogram": [
                      {
                        "marker": {
                          "pattern": {
                            "fillmode": "overlay",
                            "size": 10,
                            "solidity": 0.2
                          }
                        },
                        "type": "histogram"
                      }
                    ],
                    "histogram2d": [
                      {
                        "colorbar": {
                          "outlinewidth": 0,
                          "ticks": ""
                        },
                        "colorscale": [
                          [
                            0,
                            "#0d0887"
                          ],
                          [
                            0.1111111111111111,
                            "#46039f"
                          ],
                          [
                            0.2222222222222222,
                            "#7201a8"
                          ],
                          [
                            0.3333333333333333,
                            "#9c179e"
                          ],
                          [
                            0.4444444444444444,
                            "#bd3786"
                          ],
                          [
                            0.5555555555555556,
                            "#d8576b"
                          ],
                          [
                            0.6666666666666666,
                            "#ed7953"
                          ],
                          [
                            0.7777777777777778,
                            "#fb9f3a"
                          ],
                          [
                            0.8888888888888888,
                            "#fdca26"
                          ],
                          [
                            1,
                            "#f0f921"
                          ]
                        ],
                        "type": "histogram2d"
                      }
                    ],
                    "histogram2dcontour": [
                      {
                        "colorbar": {
                          "outlinewidth": 0,
                          "ticks": ""
                        },
                        "colorscale": [
                          [
                            0,
                            "#0d0887"
                          ],
                          [
                            0.1111111111111111,
                            "#46039f"
                          ],
                          [
                            0.2222222222222222,
                            "#7201a8"
                          ],
                          [
                            0.3333333333333333,
                            "#9c179e"
                          ],
                          [
                            0.4444444444444444,
                            "#bd3786"
                          ],
                          [
                            0.5555555555555556,
                            "#d8576b"
                          ],
                          [
                            0.6666666666666666,
                            "#ed7953"
                          ],
                          [
                            0.7777777777777778,
                            "#fb9f3a"
                          ],
                          [
                            0.8888888888888888,
                            "#fdca26"
                          ],
                          [
                            1,
                            "#f0f921"
                          ]
                        ],
                        "type": "histogram2dcontour"
                      }
                    ],
                    "mesh3d": [
                      {
                        "colorbar": {
                          "outlinewidth": 0,
                          "ticks": ""
                        },
                        "type": "mesh3d"
                      }
                    ],
                    "parcoords": [
                      {
                        "line": {
                          "colorbar": {
                            "outlinewidth": 0,
                            "ticks": ""
                          }
                        },
                        "type": "parcoords"
                      }
                    ],
                    "pie": [
                      {
                        "automargin": true,
                        "type": "pie"
                      }
                    ],
                    "scatter": [
                      {
                        "fillpattern": {
                          "fillmode": "overlay",
                          "size": 10,
                          "solidity": 0.2
                        },
                        "type": "scatter"
                      }
                    ],
                    "scatter3d": [
                      {
                        "line": {
                          "colorbar": {
                            "outlinewidth": 0,
                            "ticks": ""
                          }
                        },
                        "marker": {
                          "colorbar": {
                            "outlinewidth": 0,
                            "ticks": ""
                          }
                        },
                        "type": "scatter3d"
                      }
                    ],
                    "scattercarpet": [
                      {
                        "marker": {
                          "colorbar": {
                            "outlinewidth": 0,
                            "ticks": ""
                          }
                        },
                        "type": "scattercarpet"
                      }
                    ],
                    "scattergeo": [
                      {
                        "marker": {
                          "colorbar": {
                            "outlinewidth": 0,
                            "ticks": ""
                          }
                        },
                        "type": "scattergeo"
                      }
                    ],
                    "scattergl": [
                      {
                        "marker": {
                          "colorbar": {
                            "outlinewidth": 0,
                            "ticks": ""
                          }
                        },
                        "type": "scattergl"
                      }
                    ],
                    "scattermapbox": [
                      {
                        "marker": {
                          "colorbar": {
                            "outlinewidth": 0,
                            "ticks": ""
                          }
                        },
                        "type": "scattermapbox"
                      }
                    ],
                    "scatterpolar": [
                      {
                        "marker": {
                          "colorbar": {
                            "outlinewidth": 0,
                            "ticks": ""
                          }
                        },
                        "type": "scatterpolar"
                      }
                    ],
                    "scatterpolargl": [
                      {
                        "marker": {
                          "colorbar": {
                            "outlinewidth": 0,
                            "ticks": ""
                          }
                        },
                        "type": "scatterpolargl"
                      }
                    ],
                    "scatterternary": [
                      {
                        "marker": {
                          "colorbar": {
                            "outlinewidth": 0,
                            "ticks": ""
                          }
                        },
                        "type": "scatterternary"
                      }
                    ],
                    "surface": [
                      {
                        "colorbar": {
                          "outlinewidth": 0,
                          "ticks": ""
                        },
                        "colorscale": [
                          [
                            0,
                            "#0d0887"
                          ],
                          [
                            0.1111111111111111,
                            "#46039f"
                          ],
                          [
                            0.2222222222222222,
                            "#7201a8"
                          ],
                          [
                            0.3333333333333333,
                            "#9c179e"
                          ],
                          [
                            0.4444444444444444,
                            "#bd3786"
                          ],
                          [
                            0.5555555555555556,
                            "#d8576b"
                          ],
                          [
                            0.6666666666666666,
                            "#ed7953"
                          ],
                          [
                            0.7777777777777778,
                            "#fb9f3a"
                          ],
                          [
                            0.8888888888888888,
                            "#fdca26"
                          ],
                          [
                            1,
                            "#f0f921"
                          ]
                        ],
                        "type": "surface"
                      }
                    ],
                    "table": [
                      {
                        "cells": {
                          "fill": {
                            "color": "#EBF0F8"
                          },
                          "line": {
                            "color": "white"
                          }
                        },
                        "header": {
                          "fill": {
                            "color": "#C8D4E3"
                          },
                          "line": {
                            "color": "white"
                          }
                        },
                        "type": "table"
                      }
                    ]
                  },
                  "layout": {
                    "annotationdefaults": {
                      "arrowcolor": "#2a3f5f",
                      "arrowhead": 0,
                      "arrowwidth": 1
                    },
                    "autotypenumbers": "strict",
                    "coloraxis": {
                      "colorbar": {
                        "outlinewidth": 0,
                        "ticks": ""
                      }
                    },
                    "colorscale": {
                      "diverging": [
                        [
                          0,
                          "#8e0152"
                        ],
                        [
                          0.1,
                          "#c51b7d"
                        ],
                        [
                          0.2,
                          "#de77ae"
                        ],
                        [
                          0.3,
                          "#f1b6da"
                        ],
                        [
                          0.4,
                          "#fde0ef"
                        ],
                        [
                          0.5,
                          "#f7f7f7"
                        ],
                        [
                          0.6,
                          "#e6f5d0"
                        ],
                        [
                          0.7,
                          "#b8e186"
                        ],
                        [
                          0.8,
                          "#7fbc41"
                        ],
                        [
                          0.9,
                          "#4d9221"
                        ],
                        [
                          1,
                          "#276419"
                        ]
                      ],
                      "sequential": [
                        [
                          0,
                          "#0d0887"
                        ],
                        [
                          0.1111111111111111,
                          "#46039f"
                        ],
                        [
                          0.2222222222222222,
                          "#7201a8"
                        ],
                        [
                          0.3333333333333333,
                          "#9c179e"
                        ],
                        [
                          0.4444444444444444,
                          "#bd3786"
                        ],
                        [
                          0.5555555555555556,
                          "#d8576b"
                        ],
                        [
                          0.6666666666666666,
                          "#ed7953"
                        ],
                        [
                          0.7777777777777778,
                          "#fb9f3a"
                        ],
                        [
                          0.8888888888888888,
                          "#fdca26"
                        ],
                        [
                          1,
                          "#f0f921"
                        ]
                      ],
                      "sequentialminus": [
                        [
                          0,
                          "#0d0887"
                        ],
                        [
                          0.1111111111111111,
                          "#46039f"
                        ],
                        [
                          0.2222222222222222,
                          "#7201a8"
                        ],
                        [
                          0.3333333333333333,
                          "#9c179e"
                        ],
                        [
                          0.4444444444444444,
                          "#bd3786"
                        ],
                        [
                          0.5555555555555556,
                          "#d8576b"
                        ],
                        [
                          0.6666666666666666,
                          "#ed7953"
                        ],
                        [
                          0.7777777777777778,
                          "#fb9f3a"
                        ],
                        [
                          0.8888888888888888,
                          "#fdca26"
                        ],
                        [
                          1,
                          "#f0f921"
                        ]
                      ]
                    },
                    "colorway": [
                      "#636efa",
                      "#EF553B",
                      "#00cc96",
                      "#ab63fa",
                      "#FFA15A",
                      "#19d3f3",
                      "#FF6692",
                      "#B6E880",
                      "#FF97FF",
                      "#FECB52"
                    ],
                    "font": {
                      "color": "#2a3f5f"
                    },
                    "geo": {
                      "bgcolor": "white",
                      "lakecolor": "white",
                      "landcolor": "#E5ECF6",
                      "showlakes": true,
                      "showland": true,
                      "subunitcolor": "white"
                    },
                    "hoverlabel": {
                      "align": "left"
                    },
                    "hovermode": "closest",
                    "mapbox": {
                      "style": "light"
                    },
                    "paper_bgcolor": "white",
                    "plot_bgcolor": "#E5ECF6",
                    "polar": {
                      "angularaxis": {
                        "gridcolor": "white",
                        "linecolor": "white",
                        "ticks": ""
                      },
                      "bgcolor": "#E5ECF6",
                      "radialaxis": {
                        "gridcolor": "white",
                        "linecolor": "white",
                        "ticks": ""
                      }
                    },
                    "scene": {
                      "xaxis": {
                        "backgroundcolor": "#E5ECF6",
                        "gridcolor": "white",
                        "gridwidth": 2,
                        "linecolor": "white",
                        "showbackground": true,
                        "ticks": "",
                        "zerolinecolor": "white"
                      },
                      "yaxis": {
                        "backgroundcolor": "#E5ECF6",
                        "gridcolor": "white",
                        "gridwidth": 2,
                        "linecolor": "white",
                        "showbackground": true,
                        "ticks": "",
                        "zerolinecolor": "white"
                      },
                      "zaxis": {
                        "backgroundcolor": "#E5ECF6",
                        "gridcolor": "white",
                        "gridwidth": 2,
                        "linecolor": "white",
                        "showbackground": true,
                        "ticks": "",
                        "zerolinecolor": "white"
                      }
                    },
                    "shapedefaults": {
                      "line": {
                        "color": "#2a3f5f"
                      }
                    },
                    "ternary": {
                      "aaxis": {
                        "gridcolor": "white",
                        "linecolor": "white",
                        "ticks": ""
                      },
                      "baxis": {
                        "gridcolor": "white",
                        "linecolor": "white",
                        "ticks": ""
                      },
                      "bgcolor": "#E5ECF6",
                      "caxis": {
                        "gridcolor": "white",
                        "linecolor": "white",
                        "ticks": ""
                      }
                    },
                    "title": {
                      "x": 0.05
                    },
                    "xaxis": {
                      "automargin": true,
                      "gridcolor": "white",
                      "linecolor": "white",
                      "ticks": "",
                      "title": {
                        "standoff": 15
                      },
                      "zerolinecolor": "white",
                      "zerolinewidth": 2
                    },
                    "yaxis": {
                      "automargin": true,
                      "gridcolor": "white",
                      "linecolor": "white",
                      "ticks": "",
                      "title": {
                        "standoff": 15
                      },
                      "zerolinecolor": "white",
                      "zerolinewidth": 2
                    }
                  }
                },
                "title": {
                  "text": "Distribución de las comunidades en 2 dimensiones"
                }
              }
            }
          },
          "metadata": {},
          "output_type": "display_data"
        }
      ],
      "source": [
        "features = df.drop(columns=['Comunidad']).columns.to_list()\n",
        "\n",
        "unique_comunidad = df['Comunidad'].unique()\n",
        "num_colors = len(unique_comunidad)\n",
        "color_palette = plt.get_cmap('tab20', num_colors)\n",
        "\n",
        "comunidad_color_map = {cultivo: mcolors.to_hex(color_palette(i)) for i, cultivo in enumerate(unique_comunidad)}\n",
        "\n",
        "loadings = pca.components_.T * np.sqrt(pca.explained_variance_)\n",
        "fig = px.scatter(pca_features, x=0, y=1, color = pca_df[\"Comunidad\"],  \n",
        "                 labels={'color': 'Comunidad'}, \n",
        "                 color_discrete_map=comunidad_color_map,\n",
        "                 title=\"Distribución de las comunidades en 2 dimensiones\")\n",
        "\n",
        "fig.show()\n",
        "fig = px.scatter_3d(pca_features, x=0, y=1, z=2,\n",
        "              color=pca_df[\"Comunidad\"],  labels={'color': 'Comunidad'},\n",
        "              color_discrete_map=comunidad_color_map,\n",
        "              title=\"Distribución de las comunidades en 2 dimensiones\")\n",
        "fig.show()"
      ]
    },
    {
      "cell_type": "markdown",
      "metadata": {
        "id": "0vxuI9Rs6yY6"
      },
      "source": [
        "##¿Nos agrega valor analizar nuestros datos con isomap, t-sne y umap?"
      ]
    },
    {
      "cell_type": "markdown",
      "metadata": {
        "id": "1iaLzyIZrEvF"
      },
      "source": [
        "### Isomap"
      ]
    },
    {
      "cell_type": "code",
      "execution_count": null,
      "metadata": {
        "id": "dTwGTbZFqDSQ"
      },
      "outputs": [],
      "source": [
        "from sklearn.manifold import Isomap"
      ]
    },
    {
      "cell_type": "code",
      "execution_count": null,
      "metadata": {
        "colab": {
          "base_uri": "https://localhost:8080/",
          "height": 542
        },
        "id": "lnrf_FFyp5Qk",
        "outputId": "b1503e66-08b2-4f02-b510-ba8e1a1eb4d8"
      },
      "outputs": [
        {
          "data": {
            "text/html": [
              "<html>\n",
              "<head><meta charset=\"utf-8\" /></head>\n",
              "<body>\n",
              "    <div>            <script src=\"https://cdnjs.cloudflare.com/ajax/libs/mathjax/2.7.5/MathJax.js?config=TeX-AMS-MML_SVG\"></script><script type=\"text/javascript\">if (window.MathJax && window.MathJax.Hub && window.MathJax.Hub.Config) {window.MathJax.Hub.Config({SVG: {font: \"STIX-Web\"}});}</script>                <script type=\"text/javascript\">window.PlotlyConfig = {MathJaxConfig: 'local'};</script>\n",
              "        <script charset=\"utf-8\" src=\"https://cdn.plot.ly/plotly-2.24.1.min.js\"></script>                <div id=\"303b5e6a-600c-43a1-ab35-03d803ee8766\" class=\"plotly-graph-div\" style=\"height:525px; width:100%;\"></div>            <script type=\"text/javascript\">                                    window.PLOTLYENV=window.PLOTLYENV || {};                                    if (document.getElementById(\"303b5e6a-600c-43a1-ab35-03d803ee8766\")) {                    Plotly.newPlot(                        \"303b5e6a-600c-43a1-ab35-03d803ee8766\",                        [{\"hovertemplate\":\"Comunidad=Madrid\\u003cbr\\u003e0=%{x}\\u003cbr\\u003e1=%{y}\\u003cbr\\u003e2=%{z}\\u003cextra\\u003e\\u003c\\u002fextra\\u003e\",\"legendgroup\":\"Madrid\",\"marker\":{\"color\":\"#636efa\",\"symbol\":\"circle\",\"size\":8},\"mode\":\"markers\",\"name\":\"Madrid\",\"scene\":\"scene\",\"showlegend\":true,\"x\":[5.783835278429158],\"y\":[2.0677229291956336],\"z\":[1.3446295714960106],\"type\":\"scatter3d\"},{\"hovertemplate\":\"Comunidad=Andalusia\\u003cbr\\u003e0=%{x}\\u003cbr\\u003e1=%{y}\\u003cbr\\u003e2=%{z}\\u003cextra\\u003e\\u003c\\u002fextra\\u003e\",\"legendgroup\":\"Andalusia\",\"marker\":{\"color\":\"#EF553B\",\"symbol\":\"circle\",\"size\":8},\"mode\":\"markers\",\"name\":\"Andalusia\",\"scene\":\"scene\",\"showlegend\":true,\"x\":[-1.1970052956790544],\"y\":[1.6746668268409544],\"z\":[-0.6985051482866255],\"type\":\"scatter3d\"},{\"hovertemplate\":\"Comunidad=Aragon\\u003cbr\\u003e0=%{x}\\u003cbr\\u003e1=%{y}\\u003cbr\\u003e2=%{z}\\u003cextra\\u003e\\u003c\\u002fextra\\u003e\",\"legendgroup\":\"Aragon\",\"marker\":{\"color\":\"#00cc96\",\"symbol\":\"circle\",\"size\":8},\"mode\":\"markers\",\"name\":\"Aragon\",\"scene\":\"scene\",\"showlegend\":true,\"x\":[1.0560608082393341],\"y\":[-1.6677703802527721],\"z\":[-1.4748219764925465],\"type\":\"scatter3d\"},{\"hovertemplate\":\"Comunidad=Asturias\\u003cbr\\u003e0=%{x}\\u003cbr\\u003e1=%{y}\\u003cbr\\u003e2=%{z}\\u003cextra\\u003e\\u003c\\u002fextra\\u003e\",\"legendgroup\":\"Asturias\",\"marker\":{\"color\":\"#ab63fa\",\"symbol\":\"circle\",\"size\":8},\"mode\":\"markers\",\"name\":\"Asturias\",\"scene\":\"scene\",\"showlegend\":true,\"x\":[-1.7831694661645854],\"y\":[-1.1124333760233278],\"z\":[-0.9807057436673959],\"type\":\"scatter3d\"},{\"hovertemplate\":\"Comunidad=Balearic Islands\\u003cbr\\u003e0=%{x}\\u003cbr\\u003e1=%{y}\\u003cbr\\u003e2=%{z}\\u003cextra\\u003e\\u003c\\u002fextra\\u003e\",\"legendgroup\":\"Balearic Islands\",\"marker\":{\"color\":\"#FFA15A\",\"symbol\":\"circle\",\"size\":8},\"mode\":\"markers\",\"name\":\"Balearic Islands\",\"scene\":\"scene\",\"showlegend\":true,\"x\":[0.817959299648657],\"y\":[4.174378399154012],\"z\":[1.6655223445738654],\"type\":\"scatter3d\"},{\"hovertemplate\":\"Comunidad=Canary Islands\\u003cbr\\u003e0=%{x}\\u003cbr\\u003e1=%{y}\\u003cbr\\u003e2=%{z}\\u003cextra\\u003e\\u003c\\u002fextra\\u003e\",\"legendgroup\":\"Canary Islands\",\"marker\":{\"color\":\"#19d3f3\",\"symbol\":\"circle\",\"size\":8},\"mode\":\"markers\",\"name\":\"Canary Islands\",\"scene\":\"scene\",\"showlegend\":true,\"x\":[-4.2305220007430915],\"y\":[1.874964789924993],\"z\":[-0.08561318164813356],\"type\":\"scatter3d\"},{\"hovertemplate\":\"Comunidad=Cantabria\\u003cbr\\u003e0=%{x}\\u003cbr\\u003e1=%{y}\\u003cbr\\u003e2=%{z}\\u003cextra\\u003e\\u003c\\u002fextra\\u003e\",\"legendgroup\":\"Cantabria\",\"marker\":{\"color\":\"#FF6692\",\"symbol\":\"circle\",\"size\":8},\"mode\":\"markers\",\"name\":\"Cantabria\",\"scene\":\"scene\",\"showlegend\":true,\"x\":[-3.2913234118835897],\"y\":[-0.9228060626902612],\"z\":[-0.060464629648631064],\"type\":\"scatter3d\"},{\"hovertemplate\":\"Comunidad=Castile and Leon\\u003cbr\\u003e0=%{x}\\u003cbr\\u003e1=%{y}\\u003cbr\\u003e2=%{z}\\u003cextra\\u003e\\u003c\\u002fextra\\u003e\",\"legendgroup\":\"Castile and Leon\",\"marker\":{\"color\":\"#B6E880\",\"symbol\":\"circle\",\"size\":8},\"mode\":\"markers\",\"name\":\"Castile and Leon\",\"scene\":\"scene\",\"showlegend\":true,\"x\":[-2.3266847111052225],\"y\":[1.6164414434162286],\"z\":[1.3124275574880166],\"type\":\"scatter3d\"},{\"hovertemplate\":\"Comunidad=Castile-La Mancha\\u003cbr\\u003e0=%{x}\\u003cbr\\u003e1=%{y}\\u003cbr\\u003e2=%{z}\\u003cextra\\u003e\\u003c\\u002fextra\\u003e\",\"legendgroup\":\"Castile-La Mancha\",\"marker\":{\"color\":\"#FF97FF\",\"symbol\":\"circle\",\"size\":8},\"mode\":\"markers\",\"name\":\"Castile-La Mancha\",\"scene\":\"scene\",\"showlegend\":true,\"x\":[-4.827182343489419],\"y\":[-0.9109637812952954],\"z\":[2.179337120656866],\"type\":\"scatter3d\"},{\"hovertemplate\":\"Comunidad=Catalonia\\u003cbr\\u003e0=%{x}\\u003cbr\\u003e1=%{y}\\u003cbr\\u003e2=%{z}\\u003cextra\\u003e\\u003c\\u002fextra\\u003e\",\"legendgroup\":\"Catalonia\",\"marker\":{\"color\":\"#FECB52\",\"symbol\":\"circle\",\"size\":8},\"mode\":\"markers\",\"name\":\"Catalonia\",\"scene\":\"scene\",\"showlegend\":true,\"x\":[3.9945572759396706],\"y\":[0.0441598615270028],\"z\":[-0.008350728228245868],\"type\":\"scatter3d\"},{\"hovertemplate\":\"Comunidad=Valencia\\u003cbr\\u003e0=%{x}\\u003cbr\\u003e1=%{y}\\u003cbr\\u003e2=%{z}\\u003cextra\\u003e\\u003c\\u002fextra\\u003e\",\"legendgroup\":\"Valencia\",\"marker\":{\"color\":\"#636efa\",\"symbol\":\"circle\",\"size\":8},\"mode\":\"markers\",\"name\":\"Valencia\",\"scene\":\"scene\",\"showlegend\":true,\"x\":[0.3089603043369846],\"y\":[1.2606475381018947],\"z\":[-0.375567410699034],\"type\":\"scatter3d\"},{\"hovertemplate\":\"Comunidad=Extremadura\\u003cbr\\u003e0=%{x}\\u003cbr\\u003e1=%{y}\\u003cbr\\u003e2=%{z}\\u003cextra\\u003e\\u003c\\u002fextra\\u003e\",\"legendgroup\":\"Extremadura\",\"marker\":{\"color\":\"#EF553B\",\"symbol\":\"circle\",\"size\":8},\"mode\":\"markers\",\"name\":\"Extremadura\",\"scene\":\"scene\",\"showlegend\":true,\"x\":[-3.9936420002102526],\"y\":[-0.4743310100646974],\"z\":[1.0657923587354143],\"type\":\"scatter3d\"},{\"hovertemplate\":\"Comunidad=Galicia\\u003cbr\\u003e0=%{x}\\u003cbr\\u003e1=%{y}\\u003cbr\\u003e2=%{z}\\u003cextra\\u003e\\u003c\\u002fextra\\u003e\",\"legendgroup\":\"Galicia\",\"marker\":{\"color\":\"#00cc96\",\"symbol\":\"circle\",\"size\":8},\"mode\":\"markers\",\"name\":\"Galicia\",\"scene\":\"scene\",\"showlegend\":true,\"x\":[-0.16560368498177272],\"y\":[2.3806159595662972],\"z\":[-1.1684685743972656],\"type\":\"scatter3d\"},{\"hovertemplate\":\"Comunidad=Murcia\\u003cbr\\u003e0=%{x}\\u003cbr\\u003e1=%{y}\\u003cbr\\u003e2=%{z}\\u003cextra\\u003e\\u003c\\u002fextra\\u003e\",\"legendgroup\":\"Murcia\",\"marker\":{\"color\":\"#ab63fa\",\"symbol\":\"circle\",\"size\":8},\"mode\":\"markers\",\"name\":\"Murcia\",\"scene\":\"scene\",\"showlegend\":true,\"x\":[-0.7935006622312752],\"y\":[1.376410633498334],\"z\":[-1.550878037273706],\"type\":\"scatter3d\"},{\"hovertemplate\":\"Comunidad=Navarre\\u003cbr\\u003e0=%{x}\\u003cbr\\u003e1=%{y}\\u003cbr\\u003e2=%{z}\\u003cextra\\u003e\\u003c\\u002fextra\\u003e\",\"legendgroup\":\"Navarre\",\"marker\":{\"color\":\"#FFA15A\",\"symbol\":\"circle\",\"size\":8},\"mode\":\"markers\",\"name\":\"Navarre\",\"scene\":\"scene\",\"showlegend\":true,\"x\":[5.681104352980961],\"y\":[-0.7813570868617334],\"z\":[-1.7538282725913927],\"type\":\"scatter3d\"},{\"hovertemplate\":\"Comunidad=Basque Country\\u003cbr\\u003e0=%{x}\\u003cbr\\u003e1=%{y}\\u003cbr\\u003e2=%{z}\\u003cextra\\u003e\\u003c\\u002fextra\\u003e\",\"legendgroup\":\"Basque Country\",\"marker\":{\"color\":\"#19d3f3\",\"symbol\":\"circle\",\"size\":8},\"mode\":\"markers\",\"name\":\"Basque Country\",\"scene\":\"scene\",\"showlegend\":true,\"x\":[4.397029632307695],\"y\":[-0.46358098154857036],\"z\":[-1.199011903054893],\"type\":\"scatter3d\"},{\"hovertemplate\":\"Comunidad=La Rioja\\u003cbr\\u003e0=%{x}\\u003cbr\\u003e1=%{y}\\u003cbr\\u003e2=%{z}\\u003cextra\\u003e\\u003c\\u002fextra\\u003e\",\"legendgroup\":\"La Rioja\",\"marker\":{\"color\":\"#FF6692\",\"symbol\":\"circle\",\"size\":8},\"mode\":\"markers\",\"name\":\"La Rioja\",\"scene\":\"scene\",\"showlegend\":true,\"x\":[-1.2273178029703276],\"y\":[-3.527388735972381],\"z\":[1.6397831296773757],\"type\":\"scatter3d\"},{\"hovertemplate\":\"Comunidad=Ceuta\\u003cbr\\u003e0=%{x}\\u003cbr\\u003e1=%{y}\\u003cbr\\u003e2=%{z}\\u003cextra\\u003e\\u003c\\u002fextra\\u003e\",\"legendgroup\":\"Ceuta\",\"marker\":{\"color\":\"#B6E880\",\"symbol\":\"circle\",\"size\":8},\"mode\":\"markers\",\"name\":\"Ceuta\",\"scene\":\"scene\",\"showlegend\":true,\"x\":[4.561025489730943],\"y\":[-3.608038240125374],\"z\":[3.206119385167562],\"type\":\"scatter3d\"},{\"hovertemplate\":\"Comunidad=Melilla\\u003cbr\\u003e0=%{x}\\u003cbr\\u003e1=%{y}\\u003cbr\\u003e2=%{z}\\u003cextra\\u003e\\u003c\\u002fextra\\u003e\",\"legendgroup\":\"Melilla\",\"marker\":{\"color\":\"#FF97FF\",\"symbol\":\"circle\",\"size\":8},\"mode\":\"markers\",\"name\":\"Melilla\",\"scene\":\"scene\",\"showlegend\":true,\"x\":[-2.7645810621548144],\"y\":[-3.001338726390941],\"z\":[-3.057395861807234],\"type\":\"scatter3d\"}],                        {\"template\":{\"data\":{\"histogram2dcontour\":[{\"type\":\"histogram2dcontour\",\"colorbar\":{\"outlinewidth\":0,\"ticks\":\"\"},\"colorscale\":[[0.0,\"#0d0887\"],[0.1111111111111111,\"#46039f\"],[0.2222222222222222,\"#7201a8\"],[0.3333333333333333,\"#9c179e\"],[0.4444444444444444,\"#bd3786\"],[0.5555555555555556,\"#d8576b\"],[0.6666666666666666,\"#ed7953\"],[0.7777777777777778,\"#fb9f3a\"],[0.8888888888888888,\"#fdca26\"],[1.0,\"#f0f921\"]]}],\"choropleth\":[{\"type\":\"choropleth\",\"colorbar\":{\"outlinewidth\":0,\"ticks\":\"\"}}],\"histogram2d\":[{\"type\":\"histogram2d\",\"colorbar\":{\"outlinewidth\":0,\"ticks\":\"\"},\"colorscale\":[[0.0,\"#0d0887\"],[0.1111111111111111,\"#46039f\"],[0.2222222222222222,\"#7201a8\"],[0.3333333333333333,\"#9c179e\"],[0.4444444444444444,\"#bd3786\"],[0.5555555555555556,\"#d8576b\"],[0.6666666666666666,\"#ed7953\"],[0.7777777777777778,\"#fb9f3a\"],[0.8888888888888888,\"#fdca26\"],[1.0,\"#f0f921\"]]}],\"heatmap\":[{\"type\":\"heatmap\",\"colorbar\":{\"outlinewidth\":0,\"ticks\":\"\"},\"colorscale\":[[0.0,\"#0d0887\"],[0.1111111111111111,\"#46039f\"],[0.2222222222222222,\"#7201a8\"],[0.3333333333333333,\"#9c179e\"],[0.4444444444444444,\"#bd3786\"],[0.5555555555555556,\"#d8576b\"],[0.6666666666666666,\"#ed7953\"],[0.7777777777777778,\"#fb9f3a\"],[0.8888888888888888,\"#fdca26\"],[1.0,\"#f0f921\"]]}],\"heatmapgl\":[{\"type\":\"heatmapgl\",\"colorbar\":{\"outlinewidth\":0,\"ticks\":\"\"},\"colorscale\":[[0.0,\"#0d0887\"],[0.1111111111111111,\"#46039f\"],[0.2222222222222222,\"#7201a8\"],[0.3333333333333333,\"#9c179e\"],[0.4444444444444444,\"#bd3786\"],[0.5555555555555556,\"#d8576b\"],[0.6666666666666666,\"#ed7953\"],[0.7777777777777778,\"#fb9f3a\"],[0.8888888888888888,\"#fdca26\"],[1.0,\"#f0f921\"]]}],\"contourcarpet\":[{\"type\":\"contourcarpet\",\"colorbar\":{\"outlinewidth\":0,\"ticks\":\"\"}}],\"contour\":[{\"type\":\"contour\",\"colorbar\":{\"outlinewidth\":0,\"ticks\":\"\"},\"colorscale\":[[0.0,\"#0d0887\"],[0.1111111111111111,\"#46039f\"],[0.2222222222222222,\"#7201a8\"],[0.3333333333333333,\"#9c179e\"],[0.4444444444444444,\"#bd3786\"],[0.5555555555555556,\"#d8576b\"],[0.6666666666666666,\"#ed7953\"],[0.7777777777777778,\"#fb9f3a\"],[0.8888888888888888,\"#fdca26\"],[1.0,\"#f0f921\"]]}],\"surface\":[{\"type\":\"surface\",\"colorbar\":{\"outlinewidth\":0,\"ticks\":\"\"},\"colorscale\":[[0.0,\"#0d0887\"],[0.1111111111111111,\"#46039f\"],[0.2222222222222222,\"#7201a8\"],[0.3333333333333333,\"#9c179e\"],[0.4444444444444444,\"#bd3786\"],[0.5555555555555556,\"#d8576b\"],[0.6666666666666666,\"#ed7953\"],[0.7777777777777778,\"#fb9f3a\"],[0.8888888888888888,\"#fdca26\"],[1.0,\"#f0f921\"]]}],\"mesh3d\":[{\"type\":\"mesh3d\",\"colorbar\":{\"outlinewidth\":0,\"ticks\":\"\"}}],\"scatter\":[{\"fillpattern\":{\"fillmode\":\"overlay\",\"size\":10,\"solidity\":0.2},\"type\":\"scatter\"}],\"parcoords\":[{\"type\":\"parcoords\",\"line\":{\"colorbar\":{\"outlinewidth\":0,\"ticks\":\"\"}}}],\"scatterpolargl\":[{\"type\":\"scatterpolargl\",\"marker\":{\"colorbar\":{\"outlinewidth\":0,\"ticks\":\"\"}}}],\"bar\":[{\"error_x\":{\"color\":\"#2a3f5f\"},\"error_y\":{\"color\":\"#2a3f5f\"},\"marker\":{\"line\":{\"color\":\"#E5ECF6\",\"width\":0.5},\"pattern\":{\"fillmode\":\"overlay\",\"size\":10,\"solidity\":0.2}},\"type\":\"bar\"}],\"scattergeo\":[{\"type\":\"scattergeo\",\"marker\":{\"colorbar\":{\"outlinewidth\":0,\"ticks\":\"\"}}}],\"scatterpolar\":[{\"type\":\"scatterpolar\",\"marker\":{\"colorbar\":{\"outlinewidth\":0,\"ticks\":\"\"}}}],\"histogram\":[{\"marker\":{\"pattern\":{\"fillmode\":\"overlay\",\"size\":10,\"solidity\":0.2}},\"type\":\"histogram\"}],\"scattergl\":[{\"type\":\"scattergl\",\"marker\":{\"colorbar\":{\"outlinewidth\":0,\"ticks\":\"\"}}}],\"scatter3d\":[{\"type\":\"scatter3d\",\"line\":{\"colorbar\":{\"outlinewidth\":0,\"ticks\":\"\"}},\"marker\":{\"colorbar\":{\"outlinewidth\":0,\"ticks\":\"\"}}}],\"scattermapbox\":[{\"type\":\"scattermapbox\",\"marker\":{\"colorbar\":{\"outlinewidth\":0,\"ticks\":\"\"}}}],\"scatterternary\":[{\"type\":\"scatterternary\",\"marker\":{\"colorbar\":{\"outlinewidth\":0,\"ticks\":\"\"}}}],\"scattercarpet\":[{\"type\":\"scattercarpet\",\"marker\":{\"colorbar\":{\"outlinewidth\":0,\"ticks\":\"\"}}}],\"carpet\":[{\"aaxis\":{\"endlinecolor\":\"#2a3f5f\",\"gridcolor\":\"white\",\"linecolor\":\"white\",\"minorgridcolor\":\"white\",\"startlinecolor\":\"#2a3f5f\"},\"baxis\":{\"endlinecolor\":\"#2a3f5f\",\"gridcolor\":\"white\",\"linecolor\":\"white\",\"minorgridcolor\":\"white\",\"startlinecolor\":\"#2a3f5f\"},\"type\":\"carpet\"}],\"table\":[{\"cells\":{\"fill\":{\"color\":\"#EBF0F8\"},\"line\":{\"color\":\"white\"}},\"header\":{\"fill\":{\"color\":\"#C8D4E3\"},\"line\":{\"color\":\"white\"}},\"type\":\"table\"}],\"barpolar\":[{\"marker\":{\"line\":{\"color\":\"#E5ECF6\",\"width\":0.5},\"pattern\":{\"fillmode\":\"overlay\",\"size\":10,\"solidity\":0.2}},\"type\":\"barpolar\"}],\"pie\":[{\"automargin\":true,\"type\":\"pie\"}]},\"layout\":{\"autotypenumbers\":\"strict\",\"colorway\":[\"#636efa\",\"#EF553B\",\"#00cc96\",\"#ab63fa\",\"#FFA15A\",\"#19d3f3\",\"#FF6692\",\"#B6E880\",\"#FF97FF\",\"#FECB52\"],\"font\":{\"color\":\"#2a3f5f\"},\"hovermode\":\"closest\",\"hoverlabel\":{\"align\":\"left\"},\"paper_bgcolor\":\"white\",\"plot_bgcolor\":\"#E5ECF6\",\"polar\":{\"bgcolor\":\"#E5ECF6\",\"angularaxis\":{\"gridcolor\":\"white\",\"linecolor\":\"white\",\"ticks\":\"\"},\"radialaxis\":{\"gridcolor\":\"white\",\"linecolor\":\"white\",\"ticks\":\"\"}},\"ternary\":{\"bgcolor\":\"#E5ECF6\",\"aaxis\":{\"gridcolor\":\"white\",\"linecolor\":\"white\",\"ticks\":\"\"},\"baxis\":{\"gridcolor\":\"white\",\"linecolor\":\"white\",\"ticks\":\"\"},\"caxis\":{\"gridcolor\":\"white\",\"linecolor\":\"white\",\"ticks\":\"\"}},\"coloraxis\":{\"colorbar\":{\"outlinewidth\":0,\"ticks\":\"\"}},\"colorscale\":{\"sequential\":[[0.0,\"#0d0887\"],[0.1111111111111111,\"#46039f\"],[0.2222222222222222,\"#7201a8\"],[0.3333333333333333,\"#9c179e\"],[0.4444444444444444,\"#bd3786\"],[0.5555555555555556,\"#d8576b\"],[0.6666666666666666,\"#ed7953\"],[0.7777777777777778,\"#fb9f3a\"],[0.8888888888888888,\"#fdca26\"],[1.0,\"#f0f921\"]],\"sequentialminus\":[[0.0,\"#0d0887\"],[0.1111111111111111,\"#46039f\"],[0.2222222222222222,\"#7201a8\"],[0.3333333333333333,\"#9c179e\"],[0.4444444444444444,\"#bd3786\"],[0.5555555555555556,\"#d8576b\"],[0.6666666666666666,\"#ed7953\"],[0.7777777777777778,\"#fb9f3a\"],[0.8888888888888888,\"#fdca26\"],[1.0,\"#f0f921\"]],\"diverging\":[[0,\"#8e0152\"],[0.1,\"#c51b7d\"],[0.2,\"#de77ae\"],[0.3,\"#f1b6da\"],[0.4,\"#fde0ef\"],[0.5,\"#f7f7f7\"],[0.6,\"#e6f5d0\"],[0.7,\"#b8e186\"],[0.8,\"#7fbc41\"],[0.9,\"#4d9221\"],[1,\"#276419\"]]},\"xaxis\":{\"gridcolor\":\"white\",\"linecolor\":\"white\",\"ticks\":\"\",\"title\":{\"standoff\":15},\"zerolinecolor\":\"white\",\"automargin\":true,\"zerolinewidth\":2},\"yaxis\":{\"gridcolor\":\"white\",\"linecolor\":\"white\",\"ticks\":\"\",\"title\":{\"standoff\":15},\"zerolinecolor\":\"white\",\"automargin\":true,\"zerolinewidth\":2},\"scene\":{\"xaxis\":{\"backgroundcolor\":\"#E5ECF6\",\"gridcolor\":\"white\",\"linecolor\":\"white\",\"showbackground\":true,\"ticks\":\"\",\"zerolinecolor\":\"white\",\"gridwidth\":2},\"yaxis\":{\"backgroundcolor\":\"#E5ECF6\",\"gridcolor\":\"white\",\"linecolor\":\"white\",\"showbackground\":true,\"ticks\":\"\",\"zerolinecolor\":\"white\",\"gridwidth\":2},\"zaxis\":{\"backgroundcolor\":\"#E5ECF6\",\"gridcolor\":\"white\",\"linecolor\":\"white\",\"showbackground\":true,\"ticks\":\"\",\"zerolinecolor\":\"white\",\"gridwidth\":2}},\"shapedefaults\":{\"line\":{\"color\":\"#2a3f5f\"}},\"annotationdefaults\":{\"arrowcolor\":\"#2a3f5f\",\"arrowhead\":0,\"arrowwidth\":1},\"geo\":{\"bgcolor\":\"white\",\"landcolor\":\"#E5ECF6\",\"subunitcolor\":\"white\",\"showland\":true,\"showlakes\":true,\"lakecolor\":\"white\"},\"title\":{\"x\":0.05},\"mapbox\":{\"style\":\"light\"}}},\"scene\":{\"domain\":{\"x\":[0.0,1.0],\"y\":[0.0,1.0]},\"xaxis\":{\"title\":{\"text\":\"0\"}},\"yaxis\":{\"title\":{\"text\":\"1\"}},\"zaxis\":{\"title\":{\"text\":\"2\"}}},\"legend\":{\"title\":{\"text\":\"Comunidad\"},\"tracegroupgap\":0},\"margin\":{\"t\":60}},                        {\"responsive\": true}                    ).then(function(){\n",
              "                            \n",
              "var gd = document.getElementById('303b5e6a-600c-43a1-ab35-03d803ee8766');\n",
              "var x = new MutationObserver(function (mutations, observer) {{\n",
              "        var display = window.getComputedStyle(gd).display;\n",
              "        if (!display || display === 'none') {{\n",
              "            console.log([gd, 'removed!']);\n",
              "            Plotly.purge(gd);\n",
              "            observer.disconnect();\n",
              "        }}\n",
              "}});\n",
              "\n",
              "// Listen for the removal of the full notebook cells\n",
              "var notebookContainer = gd.closest('#notebook-container');\n",
              "if (notebookContainer) {{\n",
              "    x.observe(notebookContainer, {childList: true});\n",
              "}}\n",
              "\n",
              "// Listen for the clearing of the current output cell\n",
              "var outputEl = gd.closest('.output');\n",
              "if (outputEl) {{\n",
              "    x.observe(outputEl, {childList: true});\n",
              "}}\n",
              "\n",
              "                        })                };                            </script>        </div>\n",
              "</body>\n",
              "</html>"
            ]
          },
          "metadata": {},
          "output_type": "display_data"
        }
      ],
      "source": [
        "isomap_df = Isomap(n_neighbors=6, n_components=3)\n",
        "isomap_df.fit(df_std)\n",
        "projections_isomap = isomap_df.transform(df_std)\n",
        "\n",
        "fig = px.scatter_3d(\n",
        "    projections_isomap, x=0, y=1, z=2,\n",
        "    color=df['Comunidad'], labels={'color': 'Comunidad'}\n",
        ")\n",
        "fig.update_traces(marker_size=8)\n",
        "fig.show()"
      ]
    },
    {
      "cell_type": "markdown",
      "metadata": {
        "id": "17t7EnopQ2k0"
      },
      "source": [
        "### T-sne"
      ]
    },
    {
      "cell_type": "code",
      "execution_count": null,
      "metadata": {
        "id": "3NOUlI1cRAea"
      },
      "outputs": [],
      "source": [
        "from sklearn.manifold import TSNE"
      ]
    },
    {
      "cell_type": "code",
      "execution_count": null,
      "metadata": {},
      "outputs": [],
      "source": []
    },
    {
      "cell_type": "code",
      "execution_count": null,
      "metadata": {
        "colab": {
          "base_uri": "https://localhost:8080/"
        },
        "id": "PBF0vwMwSwj9",
        "outputId": "2621b27c-a03e-4e3e-fc6f-c0e9e97f4cbd"
      },
      "outputs": [
        {
          "data": {
            "text/html": [
              "<html>\n",
              "<head><meta charset=\"utf-8\" /></head>\n",
              "<body>\n",
              "    <div>            <script src=\"https://cdnjs.cloudflare.com/ajax/libs/mathjax/2.7.5/MathJax.js?config=TeX-AMS-MML_SVG\"></script><script type=\"text/javascript\">if (window.MathJax && window.MathJax.Hub && window.MathJax.Hub.Config) {window.MathJax.Hub.Config({SVG: {font: \"STIX-Web\"}});}</script>                <script type=\"text/javascript\">window.PlotlyConfig = {MathJaxConfig: 'local'};</script>\n",
              "        <script charset=\"utf-8\" src=\"https://cdn.plot.ly/plotly-2.24.1.min.js\"></script>                <div id=\"20f6e203-c58d-4f1c-b785-b3145699a1fd\" class=\"plotly-graph-div\" style=\"height:525px; width:100%;\"></div>            <script type=\"text/javascript\">                                    window.PLOTLYENV=window.PLOTLYENV || {};                                    if (document.getElementById(\"20f6e203-c58d-4f1c-b785-b3145699a1fd\")) {                    Plotly.newPlot(                        \"20f6e203-c58d-4f1c-b785-b3145699a1fd\",                        [{\"hovertemplate\":\"Comunidad=Madrid\\u003cbr\\u003e0=%{x}\\u003cbr\\u003e1=%{y}\\u003cbr\\u003e2=%{z}\\u003cextra\\u003e\\u003c\\u002fextra\\u003e\",\"legendgroup\":\"Madrid\",\"marker\":{\"color\":\"#636efa\",\"symbol\":\"circle\",\"size\":8},\"mode\":\"markers\",\"name\":\"Madrid\",\"scene\":\"scene\",\"showlegend\":true,\"x\":[-177.4918212890625],\"y\":[-50.395545959472656],\"z\":[-30.588529586791992],\"type\":\"scatter3d\"},{\"hovertemplate\":\"Comunidad=Andalusia\\u003cbr\\u003e0=%{x}\\u003cbr\\u003e1=%{y}\\u003cbr\\u003e2=%{z}\\u003cextra\\u003e\\u003c\\u002fextra\\u003e\",\"legendgroup\":\"Andalusia\",\"marker\":{\"color\":\"#EF553B\",\"symbol\":\"circle\",\"size\":8},\"mode\":\"markers\",\"name\":\"Andalusia\",\"scene\":\"scene\",\"showlegend\":true,\"x\":[-459.24267578125],\"y\":[-981.0110473632812],\"z\":[223.9486846923828],\"type\":\"scatter3d\"},{\"hovertemplate\":\"Comunidad=Aragon\\u003cbr\\u003e0=%{x}\\u003cbr\\u003e1=%{y}\\u003cbr\\u003e2=%{z}\\u003cextra\\u003e\\u003c\\u002fextra\\u003e\",\"legendgroup\":\"Aragon\",\"marker\":{\"color\":\"#00cc96\",\"symbol\":\"circle\",\"size\":8},\"mode\":\"markers\",\"name\":\"Aragon\",\"scene\":\"scene\",\"showlegend\":true,\"x\":[118.78888702392578],\"y\":[-21.3996524810791],\"z\":[-93.84087371826172],\"type\":\"scatter3d\"},{\"hovertemplate\":\"Comunidad=Asturias\\u003cbr\\u003e0=%{x}\\u003cbr\\u003e1=%{y}\\u003cbr\\u003e2=%{z}\\u003cextra\\u003e\\u003c\\u002fextra\\u003e\",\"legendgroup\":\"Asturias\",\"marker\":{\"color\":\"#ab63fa\",\"symbol\":\"circle\",\"size\":8},\"mode\":\"markers\",\"name\":\"Asturias\",\"scene\":\"scene\",\"showlegend\":true,\"x\":[108.65339660644531],\"y\":[95.02222442626953],\"z\":[-19.926406860351562],\"type\":\"scatter3d\"},{\"hovertemplate\":\"Comunidad=Balearic Islands\\u003cbr\\u003e0=%{x}\\u003cbr\\u003e1=%{y}\\u003cbr\\u003e2=%{z}\\u003cextra\\u003e\\u003c\\u002fextra\\u003e\",\"legendgroup\":\"Balearic Islands\",\"marker\":{\"color\":\"#FFA15A\",\"symbol\":\"circle\",\"size\":8},\"mode\":\"markers\",\"name\":\"Balearic Islands\",\"scene\":\"scene\",\"showlegend\":true,\"x\":[-51.16901397705078],\"y\":[-205.5394287109375],\"z\":[41.562416076660156],\"type\":\"scatter3d\"},{\"hovertemplate\":\"Comunidad=Canary Islands\\u003cbr\\u003e0=%{x}\\u003cbr\\u003e1=%{y}\\u003cbr\\u003e2=%{z}\\u003cextra\\u003e\\u003c\\u002fextra\\u003e\",\"legendgroup\":\"Canary Islands\",\"marker\":{\"color\":\"#19d3f3\",\"symbol\":\"circle\",\"size\":8},\"mode\":\"markers\",\"name\":\"Canary Islands\",\"scene\":\"scene\",\"showlegend\":true,\"x\":[114.42957305908203],\"y\":[-196.20465087890625],\"z\":[-45.000492095947266],\"type\":\"scatter3d\"},{\"hovertemplate\":\"Comunidad=Cantabria\\u003cbr\\u003e0=%{x}\\u003cbr\\u003e1=%{y}\\u003cbr\\u003e2=%{z}\\u003cextra\\u003e\\u003c\\u002fextra\\u003e\",\"legendgroup\":\"Cantabria\",\"marker\":{\"color\":\"#FF6692\",\"symbol\":\"circle\",\"size\":8},\"mode\":\"markers\",\"name\":\"Cantabria\",\"scene\":\"scene\",\"showlegend\":true,\"x\":[-316.0843811035156],\"y\":[-86.72955322265625],\"z\":[-281.947509765625],\"type\":\"scatter3d\"},{\"hovertemplate\":\"Comunidad=Castile and Leon\\u003cbr\\u003e0=%{x}\\u003cbr\\u003e1=%{y}\\u003cbr\\u003e2=%{z}\\u003cextra\\u003e\\u003c\\u002fextra\\u003e\",\"legendgroup\":\"Castile and Leon\",\"marker\":{\"color\":\"#B6E880\",\"symbol\":\"circle\",\"size\":8},\"mode\":\"markers\",\"name\":\"Castile and Leon\",\"scene\":\"scene\",\"showlegend\":true,\"x\":[-145.89791870117188],\"y\":[-122.43562316894531],\"z\":[206.69590759277344],\"type\":\"scatter3d\"},{\"hovertemplate\":\"Comunidad=Castile-La Mancha\\u003cbr\\u003e0=%{x}\\u003cbr\\u003e1=%{y}\\u003cbr\\u003e2=%{z}\\u003cextra\\u003e\\u003c\\u002fextra\\u003e\",\"legendgroup\":\"Castile-La Mancha\",\"marker\":{\"color\":\"#FF97FF\",\"symbol\":\"circle\",\"size\":8},\"mode\":\"markers\",\"name\":\"Castile-La Mancha\",\"scene\":\"scene\",\"showlegend\":true,\"x\":[-31.95304298400879],\"y\":[220.32412719726562],\"z\":[-70.61880493164062],\"type\":\"scatter3d\"},{\"hovertemplate\":\"Comunidad=Catalonia\\u003cbr\\u003e0=%{x}\\u003cbr\\u003e1=%{y}\\u003cbr\\u003e2=%{z}\\u003cextra\\u003e\\u003c\\u002fextra\\u003e\",\"legendgroup\":\"Catalonia\",\"marker\":{\"color\":\"#FECB52\",\"symbol\":\"circle\",\"size\":8},\"mode\":\"markers\",\"name\":\"Catalonia\",\"scene\":\"scene\",\"showlegend\":true,\"x\":[-60.116111755371094],\"y\":[10.292078018188477],\"z\":[166.54263305664062],\"type\":\"scatter3d\"},{\"hovertemplate\":\"Comunidad=Valencia\\u003cbr\\u003e0=%{x}\\u003cbr\\u003e1=%{y}\\u003cbr\\u003e2=%{z}\\u003cextra\\u003e\\u003c\\u002fextra\\u003e\",\"legendgroup\":\"Valencia\",\"marker\":{\"color\":\"#636efa\",\"symbol\":\"circle\",\"size\":8},\"mode\":\"markers\",\"name\":\"Valencia\",\"scene\":\"scene\",\"showlegend\":true,\"x\":[33.92465591430664],\"y\":[-64.79803466796875],\"z\":[-19.596942901611328],\"type\":\"scatter3d\"},{\"hovertemplate\":\"Comunidad=Extremadura\\u003cbr\\u003e0=%{x}\\u003cbr\\u003e1=%{y}\\u003cbr\\u003e2=%{z}\\u003cextra\\u003e\\u003c\\u002fextra\\u003e\",\"legendgroup\":\"Extremadura\",\"marker\":{\"color\":\"#EF553B\",\"symbol\":\"circle\",\"size\":8},\"mode\":\"markers\",\"name\":\"Extremadura\",\"scene\":\"scene\",\"showlegend\":true,\"x\":[181.74803161621094],\"y\":[102.19474792480469],\"z\":[-141.94351196289062],\"type\":\"scatter3d\"},{\"hovertemplate\":\"Comunidad=Galicia\\u003cbr\\u003e0=%{x}\\u003cbr\\u003e1=%{y}\\u003cbr\\u003e2=%{z}\\u003cextra\\u003e\\u003c\\u002fextra\\u003e\",\"legendgroup\":\"Galicia\",\"marker\":{\"color\":\"#00cc96\",\"symbol\":\"circle\",\"size\":8},\"mode\":\"markers\",\"name\":\"Galicia\",\"scene\":\"scene\",\"showlegend\":true,\"x\":[199.8451690673828],\"y\":[651.123046875],\"z\":[-295.3306884765625],\"type\":\"scatter3d\"},{\"hovertemplate\":\"Comunidad=Murcia\\u003cbr\\u003e0=%{x}\\u003cbr\\u003e1=%{y}\\u003cbr\\u003e2=%{z}\\u003cextra\\u003e\\u003c\\u002fextra\\u003e\",\"legendgroup\":\"Murcia\",\"marker\":{\"color\":\"#ab63fa\",\"symbol\":\"circle\",\"size\":8},\"mode\":\"markers\",\"name\":\"Murcia\",\"scene\":\"scene\",\"showlegend\":true,\"x\":[-39.34037399291992],\"y\":[-19.534976959228516],\"z\":[-154.36439514160156],\"type\":\"scatter3d\"},{\"hovertemplate\":\"Comunidad=Navarre\\u003cbr\\u003e0=%{x}\\u003cbr\\u003e1=%{y}\\u003cbr\\u003e2=%{z}\\u003cextra\\u003e\\u003c\\u002fextra\\u003e\",\"legendgroup\":\"Navarre\",\"marker\":{\"color\":\"#FFA15A\",\"symbol\":\"circle\",\"size\":8},\"mode\":\"markers\",\"name\":\"Navarre\",\"scene\":\"scene\",\"showlegend\":true,\"x\":[-93.30489349365234],\"y\":[-64.32263946533203],\"z\":[66.04215240478516],\"type\":\"scatter3d\"},{\"hovertemplate\":\"Comunidad=Basque Country\\u003cbr\\u003e0=%{x}\\u003cbr\\u003e1=%{y}\\u003cbr\\u003e2=%{z}\\u003cextra\\u003e\\u003c\\u002fextra\\u003e\",\"legendgroup\":\"Basque Country\",\"marker\":{\"color\":\"#19d3f3\",\"symbol\":\"circle\",\"size\":8},\"mode\":\"markers\",\"name\":\"Basque Country\",\"scene\":\"scene\",\"showlegend\":true,\"x\":[-153.9960479736328],\"y\":[37.99861526489258],\"z\":[86.95628356933594],\"type\":\"scatter3d\"},{\"hovertemplate\":\"Comunidad=La Rioja\\u003cbr\\u003e0=%{x}\\u003cbr\\u003e1=%{y}\\u003cbr\\u003e2=%{z}\\u003cextra\\u003e\\u003c\\u002fextra\\u003e\",\"legendgroup\":\"La Rioja\",\"marker\":{\"color\":\"#FF6692\",\"symbol\":\"circle\",\"size\":8},\"mode\":\"markers\",\"name\":\"La Rioja\",\"scene\":\"scene\",\"showlegend\":true,\"x\":[-25.272531509399414],\"y\":[84.4385757446289],\"z\":[-10.303189277648926],\"type\":\"scatter3d\"},{\"hovertemplate\":\"Comunidad=Ceuta\\u003cbr\\u003e0=%{x}\\u003cbr\\u003e1=%{y}\\u003cbr\\u003e2=%{z}\\u003cextra\\u003e\\u003c\\u002fextra\\u003e\",\"legendgroup\":\"Ceuta\",\"marker\":{\"color\":\"#B6E880\",\"symbol\":\"circle\",\"size\":8},\"mode\":\"markers\",\"name\":\"Ceuta\",\"scene\":\"scene\",\"showlegend\":true,\"x\":[79.73493194580078],\"y\":[7.384258270263672],\"z\":[148.41786193847656],\"type\":\"scatter3d\"},{\"hovertemplate\":\"Comunidad=Melilla\\u003cbr\\u003e0=%{x}\\u003cbr\\u003e1=%{y}\\u003cbr\\u003e2=%{z}\\u003cextra\\u003e\\u003c\\u002fextra\\u003e\",\"legendgroup\":\"Melilla\",\"marker\":{\"color\":\"#FF97FF\",\"symbol\":\"circle\",\"size\":8},\"mode\":\"markers\",\"name\":\"Melilla\",\"scene\":\"scene\",\"showlegend\":true,\"x\":[99.20325469970703],\"y\":[173.136474609375],\"z\":[77.21251678466797],\"type\":\"scatter3d\"}],                        {\"template\":{\"data\":{\"histogram2dcontour\":[{\"type\":\"histogram2dcontour\",\"colorbar\":{\"outlinewidth\":0,\"ticks\":\"\"},\"colorscale\":[[0.0,\"#0d0887\"],[0.1111111111111111,\"#46039f\"],[0.2222222222222222,\"#7201a8\"],[0.3333333333333333,\"#9c179e\"],[0.4444444444444444,\"#bd3786\"],[0.5555555555555556,\"#d8576b\"],[0.6666666666666666,\"#ed7953\"],[0.7777777777777778,\"#fb9f3a\"],[0.8888888888888888,\"#fdca26\"],[1.0,\"#f0f921\"]]}],\"choropleth\":[{\"type\":\"choropleth\",\"colorbar\":{\"outlinewidth\":0,\"ticks\":\"\"}}],\"histogram2d\":[{\"type\":\"histogram2d\",\"colorbar\":{\"outlinewidth\":0,\"ticks\":\"\"},\"colorscale\":[[0.0,\"#0d0887\"],[0.1111111111111111,\"#46039f\"],[0.2222222222222222,\"#7201a8\"],[0.3333333333333333,\"#9c179e\"],[0.4444444444444444,\"#bd3786\"],[0.5555555555555556,\"#d8576b\"],[0.6666666666666666,\"#ed7953\"],[0.7777777777777778,\"#fb9f3a\"],[0.8888888888888888,\"#fdca26\"],[1.0,\"#f0f921\"]]}],\"heatmap\":[{\"type\":\"heatmap\",\"colorbar\":{\"outlinewidth\":0,\"ticks\":\"\"},\"colorscale\":[[0.0,\"#0d0887\"],[0.1111111111111111,\"#46039f\"],[0.2222222222222222,\"#7201a8\"],[0.3333333333333333,\"#9c179e\"],[0.4444444444444444,\"#bd3786\"],[0.5555555555555556,\"#d8576b\"],[0.6666666666666666,\"#ed7953\"],[0.7777777777777778,\"#fb9f3a\"],[0.8888888888888888,\"#fdca26\"],[1.0,\"#f0f921\"]]}],\"heatmapgl\":[{\"type\":\"heatmapgl\",\"colorbar\":{\"outlinewidth\":0,\"ticks\":\"\"},\"colorscale\":[[0.0,\"#0d0887\"],[0.1111111111111111,\"#46039f\"],[0.2222222222222222,\"#7201a8\"],[0.3333333333333333,\"#9c179e\"],[0.4444444444444444,\"#bd3786\"],[0.5555555555555556,\"#d8576b\"],[0.6666666666666666,\"#ed7953\"],[0.7777777777777778,\"#fb9f3a\"],[0.8888888888888888,\"#fdca26\"],[1.0,\"#f0f921\"]]}],\"contourcarpet\":[{\"type\":\"contourcarpet\",\"colorbar\":{\"outlinewidth\":0,\"ticks\":\"\"}}],\"contour\":[{\"type\":\"contour\",\"colorbar\":{\"outlinewidth\":0,\"ticks\":\"\"},\"colorscale\":[[0.0,\"#0d0887\"],[0.1111111111111111,\"#46039f\"],[0.2222222222222222,\"#7201a8\"],[0.3333333333333333,\"#9c179e\"],[0.4444444444444444,\"#bd3786\"],[0.5555555555555556,\"#d8576b\"],[0.6666666666666666,\"#ed7953\"],[0.7777777777777778,\"#fb9f3a\"],[0.8888888888888888,\"#fdca26\"],[1.0,\"#f0f921\"]]}],\"surface\":[{\"type\":\"surface\",\"colorbar\":{\"outlinewidth\":0,\"ticks\":\"\"},\"colorscale\":[[0.0,\"#0d0887\"],[0.1111111111111111,\"#46039f\"],[0.2222222222222222,\"#7201a8\"],[0.3333333333333333,\"#9c179e\"],[0.4444444444444444,\"#bd3786\"],[0.5555555555555556,\"#d8576b\"],[0.6666666666666666,\"#ed7953\"],[0.7777777777777778,\"#fb9f3a\"],[0.8888888888888888,\"#fdca26\"],[1.0,\"#f0f921\"]]}],\"mesh3d\":[{\"type\":\"mesh3d\",\"colorbar\":{\"outlinewidth\":0,\"ticks\":\"\"}}],\"scatter\":[{\"fillpattern\":{\"fillmode\":\"overlay\",\"size\":10,\"solidity\":0.2},\"type\":\"scatter\"}],\"parcoords\":[{\"type\":\"parcoords\",\"line\":{\"colorbar\":{\"outlinewidth\":0,\"ticks\":\"\"}}}],\"scatterpolargl\":[{\"type\":\"scatterpolargl\",\"marker\":{\"colorbar\":{\"outlinewidth\":0,\"ticks\":\"\"}}}],\"bar\":[{\"error_x\":{\"color\":\"#2a3f5f\"},\"error_y\":{\"color\":\"#2a3f5f\"},\"marker\":{\"line\":{\"color\":\"#E5ECF6\",\"width\":0.5},\"pattern\":{\"fillmode\":\"overlay\",\"size\":10,\"solidity\":0.2}},\"type\":\"bar\"}],\"scattergeo\":[{\"type\":\"scattergeo\",\"marker\":{\"colorbar\":{\"outlinewidth\":0,\"ticks\":\"\"}}}],\"scatterpolar\":[{\"type\":\"scatterpolar\",\"marker\":{\"colorbar\":{\"outlinewidth\":0,\"ticks\":\"\"}}}],\"histogram\":[{\"marker\":{\"pattern\":{\"fillmode\":\"overlay\",\"size\":10,\"solidity\":0.2}},\"type\":\"histogram\"}],\"scattergl\":[{\"type\":\"scattergl\",\"marker\":{\"colorbar\":{\"outlinewidth\":0,\"ticks\":\"\"}}}],\"scatter3d\":[{\"type\":\"scatter3d\",\"line\":{\"colorbar\":{\"outlinewidth\":0,\"ticks\":\"\"}},\"marker\":{\"colorbar\":{\"outlinewidth\":0,\"ticks\":\"\"}}}],\"scattermapbox\":[{\"type\":\"scattermapbox\",\"marker\":{\"colorbar\":{\"outlinewidth\":0,\"ticks\":\"\"}}}],\"scatterternary\":[{\"type\":\"scatterternary\",\"marker\":{\"colorbar\":{\"outlinewidth\":0,\"ticks\":\"\"}}}],\"scattercarpet\":[{\"type\":\"scattercarpet\",\"marker\":{\"colorbar\":{\"outlinewidth\":0,\"ticks\":\"\"}}}],\"carpet\":[{\"aaxis\":{\"endlinecolor\":\"#2a3f5f\",\"gridcolor\":\"white\",\"linecolor\":\"white\",\"minorgridcolor\":\"white\",\"startlinecolor\":\"#2a3f5f\"},\"baxis\":{\"endlinecolor\":\"#2a3f5f\",\"gridcolor\":\"white\",\"linecolor\":\"white\",\"minorgridcolor\":\"white\",\"startlinecolor\":\"#2a3f5f\"},\"type\":\"carpet\"}],\"table\":[{\"cells\":{\"fill\":{\"color\":\"#EBF0F8\"},\"line\":{\"color\":\"white\"}},\"header\":{\"fill\":{\"color\":\"#C8D4E3\"},\"line\":{\"color\":\"white\"}},\"type\":\"table\"}],\"barpolar\":[{\"marker\":{\"line\":{\"color\":\"#E5ECF6\",\"width\":0.5},\"pattern\":{\"fillmode\":\"overlay\",\"size\":10,\"solidity\":0.2}},\"type\":\"barpolar\"}],\"pie\":[{\"automargin\":true,\"type\":\"pie\"}]},\"layout\":{\"autotypenumbers\":\"strict\",\"colorway\":[\"#636efa\",\"#EF553B\",\"#00cc96\",\"#ab63fa\",\"#FFA15A\",\"#19d3f3\",\"#FF6692\",\"#B6E880\",\"#FF97FF\",\"#FECB52\"],\"font\":{\"color\":\"#2a3f5f\"},\"hovermode\":\"closest\",\"hoverlabel\":{\"align\":\"left\"},\"paper_bgcolor\":\"white\",\"plot_bgcolor\":\"#E5ECF6\",\"polar\":{\"bgcolor\":\"#E5ECF6\",\"angularaxis\":{\"gridcolor\":\"white\",\"linecolor\":\"white\",\"ticks\":\"\"},\"radialaxis\":{\"gridcolor\":\"white\",\"linecolor\":\"white\",\"ticks\":\"\"}},\"ternary\":{\"bgcolor\":\"#E5ECF6\",\"aaxis\":{\"gridcolor\":\"white\",\"linecolor\":\"white\",\"ticks\":\"\"},\"baxis\":{\"gridcolor\":\"white\",\"linecolor\":\"white\",\"ticks\":\"\"},\"caxis\":{\"gridcolor\":\"white\",\"linecolor\":\"white\",\"ticks\":\"\"}},\"coloraxis\":{\"colorbar\":{\"outlinewidth\":0,\"ticks\":\"\"}},\"colorscale\":{\"sequential\":[[0.0,\"#0d0887\"],[0.1111111111111111,\"#46039f\"],[0.2222222222222222,\"#7201a8\"],[0.3333333333333333,\"#9c179e\"],[0.4444444444444444,\"#bd3786\"],[0.5555555555555556,\"#d8576b\"],[0.6666666666666666,\"#ed7953\"],[0.7777777777777778,\"#fb9f3a\"],[0.8888888888888888,\"#fdca26\"],[1.0,\"#f0f921\"]],\"sequentialminus\":[[0.0,\"#0d0887\"],[0.1111111111111111,\"#46039f\"],[0.2222222222222222,\"#7201a8\"],[0.3333333333333333,\"#9c179e\"],[0.4444444444444444,\"#bd3786\"],[0.5555555555555556,\"#d8576b\"],[0.6666666666666666,\"#ed7953\"],[0.7777777777777778,\"#fb9f3a\"],[0.8888888888888888,\"#fdca26\"],[1.0,\"#f0f921\"]],\"diverging\":[[0,\"#8e0152\"],[0.1,\"#c51b7d\"],[0.2,\"#de77ae\"],[0.3,\"#f1b6da\"],[0.4,\"#fde0ef\"],[0.5,\"#f7f7f7\"],[0.6,\"#e6f5d0\"],[0.7,\"#b8e186\"],[0.8,\"#7fbc41\"],[0.9,\"#4d9221\"],[1,\"#276419\"]]},\"xaxis\":{\"gridcolor\":\"white\",\"linecolor\":\"white\",\"ticks\":\"\",\"title\":{\"standoff\":15},\"zerolinecolor\":\"white\",\"automargin\":true,\"zerolinewidth\":2},\"yaxis\":{\"gridcolor\":\"white\",\"linecolor\":\"white\",\"ticks\":\"\",\"title\":{\"standoff\":15},\"zerolinecolor\":\"white\",\"automargin\":true,\"zerolinewidth\":2},\"scene\":{\"xaxis\":{\"backgroundcolor\":\"#E5ECF6\",\"gridcolor\":\"white\",\"linecolor\":\"white\",\"showbackground\":true,\"ticks\":\"\",\"zerolinecolor\":\"white\",\"gridwidth\":2},\"yaxis\":{\"backgroundcolor\":\"#E5ECF6\",\"gridcolor\":\"white\",\"linecolor\":\"white\",\"showbackground\":true,\"ticks\":\"\",\"zerolinecolor\":\"white\",\"gridwidth\":2},\"zaxis\":{\"backgroundcolor\":\"#E5ECF6\",\"gridcolor\":\"white\",\"linecolor\":\"white\",\"showbackground\":true,\"ticks\":\"\",\"zerolinecolor\":\"white\",\"gridwidth\":2}},\"shapedefaults\":{\"line\":{\"color\":\"#2a3f5f\"}},\"annotationdefaults\":{\"arrowcolor\":\"#2a3f5f\",\"arrowhead\":0,\"arrowwidth\":1},\"geo\":{\"bgcolor\":\"white\",\"landcolor\":\"#E5ECF6\",\"subunitcolor\":\"white\",\"showland\":true,\"showlakes\":true,\"lakecolor\":\"white\"},\"title\":{\"x\":0.05},\"mapbox\":{\"style\":\"light\"}}},\"scene\":{\"domain\":{\"x\":[0.0,1.0],\"y\":[0.0,1.0]},\"xaxis\":{\"title\":{\"text\":\"0\"}},\"yaxis\":{\"title\":{\"text\":\"1\"}},\"zaxis\":{\"title\":{\"text\":\"2\"}}},\"legend\":{\"title\":{\"text\":\"Comunidad\"},\"tracegroupgap\":0},\"margin\":{\"t\":60}},                        {\"responsive\": true}                    ).then(function(){\n",
              "                            \n",
              "var gd = document.getElementById('20f6e203-c58d-4f1c-b785-b3145699a1fd');\n",
              "var x = new MutationObserver(function (mutations, observer) {{\n",
              "        var display = window.getComputedStyle(gd).display;\n",
              "        if (!display || display === 'none') {{\n",
              "            console.log([gd, 'removed!']);\n",
              "            Plotly.purge(gd);\n",
              "            observer.disconnect();\n",
              "        }}\n",
              "}});\n",
              "\n",
              "// Listen for the removal of the full notebook cells\n",
              "var notebookContainer = gd.closest('#notebook-container');\n",
              "if (notebookContainer) {{\n",
              "    x.observe(notebookContainer, {childList: true});\n",
              "}}\n",
              "\n",
              "// Listen for the clearing of the current output cell\n",
              "var outputEl = gd.closest('.output');\n",
              "if (outputEl) {{\n",
              "    x.observe(outputEl, {childList: true});\n",
              "}}\n",
              "\n",
              "                        })                };                            </script>        </div>\n",
              "</body>\n",
              "</html>"
            ]
          },
          "metadata": {},
          "output_type": "display_data"
        }
      ],
      "source": [
        "tsne = TSNE(n_components=3, random_state=0, perplexity=5)\n",
        "projections_tsne = tsne.fit_transform(df_std, )\n",
        "\n",
        "fig = px.scatter_3d(\n",
        "    projections_tsne, x=0, y=1, z=2,\n",
        "    color=df['Comunidad'], labels={'color': 'Comunidad'}\n",
        ")\n",
        "fig.update_traces(marker_size=8)\n",
        "fig.show()"
      ]
    },
    {
      "cell_type": "markdown",
      "metadata": {
        "id": "IFv-005YWSfn"
      },
      "source": [
        "### UMAP"
      ]
    },
    {
      "cell_type": "code",
      "execution_count": null,
      "metadata": {
        "colab": {
          "base_uri": "https://localhost:8080/"
        },
        "id": "yqY__GmFXcKe",
        "outputId": "ac6f25a6-f9a8-45f1-9f43-c336df01c9df"
      },
      "outputs": [
        {
          "name": "stdout",
          "output_type": "stream",
          "text": [
            "Collecting umap-learn\n",
            "  Downloading umap-learn-0.5.3.tar.gz (88 kB)\n",
            "\u001b[?25l     \u001b[90m━━━━━━━━━━━━━━━━━━━━━━━━━━━━━━━━━━━━━━━━\u001b[0m \u001b[32m0.0/88.2 kB\u001b[0m \u001b[31m?\u001b[0m eta \u001b[36m-:--:--\u001b[0m\r\u001b[2K     \u001b[91m━━━━━━━━━━━━━━━━━━━━━━━━━━━━━━━━━━━━━\u001b[0m\u001b[90m╺\u001b[0m\u001b[90m━━\u001b[0m \u001b[32m81.9/88.2 kB\u001b[0m \u001b[31m2.2 MB/s\u001b[0m eta \u001b[36m0:00:01\u001b[0m\r\u001b[2K     \u001b[90m━━━━━━━━━━━━━━━━━━━━━━━━━━━━━━━━━━━━━━━━\u001b[0m \u001b[32m88.2/88.2 kB\u001b[0m \u001b[31m1.8 MB/s\u001b[0m eta \u001b[36m0:00:00\u001b[0m\n",
            "\u001b[?25h  Preparing metadata (setup.py) ... \u001b[?25l\u001b[?25hdone\n",
            "Requirement already satisfied: numpy>=1.17 in /usr/local/lib/python3.10/dist-packages (from umap-learn) (1.23.5)\n",
            "Requirement already satisfied: scikit-learn>=0.22 in /usr/local/lib/python3.10/dist-packages (from umap-learn) (1.2.2)\n",
            "Requirement already satisfied: scipy>=1.0 in /usr/local/lib/python3.10/dist-packages (from umap-learn) (1.10.1)\n",
            "Requirement already satisfied: numba>=0.49 in /usr/local/lib/python3.10/dist-packages (from umap-learn) (0.56.4)\n",
            "Collecting pynndescent>=0.5 (from umap-learn)\n",
            "  Downloading pynndescent-0.5.10.tar.gz (1.1 MB)\n",
            "\u001b[2K     \u001b[90m━━━━━━━━━━━━━━━━━━━━━━━━━━━━━━━━━━━━━━━━\u001b[0m \u001b[32m1.1/1.1 MB\u001b[0m \u001b[31m8.4 MB/s\u001b[0m eta \u001b[36m0:00:00\u001b[0m\n",
            "\u001b[?25h  Preparing metadata (setup.py) ... \u001b[?25l\u001b[?25hdone\n",
            "Requirement already satisfied: tqdm in /usr/local/lib/python3.10/dist-packages (from umap-learn) (4.66.1)\n",
            "Requirement already satisfied: llvmlite<0.40,>=0.39.0dev0 in /usr/local/lib/python3.10/dist-packages (from numba>=0.49->umap-learn) (0.39.1)\n",
            "Requirement already satisfied: setuptools in /usr/local/lib/python3.10/dist-packages (from numba>=0.49->umap-learn) (67.7.2)\n",
            "Requirement already satisfied: joblib>=0.11 in /usr/local/lib/python3.10/dist-packages (from pynndescent>=0.5->umap-learn) (1.3.2)\n",
            "Requirement already satisfied: threadpoolctl>=2.0.0 in /usr/local/lib/python3.10/dist-packages (from scikit-learn>=0.22->umap-learn) (3.2.0)\n",
            "Building wheels for collected packages: umap-learn, pynndescent\n",
            "  Building wheel for umap-learn (setup.py) ... \u001b[?25l\u001b[?25hdone\n",
            "  Created wheel for umap-learn: filename=umap_learn-0.5.3-py3-none-any.whl size=82807 sha256=c447c2e6b6207f6389f78e8388b265ce1b19bc3d19e0779a148240f3961c57c4\n",
            "  Stored in directory: /root/.cache/pip/wheels/a0/e8/c6/a37ea663620bd5200ea1ba0907ab3c217042c1d035ef606acc\n",
            "  Building wheel for pynndescent (setup.py) ... \u001b[?25l\u001b[?25hdone\n",
            "  Created wheel for pynndescent: filename=pynndescent-0.5.10-py3-none-any.whl size=55615 sha256=c628899ef626490e7a736ebef4df9d7ca2d8ede93f8a8a1ecbed294b46342938\n",
            "  Stored in directory: /root/.cache/pip/wheels/4a/38/5d/f60a40a66a9512b7e5e83517ebc2d1b42d857be97d135f1096\n",
            "Successfully built umap-learn pynndescent\n",
            "Installing collected packages: pynndescent, umap-learn\n",
            "Successfully installed pynndescent-0.5.10 umap-learn-0.5.3\n"
          ]
        }
      ],
      "source": [
        "pip install umap-learn"
      ]
    },
    {
      "cell_type": "code",
      "execution_count": null,
      "metadata": {
        "id": "J8L3HRVEZOzV"
      },
      "outputs": [],
      "source": [
        "import umap"
      ]
    },
    {
      "cell_type": "code",
      "execution_count": null,
      "metadata": {
        "colab": {
          "base_uri": "https://localhost:8080/",
          "height": 1000
        },
        "id": "1aTjbbR6VWik",
        "outputId": "6d0b2389-570d-41d0-8443-9d030413317b"
      },
      "outputs": [
        {
          "data": {
            "text/html": [
              "<html>\n",
              "<head><meta charset=\"utf-8\" /></head>\n",
              "<body>\n",
              "    <div>            <script src=\"https://cdnjs.cloudflare.com/ajax/libs/mathjax/2.7.5/MathJax.js?config=TeX-AMS-MML_SVG\"></script><script type=\"text/javascript\">if (window.MathJax && window.MathJax.Hub && window.MathJax.Hub.Config) {window.MathJax.Hub.Config({SVG: {font: \"STIX-Web\"}});}</script>                <script type=\"text/javascript\">window.PlotlyConfig = {MathJaxConfig: 'local'};</script>\n",
              "        <script charset=\"utf-8\" src=\"https://cdn.plot.ly/plotly-2.24.1.min.js\"></script>                <div id=\"3e846c39-cfc6-48f8-83c6-33633ba25216\" class=\"plotly-graph-div\" style=\"height:525px; width:100%;\"></div>            <script type=\"text/javascript\">                                    window.PLOTLYENV=window.PLOTLYENV || {};                                    if (document.getElementById(\"3e846c39-cfc6-48f8-83c6-33633ba25216\")) {                    Plotly.newPlot(                        \"3e846c39-cfc6-48f8-83c6-33633ba25216\",                        [{\"hovertemplate\":\"Comunidad=Madrid\\u003cbr\\u003e0=%{x}\\u003cbr\\u003e1=%{y}\\u003cextra\\u003e\\u003c\\u002fextra\\u003e\",\"legendgroup\":\"Madrid\",\"marker\":{\"color\":\"#636efa\",\"symbol\":\"circle\"},\"mode\":\"markers\",\"name\":\"Madrid\",\"orientation\":\"v\",\"showlegend\":true,\"x\":[8.081132888793945],\"xaxis\":\"x\",\"y\":[9.925334930419922],\"yaxis\":\"y\",\"type\":\"scatter\"},{\"hovertemplate\":\"Comunidad=Andalusia\\u003cbr\\u003e0=%{x}\\u003cbr\\u003e1=%{y}\\u003cextra\\u003e\\u003c\\u002fextra\\u003e\",\"legendgroup\":\"Andalusia\",\"marker\":{\"color\":\"#EF553B\",\"symbol\":\"circle\"},\"mode\":\"markers\",\"name\":\"Andalusia\",\"orientation\":\"v\",\"showlegend\":true,\"x\":[6.109269618988037],\"xaxis\":\"x\",\"y\":[9.012628555297852],\"yaxis\":\"y\",\"type\":\"scatter\"},{\"hovertemplate\":\"Comunidad=Aragon\\u003cbr\\u003e0=%{x}\\u003cbr\\u003e1=%{y}\\u003cextra\\u003e\\u003c\\u002fextra\\u003e\",\"legendgroup\":\"Aragon\",\"marker\":{\"color\":\"#00cc96\",\"symbol\":\"circle\"},\"mode\":\"markers\",\"name\":\"Aragon\",\"orientation\":\"v\",\"showlegend\":true,\"x\":[7.091020107269287],\"xaxis\":\"x\",\"y\":[8.237248420715332],\"yaxis\":\"y\",\"type\":\"scatter\"},{\"hovertemplate\":\"Comunidad=Asturias\\u003cbr\\u003e0=%{x}\\u003cbr\\u003e1=%{y}\\u003cextra\\u003e\\u003c\\u002fextra\\u003e\",\"legendgroup\":\"Asturias\",\"marker\":{\"color\":\"#ab63fa\",\"symbol\":\"circle\"},\"mode\":\"markers\",\"name\":\"Asturias\",\"orientation\":\"v\",\"showlegend\":true,\"x\":[6.22084903717041],\"xaxis\":\"x\",\"y\":[7.897233009338379],\"yaxis\":\"y\",\"type\":\"scatter\"},{\"hovertemplate\":\"Comunidad=Balearic Islands\\u003cbr\\u003e0=%{x}\\u003cbr\\u003e1=%{y}\\u003cextra\\u003e\\u003c\\u002fextra\\u003e\",\"legendgroup\":\"Balearic Islands\",\"marker\":{\"color\":\"#FFA15A\",\"symbol\":\"circle\"},\"mode\":\"markers\",\"name\":\"Balearic Islands\",\"orientation\":\"v\",\"showlegend\":true,\"x\":[6.619274616241455],\"xaxis\":\"x\",\"y\":[9.823153495788574],\"yaxis\":\"y\",\"type\":\"scatter\"},{\"hovertemplate\":\"Comunidad=Canary Islands\\u003cbr\\u003e0=%{x}\\u003cbr\\u003e1=%{y}\\u003cextra\\u003e\\u003c\\u002fextra\\u003e\",\"legendgroup\":\"Canary Islands\",\"marker\":{\"color\":\"#19d3f3\",\"symbol\":\"circle\"},\"mode\":\"markers\",\"name\":\"Canary Islands\",\"orientation\":\"v\",\"showlegend\":true,\"x\":[4.88818359375],\"xaxis\":\"x\",\"y\":[8.224013328552246],\"yaxis\":\"y\",\"type\":\"scatter\"},{\"hovertemplate\":\"Comunidad=Cantabria\\u003cbr\\u003e0=%{x}\\u003cbr\\u003e1=%{y}\\u003cextra\\u003e\\u003c\\u002fextra\\u003e\",\"legendgroup\":\"Cantabria\",\"marker\":{\"color\":\"#FF6692\",\"symbol\":\"circle\"},\"mode\":\"markers\",\"name\":\"Cantabria\",\"orientation\":\"v\",\"showlegend\":true,\"x\":[5.660355091094971],\"xaxis\":\"x\",\"y\":[7.382204532623291],\"yaxis\":\"y\",\"type\":\"scatter\"},{\"hovertemplate\":\"Comunidad=Castile and Leon\\u003cbr\\u003e0=%{x}\\u003cbr\\u003e1=%{y}\\u003cextra\\u003e\\u003c\\u002fextra\\u003e\",\"legendgroup\":\"Castile and Leon\",\"marker\":{\"color\":\"#B6E880\",\"symbol\":\"circle\"},\"mode\":\"markers\",\"name\":\"Castile and Leon\",\"orientation\":\"v\",\"showlegend\":true,\"x\":[5.1518874168396],\"xaxis\":\"x\",\"y\":[8.822379112243652],\"yaxis\":\"y\",\"type\":\"scatter\"},{\"hovertemplate\":\"Comunidad=Castile-La Mancha\\u003cbr\\u003e0=%{x}\\u003cbr\\u003e1=%{y}\\u003cextra\\u003e\\u003c\\u002fextra\\u003e\",\"legendgroup\":\"Castile-La Mancha\",\"marker\":{\"color\":\"#FF97FF\",\"symbol\":\"circle\"},\"mode\":\"markers\",\"name\":\"Castile-La Mancha\",\"orientation\":\"v\",\"showlegend\":true,\"x\":[4.832903861999512],\"xaxis\":\"x\",\"y\":[7.686208248138428],\"yaxis\":\"y\",\"type\":\"scatter\"},{\"hovertemplate\":\"Comunidad=Catalonia\\u003cbr\\u003e0=%{x}\\u003cbr\\u003e1=%{y}\\u003cextra\\u003e\\u003c\\u002fextra\\u003e\",\"legendgroup\":\"Catalonia\",\"marker\":{\"color\":\"#FECB52\",\"symbol\":\"circle\"},\"mode\":\"markers\",\"name\":\"Catalonia\",\"orientation\":\"v\",\"showlegend\":true,\"x\":[7.669544219970703],\"xaxis\":\"x\",\"y\":[8.89319133758545],\"yaxis\":\"y\",\"type\":\"scatter\"},{\"hovertemplate\":\"Comunidad=Valencia\\u003cbr\\u003e0=%{x}\\u003cbr\\u003e1=%{y}\\u003cextra\\u003e\\u003c\\u002fextra\\u003e\",\"legendgroup\":\"Valencia\",\"marker\":{\"color\":\"#636efa\",\"symbol\":\"circle\"},\"mode\":\"markers\",\"name\":\"Valencia\",\"orientation\":\"v\",\"showlegend\":true,\"x\":[6.688575744628906],\"xaxis\":\"x\",\"y\":[8.756749153137207],\"yaxis\":\"y\",\"type\":\"scatter\"},{\"hovertemplate\":\"Comunidad=Extremadura\\u003cbr\\u003e0=%{x}\\u003cbr\\u003e1=%{y}\\u003cextra\\u003e\\u003c\\u002fextra\\u003e\",\"legendgroup\":\"Extremadura\",\"marker\":{\"color\":\"#EF553B\",\"symbol\":\"circle\"},\"mode\":\"markers\",\"name\":\"Extremadura\",\"orientation\":\"v\",\"showlegend\":true,\"x\":[5.322466850280762],\"xaxis\":\"x\",\"y\":[7.882215976715088],\"yaxis\":\"y\",\"type\":\"scatter\"},{\"hovertemplate\":\"Comunidad=Galicia\\u003cbr\\u003e0=%{x}\\u003cbr\\u003e1=%{y}\\u003cextra\\u003e\\u003c\\u002fextra\\u003e\",\"legendgroup\":\"Galicia\",\"marker\":{\"color\":\"#00cc96\",\"symbol\":\"circle\"},\"mode\":\"markers\",\"name\":\"Galicia\",\"orientation\":\"v\",\"showlegend\":true,\"x\":[5.949093341827393],\"xaxis\":\"x\",\"y\":[9.701869010925293],\"yaxis\":\"y\",\"type\":\"scatter\"},{\"hovertemplate\":\"Comunidad=Murcia\\u003cbr\\u003e0=%{x}\\u003cbr\\u003e1=%{y}\\u003cextra\\u003e\\u003c\\u002fextra\\u003e\",\"legendgroup\":\"Murcia\",\"marker\":{\"color\":\"#ab63fa\",\"symbol\":\"circle\"},\"mode\":\"markers\",\"name\":\"Murcia\",\"orientation\":\"v\",\"showlegend\":true,\"x\":[5.615618705749512],\"xaxis\":\"x\",\"y\":[9.372735977172852],\"yaxis\":\"y\",\"type\":\"scatter\"},{\"hovertemplate\":\"Comunidad=Navarre\\u003cbr\\u003e0=%{x}\\u003cbr\\u003e1=%{y}\\u003cextra\\u003e\\u003c\\u002fextra\\u003e\",\"legendgroup\":\"Navarre\",\"marker\":{\"color\":\"#FFA15A\",\"symbol\":\"circle\"},\"mode\":\"markers\",\"name\":\"Navarre\",\"orientation\":\"v\",\"showlegend\":true,\"x\":[7.420929431915283],\"xaxis\":\"x\",\"y\":[9.555543899536133],\"yaxis\":\"y\",\"type\":\"scatter\"},{\"hovertemplate\":\"Comunidad=Basque Country\\u003cbr\\u003e0=%{x}\\u003cbr\\u003e1=%{y}\\u003cextra\\u003e\\u003c\\u002fextra\\u003e\",\"legendgroup\":\"Basque Country\",\"marker\":{\"color\":\"#19d3f3\",\"symbol\":\"circle\"},\"mode\":\"markers\",\"name\":\"Basque Country\",\"orientation\":\"v\",\"showlegend\":true,\"x\":[7.835262298583984],\"xaxis\":\"x\",\"y\":[9.530257225036621],\"yaxis\":\"y\",\"type\":\"scatter\"},{\"hovertemplate\":\"Comunidad=La Rioja\\u003cbr\\u003e0=%{x}\\u003cbr\\u003e1=%{y}\\u003cextra\\u003e\\u003c\\u002fextra\\u003e\",\"legendgroup\":\"La Rioja\",\"marker\":{\"color\":\"#FF6692\",\"symbol\":\"circle\"},\"mode\":\"markers\",\"name\":\"La Rioja\",\"orientation\":\"v\",\"showlegend\":true,\"x\":[6.63711404800415],\"xaxis\":\"x\",\"y\":[7.593257904052734],\"yaxis\":\"y\",\"type\":\"scatter\"},{\"hovertemplate\":\"Comunidad=Ceuta\\u003cbr\\u003e0=%{x}\\u003cbr\\u003e1=%{y}\\u003cextra\\u003e\\u003c\\u002fextra\\u003e\",\"legendgroup\":\"Ceuta\",\"marker\":{\"color\":\"#B6E880\",\"symbol\":\"circle\"},\"mode\":\"markers\",\"name\":\"Ceuta\",\"orientation\":\"v\",\"showlegend\":true,\"x\":[8.276385307312012],\"xaxis\":\"x\",\"y\":[9.049980163574219],\"yaxis\":\"y\",\"type\":\"scatter\"},{\"hovertemplate\":\"Comunidad=Melilla\\u003cbr\\u003e0=%{x}\\u003cbr\\u003e1=%{y}\\u003cextra\\u003e\\u003c\\u002fextra\\u003e\",\"legendgroup\":\"Melilla\",\"marker\":{\"color\":\"#FF97FF\",\"symbol\":\"circle\"},\"mode\":\"markers\",\"name\":\"Melilla\",\"orientation\":\"v\",\"showlegend\":true,\"x\":[5.84033727645874],\"xaxis\":\"x\",\"y\":[8.331557273864746],\"yaxis\":\"y\",\"type\":\"scatter\"}],                        {\"template\":{\"data\":{\"histogram2dcontour\":[{\"type\":\"histogram2dcontour\",\"colorbar\":{\"outlinewidth\":0,\"ticks\":\"\"},\"colorscale\":[[0.0,\"#0d0887\"],[0.1111111111111111,\"#46039f\"],[0.2222222222222222,\"#7201a8\"],[0.3333333333333333,\"#9c179e\"],[0.4444444444444444,\"#bd3786\"],[0.5555555555555556,\"#d8576b\"],[0.6666666666666666,\"#ed7953\"],[0.7777777777777778,\"#fb9f3a\"],[0.8888888888888888,\"#fdca26\"],[1.0,\"#f0f921\"]]}],\"choropleth\":[{\"type\":\"choropleth\",\"colorbar\":{\"outlinewidth\":0,\"ticks\":\"\"}}],\"histogram2d\":[{\"type\":\"histogram2d\",\"colorbar\":{\"outlinewidth\":0,\"ticks\":\"\"},\"colorscale\":[[0.0,\"#0d0887\"],[0.1111111111111111,\"#46039f\"],[0.2222222222222222,\"#7201a8\"],[0.3333333333333333,\"#9c179e\"],[0.4444444444444444,\"#bd3786\"],[0.5555555555555556,\"#d8576b\"],[0.6666666666666666,\"#ed7953\"],[0.7777777777777778,\"#fb9f3a\"],[0.8888888888888888,\"#fdca26\"],[1.0,\"#f0f921\"]]}],\"heatmap\":[{\"type\":\"heatmap\",\"colorbar\":{\"outlinewidth\":0,\"ticks\":\"\"},\"colorscale\":[[0.0,\"#0d0887\"],[0.1111111111111111,\"#46039f\"],[0.2222222222222222,\"#7201a8\"],[0.3333333333333333,\"#9c179e\"],[0.4444444444444444,\"#bd3786\"],[0.5555555555555556,\"#d8576b\"],[0.6666666666666666,\"#ed7953\"],[0.7777777777777778,\"#fb9f3a\"],[0.8888888888888888,\"#fdca26\"],[1.0,\"#f0f921\"]]}],\"heatmapgl\":[{\"type\":\"heatmapgl\",\"colorbar\":{\"outlinewidth\":0,\"ticks\":\"\"},\"colorscale\":[[0.0,\"#0d0887\"],[0.1111111111111111,\"#46039f\"],[0.2222222222222222,\"#7201a8\"],[0.3333333333333333,\"#9c179e\"],[0.4444444444444444,\"#bd3786\"],[0.5555555555555556,\"#d8576b\"],[0.6666666666666666,\"#ed7953\"],[0.7777777777777778,\"#fb9f3a\"],[0.8888888888888888,\"#fdca26\"],[1.0,\"#f0f921\"]]}],\"contourcarpet\":[{\"type\":\"contourcarpet\",\"colorbar\":{\"outlinewidth\":0,\"ticks\":\"\"}}],\"contour\":[{\"type\":\"contour\",\"colorbar\":{\"outlinewidth\":0,\"ticks\":\"\"},\"colorscale\":[[0.0,\"#0d0887\"],[0.1111111111111111,\"#46039f\"],[0.2222222222222222,\"#7201a8\"],[0.3333333333333333,\"#9c179e\"],[0.4444444444444444,\"#bd3786\"],[0.5555555555555556,\"#d8576b\"],[0.6666666666666666,\"#ed7953\"],[0.7777777777777778,\"#fb9f3a\"],[0.8888888888888888,\"#fdca26\"],[1.0,\"#f0f921\"]]}],\"surface\":[{\"type\":\"surface\",\"colorbar\":{\"outlinewidth\":0,\"ticks\":\"\"},\"colorscale\":[[0.0,\"#0d0887\"],[0.1111111111111111,\"#46039f\"],[0.2222222222222222,\"#7201a8\"],[0.3333333333333333,\"#9c179e\"],[0.4444444444444444,\"#bd3786\"],[0.5555555555555556,\"#d8576b\"],[0.6666666666666666,\"#ed7953\"],[0.7777777777777778,\"#fb9f3a\"],[0.8888888888888888,\"#fdca26\"],[1.0,\"#f0f921\"]]}],\"mesh3d\":[{\"type\":\"mesh3d\",\"colorbar\":{\"outlinewidth\":0,\"ticks\":\"\"}}],\"scatter\":[{\"fillpattern\":{\"fillmode\":\"overlay\",\"size\":10,\"solidity\":0.2},\"type\":\"scatter\"}],\"parcoords\":[{\"type\":\"parcoords\",\"line\":{\"colorbar\":{\"outlinewidth\":0,\"ticks\":\"\"}}}],\"scatterpolargl\":[{\"type\":\"scatterpolargl\",\"marker\":{\"colorbar\":{\"outlinewidth\":0,\"ticks\":\"\"}}}],\"bar\":[{\"error_x\":{\"color\":\"#2a3f5f\"},\"error_y\":{\"color\":\"#2a3f5f\"},\"marker\":{\"line\":{\"color\":\"#E5ECF6\",\"width\":0.5},\"pattern\":{\"fillmode\":\"overlay\",\"size\":10,\"solidity\":0.2}},\"type\":\"bar\"}],\"scattergeo\":[{\"type\":\"scattergeo\",\"marker\":{\"colorbar\":{\"outlinewidth\":0,\"ticks\":\"\"}}}],\"scatterpolar\":[{\"type\":\"scatterpolar\",\"marker\":{\"colorbar\":{\"outlinewidth\":0,\"ticks\":\"\"}}}],\"histogram\":[{\"marker\":{\"pattern\":{\"fillmode\":\"overlay\",\"size\":10,\"solidity\":0.2}},\"type\":\"histogram\"}],\"scattergl\":[{\"type\":\"scattergl\",\"marker\":{\"colorbar\":{\"outlinewidth\":0,\"ticks\":\"\"}}}],\"scatter3d\":[{\"type\":\"scatter3d\",\"line\":{\"colorbar\":{\"outlinewidth\":0,\"ticks\":\"\"}},\"marker\":{\"colorbar\":{\"outlinewidth\":0,\"ticks\":\"\"}}}],\"scattermapbox\":[{\"type\":\"scattermapbox\",\"marker\":{\"colorbar\":{\"outlinewidth\":0,\"ticks\":\"\"}}}],\"scatterternary\":[{\"type\":\"scatterternary\",\"marker\":{\"colorbar\":{\"outlinewidth\":0,\"ticks\":\"\"}}}],\"scattercarpet\":[{\"type\":\"scattercarpet\",\"marker\":{\"colorbar\":{\"outlinewidth\":0,\"ticks\":\"\"}}}],\"carpet\":[{\"aaxis\":{\"endlinecolor\":\"#2a3f5f\",\"gridcolor\":\"white\",\"linecolor\":\"white\",\"minorgridcolor\":\"white\",\"startlinecolor\":\"#2a3f5f\"},\"baxis\":{\"endlinecolor\":\"#2a3f5f\",\"gridcolor\":\"white\",\"linecolor\":\"white\",\"minorgridcolor\":\"white\",\"startlinecolor\":\"#2a3f5f\"},\"type\":\"carpet\"}],\"table\":[{\"cells\":{\"fill\":{\"color\":\"#EBF0F8\"},\"line\":{\"color\":\"white\"}},\"header\":{\"fill\":{\"color\":\"#C8D4E3\"},\"line\":{\"color\":\"white\"}},\"type\":\"table\"}],\"barpolar\":[{\"marker\":{\"line\":{\"color\":\"#E5ECF6\",\"width\":0.5},\"pattern\":{\"fillmode\":\"overlay\",\"size\":10,\"solidity\":0.2}},\"type\":\"barpolar\"}],\"pie\":[{\"automargin\":true,\"type\":\"pie\"}]},\"layout\":{\"autotypenumbers\":\"strict\",\"colorway\":[\"#636efa\",\"#EF553B\",\"#00cc96\",\"#ab63fa\",\"#FFA15A\",\"#19d3f3\",\"#FF6692\",\"#B6E880\",\"#FF97FF\",\"#FECB52\"],\"font\":{\"color\":\"#2a3f5f\"},\"hovermode\":\"closest\",\"hoverlabel\":{\"align\":\"left\"},\"paper_bgcolor\":\"white\",\"plot_bgcolor\":\"#E5ECF6\",\"polar\":{\"bgcolor\":\"#E5ECF6\",\"angularaxis\":{\"gridcolor\":\"white\",\"linecolor\":\"white\",\"ticks\":\"\"},\"radialaxis\":{\"gridcolor\":\"white\",\"linecolor\":\"white\",\"ticks\":\"\"}},\"ternary\":{\"bgcolor\":\"#E5ECF6\",\"aaxis\":{\"gridcolor\":\"white\",\"linecolor\":\"white\",\"ticks\":\"\"},\"baxis\":{\"gridcolor\":\"white\",\"linecolor\":\"white\",\"ticks\":\"\"},\"caxis\":{\"gridcolor\":\"white\",\"linecolor\":\"white\",\"ticks\":\"\"}},\"coloraxis\":{\"colorbar\":{\"outlinewidth\":0,\"ticks\":\"\"}},\"colorscale\":{\"sequential\":[[0.0,\"#0d0887\"],[0.1111111111111111,\"#46039f\"],[0.2222222222222222,\"#7201a8\"],[0.3333333333333333,\"#9c179e\"],[0.4444444444444444,\"#bd3786\"],[0.5555555555555556,\"#d8576b\"],[0.6666666666666666,\"#ed7953\"],[0.7777777777777778,\"#fb9f3a\"],[0.8888888888888888,\"#fdca26\"],[1.0,\"#f0f921\"]],\"sequentialminus\":[[0.0,\"#0d0887\"],[0.1111111111111111,\"#46039f\"],[0.2222222222222222,\"#7201a8\"],[0.3333333333333333,\"#9c179e\"],[0.4444444444444444,\"#bd3786\"],[0.5555555555555556,\"#d8576b\"],[0.6666666666666666,\"#ed7953\"],[0.7777777777777778,\"#fb9f3a\"],[0.8888888888888888,\"#fdca26\"],[1.0,\"#f0f921\"]],\"diverging\":[[0,\"#8e0152\"],[0.1,\"#c51b7d\"],[0.2,\"#de77ae\"],[0.3,\"#f1b6da\"],[0.4,\"#fde0ef\"],[0.5,\"#f7f7f7\"],[0.6,\"#e6f5d0\"],[0.7,\"#b8e186\"],[0.8,\"#7fbc41\"],[0.9,\"#4d9221\"],[1,\"#276419\"]]},\"xaxis\":{\"gridcolor\":\"white\",\"linecolor\":\"white\",\"ticks\":\"\",\"title\":{\"standoff\":15},\"zerolinecolor\":\"white\",\"automargin\":true,\"zerolinewidth\":2},\"yaxis\":{\"gridcolor\":\"white\",\"linecolor\":\"white\",\"ticks\":\"\",\"title\":{\"standoff\":15},\"zerolinecolor\":\"white\",\"automargin\":true,\"zerolinewidth\":2},\"scene\":{\"xaxis\":{\"backgroundcolor\":\"#E5ECF6\",\"gridcolor\":\"white\",\"linecolor\":\"white\",\"showbackground\":true,\"ticks\":\"\",\"zerolinecolor\":\"white\",\"gridwidth\":2},\"yaxis\":{\"backgroundcolor\":\"#E5ECF6\",\"gridcolor\":\"white\",\"linecolor\":\"white\",\"showbackground\":true,\"ticks\":\"\",\"zerolinecolor\":\"white\",\"gridwidth\":2},\"zaxis\":{\"backgroundcolor\":\"#E5ECF6\",\"gridcolor\":\"white\",\"linecolor\":\"white\",\"showbackground\":true,\"ticks\":\"\",\"zerolinecolor\":\"white\",\"gridwidth\":2}},\"shapedefaults\":{\"line\":{\"color\":\"#2a3f5f\"}},\"annotationdefaults\":{\"arrowcolor\":\"#2a3f5f\",\"arrowhead\":0,\"arrowwidth\":1},\"geo\":{\"bgcolor\":\"white\",\"landcolor\":\"#E5ECF6\",\"subunitcolor\":\"white\",\"showland\":true,\"showlakes\":true,\"lakecolor\":\"white\"},\"title\":{\"x\":0.05},\"mapbox\":{\"style\":\"light\"}}},\"xaxis\":{\"anchor\":\"y\",\"domain\":[0.0,1.0],\"title\":{\"text\":\"0\"}},\"yaxis\":{\"anchor\":\"x\",\"domain\":[0.0,1.0],\"title\":{\"text\":\"1\"}},\"legend\":{\"title\":{\"text\":\"Comunidad\"},\"tracegroupgap\":0},\"margin\":{\"t\":60}},                        {\"responsive\": true}                    ).then(function(){\n",
              "                            \n",
              "var gd = document.getElementById('3e846c39-cfc6-48f8-83c6-33633ba25216');\n",
              "var x = new MutationObserver(function (mutations, observer) {{\n",
              "        var display = window.getComputedStyle(gd).display;\n",
              "        if (!display || display === 'none') {{\n",
              "            console.log([gd, 'removed!']);\n",
              "            Plotly.purge(gd);\n",
              "            observer.disconnect();\n",
              "        }}\n",
              "}});\n",
              "\n",
              "// Listen for the removal of the full notebook cells\n",
              "var notebookContainer = gd.closest('#notebook-container');\n",
              "if (notebookContainer) {{\n",
              "    x.observe(notebookContainer, {childList: true});\n",
              "}}\n",
              "\n",
              "// Listen for the clearing of the current output cell\n",
              "var outputEl = gd.closest('.output');\n",
              "if (outputEl) {{\n",
              "    x.observe(outputEl, {childList: true});\n",
              "}}\n",
              "\n",
              "                        })                };                            </script>        </div>\n",
              "</body>\n",
              "</html>"
            ]
          },
          "metadata": {},
          "output_type": "display_data"
        },
        {
          "data": {
            "text/html": [
              "<html>\n",
              "<head><meta charset=\"utf-8\" /></head>\n",
              "<body>\n",
              "    <div>            <script src=\"https://cdnjs.cloudflare.com/ajax/libs/mathjax/2.7.5/MathJax.js?config=TeX-AMS-MML_SVG\"></script><script type=\"text/javascript\">if (window.MathJax && window.MathJax.Hub && window.MathJax.Hub.Config) {window.MathJax.Hub.Config({SVG: {font: \"STIX-Web\"}});}</script>                <script type=\"text/javascript\">window.PlotlyConfig = {MathJaxConfig: 'local'};</script>\n",
              "        <script charset=\"utf-8\" src=\"https://cdn.plot.ly/plotly-2.24.1.min.js\"></script>                <div id=\"59568adb-3d72-47bf-b5bb-26731a41542d\" class=\"plotly-graph-div\" style=\"height:525px; width:100%;\"></div>            <script type=\"text/javascript\">                                    window.PLOTLYENV=window.PLOTLYENV || {};                                    if (document.getElementById(\"59568adb-3d72-47bf-b5bb-26731a41542d\")) {                    Plotly.newPlot(                        \"59568adb-3d72-47bf-b5bb-26731a41542d\",                        [{\"hovertemplate\":\"Comunidad=Madrid\\u003cbr\\u003e0=%{x}\\u003cbr\\u003e1=%{y}\\u003cbr\\u003e2=%{z}\\u003cextra\\u003e\\u003c\\u002fextra\\u003e\",\"legendgroup\":\"Madrid\",\"marker\":{\"color\":\"#636efa\",\"symbol\":\"circle\",\"size\":8},\"mode\":\"markers\",\"name\":\"Madrid\",\"scene\":\"scene\",\"showlegend\":true,\"x\":[-0.12456216663122177],\"y\":[8.057668685913086],\"z\":[-0.03076791577041149],\"type\":\"scatter3d\"},{\"hovertemplate\":\"Comunidad=Andalusia\\u003cbr\\u003e0=%{x}\\u003cbr\\u003e1=%{y}\\u003cbr\\u003e2=%{z}\\u003cextra\\u003e\\u003c\\u002fextra\\u003e\",\"legendgroup\":\"Andalusia\",\"marker\":{\"color\":\"#EF553B\",\"symbol\":\"circle\",\"size\":8},\"mode\":\"markers\",\"name\":\"Andalusia\",\"scene\":\"scene\",\"showlegend\":true,\"x\":[2.111454963684082],\"y\":[6.85561466217041],\"z\":[-1.1238362789154053],\"type\":\"scatter3d\"},{\"hovertemplate\":\"Comunidad=Aragon\\u003cbr\\u003e0=%{x}\\u003cbr\\u003e1=%{y}\\u003cbr\\u003e2=%{z}\\u003cextra\\u003e\\u003c\\u002fextra\\u003e\",\"legendgroup\":\"Aragon\",\"marker\":{\"color\":\"#00cc96\",\"symbol\":\"circle\",\"size\":8},\"mode\":\"markers\",\"name\":\"Aragon\",\"scene\":\"scene\",\"showlegend\":true,\"x\":[1.2996716499328613],\"y\":[7.999112606048584],\"z\":[-0.722864031791687],\"type\":\"scatter3d\"},{\"hovertemplate\":\"Comunidad=Asturias\\u003cbr\\u003e0=%{x}\\u003cbr\\u003e1=%{y}\\u003cbr\\u003e2=%{z}\\u003cextra\\u003e\\u003c\\u002fextra\\u003e\",\"legendgroup\":\"Asturias\",\"marker\":{\"color\":\"#ab63fa\",\"symbol\":\"circle\",\"size\":8},\"mode\":\"markers\",\"name\":\"Asturias\",\"scene\":\"scene\",\"showlegend\":true,\"x\":[2.4122841358184814],\"y\":[7.827974319458008],\"z\":[-1.685375452041626],\"type\":\"scatter3d\"},{\"hovertemplate\":\"Comunidad=Balearic Islands\\u003cbr\\u003e0=%{x}\\u003cbr\\u003e1=%{y}\\u003cbr\\u003e2=%{z}\\u003cextra\\u003e\\u003c\\u002fextra\\u003e\",\"legendgroup\":\"Balearic Islands\",\"marker\":{\"color\":\"#FFA15A\",\"symbol\":\"circle\",\"size\":8},\"mode\":\"markers\",\"name\":\"Balearic Islands\",\"scene\":\"scene\",\"showlegend\":true,\"x\":[0.21678775548934937],\"y\":[7.301474094390869],\"z\":[-1.2943754196166992],\"type\":\"scatter3d\"},{\"hovertemplate\":\"Comunidad=Canary Islands\\u003cbr\\u003e0=%{x}\\u003cbr\\u003e1=%{y}\\u003cbr\\u003e2=%{z}\\u003cextra\\u003e\\u003c\\u002fextra\\u003e\",\"legendgroup\":\"Canary Islands\",\"marker\":{\"color\":\"#19d3f3\",\"symbol\":\"circle\",\"size\":8},\"mode\":\"markers\",\"name\":\"Canary Islands\",\"scene\":\"scene\",\"showlegend\":true,\"x\":[1.8302477598190308],\"y\":[7.350835800170898],\"z\":[-2.875729560852051],\"type\":\"scatter3d\"},{\"hovertemplate\":\"Comunidad=Cantabria\\u003cbr\\u003e0=%{x}\\u003cbr\\u003e1=%{y}\\u003cbr\\u003e2=%{z}\\u003cextra\\u003e\\u003c\\u002fextra\\u003e\",\"legendgroup\":\"Cantabria\",\"marker\":{\"color\":\"#FF6692\",\"symbol\":\"circle\",\"size\":8},\"mode\":\"markers\",\"name\":\"Cantabria\",\"scene\":\"scene\",\"showlegend\":true,\"x\":[2.5282487869262695],\"y\":[7.275944709777832],\"z\":[-2.037374973297119],\"type\":\"scatter3d\"},{\"hovertemplate\":\"Comunidad=Castile and Leon\\u003cbr\\u003e0=%{x}\\u003cbr\\u003e1=%{y}\\u003cbr\\u003e2=%{z}\\u003cextra\\u003e\\u003c\\u002fextra\\u003e\",\"legendgroup\":\"Castile and Leon\",\"marker\":{\"color\":\"#B6E880\",\"symbol\":\"circle\",\"size\":8},\"mode\":\"markers\",\"name\":\"Castile and Leon\",\"scene\":\"scene\",\"showlegend\":true,\"x\":[1.1199842691421509],\"y\":[7.10522985458374],\"z\":[-1.9827877283096313],\"type\":\"scatter3d\"},{\"hovertemplate\":\"Comunidad=Castile-La Mancha\\u003cbr\\u003e0=%{x}\\u003cbr\\u003e1=%{y}\\u003cbr\\u003e2=%{z}\\u003cextra\\u003e\\u003c\\u002fextra\\u003e\",\"legendgroup\":\"Castile-La Mancha\",\"marker\":{\"color\":\"#FF97FF\",\"symbol\":\"circle\",\"size\":8},\"mode\":\"markers\",\"name\":\"Castile-La Mancha\",\"scene\":\"scene\",\"showlegend\":true,\"x\":[1.9471538066864014],\"y\":[7.562993049621582],\"z\":[-2.497159004211426],\"type\":\"scatter3d\"},{\"hovertemplate\":\"Comunidad=Catalonia\\u003cbr\\u003e0=%{x}\\u003cbr\\u003e1=%{y}\\u003cbr\\u003e2=%{z}\\u003cextra\\u003e\\u003c\\u002fextra\\u003e\",\"legendgroup\":\"Catalonia\",\"marker\":{\"color\":\"#FECB52\",\"symbol\":\"circle\",\"size\":8},\"mode\":\"markers\",\"name\":\"Catalonia\",\"scene\":\"scene\",\"showlegend\":true,\"x\":[-0.13967224955558777],\"y\":[7.702654838562012],\"z\":[-0.7490233778953552],\"type\":\"scatter3d\"},{\"hovertemplate\":\"Comunidad=Valencia\\u003cbr\\u003e0=%{x}\\u003cbr\\u003e1=%{y}\\u003cbr\\u003e2=%{z}\\u003cextra\\u003e\\u003c\\u002fextra\\u003e\",\"legendgroup\":\"Valencia\",\"marker\":{\"color\":\"#636efa\",\"symbol\":\"circle\",\"size\":8},\"mode\":\"markers\",\"name\":\"Valencia\",\"scene\":\"scene\",\"showlegend\":true,\"x\":[1.6383848190307617],\"y\":[7.20973014831543],\"z\":[-0.6544696688652039],\"type\":\"scatter3d\"},{\"hovertemplate\":\"Comunidad=Extremadura\\u003cbr\\u003e0=%{x}\\u003cbr\\u003e1=%{y}\\u003cbr\\u003e2=%{z}\\u003cextra\\u003e\\u003c\\u002fextra\\u003e\",\"legendgroup\":\"Extremadura\",\"marker\":{\"color\":\"#EF553B\",\"symbol\":\"circle\",\"size\":8},\"mode\":\"markers\",\"name\":\"Extremadura\",\"scene\":\"scene\",\"showlegend\":true,\"x\":[1.8928866386413574],\"y\":[7.077533721923828],\"z\":[-2.228078842163086],\"type\":\"scatter3d\"},{\"hovertemplate\":\"Comunidad=Galicia\\u003cbr\\u003e0=%{x}\\u003cbr\\u003e1=%{y}\\u003cbr\\u003e2=%{z}\\u003cextra\\u003e\\u003c\\u002fextra\\u003e\",\"legendgroup\":\"Galicia\",\"marker\":{\"color\":\"#00cc96\",\"symbol\":\"circle\",\"size\":8},\"mode\":\"markers\",\"name\":\"Galicia\",\"scene\":\"scene\",\"showlegend\":true,\"x\":[0.8854668140411377],\"y\":[6.837488174438477],\"z\":[-0.9676445126533508],\"type\":\"scatter3d\"},{\"hovertemplate\":\"Comunidad=Murcia\\u003cbr\\u003e0=%{x}\\u003cbr\\u003e1=%{y}\\u003cbr\\u003e2=%{z}\\u003cextra\\u003e\\u003c\\u002fextra\\u003e\",\"legendgroup\":\"Murcia\",\"marker\":{\"color\":\"#ab63fa\",\"symbol\":\"circle\",\"size\":8},\"mode\":\"markers\",\"name\":\"Murcia\",\"scene\":\"scene\",\"showlegend\":true,\"x\":[1.466482400894165],\"y\":[6.798786640167236],\"z\":[-1.273635745048523],\"type\":\"scatter3d\"},{\"hovertemplate\":\"Comunidad=Navarre\\u003cbr\\u003e0=%{x}\\u003cbr\\u003e1=%{y}\\u003cbr\\u003e2=%{z}\\u003cextra\\u003e\\u003c\\u002fextra\\u003e\",\"legendgroup\":\"Navarre\",\"marker\":{\"color\":\"#FFA15A\",\"symbol\":\"circle\",\"size\":8},\"mode\":\"markers\",\"name\":\"Navarre\",\"scene\":\"scene\",\"showlegend\":true,\"x\":[0.2531002461910248],\"y\":[7.63433313369751],\"z\":[-0.032829828560352325],\"type\":\"scatter3d\"},{\"hovertemplate\":\"Comunidad=Basque Country\\u003cbr\\u003e0=%{x}\\u003cbr\\u003e1=%{y}\\u003cbr\\u003e2=%{z}\\u003cextra\\u003e\\u003c\\u002fextra\\u003e\",\"legendgroup\":\"Basque Country\",\"marker\":{\"color\":\"#19d3f3\",\"symbol\":\"circle\",\"size\":8},\"mode\":\"markers\",\"name\":\"Basque Country\",\"scene\":\"scene\",\"showlegend\":true,\"x\":[0.5124543309211731],\"y\":[7.990396499633789],\"z\":[-0.46116214990615845],\"type\":\"scatter3d\"},{\"hovertemplate\":\"Comunidad=La Rioja\\u003cbr\\u003e0=%{x}\\u003cbr\\u003e1=%{y}\\u003cbr\\u003e2=%{z}\\u003cextra\\u003e\\u003c\\u002fextra\\u003e\",\"legendgroup\":\"La Rioja\",\"marker\":{\"color\":\"#FF6692\",\"symbol\":\"circle\",\"size\":8},\"mode\":\"markers\",\"name\":\"La Rioja\",\"scene\":\"scene\",\"showlegend\":true,\"x\":[1.9986138343811035],\"y\":[8.016233444213867],\"z\":[-1.1978319883346558],\"type\":\"scatter3d\"},{\"hovertemplate\":\"Comunidad=Ceuta\\u003cbr\\u003e0=%{x}\\u003cbr\\u003e1=%{y}\\u003cbr\\u003e2=%{z}\\u003cextra\\u003e\\u003c\\u002fextra\\u003e\",\"legendgroup\":\"Ceuta\",\"marker\":{\"color\":\"#B6E880\",\"symbol\":\"circle\",\"size\":8},\"mode\":\"markers\",\"name\":\"Ceuta\",\"scene\":\"scene\",\"showlegend\":true,\"x\":[0.020864147692918777],\"y\":[8.398967742919922],\"z\":[-0.529841423034668],\"type\":\"scatter3d\"},{\"hovertemplate\":\"Comunidad=Melilla\\u003cbr\\u003e0=%{x}\\u003cbr\\u003e1=%{y}\\u003cbr\\u003e2=%{z}\\u003cextra\\u003e\\u003c\\u002fextra\\u003e\",\"legendgroup\":\"Melilla\",\"marker\":{\"color\":\"#FF97FF\",\"symbol\":\"circle\",\"size\":8},\"mode\":\"markers\",\"name\":\"Melilla\",\"scene\":\"scene\",\"showlegend\":true,\"x\":[1.7412458658218384],\"y\":[8.026785850524902],\"z\":[-1.8587183952331543],\"type\":\"scatter3d\"}],                        {\"template\":{\"data\":{\"histogram2dcontour\":[{\"type\":\"histogram2dcontour\",\"colorbar\":{\"outlinewidth\":0,\"ticks\":\"\"},\"colorscale\":[[0.0,\"#0d0887\"],[0.1111111111111111,\"#46039f\"],[0.2222222222222222,\"#7201a8\"],[0.3333333333333333,\"#9c179e\"],[0.4444444444444444,\"#bd3786\"],[0.5555555555555556,\"#d8576b\"],[0.6666666666666666,\"#ed7953\"],[0.7777777777777778,\"#fb9f3a\"],[0.8888888888888888,\"#fdca26\"],[1.0,\"#f0f921\"]]}],\"choropleth\":[{\"type\":\"choropleth\",\"colorbar\":{\"outlinewidth\":0,\"ticks\":\"\"}}],\"histogram2d\":[{\"type\":\"histogram2d\",\"colorbar\":{\"outlinewidth\":0,\"ticks\":\"\"},\"colorscale\":[[0.0,\"#0d0887\"],[0.1111111111111111,\"#46039f\"],[0.2222222222222222,\"#7201a8\"],[0.3333333333333333,\"#9c179e\"],[0.4444444444444444,\"#bd3786\"],[0.5555555555555556,\"#d8576b\"],[0.6666666666666666,\"#ed7953\"],[0.7777777777777778,\"#fb9f3a\"],[0.8888888888888888,\"#fdca26\"],[1.0,\"#f0f921\"]]}],\"heatmap\":[{\"type\":\"heatmap\",\"colorbar\":{\"outlinewidth\":0,\"ticks\":\"\"},\"colorscale\":[[0.0,\"#0d0887\"],[0.1111111111111111,\"#46039f\"],[0.2222222222222222,\"#7201a8\"],[0.3333333333333333,\"#9c179e\"],[0.4444444444444444,\"#bd3786\"],[0.5555555555555556,\"#d8576b\"],[0.6666666666666666,\"#ed7953\"],[0.7777777777777778,\"#fb9f3a\"],[0.8888888888888888,\"#fdca26\"],[1.0,\"#f0f921\"]]}],\"heatmapgl\":[{\"type\":\"heatmapgl\",\"colorbar\":{\"outlinewidth\":0,\"ticks\":\"\"},\"colorscale\":[[0.0,\"#0d0887\"],[0.1111111111111111,\"#46039f\"],[0.2222222222222222,\"#7201a8\"],[0.3333333333333333,\"#9c179e\"],[0.4444444444444444,\"#bd3786\"],[0.5555555555555556,\"#d8576b\"],[0.6666666666666666,\"#ed7953\"],[0.7777777777777778,\"#fb9f3a\"],[0.8888888888888888,\"#fdca26\"],[1.0,\"#f0f921\"]]}],\"contourcarpet\":[{\"type\":\"contourcarpet\",\"colorbar\":{\"outlinewidth\":0,\"ticks\":\"\"}}],\"contour\":[{\"type\":\"contour\",\"colorbar\":{\"outlinewidth\":0,\"ticks\":\"\"},\"colorscale\":[[0.0,\"#0d0887\"],[0.1111111111111111,\"#46039f\"],[0.2222222222222222,\"#7201a8\"],[0.3333333333333333,\"#9c179e\"],[0.4444444444444444,\"#bd3786\"],[0.5555555555555556,\"#d8576b\"],[0.6666666666666666,\"#ed7953\"],[0.7777777777777778,\"#fb9f3a\"],[0.8888888888888888,\"#fdca26\"],[1.0,\"#f0f921\"]]}],\"surface\":[{\"type\":\"surface\",\"colorbar\":{\"outlinewidth\":0,\"ticks\":\"\"},\"colorscale\":[[0.0,\"#0d0887\"],[0.1111111111111111,\"#46039f\"],[0.2222222222222222,\"#7201a8\"],[0.3333333333333333,\"#9c179e\"],[0.4444444444444444,\"#bd3786\"],[0.5555555555555556,\"#d8576b\"],[0.6666666666666666,\"#ed7953\"],[0.7777777777777778,\"#fb9f3a\"],[0.8888888888888888,\"#fdca26\"],[1.0,\"#f0f921\"]]}],\"mesh3d\":[{\"type\":\"mesh3d\",\"colorbar\":{\"outlinewidth\":0,\"ticks\":\"\"}}],\"scatter\":[{\"fillpattern\":{\"fillmode\":\"overlay\",\"size\":10,\"solidity\":0.2},\"type\":\"scatter\"}],\"parcoords\":[{\"type\":\"parcoords\",\"line\":{\"colorbar\":{\"outlinewidth\":0,\"ticks\":\"\"}}}],\"scatterpolargl\":[{\"type\":\"scatterpolargl\",\"marker\":{\"colorbar\":{\"outlinewidth\":0,\"ticks\":\"\"}}}],\"bar\":[{\"error_x\":{\"color\":\"#2a3f5f\"},\"error_y\":{\"color\":\"#2a3f5f\"},\"marker\":{\"line\":{\"color\":\"#E5ECF6\",\"width\":0.5},\"pattern\":{\"fillmode\":\"overlay\",\"size\":10,\"solidity\":0.2}},\"type\":\"bar\"}],\"scattergeo\":[{\"type\":\"scattergeo\",\"marker\":{\"colorbar\":{\"outlinewidth\":0,\"ticks\":\"\"}}}],\"scatterpolar\":[{\"type\":\"scatterpolar\",\"marker\":{\"colorbar\":{\"outlinewidth\":0,\"ticks\":\"\"}}}],\"histogram\":[{\"marker\":{\"pattern\":{\"fillmode\":\"overlay\",\"size\":10,\"solidity\":0.2}},\"type\":\"histogram\"}],\"scattergl\":[{\"type\":\"scattergl\",\"marker\":{\"colorbar\":{\"outlinewidth\":0,\"ticks\":\"\"}}}],\"scatter3d\":[{\"type\":\"scatter3d\",\"line\":{\"colorbar\":{\"outlinewidth\":0,\"ticks\":\"\"}},\"marker\":{\"colorbar\":{\"outlinewidth\":0,\"ticks\":\"\"}}}],\"scattermapbox\":[{\"type\":\"scattermapbox\",\"marker\":{\"colorbar\":{\"outlinewidth\":0,\"ticks\":\"\"}}}],\"scatterternary\":[{\"type\":\"scatterternary\",\"marker\":{\"colorbar\":{\"outlinewidth\":0,\"ticks\":\"\"}}}],\"scattercarpet\":[{\"type\":\"scattercarpet\",\"marker\":{\"colorbar\":{\"outlinewidth\":0,\"ticks\":\"\"}}}],\"carpet\":[{\"aaxis\":{\"endlinecolor\":\"#2a3f5f\",\"gridcolor\":\"white\",\"linecolor\":\"white\",\"minorgridcolor\":\"white\",\"startlinecolor\":\"#2a3f5f\"},\"baxis\":{\"endlinecolor\":\"#2a3f5f\",\"gridcolor\":\"white\",\"linecolor\":\"white\",\"minorgridcolor\":\"white\",\"startlinecolor\":\"#2a3f5f\"},\"type\":\"carpet\"}],\"table\":[{\"cells\":{\"fill\":{\"color\":\"#EBF0F8\"},\"line\":{\"color\":\"white\"}},\"header\":{\"fill\":{\"color\":\"#C8D4E3\"},\"line\":{\"color\":\"white\"}},\"type\":\"table\"}],\"barpolar\":[{\"marker\":{\"line\":{\"color\":\"#E5ECF6\",\"width\":0.5},\"pattern\":{\"fillmode\":\"overlay\",\"size\":10,\"solidity\":0.2}},\"type\":\"barpolar\"}],\"pie\":[{\"automargin\":true,\"type\":\"pie\"}]},\"layout\":{\"autotypenumbers\":\"strict\",\"colorway\":[\"#636efa\",\"#EF553B\",\"#00cc96\",\"#ab63fa\",\"#FFA15A\",\"#19d3f3\",\"#FF6692\",\"#B6E880\",\"#FF97FF\",\"#FECB52\"],\"font\":{\"color\":\"#2a3f5f\"},\"hovermode\":\"closest\",\"hoverlabel\":{\"align\":\"left\"},\"paper_bgcolor\":\"white\",\"plot_bgcolor\":\"#E5ECF6\",\"polar\":{\"bgcolor\":\"#E5ECF6\",\"angularaxis\":{\"gridcolor\":\"white\",\"linecolor\":\"white\",\"ticks\":\"\"},\"radialaxis\":{\"gridcolor\":\"white\",\"linecolor\":\"white\",\"ticks\":\"\"}},\"ternary\":{\"bgcolor\":\"#E5ECF6\",\"aaxis\":{\"gridcolor\":\"white\",\"linecolor\":\"white\",\"ticks\":\"\"},\"baxis\":{\"gridcolor\":\"white\",\"linecolor\":\"white\",\"ticks\":\"\"},\"caxis\":{\"gridcolor\":\"white\",\"linecolor\":\"white\",\"ticks\":\"\"}},\"coloraxis\":{\"colorbar\":{\"outlinewidth\":0,\"ticks\":\"\"}},\"colorscale\":{\"sequential\":[[0.0,\"#0d0887\"],[0.1111111111111111,\"#46039f\"],[0.2222222222222222,\"#7201a8\"],[0.3333333333333333,\"#9c179e\"],[0.4444444444444444,\"#bd3786\"],[0.5555555555555556,\"#d8576b\"],[0.6666666666666666,\"#ed7953\"],[0.7777777777777778,\"#fb9f3a\"],[0.8888888888888888,\"#fdca26\"],[1.0,\"#f0f921\"]],\"sequentialminus\":[[0.0,\"#0d0887\"],[0.1111111111111111,\"#46039f\"],[0.2222222222222222,\"#7201a8\"],[0.3333333333333333,\"#9c179e\"],[0.4444444444444444,\"#bd3786\"],[0.5555555555555556,\"#d8576b\"],[0.6666666666666666,\"#ed7953\"],[0.7777777777777778,\"#fb9f3a\"],[0.8888888888888888,\"#fdca26\"],[1.0,\"#f0f921\"]],\"diverging\":[[0,\"#8e0152\"],[0.1,\"#c51b7d\"],[0.2,\"#de77ae\"],[0.3,\"#f1b6da\"],[0.4,\"#fde0ef\"],[0.5,\"#f7f7f7\"],[0.6,\"#e6f5d0\"],[0.7,\"#b8e186\"],[0.8,\"#7fbc41\"],[0.9,\"#4d9221\"],[1,\"#276419\"]]},\"xaxis\":{\"gridcolor\":\"white\",\"linecolor\":\"white\",\"ticks\":\"\",\"title\":{\"standoff\":15},\"zerolinecolor\":\"white\",\"automargin\":true,\"zerolinewidth\":2},\"yaxis\":{\"gridcolor\":\"white\",\"linecolor\":\"white\",\"ticks\":\"\",\"title\":{\"standoff\":15},\"zerolinecolor\":\"white\",\"automargin\":true,\"zerolinewidth\":2},\"scene\":{\"xaxis\":{\"backgroundcolor\":\"#E5ECF6\",\"gridcolor\":\"white\",\"linecolor\":\"white\",\"showbackground\":true,\"ticks\":\"\",\"zerolinecolor\":\"white\",\"gridwidth\":2},\"yaxis\":{\"backgroundcolor\":\"#E5ECF6\",\"gridcolor\":\"white\",\"linecolor\":\"white\",\"showbackground\":true,\"ticks\":\"\",\"zerolinecolor\":\"white\",\"gridwidth\":2},\"zaxis\":{\"backgroundcolor\":\"#E5ECF6\",\"gridcolor\":\"white\",\"linecolor\":\"white\",\"showbackground\":true,\"ticks\":\"\",\"zerolinecolor\":\"white\",\"gridwidth\":2}},\"shapedefaults\":{\"line\":{\"color\":\"#2a3f5f\"}},\"annotationdefaults\":{\"arrowcolor\":\"#2a3f5f\",\"arrowhead\":0,\"arrowwidth\":1},\"geo\":{\"bgcolor\":\"white\",\"landcolor\":\"#E5ECF6\",\"subunitcolor\":\"white\",\"showland\":true,\"showlakes\":true,\"lakecolor\":\"white\"},\"title\":{\"x\":0.05},\"mapbox\":{\"style\":\"light\"}}},\"scene\":{\"domain\":{\"x\":[0.0,1.0],\"y\":[0.0,1.0]},\"xaxis\":{\"title\":{\"text\":\"0\"}},\"yaxis\":{\"title\":{\"text\":\"1\"}},\"zaxis\":{\"title\":{\"text\":\"2\"}}},\"legend\":{\"title\":{\"text\":\"Comunidad\"},\"tracegroupgap\":0},\"margin\":{\"t\":60}},                        {\"responsive\": true}                    ).then(function(){\n",
              "                            \n",
              "var gd = document.getElementById('59568adb-3d72-47bf-b5bb-26731a41542d');\n",
              "var x = new MutationObserver(function (mutations, observer) {{\n",
              "        var display = window.getComputedStyle(gd).display;\n",
              "        if (!display || display === 'none') {{\n",
              "            console.log([gd, 'removed!']);\n",
              "            Plotly.purge(gd);\n",
              "            observer.disconnect();\n",
              "        }}\n",
              "}});\n",
              "\n",
              "// Listen for the removal of the full notebook cells\n",
              "var notebookContainer = gd.closest('#notebook-container');\n",
              "if (notebookContainer) {{\n",
              "    x.observe(notebookContainer, {childList: true});\n",
              "}}\n",
              "\n",
              "// Listen for the clearing of the current output cell\n",
              "var outputEl = gd.closest('.output');\n",
              "if (outputEl) {{\n",
              "    x.observe(outputEl, {childList: true});\n",
              "}}\n",
              "\n",
              "                        })                };                            </script>        </div>\n",
              "</body>\n",
              "</html>"
            ]
          },
          "metadata": {},
          "output_type": "display_data"
        }
      ],
      "source": [
        "umap_2d = umap.UMAP(n_components=2, init='random', random_state=0)\n",
        "umap_3d = umap.UMAP(n_components=3, init='random', random_state=0)\n",
        "\n",
        "proj_2d = umap_2d.fit_transform(df_std)\n",
        "proj_3d = umap_3d.fit_transform(df_std)\n",
        "\n",
        "fig_2d = px.scatter(\n",
        "    proj_2d, x=0, y=1,\n",
        "    color=df['Comunidad'], labels={'color': 'Comunidad'}\n",
        ")\n",
        "fig_3d = px.scatter_3d(\n",
        "    proj_3d, x=0, y=1, z=2,\n",
        "    color=df['Comunidad'], labels={'color': 'Comunidad'}\n",
        ")\n",
        "fig_3d.update_traces(marker_size=8)\n",
        "\n",
        "fig_2d.show()\n",
        "fig_3d.show()"
      ]
    }
  ],
  "metadata": {
    "colab": {
      "collapsed_sections": [
        "17t7EnopQ2k0"
      ],
      "provenance": []
    },
    "kernelspec": {
      "display_name": "DL",
      "language": "python",
      "name": "python3"
    },
    "language_info": {
      "codemirror_mode": {
        "name": "ipython",
        "version": 3
      },
      "file_extension": ".py",
      "mimetype": "text/x-python",
      "name": "python",
      "nbconvert_exporter": "python",
      "pygments_lexer": "ipython3",
      "version": "3.8.10"
    }
  },
  "nbformat": 4,
  "nbformat_minor": 0
}
