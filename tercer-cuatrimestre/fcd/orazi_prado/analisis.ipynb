{
 "cells": [
  {
   "cell_type": "markdown",
   "metadata": {},
   "source": [
    "## Trabajo Practico Fundamentos de ciencias de datos"
   ]
  },
  {
   "cell_type": "code",
   "execution_count": null,
   "metadata": {
    "vscode": {
     "languageId": "plaintext"
    }
   },
   "outputs": [],
   "source": []
  },
  {
   "cell_type": "markdown",
   "metadata": {},
   "source": [
    "Selección del Dataset\n",
    "\n",
    "Dataset sugerido: Puedes usar datos históricos de acciones argentinas que obtengas desde yfinance. Este dataset contendrá variables numéricas relacionadas con precios y volumen de las acciones, pero puedes complementarlo añadiendo información categórica (como el sector al que pertenece cada empresa), fechas (variable temporal), y variables geográficas (por ejemplo, la ubicación de la sede principal de la empresa o su país de operaciones).\n",
    "\n",
    "Tickers sugeridos:\n",
    "\n",
    "YPF\n",
    "\n",
    "PAM\n",
    "\n",
    "BMA\n",
    "\n",
    "BBAR\n",
    "\n",
    "GGAL\n",
    "\n",
    "CEPU\n",
    "\n",
    "2. Descripción del Dataset Elegido\n",
    "\n",
    "Aquí deberías describir brevemente el dataset que utilizarás:\n",
    "\n",
    "Origen:\n",
    "\n",
    "Datos extraídos de la API de yfinance, que proporciona datos históricos del mercado de valores.\n",
    "Tipo de datos:\n",
    "\n",
    "Numéricos: Precios de apertura, cierre, variaciones diarias, volumen.\n",
    "\n",
    "Categóricos: Nombre de la acción, sector de la empresa.\n",
    "\n",
    "Temporales: Fechas de cada registro.\n",
    "\n",
    "Geográficos: País de operación de cada empresa (en este caso, Argentina).\n",
    "\n",
    "Diccionario de Variables:\n",
    "\n",
    "\n",
    "Date: Fecha del registro (temporal).\n",
    "\n",
    "Open: Precio de apertura de la acción (numérico).\n",
    "\n",
    "High: Precio más alto alcanzado en el día (numérico).\n",
    "\n",
    "Low: Precio más bajo alcanzado en el día (numérico).\n",
    "\n",
    "Close: Precio de cierre de la acción (numérico).\n",
    "\n",
    "Adj Close: Precio ajustado de cierre después de dividendos y splits (numérico).\n",
    "\n",
    "Volume: Volumen de transacciones de la acción (numérico).\n",
    "\n",
    "Sector: Categoría que identifica el sector industrial al que pertenece la empresa (categórico).\n",
    "\n",
    "País: Argentina (geográfico).\n",
    "\n",
    "1. Manipulación y Transformación del Dataset\n",
    "\n",
    "Para cumplir con este requisito, necesitarás realizar varias tareas:\n",
    "\n",
    "\n",
    "Manejo de datos faltantes: Puede haber días sin transacciones, por lo que deberás manejar datos faltantes. Puedes optar por eliminar esos días o rellenarlos (por ejemplo, con el valor anterior).\n",
    "\n",
    "Datos duplicados: Revisa si hay filas duplicadas y elimínalas si es necesario.\n",
    "\n",
    "Modificación de nombres de columnas: A veces, las columnas pueden tener nombres no descriptivos. Puedes renombrarlas, por ejemplo, Adj Close a Precio Ajustado.\n",
    "\n",
    "Categorización del sector de cada empresa: Puedes agregar una columna que indique el sector al que pertenece la empresa (por ejemplo, energía, finanzas, telecomunicaciones, etc.).\n",
    "\n",
    "Variables geográficas: Agrega una columna País con el valor \"Argentina\" para cada empresa. Esto servirá como una variable geográfica.\n",
    "\n"
   ]
  },
  {
   "cell_type": "code",
   "execution_count": null,
   "metadata": {
    "vscode": {
     "languageId": "plaintext"
    }
   },
   "outputs": [],
   "source": []
  },
  {
   "cell_type": "markdown",
   "metadata": {},
   "source": [
    "4. Análisis Exploratorio de los Datos\n",
    "\n",
    "En este paso, deberás analizar los datos. Aquí algunas ideas:\n",
    "\n",
    "Medidas descriptivas: Puedes calcular estadísticas como el promedio, mediana, desviación estándar, mínimo, máximo, etc. para las variables numéricas como el precio de cierre, volumen, y variación diaria.\n",
    "\n",
    "Análisis de tendencias temporales: Grafica las variaciones de precios a lo largo del tiempo para observar patrones. También puedes comparar cómo se han comportado diferentes acciones en ciertos periodos (por ejemplo, durante una crisis).\n",
    "\n",
    "Comparación entre sectores: Analiza si las acciones de un sector particular tienen mayores variaciones de precio o volumen que otras.\n",
    "\n",
    "Ejemplos de gráficos:\n",
    "\n",
    "Línea temporal: Muestra la evolución de los precios de cierre ajustados.\n",
    "\n",
    "Histograma: Representa la distribución de la variación diaria de precios para cada acción.\n",
    "\n",
    "Boxplot: Compara la variabilidad de las acciones de diferentes sectores.\n"
   ]
  },
  {
   "cell_type": "markdown",
   "metadata": {},
   "source": []
  }
 ],
 "metadata": {
  "language_info": {
   "name": "python"
  }
 },
 "nbformat": 4,
 "nbformat_minor": 2
}
