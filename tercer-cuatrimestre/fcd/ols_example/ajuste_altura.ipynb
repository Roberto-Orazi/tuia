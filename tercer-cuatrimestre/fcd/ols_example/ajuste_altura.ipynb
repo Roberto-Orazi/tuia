{
 "cells": [
  {
   "cell_type": "code",
   "execution_count": 1,
   "id": "bea7538d-31eb-4d9d-a09b-e7e6ed644bc7",
   "metadata": {},
   "outputs": [],
   "source": [
    "import pandas as pd\n",
    "import statsmodels.formula.api as smf\n",
    "import matplotlib.pyplot as plt\n",
    "import seaborn as sns\n",
    "sns.set_theme(style = 'white')"
   ]
  },
  {
   "cell_type": "code",
   "execution_count": 2,
   "id": "5d60d14c-68de-4edb-b930-470fd19c767c",
   "metadata": {},
   "outputs": [
    {
     "data": {
      "text/html": [
       "<div>\n",
       "<style scoped>\n",
       "    .dataframe tbody tr th:only-of-type {\n",
       "        vertical-align: middle;\n",
       "    }\n",
       "\n",
       "    .dataframe tbody tr th {\n",
       "        vertical-align: top;\n",
       "    }\n",
       "\n",
       "    .dataframe thead th {\n",
       "        text-align: right;\n",
       "    }\n",
       "</style>\n",
       "<table border=\"1\" class=\"dataframe\">\n",
       "  <thead>\n",
       "    <tr style=\"text-align: right;\">\n",
       "      <th></th>\n",
       "      <th>ID_persona</th>\n",
       "      <th>altura_cm</th>\n",
       "      <th>peso_kg</th>\n",
       "    </tr>\n",
       "  </thead>\n",
       "  <tbody>\n",
       "    <tr>\n",
       "      <th>0</th>\n",
       "      <td>1</td>\n",
       "      <td>170.0</td>\n",
       "      <td>83.3</td>\n",
       "    </tr>\n",
       "    <tr>\n",
       "      <th>1</th>\n",
       "      <td>2</td>\n",
       "      <td>149.8</td>\n",
       "      <td>79.6</td>\n",
       "    </tr>\n",
       "    <tr>\n",
       "      <th>2</th>\n",
       "      <td>3</td>\n",
       "      <td>102.5</td>\n",
       "      <td>64.9</td>\n",
       "    </tr>\n",
       "    <tr>\n",
       "      <th>3</th>\n",
       "      <td>4</td>\n",
       "      <td>73.9</td>\n",
       "      <td>47.5</td>\n",
       "    </tr>\n",
       "    <tr>\n",
       "      <th>4</th>\n",
       "      <td>5</td>\n",
       "      <td>104.8</td>\n",
       "      <td>58.2</td>\n",
       "    </tr>\n",
       "  </tbody>\n",
       "</table>\n",
       "</div>"
      ],
      "text/plain": [
       "   ID_persona  altura_cm  peso_kg\n",
       "0           1      170.0     83.3\n",
       "1           2      149.8     79.6\n",
       "2           3      102.5     64.9\n",
       "3           4       73.9     47.5\n",
       "4           5      104.8     58.2"
      ]
     },
     "execution_count": 2,
     "metadata": {},
     "output_type": "execute_result"
    }
   ],
   "source": [
    "# Leo dataset\n",
    "datos = pd.read_excel('altura_peso.xlsx')\n",
    "datos.head()"
   ]
  },
  {
   "cell_type": "code",
   "execution_count": 3,
   "id": "1f21d4df-c2ab-40e8-9134-a9add73b9ef8",
   "metadata": {},
   "outputs": [
    {
     "data": {
      "text/plain": [
       "<Axes: xlabel='peso_kg', ylabel='altura_cm'>"
      ]
     },
     "execution_count": 3,
     "metadata": {},
     "output_type": "execute_result"
    },
    {
     "data": {
      "image/png": "[encoded data removed]",
      "text/plain": [
       "<Figure size 640x480 with 1 Axes>"
      ]
     },
     "metadata": {},
     "output_type": "display_data"
    }
   ],
   "source": [
    "# Representamos los datos\n",
    "sns.scatterplot(x = 'peso_kg', y = 'altura_cm', data = datos)"
   ]
  },
  {
   "cell_type": "code",
   "execution_count": 4,
   "id": "46ab6d59-ef57-4379-9527-b4a9940cbb7e",
   "metadata": {},
   "outputs": [
    {
     "data": {
      "text/html": [
       "<div>\n",
       "<style scoped>\n",
       "    .dataframe tbody tr th:only-of-type {\n",
       "        vertical-align: middle;\n",
       "    }\n",
       "\n",
       "    .dataframe tbody tr th {\n",
       "        vertical-align: top;\n",
       "    }\n",
       "\n",
       "    .dataframe thead th {\n",
       "        text-align: right;\n",
       "    }\n",
       "</style>\n",
       "<table border=\"1\" class=\"dataframe\">\n",
       "  <thead>\n",
       "    <tr style=\"text-align: right;\">\n",
       "      <th></th>\n",
       "      <th>altura_cm</th>\n",
       "      <th>peso_kg</th>\n",
       "    </tr>\n",
       "  </thead>\n",
       "  <tbody>\n",
       "    <tr>\n",
       "      <th>altura_cm</th>\n",
       "      <td>1.000000</td>\n",
       "      <td>0.815281</td>\n",
       "    </tr>\n",
       "    <tr>\n",
       "      <th>peso_kg</th>\n",
       "      <td>0.815281</td>\n",
       "      <td>1.000000</td>\n",
       "    </tr>\n",
       "  </tbody>\n",
       "</table>\n",
       "</div>"
      ],
      "text/plain": [
       "           altura_cm   peso_kg\n",
       "altura_cm   1.000000  0.815281\n",
       "peso_kg     0.815281  1.000000"
      ]
     },
     "execution_count": 4,
     "metadata": {},
     "output_type": "execute_result"
    }
   ],
   "source": [
    "datos[['altura_cm', 'peso_kg']].corr() #calculamos coef. de correlación de Pearson"
   ]
  },
  {
   "cell_type": "code",
   "execution_count": 5,
   "id": "ebc16c2a-a65c-4384-b904-7e5e6a4e62c0",
   "metadata": {},
   "outputs": [
    {
     "name": "stdout",
     "output_type": "stream",
     "text": [
      "                            OLS Regression Results                            \n",
      "==============================================================================\n",
      "Dep. Variable:              altura_cm   R-squared:                       0.665\n",
      "Model:                            OLS   Adj. R-squared:                  0.661\n",
      "Method:                 Least Squares   F-statistic:                     194.3\n",
      "Date:                Thu, 27 Feb 2025   Prob (F-statistic):           5.48e-25\n",
      "Time:                        18:44:15   Log-Likelihood:                -438.37\n",
      "No. Observations:                 100   AIC:                             880.7\n",
      "Df Residuals:                      98   BIC:                             885.9\n",
      "Df Model:                           1                                         \n",
      "Covariance Type:            nonrobust                                         \n",
      "==============================================================================\n",
      "                 coef    std err          t      P>|t|      [0.025      0.975]\n",
      "------------------------------------------------------------------------------\n",
      "Intercept     21.6197      8.334      2.594      0.011       5.081      38.158\n",
      "peso_kg        1.4551      0.104     13.938      0.000       1.248       1.662\n",
      "==============================================================================\n",
      "Omnibus:                        1.430   Durbin-Watson:                   1.952\n",
      "Prob(Omnibus):                  0.489   Jarque-Bera (JB):                1.469\n",
      "Skew:                           0.225   Prob(JB):                        0.480\n",
      "Kurtosis:                       2.613   Cond. No.                         340.\n",
      "==============================================================================\n",
      "\n",
      "Notes:\n",
      "[1] Standard Errors assume that the covariance matrix of the errors is correctly specified.\n"
     ]
    }
   ],
   "source": [
    "# Ajustamos modelo\n",
    "modelo = smf.ols(formula = 'altura_cm ~ peso_kg', data = datos).fit()\n",
    "\n",
    "# Mostramos summary\n",
    "print(modelo.summary())"
   ]
  },
  {
   "cell_type": "markdown",
   "id": "a3527959-cfb8-4bfb-89e5-d423b2cdc12e",
   "metadata": {},
   "source": [
    "### Escribimos modelo:\n",
    "$\\hat{y} = 21.62 + 1.455~{peso}$\n",
    "\n",
    "Por cada aumento de 1 kg en el peso de una persona de la población, se estima que la altura promedio aumenta en 1.455 cm."
   ]
  },
  {
   "cell_type": "markdown",
   "id": "8df6cde3-d5af-4ad1-8dc8-0fb49433cdf8",
   "metadata": {},
   "source": [
    "### Representamos la recta"
   ]
  },
  {
   "cell_type": "code",
   "execution_count": 6,
   "id": "6b42a882-0c3d-4f9d-a478-ed71d584e9ee",
   "metadata": {},
   "outputs": [
    {
     "data": {
      "text/plain": [
       "0     142.828158\n",
       "1     137.444351\n",
       "2     116.054632\n",
       "3      90.736189\n",
       "4     106.305576\n",
       "         ...    \n",
       "95    127.258771\n",
       "96    126.240213\n",
       "97    175.858541\n",
       "98    177.022608\n",
       "99    138.462910\n",
       "Length: 100, dtype: float64"
      ]
     },
     "execution_count": 6,
     "metadata": {},
     "output_type": "execute_result"
    }
   ],
   "source": [
    "modelo.predict(datos)"
   ]
  },
  {
   "cell_type": "code",
   "execution_count": 7,
   "id": "23c21e45-a3c3-46fd-b8ab-95f7fdabfeb9",
   "metadata": {},
   "outputs": [],
   "source": [
    "datos['alturas_predichas'] = modelo.predict(datos)"
   ]
  },
  {
   "cell_type": "code",
   "execution_count": 8,
   "id": "1b0d6975-5d0c-4fcf-bf0f-f8060289102a",
   "metadata": {},
   "outputs": [
    {
     "data": {
      "text/html": [
       "<div>\n",
       "<style scoped>\n",
       "    .dataframe tbody tr th:only-of-type {\n",
       "        vertical-align: middle;\n",
       "    }\n",
       "\n",
       "    .dataframe tbody tr th {\n",
       "        vertical-align: top;\n",
       "    }\n",
       "\n",
       "    .dataframe thead th {\n",
       "        text-align: right;\n",
       "    }\n",
       "</style>\n",
       "<table border=\"1\" class=\"dataframe\">\n",
       "  <thead>\n",
       "    <tr style=\"text-align: right;\">\n",
       "      <th></th>\n",
       "      <th>ID_persona</th>\n",
       "      <th>altura_cm</th>\n",
       "      <th>peso_kg</th>\n",
       "      <th>alturas_predichas</th>\n",
       "    </tr>\n",
       "  </thead>\n",
       "  <tbody>\n",
       "    <tr>\n",
       "      <th>0</th>\n",
       "      <td>1</td>\n",
       "      <td>170.0</td>\n",
       "      <td>83.3</td>\n",
       "      <td>142.828158</td>\n",
       "    </tr>\n",
       "    <tr>\n",
       "      <th>1</th>\n",
       "      <td>2</td>\n",
       "      <td>149.8</td>\n",
       "      <td>79.6</td>\n",
       "      <td>137.444351</td>\n",
       "    </tr>\n",
       "    <tr>\n",
       "      <th>2</th>\n",
       "      <td>3</td>\n",
       "      <td>102.5</td>\n",
       "      <td>64.9</td>\n",
       "      <td>116.054632</td>\n",
       "    </tr>\n",
       "    <tr>\n",
       "      <th>3</th>\n",
       "      <td>4</td>\n",
       "      <td>73.9</td>\n",
       "      <td>47.5</td>\n",
       "      <td>90.736189</td>\n",
       "    </tr>\n",
       "    <tr>\n",
       "      <th>4</th>\n",
       "      <td>5</td>\n",
       "      <td>104.8</td>\n",
       "      <td>58.2</td>\n",
       "      <td>106.305576</td>\n",
       "    </tr>\n",
       "  </tbody>\n",
       "</table>\n",
       "</div>"
      ],
      "text/plain": [
       "   ID_persona  altura_cm  peso_kg  alturas_predichas\n",
       "0           1      170.0     83.3         142.828158\n",
       "1           2      149.8     79.6         137.444351\n",
       "2           3      102.5     64.9         116.054632\n",
       "3           4       73.9     47.5          90.736189\n",
       "4           5      104.8     58.2         106.305576"
      ]
     },
     "execution_count": 8,
     "metadata": {},
     "output_type": "execute_result"
    }
   ],
   "source": [
    "datos.head()"
   ]
  },
  {
   "cell_type": "code",
   "execution_count": 9,
   "id": "ea790bf5-ef3e-4eb1-84d3-2db83d91a74e",
   "metadata": {},
   "outputs": [
    {
     "data": {
      "text/html": [
       "<div>\n",
       "<style scoped>\n",
       "    .dataframe tbody tr th:only-of-type {\n",
       "        vertical-align: middle;\n",
       "    }\n",
       "\n",
       "    .dataframe tbody tr th {\n",
       "        vertical-align: top;\n",
       "    }\n",
       "\n",
       "    .dataframe thead th {\n",
       "        text-align: right;\n",
       "    }\n",
       "</style>\n",
       "<table border=\"1\" class=\"dataframe\">\n",
       "  <thead>\n",
       "    <tr style=\"text-align: right;\">\n",
       "      <th></th>\n",
       "      <th>ID_persona</th>\n",
       "      <th>altura_cm</th>\n",
       "      <th>peso_kg</th>\n",
       "      <th>alturas_predichas</th>\n",
       "      <th>residuos</th>\n",
       "    </tr>\n",
       "  </thead>\n",
       "  <tbody>\n",
       "    <tr>\n",
       "      <th>0</th>\n",
       "      <td>1</td>\n",
       "      <td>170.0</td>\n",
       "      <td>83.3</td>\n",
       "      <td>142.828158</td>\n",
       "      <td>27.171842</td>\n",
       "    </tr>\n",
       "    <tr>\n",
       "      <th>1</th>\n",
       "      <td>2</td>\n",
       "      <td>149.8</td>\n",
       "      <td>79.6</td>\n",
       "      <td>137.444351</td>\n",
       "      <td>12.355649</td>\n",
       "    </tr>\n",
       "    <tr>\n",
       "      <th>2</th>\n",
       "      <td>3</td>\n",
       "      <td>102.5</td>\n",
       "      <td>64.9</td>\n",
       "      <td>116.054632</td>\n",
       "      <td>-13.554632</td>\n",
       "    </tr>\n",
       "    <tr>\n",
       "      <th>3</th>\n",
       "      <td>4</td>\n",
       "      <td>73.9</td>\n",
       "      <td>47.5</td>\n",
       "      <td>90.736189</td>\n",
       "      <td>-16.836189</td>\n",
       "    </tr>\n",
       "    <tr>\n",
       "      <th>4</th>\n",
       "      <td>5</td>\n",
       "      <td>104.8</td>\n",
       "      <td>58.2</td>\n",
       "      <td>106.305576</td>\n",
       "      <td>-1.505576</td>\n",
       "    </tr>\n",
       "  </tbody>\n",
       "</table>\n",
       "</div>"
      ],
      "text/plain": [
       "   ID_persona  altura_cm  peso_kg  alturas_predichas   residuos\n",
       "0           1      170.0     83.3         142.828158  27.171842\n",
       "1           2      149.8     79.6         137.444351  12.355649\n",
       "2           3      102.5     64.9         116.054632 -13.554632\n",
       "3           4       73.9     47.5          90.736189 -16.836189\n",
       "4           5      104.8     58.2         106.305576  -1.505576"
      ]
     },
     "execution_count": 9,
     "metadata": {},
     "output_type": "execute_result"
    }
   ],
   "source": [
    "datos['residuos'] = datos['altura_cm'] - datos['alturas_predichas']\n",
    "datos.head()"
   ]
  },
  {
   "cell_type": "code",
   "execution_count": 10,
   "id": "7de3e6fa-491f-4a69-ae78-65ebfb98d408",
   "metadata": {},
   "outputs": [
    {
     "data": {
      "text/plain": [
       "<Axes: xlabel='peso_kg', ylabel='altura_cm'>"
      ]
     },
     "execution_count": 10,
     "metadata": {},
     "output_type": "execute_result"
    },
    {
     "data": {
      "image/png": "[encoded data removed]",
      "text/plain": [
       "<Figure size 640x480 with 1 Axes>"
      ]
     },
     "metadata": {},
     "output_type": "display_data"
    }
   ],
   "source": [
    "sns.scatterplot(x = 'peso_kg', y = 'altura_cm', data = datos)\n",
    "sns.lineplot(x = 'peso_kg', y = 'alturas_predichas', data = datos, color = 'black')"
   ]
  },
  {
   "cell_type": "code",
   "execution_count": 11,
   "id": "7b2af048-1f96-45bb-8c3d-3c8fbce185c9",
   "metadata": {},
   "outputs": [
    {
     "data": {
      "text/plain": [
       "<Axes: xlabel='peso_kg', ylabel='altura_cm'>"
      ]
     },
     "execution_count": 11,
     "metadata": {},
     "output_type": "execute_result"
    },
    {
     "data": {
      "image/png": "[encoded data removed]",
      "text/plain": [
       "<Figure size 640x480 with 1 Axes>"
      ]
     },
     "metadata": {},
     "output_type": "display_data"
    }
   ],
   "source": [
    "sns.regplot(x = 'peso_kg', y = 'altura_cm', data = datos, ci = False, line_kws = {'color' : 'black'})"
   ]
  },
  {
   "cell_type": "markdown",
   "id": "de2f70e6-a3e3-4a1e-870b-85054259066a",
   "metadata": {},
   "source": [
    "### Usamos el modelo para predecir la altura de una persona que pesa 80 kg"
   ]
  },
  {
   "cell_type": "code",
   "execution_count": 12,
   "id": "884c330a-8381-4567-9266-288be40043df",
   "metadata": {},
   "outputs": [
    {
     "data": {
      "text/html": [
       "<div>\n",
       "<style scoped>\n",
       "    .dataframe tbody tr th:only-of-type {\n",
       "        vertical-align: middle;\n",
       "    }\n",
       "\n",
       "    .dataframe tbody tr th {\n",
       "        vertical-align: top;\n",
       "    }\n",
       "\n",
       "    .dataframe thead th {\n",
       "        text-align: right;\n",
       "    }\n",
       "</style>\n",
       "<table border=\"1\" class=\"dataframe\">\n",
       "  <thead>\n",
       "    <tr style=\"text-align: right;\">\n",
       "      <th></th>\n",
       "      <th>peso_kg</th>\n",
       "    </tr>\n",
       "  </thead>\n",
       "  <tbody>\n",
       "    <tr>\n",
       "      <th>0</th>\n",
       "      <td>80</td>\n",
       "    </tr>\n",
       "  </tbody>\n",
       "</table>\n",
       "</div>"
      ],
      "text/plain": [
       "   peso_kg\n",
       "0       80"
      ]
     },
     "execution_count": 12,
     "metadata": {},
     "output_type": "execute_result"
    }
   ],
   "source": [
    "dato_predecir = pd.DataFrame({'peso_kg' : [80]})\n",
    "dato_predecir"
   ]
  },
  {
   "cell_type": "code",
   "execution_count": 13,
   "id": "107f6046-c5aa-4234-92d9-6e58d45e61f1",
   "metadata": {},
   "outputs": [
    {
     "data": {
      "text/plain": [
       "0    138.026385\n",
       "dtype: float64"
      ]
     },
     "execution_count": 13,
     "metadata": {},
     "output_type": "execute_result"
    }
   ],
   "source": [
    "modelo.predict(dato_predecir)"
   ]
  },
  {
   "cell_type": "code",
   "execution_count": 14,
   "id": "31fa599b-289a-4a00-9cd8-325d59cd9f58",
   "metadata": {},
   "outputs": [
    {
     "data": {
      "text/plain": [
       "138.02"
      ]
     },
     "execution_count": 14,
     "metadata": {},
     "output_type": "execute_result"
    }
   ],
   "source": [
    "21.62 + 1.455*80"
   ]
  },
  {
   "cell_type": "code",
   "execution_count": 15,
   "id": "29bd2ee1-aafe-484c-b558-6cbe95409e9f",
   "metadata": {},
   "outputs": [
    {
     "data": {
      "text/plain": [
       "0     142.828158\n",
       "1     137.444351\n",
       "2     116.054632\n",
       "3      90.736189\n",
       "4     106.305576\n",
       "         ...    \n",
       "95    127.258771\n",
       "96    126.240213\n",
       "97    175.858541\n",
       "98    177.022608\n",
       "99    138.462910\n",
       "Length: 100, dtype: float64"
      ]
     },
     "execution_count": 15,
     "metadata": {},
     "output_type": "execute_result"
    }
   ],
   "source": [
    "modelo.predict(datos)"
   ]
  },
  {
   "cell_type": "code",
   "execution_count": null,
   "id": "3edc2db6-ceb8-4c8a-82d4-99c97849f165",
   "metadata": {},
   "outputs": [],
   "source": []
  }
 ],
 "metadata": {
  "kernelspec": {
   "display_name": "fcd",
   "language": "python",
   "name": "python3"
  },
  "language_info": {
   "codemirror_mode": {
    "name": "ipython",
    "version": 3
   },
   "file_extension": ".py",
   "mimetype": "text/x-python",
   "name": "python",
   "nbconvert_exporter": "python",
   "pygments_lexer": "ipython3",
   "version": "3.13.1"
  }
 },
 "nbformat": 4,
 "nbformat_minor": 5
}
