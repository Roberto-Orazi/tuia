{
 "cells": [
  {
   "cell_type": "markdown",
   "metadata": {},
   "source": [
    "#### Librerias"
   ]
  },
  {
   "cell_type": "code",
   "execution_count": 2,
   "metadata": {},
   "outputs": [],
   "source": [
    "import pandas as pd\n",
    "import numpy as np\n",
    "import matplotlib.pyplot as plt\n",
    "import seaborn as sns"
   ]
  },
  {
   "cell_type": "markdown",
   "metadata": {},
   "source": [
    "### Ejercicio 1"
   ]
  },
  {
   "cell_type": "markdown",
   "metadata": {},
   "source": [
    "#### Importamos los Datasets\n"
   ]
  },
  {
   "cell_type": "code",
   "execution_count": 3,
   "metadata": {},
   "outputs": [],
   "source": [
    "precioVentaData=pd.read_csv('precio_venta.csv')\n",
    "barriosData=pd.read_csv('barrios.csv')\n"
   ]
  },
  {
   "cell_type": "code",
   "execution_count": 4,
   "metadata": {},
   "outputs": [
    {
     "data": {
      "text/html": [
       "<div>\n",
       "<style scoped>\n",
       "    .dataframe tbody tr th:only-of-type {\n",
       "        vertical-align: middle;\n",
       "    }\n",
       "\n",
       "    .dataframe tbody tr th {\n",
       "        vertical-align: top;\n",
       "    }\n",
       "\n",
       "    .dataframe thead th {\n",
       "        text-align: right;\n",
       "    }\n",
       "</style>\n",
       "<table border=\"1\" class=\"dataframe\">\n",
       "  <thead>\n",
       "    <tr style=\"text-align: right;\">\n",
       "      <th></th>\n",
       "      <th>Unnamed: 0</th>\n",
       "      <th>id</th>\n",
       "      <th>antiguedad</th>\n",
       "      <th>distancia_parada_m</th>\n",
       "      <th>numero_kioscos_500m</th>\n",
       "      <th>habitaciones</th>\n",
       "      <th>precio_por_area</th>\n",
       "    </tr>\n",
       "  </thead>\n",
       "  <tbody>\n",
       "    <tr>\n",
       "      <th>0</th>\n",
       "      <td>0</td>\n",
       "      <td>1</td>\n",
       "      <td>32.0</td>\n",
       "      <td>84.87882</td>\n",
       "      <td>10</td>\n",
       "      <td>2</td>\n",
       "      <td>37.9</td>\n",
       "    </tr>\n",
       "    <tr>\n",
       "      <th>1</th>\n",
       "      <td>1</td>\n",
       "      <td>2</td>\n",
       "      <td>19.5</td>\n",
       "      <td>306.59470</td>\n",
       "      <td>9</td>\n",
       "      <td>3</td>\n",
       "      <td>42.2</td>\n",
       "    </tr>\n",
       "    <tr>\n",
       "      <th>2</th>\n",
       "      <td>2</td>\n",
       "      <td>3</td>\n",
       "      <td>13.3</td>\n",
       "      <td>561.98450</td>\n",
       "      <td>5</td>\n",
       "      <td>4</td>\n",
       "      <td>47.3</td>\n",
       "    </tr>\n",
       "    <tr>\n",
       "      <th>3</th>\n",
       "      <td>3</td>\n",
       "      <td>4</td>\n",
       "      <td>13.3</td>\n",
       "      <td>561.98450</td>\n",
       "      <td>5</td>\n",
       "      <td>2</td>\n",
       "      <td>54.8</td>\n",
       "    </tr>\n",
       "    <tr>\n",
       "      <th>4</th>\n",
       "      <td>4</td>\n",
       "      <td>5</td>\n",
       "      <td>5.0</td>\n",
       "      <td>390.56840</td>\n",
       "      <td>5</td>\n",
       "      <td>5</td>\n",
       "      <td>43.1</td>\n",
       "    </tr>\n",
       "  </tbody>\n",
       "</table>\n",
       "</div>"
      ],
      "text/plain": [
       "   Unnamed: 0  id  antiguedad  distancia_parada_m  numero_kioscos_500m  \\\n",
       "0           0   1        32.0            84.87882                   10   \n",
       "1           1   2        19.5           306.59470                    9   \n",
       "2           2   3        13.3           561.98450                    5   \n",
       "3           3   4        13.3           561.98450                    5   \n",
       "4           4   5         5.0           390.56840                    5   \n",
       "\n",
       "   habitaciones  precio_por_area  \n",
       "0             2             37.9  \n",
       "1             3             42.2  \n",
       "2             4             47.3  \n",
       "3             2             54.8  \n",
       "4             5             43.1  "
      ]
     },
     "execution_count": 4,
     "metadata": {},
     "output_type": "execute_result"
    }
   ],
   "source": [
    "precioVentaData.head()\n"
   ]
  },
  {
   "cell_type": "code",
   "execution_count": 5,
   "metadata": {},
   "outputs": [
    {
     "data": {
      "text/html": [
       "<div>\n",
       "<style scoped>\n",
       "    .dataframe tbody tr th:only-of-type {\n",
       "        vertical-align: middle;\n",
       "    }\n",
       "\n",
       "    .dataframe tbody tr th {\n",
       "        vertical-align: top;\n",
       "    }\n",
       "\n",
       "    .dataframe thead th {\n",
       "        text-align: right;\n",
       "    }\n",
       "</style>\n",
       "<table border=\"1\" class=\"dataframe\">\n",
       "  <thead>\n",
       "    <tr style=\"text-align: right;\">\n",
       "      <th></th>\n",
       "      <th>Unnamed: 0</th>\n",
       "      <th>indice_unidad</th>\n",
       "      <th>barrio</th>\n",
       "    </tr>\n",
       "  </thead>\n",
       "  <tbody>\n",
       "    <tr>\n",
       "      <th>0</th>\n",
       "      <td>0</td>\n",
       "      <td>1</td>\n",
       "      <td>Graciela</td>\n",
       "    </tr>\n",
       "    <tr>\n",
       "      <th>1</th>\n",
       "      <td>1</td>\n",
       "      <td>2</td>\n",
       "      <td>Graciela</td>\n",
       "    </tr>\n",
       "    <tr>\n",
       "      <th>2</th>\n",
       "      <td>2</td>\n",
       "      <td>3</td>\n",
       "      <td>Graciela</td>\n",
       "    </tr>\n",
       "    <tr>\n",
       "      <th>3</th>\n",
       "      <td>3</td>\n",
       "      <td>4</td>\n",
       "      <td>Graciela</td>\n",
       "    </tr>\n",
       "    <tr>\n",
       "      <th>4</th>\n",
       "      <td>4</td>\n",
       "      <td>5</td>\n",
       "      <td>Graciela</td>\n",
       "    </tr>\n",
       "  </tbody>\n",
       "</table>\n",
       "</div>"
      ],
      "text/plain": [
       "   Unnamed: 0  indice_unidad    barrio\n",
       "0           0              1  Graciela\n",
       "1           1              2  Graciela\n",
       "2           2              3  Graciela\n",
       "3           3              4  Graciela\n",
       "4           4              5  Graciela"
      ]
     },
     "execution_count": 5,
     "metadata": {},
     "output_type": "execute_result"
    }
   ],
   "source": [
    "barriosData.head()"
   ]
  },
  {
   "cell_type": "markdown",
   "metadata": {},
   "source": [
    "Agregamos la columna barrio a nuestro dataset principal"
   ]
  },
  {
   "cell_type": "code",
   "execution_count": null,
   "metadata": {},
   "outputs": [],
   "source": [
    "columnaBarrios=barriosData['barrio']\n",
    "precioVentaData['barrio'] = 0\n",
    "precioVentaData['barrio'] = columnaBarrios"
   ]
  },
  {
   "cell_type": "code",
   "execution_count": 7,
   "metadata": {},
   "outputs": [
    {
     "data": {
      "text/html": [
       "<div>\n",
       "<style scoped>\n",
       "    .dataframe tbody tr th:only-of-type {\n",
       "        vertical-align: middle;\n",
       "    }\n",
       "\n",
       "    .dataframe tbody tr th {\n",
       "        vertical-align: top;\n",
       "    }\n",
       "\n",
       "    .dataframe thead th {\n",
       "        text-align: right;\n",
       "    }\n",
       "</style>\n",
       "<table border=\"1\" class=\"dataframe\">\n",
       "  <thead>\n",
       "    <tr style=\"text-align: right;\">\n",
       "      <th></th>\n",
       "      <th>Unnamed: 0</th>\n",
       "      <th>id</th>\n",
       "      <th>antiguedad</th>\n",
       "      <th>distancia_parada_m</th>\n",
       "      <th>numero_kioscos_500m</th>\n",
       "      <th>habitaciones</th>\n",
       "      <th>precio_por_area</th>\n",
       "      <th>barrio</th>\n",
       "    </tr>\n",
       "  </thead>\n",
       "  <tbody>\n",
       "    <tr>\n",
       "      <th>0</th>\n",
       "      <td>0</td>\n",
       "      <td>1</td>\n",
       "      <td>32.0</td>\n",
       "      <td>84.87882</td>\n",
       "      <td>10</td>\n",
       "      <td>2</td>\n",
       "      <td>37.9</td>\n",
       "      <td>Graciela</td>\n",
       "    </tr>\n",
       "    <tr>\n",
       "      <th>1</th>\n",
       "      <td>1</td>\n",
       "      <td>2</td>\n",
       "      <td>19.5</td>\n",
       "      <td>306.59470</td>\n",
       "      <td>9</td>\n",
       "      <td>3</td>\n",
       "      <td>42.2</td>\n",
       "      <td>Graciela</td>\n",
       "    </tr>\n",
       "    <tr>\n",
       "      <th>2</th>\n",
       "      <td>2</td>\n",
       "      <td>3</td>\n",
       "      <td>13.3</td>\n",
       "      <td>561.98450</td>\n",
       "      <td>5</td>\n",
       "      <td>4</td>\n",
       "      <td>47.3</td>\n",
       "      <td>Graciela</td>\n",
       "    </tr>\n",
       "    <tr>\n",
       "      <th>3</th>\n",
       "      <td>3</td>\n",
       "      <td>4</td>\n",
       "      <td>13.3</td>\n",
       "      <td>561.98450</td>\n",
       "      <td>5</td>\n",
       "      <td>2</td>\n",
       "      <td>54.8</td>\n",
       "      <td>Graciela</td>\n",
       "    </tr>\n",
       "    <tr>\n",
       "      <th>4</th>\n",
       "      <td>4</td>\n",
       "      <td>5</td>\n",
       "      <td>5.0</td>\n",
       "      <td>390.56840</td>\n",
       "      <td>5</td>\n",
       "      <td>5</td>\n",
       "      <td>43.1</td>\n",
       "      <td>Graciela</td>\n",
       "    </tr>\n",
       "  </tbody>\n",
       "</table>\n",
       "</div>"
      ],
      "text/plain": [
       "   Unnamed: 0  id  antiguedad  distancia_parada_m  numero_kioscos_500m  \\\n",
       "0           0   1        32.0            84.87882                   10   \n",
       "1           1   2        19.5           306.59470                    9   \n",
       "2           2   3        13.3           561.98450                    5   \n",
       "3           3   4        13.3           561.98450                    5   \n",
       "4           4   5         5.0           390.56840                    5   \n",
       "\n",
       "   habitaciones  precio_por_area    barrio  \n",
       "0             2             37.9  Graciela  \n",
       "1             3             42.2  Graciela  \n",
       "2             4             47.3  Graciela  \n",
       "3             2             54.8  Graciela  \n",
       "4             5             43.1  Graciela  "
      ]
     },
     "execution_count": 7,
     "metadata": {},
     "output_type": "execute_result"
    }
   ],
   "source": [
    "precioVentaData.head()"
   ]
  },
  {
   "cell_type": "markdown",
   "metadata": {},
   "source": [
    "#### Limpieza de valores nulos\n",
    "Vamos a proceder a eliminar de nuestro dataset cada fila que tenga valores nulos"
   ]
  },
  {
   "cell_type": "code",
   "execution_count": 8,
   "metadata": {},
   "outputs": [
    {
     "name": "stdout",
     "output_type": "stream",
     "text": [
      "Filas totales antes de eliminar filas de precio venta con valores nulos 414\n"
     ]
    }
   ],
   "source": [
    "filasTotalesPrecioVenta=len(precioVentaData)\n",
    "print(f'Filas totales antes de eliminar filas de precio venta con valores nulos {filasTotalesPrecioVenta}')"
   ]
  },
  {
   "cell_type": "code",
   "execution_count": 9,
   "metadata": {},
   "outputs": [],
   "source": [
    "precioVentaDataClean=precioVentaData.dropna()"
   ]
  },
  {
   "cell_type": "code",
   "execution_count": 10,
   "metadata": {},
   "outputs": [
    {
     "name": "stdout",
     "output_type": "stream",
     "text": [
      "Filas totales antes de eliminar filas de precio venta con valores nulos 409\n"
     ]
    }
   ],
   "source": [
    "filasTotalesPrecioVentaClean=len(precioVentaDataClean)\n",
    "print(f'Filas totales antes de eliminar filas de precio venta con valores nulos {filasTotalesPrecioVentaClean}')"
   ]
  },
  {
   "cell_type": "markdown",
   "metadata": {},
   "source": [
    "Despues de borrar los valores na podemos ver que teniamos solo 5 filas con al menos algun valor nulo"
   ]
  },
  {
   "cell_type": "markdown",
   "metadata": {},
   "source": [
    "### Ejercicio 2"
   ]
  },
  {
   "cell_type": "code",
   "execution_count": null,
   "metadata": {},
   "outputs": [
    {
     "data": {
      "image/png": "[encoded data removed]",
      "text/plain": [
       "<Figure size 1000x600 with 1 Axes>"
      ]
     },
     "metadata": {},
     "output_type": "display_data"
    }
   ],
   "source": [
    "plt.figure(figsize=(10, 6))\n",
    "sns.boxplot(x='barrio', y='precio_por_area', data=precioVentaDataClean)\n",
    "plt.title('Distribución de precios por area por barrio')\n",
    "plt.xlabel('Barrio')\n",
    "plt.ylabel('Precio por area')\n",
    "plt.xticks(rotation=45, ha='right')\n",
    "plt.tight_layout()\n",
    "plt.show()"
   ]
  },
  {
   "cell_type": "code",
   "execution_count": 12,
   "metadata": {},
   "outputs": [
    {
     "name": "stdout",
     "output_type": "stream",
     "text": [
      "barrio\n",
      "Agustena    12.500\n",
      "Agustina    12.475\n",
      "Antonela     7.000\n",
      "Carla       11.450\n",
      "Ernesta     14.000\n",
      "Gracela      0.000\n",
      "Graciela    12.000\n",
      "Maria        4.750\n",
      "antonela     0.000\n",
      "Name: precio_por_area, dtype: float64\n"
     ]
    }
   ],
   "source": [
    "iqr_por_barrio = precioVentaDataClean.groupby('barrio')['precio_por_area'].apply(lambda x: x.quantile(0.75) - x.quantile(0.25))\n",
    "print(iqr_por_barrio)"
   ]
  },
  {
   "cell_type": "markdown",
   "metadata": {},
   "source": [
    "2-A La menor dispersion de precios se ve que esta en gracela y antonela tal como podemos ver en los rangos intercuantilicos"
   ]
  },
  {
   "cell_type": "code",
   "execution_count": 13,
   "metadata": {},
   "outputs": [
    {
     "name": "stdout",
     "output_type": "stream",
     "text": [
      "El barrio con el precio por área más alto es: Agustina con un precio de 117.5\n"
     ]
    }
   ],
   "source": [
    "precio_maximo = precioVentaDataClean['precio_por_area'].max()\n",
    "barrio_precio_maximo = precioVentaDataClean.loc[precioVentaDataClean['precio_por_area'] == precio_maximo, 'barrio'].iloc[0]\n",
    "print(f'El barrio con el precio por área más alto es: {barrio_precio_maximo} con un precio de {precio_maximo}')"
   ]
  },
  {
   "cell_type": "markdown",
   "metadata": {},
   "source": [
    "### Ejercicio 3"
   ]
  },
  {
   "cell_type": "code",
   "execution_count": 14,
   "metadata": {},
   "outputs": [
    {
     "data": {
      "image/png": "[encoded data removed]",
      "text/plain": [
       "<Figure size 1000x600 with 1 Axes>"
      ]
     },
     "metadata": {},
     "output_type": "display_data"
    }
   ],
   "source": [
    "plt.figure(figsize=(10, 6))\n",
    "plt.hist(precioVentaDataClean['distancia_parada_m'], bins=30)\n",
    "\n",
    "plt.xlabel('Distancia a paradas de transporte (metros)')\n",
    "plt.ylabel('Frecuencia')\n",
    "plt.title('Distribución de distancias a paradas de transporte')\n",
    "plt.tight_layout()\n",
    "\n",
    "plt.show()"
   ]
  },
  {
   "cell_type": "markdown",
   "metadata": {},
   "source": [
    "#### Ejercicio 3 B\n",
    "Para interpretar la medida de posición central vamos a usar la mediana, con la cual podemos decir que al menos un 50% de las paradas de colectivo tienen esa distancia"
   ]
  },
  {
   "cell_type": "code",
   "execution_count": 15,
   "metadata": {},
   "outputs": [
    {
     "name": "stdout",
     "output_type": "stream",
     "text": [
      "La mediana de las paradas de colectivo equivale a 492.23 Metros\n"
     ]
    }
   ],
   "source": [
    "mediana_distancia_parada = precioVentaDataClean['distancia_parada_m'].median()\n",
    "print(f'La mediana de las paradas de colectivo equivale a {mediana_distancia_parada:.2f} Metros')"
   ]
  },
  {
   "cell_type": "markdown",
   "metadata": {},
   "source": [
    "### Ejercicio 4"
   ]
  },
  {
   "cell_type": "code",
   "execution_count": 16,
   "metadata": {},
   "outputs": [],
   "source": [
    "propiedades_filtradas = precioVentaDataClean[precioVentaDataClean['habitaciones'].between(2, 4)]"
   ]
  },
  {
   "cell_type": "code",
   "execution_count": 17,
   "metadata": {},
   "outputs": [],
   "source": [
    "porcentaje = (len(propiedades_filtradas) / len(precioVentaDataClean)) * 100"
   ]
  },
  {
   "cell_type": "code",
   "execution_count": null,
   "metadata": {},
   "outputs": [
    {
     "name": "stdout",
     "output_type": "stream",
     "text": [
      "El 59.66% de las propiedades tienen entre 2 y 4 habitaciones.\n"
     ]
    }
   ],
   "source": [
    "print(f'El {porcentaje:.2f}% de las propiedades tienen entre 2 y 4 habitaciones.')"
   ]
  },
  {
   "cell_type": "markdown",
   "metadata": {},
   "source": [
    "Como podemos ver casi un 60% de las propiedades tienen entre 2 y 4 habitaciones"
   ]
  }
 ],
 "metadata": {
  "kernelspec": {
   "display_name": "fcd",
   "language": "python",
   "name": "python3"
  },
  "language_info": {
   "codemirror_mode": {
    "name": "ipython",
    "version": 3
   },
   "file_extension": ".py",
   "mimetype": "text/x-python",
   "name": "python",
   "nbconvert_exporter": "python",
   "pygments_lexer": "ipython3",
   "version": "3.13.1"
  }
 },
 "nbformat": 4,
 "nbformat_minor": 2
}
