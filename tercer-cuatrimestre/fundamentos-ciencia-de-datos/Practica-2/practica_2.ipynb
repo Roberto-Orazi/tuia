{
 "cells": [
  {
   "cell_type": "markdown",
   "metadata": {},
   "source": [
    "# Practica 2"
   ]
  },
  {
   "cell_type": "markdown",
   "metadata": {},
   "source": [
    "### Imports"
   ]
  },
  {
   "cell_type": "code",
   "execution_count": 1,
   "metadata": {},
   "outputs": [
    {
     "name": "stderr",
     "output_type": "stream",
     "text": [
      "/home/roberto/.local/lib/python3.10/site-packages/pandas/core/computation/expressions.py:21: UserWarning: Pandas requires version '2.8.4' or newer of 'numexpr' (version '2.8.1' currently installed).\n",
      "  from pandas.core.computation.check import NUMEXPR_INSTALLED\n",
      "/home/roberto/.local/lib/python3.10/site-packages/pandas/core/arrays/masked.py:60: UserWarning: Pandas requires version '1.3.6' or newer of 'bottleneck' (version '1.3.2' currently installed).\n",
      "  from pandas.core import (\n",
      "/home/roberto/.local/lib/python3.10/site-packages/matplotlib/projections/__init__.py:63: UserWarning: Unable to import Axes3D. This may be due to multiple versions of Matplotlib being installed (e.g. as a system package and as a pip package). As a result, the 3D projection is not available.\n",
      "  warnings.warn(\"Unable to import Axes3D. This may be due to multiple versions of \"\n"
     ]
    }
   ],
   "source": [
    "import pandas as pd\n",
    "import numpy as np\n",
    "import re\n",
    "import matplotlib.pyplot as plt"
   ]
  },
  {
   "cell_type": "markdown",
   "metadata": {},
   "source": [
    "## Ejercicio 1"
   ]
  },
  {
   "cell_type": "markdown",
   "metadata": {},
   "source": [
    "### Data reading"
   ]
  },
  {
   "cell_type": "code",
   "execution_count": 2,
   "metadata": {},
   "outputs": [
    {
     "name": "stdout",
     "output_type": "stream",
     "text": [
      "Index(['organismo', 'expediente', 'financiamiento', 'acto_conclusión',\n",
      "       'descripción', 'prestador', 'CUIT', 'estado', 'factura_nro',\n",
      "       'factura_moneda_monto', 'guía_nro', 'guía_moneda_monto', 'fecha_guía',\n",
      "       'vuelo ', 'bienes_transportados', 'proveedor_bienes_transportados',\n",
      "       'operación', 'comprador_donante', 'origen'],\n",
      "      dtype='object')\n"
     ]
    }
   ],
   "source": [
    "archivo_fletes='flete-aereo-vacunas-covid19-al-2021-06-28.xlsx'\n",
    "dataFlete=pd.read_excel(archivo_fletes, skiprows=4).dropna()\n",
    "print(dataFlete.columns)"
   ]
  },
  {
   "cell_type": "markdown",
   "metadata": {},
   "source": [
    "### Porcentaje de cada vuelo"
   ]
  },
  {
   "cell_type": "code",
   "execution_count": 3,
   "metadata": {},
   "outputs": [
    {
     "name": "stdout",
     "output_type": "stream",
     "text": [
      "59\n",
      "11.864406779661017 %\n",
      "22.033898305084744 %\n",
      "18.64406779661017 %\n",
      "15.254237288135593 %\n",
      "6.779661016949152 %\n",
      "5.084745762711865 %\n",
      "10.16949152542373 %\n",
      "3.389830508474576 %\n",
      "1.694915254237288 %\n",
      "1.694915254237288 %\n",
      "1.694915254237288 %\n",
      "1.694915254237288 %\n",
      "100.0 %\n"
     ]
    }
   ],
   "source": [
    "df_agrupado = dataFlete.groupby('vuelo ')\n",
    "total_vuelos=df_agrupado.size()\n",
    "numero_total_vuelos=total_vuelos.sum()\n",
    "print(numero_total_vuelos)\n",
    "sum=0\n",
    "for vuelo in total_vuelos:\n",
    "    porcentaje=(vuelo/numero_total_vuelos)*100\n",
    "    print(f'{porcentaje} %')\n",
    "    sum+=porcentaje\n",
    "\n",
    "print(f'{sum} %')\n",
    "\n"
   ]
  },
  {
   "cell_type": "markdown",
   "metadata": {},
   "source": [
    "### Promedio de lo facturado"
   ]
  },
  {
   "cell_type": "markdown",
   "metadata": {},
   "source": [
    "#### Cleaning Data"
   ]
  },
  {
   "cell_type": "code",
   "execution_count": 4,
   "metadata": {},
   "outputs": [],
   "source": [
    "total_facturado_usd=dataFlete['factura_moneda_monto'].str.startswith('USD')\n",
    "total_facturado_eur=dataFlete['factura_moneda_monto'].str.startswith('EUR')\n",
    "valores_usd = dataFlete[total_facturado_usd]['factura_moneda_monto'].str[4:]\n",
    "valores_eur=dataFlete[total_facturado_eur]['factura_moneda_monto'].str[4:]\n",
    "\n",
    "valores_limpios_usd=valores_usd.str.replace(',','.').str.replace('.','').str.replace(' ','').astype(float)\n",
    "valores_limpios_eur=valores_eur.str.replace(',','.').str.replace('.','').str.replace(' ','').astype(float)\n"
   ]
  },
  {
   "cell_type": "markdown",
   "metadata": {},
   "source": [
    "#### Calculo de Promedio"
   ]
  },
  {
   "cell_type": "code",
   "execution_count": 5,
   "metadata": {},
   "outputs": [],
   "source": [
    "valores_limpios_eur=valores_limpios_eur.sum()\n",
    "valores_limpios_usd=valores_limpios_usd.sum()\n"
   ]
  },
  {
   "cell_type": "markdown",
   "metadata": {},
   "source": [
    "## Ejercicio 2\n"
   ]
  },
  {
   "cell_type": "markdown",
   "metadata": {},
   "source": [
    "### Data reading"
   ]
  },
  {
   "cell_type": "code",
   "execution_count": 6,
   "metadata": {},
   "outputs": [
    {
     "name": "stderr",
     "output_type": "stream",
     "text": [
      "/tmp/ipykernel_5953/2739636694.py:4: FutureWarning: A value is trying to be set on a copy of a DataFrame or Series through chained assignment using an inplace method.\n",
      "The behavior will change in pandas 3.0. This inplace method will never work because the intermediate object on which we are setting values always behaves as a copy.\n",
      "\n",
      "For example, when doing 'df[col].method(value, inplace=True)', try using 'df.method({col: value}, inplace=True)' or df[col] = df[col].method(value) instead, to perform the operation inplace on the original object.\n",
      "\n",
      "\n",
      "  data_incendios['natural'].replace('-', 0, inplace=True)\n"
     ]
    }
   ],
   "source": [
    "archivo_incendios='incendios-cantidad-causas-provincia-2022.csv'\n",
    "data_incendios=pd.read_csv(archivo_incendios, skiprows=3, encoding='latin-1').dropna()\n",
    "\n",
    "data_incendios['natural'].replace('-', 0, inplace=True)\n"
   ]
  },
  {
   "cell_type": "markdown",
   "metadata": {},
   "source": [
    "#### Numero de incendios totales anuales\n"
   ]
  },
  {
   "cell_type": "code",
   "execution_count": 7,
   "metadata": {},
   "outputs": [
    {
     "name": "stdout",
     "output_type": "stream",
     "text": [
      "Año: 1993, Total de incendios: 538\n",
      "Año: 1994, Total de incendios: 852\n",
      "Año: 1995, Total de incendios: 4145\n",
      "Año: 1996, Total de incendios: 4057\n",
      "Año: 1997, Total de incendios: 4660\n",
      "Año: 1998, Total de incendios: 8681\n",
      "Año: 1999, Total de incendios: 10487\n",
      "Año: 2000, Total de incendios: 10559\n",
      "Año: 2001, Total de incendios: 7839\n",
      "Año: 2002, Total de incendios: 10566\n",
      "Año: 2003, Total de incendios: 12191\n",
      "Año: 2004, Total de incendios: 12629\n",
      "Año: 2005, Total de incendios: 17260\n",
      "Año: 2006, Total de incendios: 11321\n",
      "Año: 2007, Total de incendios: 10994\n",
      "Año: 2008, Total de incendios: 17682\n",
      "Año: 2009, Total de incendios: 10309\n",
      "Año: 2010, Total de incendios: 7504\n",
      "Año: 2011, Total de incendios: 6738\n",
      "Año: 2012, Total de incendios: 5599\n",
      "Año: 2013, Total de incendios: 6684\n",
      "Año: 2014, Total de incendios: 6951\n",
      "Año: 2015, Total de incendios: 6045\n",
      "Año: 2016, Total de incendios: 7478\n",
      "Año: 2017, Total de incendios: 7414\n",
      "Año: 2018, Total de incendios: 9136\n",
      "Año: 2019, Total de incendios: 6429\n",
      "Año: 2020, Total de incendios: 10477\n",
      "Año: 2021, Total de incendios: 6209\n"
     ]
    }
   ],
   "source": [
    "total_incendios_año = data_incendios.groupby('anio')['total'].sum().to_dict()\n",
    "for año, total_incendios in total_incendios_año.items():\n",
    "  print(f\"Año: {año}, Total de incendios: {total_incendios}\")"
   ]
  },
  {
   "cell_type": "markdown",
   "metadata": {},
   "source": [
    "#### Gráfico de barras con el número de incendios totales para cada año del período 1993-2021 para la provincia de Córdoba"
   ]
  },
  {
   "cell_type": "code",
   "execution_count": 10,
   "metadata": {},
   "outputs": [
    {
     "name": "stdout",
     "output_type": "stream",
     "text": [
      "Año: 2005, Total de incendios: 763\n",
      "Año: 2010, Total de incendios: 192\n",
      "Año: 2015, Total de incendios: 3\n",
      "Año: 2016, Total de incendios: 283\n",
      "Año: 2017, Total de incendios: 282\n",
      "Año: 2018, Total de incendios: 295\n"
     ]
    },
    {
     "data": {
      "image/png": "[encoded data removed]",
      "text/plain": [
       "<Figure size 1200x800 with 1 Axes>"
      ]
     },
     "metadata": {},
     "output_type": "display_data"
    }
   ],
   "source": [
    "data_incendios_cordoba=data_incendios[data_incendios['provincia']== 'Cordoba']\n",
    "\n",
    "total_incendios_año_cordoba = data_incendios_cordoba.groupby('anio')['total'].sum().to_dict()\n",
    "for año, total_incendios in total_incendios_año_cordoba.items():\n",
    "  print(f\"Año: {año}, Total de incendios: {total_incendios}\")\n",
    "\n",
    "\n",
    "plt.style.use('_mpl-gallery')\n",
    "x = total_incendios_año_cordoba.keys()\n",
    "y = total_incendios_año_cordoba.values()\n",
    "\n",
    "plt.figure(figsize=(12, 8))\n",
    "\n",
    "plt.bar(x, y, width=5, edgecolor=\"white\", linewidth=0.7)\n",
    "\n",
    "\n",
    "plt.title(\"Total de Incendios en Córdoba por Año\")\n",
    "plt.xlabel(\"Año\")\n",
    "plt.ylabel(\"Total de Incendios\")\n",
    "\n",
    "plt.show()\n"
   ]
  },
  {
   "cell_type": "markdown",
   "metadata": {},
   "source": [
    "#### gráfico de barras que compare el número de incendios intencionales, por negligencia y naturales para el período 2015-2021 en la provincia de Santa Fe"
   ]
  },
  {
   "cell_type": "code",
   "execution_count": 68,
   "metadata": {},
   "outputs": [
    {
     "name": "stdout",
     "output_type": "stream",
     "text": [
      "      natural\n",
      "anio         \n",
      "2015        3\n",
      "2016        0\n",
      "2017       15\n",
      "2018        2\n",
      "2019        2\n",
      "2020      100\n",
      "2021        0\n",
      "natural    122\n",
      "dtype: int64\n"
     ]
    }
   ],
   "source": [
    "data_incendios_santa_fe=data_incendios[data_incendios['provincia'] == 'Santa Fe']\n",
    "\n",
    "intervalo_años = [2015, 2016, 2017, 2018, 2019, 2020, 2021]\n",
    "\n",
    "data_incendios_santa_fe = data_incendios_santa_fe[data_incendios_santa_fe['anio'].isin(intervalo_años)]\n",
    "\n",
    "data_incendios_negligencia_intervalo=data_incendios_santa_fe[['anio', 'negligencia']].groupby('anio').sum()\n",
    "data_incendios_intencional_intervalo=data_incendios_santa_fe[['anio', 'intencional']].groupby('anio').sum()\n",
    "data_incendios_natural_intervalo=data_incendios_santa_fe[['anio', 'natural']].groupby('anio').sum().astype(int)\n",
    "\n",
    "suma_negligencia=data_incendios_negligencia_intervalo.sum()\n",
    "suma_intencionales=data_incendios_intencional_intervalo.sum()\n",
    "suma_natural=data_incendios_natural_intervalo.sum()"
   ]
  },
  {
   "cell_type": "code",
   "execution_count": 69,
   "metadata": {},
   "outputs": [
    {
     "data": {
      "image/png": "[encoded data removed]",
      "text/plain": [
       "<Figure size 1000x600 with 1 Axes>"
      ]
     },
     "metadata": {},
     "output_type": "display_data"
    }
   ],
   "source": [
    "# Crear un gráfico de barras\n",
    "plt.figure(figsize=(10, 6))\n",
    "plt.bar(suma_negligencia.index, suma_negligencia['negligencia'], color='red', label='Negligencia', alpha=0.6)\n",
    "plt.bar(suma_intencionales.index, suma_intencionales['intencional'], color='green', label='Intencional', alpha=0.6)\n",
    "plt.bar(suma_natural.index, suma_natural['natural'], color='blue', label='Natural', alpha=0.6)\n",
    "\n",
    "# Configurar etiquetas y título\n",
    "plt.xlabel('Año')\n",
    "plt.ylabel('Número de incendios')\n",
    "plt.title('Número de incendios por tipo en Santa Fe (2015-2021)')\n",
    "plt.legend()\n",
    "plt.show()\n"
   ]
  },
  {
   "cell_type": "markdown",
   "metadata": {},
   "source": [
    "#### promedio para todo el periodo del número de incendios intencionales, por negligencia y naturales para la provincia de Río Negro"
   ]
  },
  {
   "cell_type": "code",
   "execution_count": 91,
   "metadata": {},
   "outputs": [
    {
     "name": "stdout",
     "output_type": "stream",
     "text": [
      "240.9655172413793\n",
      "343.7586206896552\n",
      "18.896551724137932\n"
     ]
    }
   ],
   "source": [
    "data_incendios_rio_negro=data_incendios[data_incendios['provincia'] == 'Río Negro']\n",
    "intervalo_años = list(data_incendios['anio'].unique())\n",
    "data_incendios_rio_negro_por_anio = data_incendios_rio_negro[data_incendios_rio_negro['anio'].isin(intervalo_años)]\n",
    "\n",
    "\n",
    "promedio_incendios_rio_negro_negligencia=data_incendios_rio_negro['negligencia'].mean()\n",
    "print(promedio_incendios_rio_negro_negligencia)\n",
    "\n",
    "promedio_incendios_rio_negro_intencional=data_incendios_rio_negro['intencional'].mean()\n",
    "print(promedio_incendios_rio_negro_intencional)\n",
    "\n",
    "incendios_rio_negro_natural=data_incendios_rio_negro['natural'].astype(float).mean()\n",
    "print(incendios_rio_negro_natural)"
   ]
  },
  {
   "cell_type": "markdown",
   "metadata": {},
   "source": [
    "## Ejercicio 3"
   ]
  },
  {
   "cell_type": "code",
   "execution_count": null,
   "metadata": {},
   "outputs": [],
   "source": []
  },
  {
   "cell_type": "code",
   "execution_count": null,
   "metadata": {},
   "outputs": [],
   "source": []
  }
 ],
 "metadata": {
  "kernelspec": {
   "display_name": "Python 3",
   "language": "python",
   "name": "python3"
  },
  "language_info": {
   "codemirror_mode": {
    "name": "ipython",
    "version": 3
   },
   "file_extension": ".py",
   "mimetype": "text/x-python",
   "name": "python",
   "nbconvert_exporter": "python",
   "pygments_lexer": "ipython3",
   "version": "3.10.12"
  }
 },
 "nbformat": 4,
 "nbformat_minor": 2
}
