{
  "cells": [
    {
      "cell_type": "markdown",
      "metadata": {
        "id": "7u24cwGnQTGB"
      },
      "source": [
        "# Práctica 6: Estrategias de Algoritmos"
      ]
    },
    {
      "cell_type": "markdown",
      "metadata": {
        "id": "FXKGUU31xj5f"
      },
      "source": [
        "# Generadores\n",
        "\n",
        "Los generadores en Python son una herramienta expresiva muy poderosa, que como veremos nos va a permitir resolver algunos problemas más fácilmente, ¡y otros más eficientemente!\n",
        "\n",
        "Vean la [documentación oficial](https://wiki.python.org/moin/Generators) si les interesa."
      ]
    },
    {
      "cell_type": "markdown",
      "metadata": {
        "id": "gC9j4BEFx9Ms"
      },
      "source": [
        "---\n",
        "# Problema de ejemplo"
      ]
    },
    {
      "cell_type": "code",
      "execution_count": null,
      "metadata": {
        "id": "pRVn_qMsxHaR"
      },
      "outputs": [],
      "source": [
        "def elementos_hasta_n(n: int) -> list[int]:\n",
        "  lista = []\n",
        "\n",
        "  i = 1\n",
        "  while i <= n:\n",
        "    lista.append(i)\n",
        "    i += 1\n",
        "\n",
        "  return lista"
      ]
    },
    {
      "cell_type": "code",
      "execution_count": null,
      "metadata": {
        "id": "AtItrjYeyqWQ"
      },
      "outputs": [],
      "source": [
        "resultado = elementos_hasta_n(100_000_000) # Comprobar que esto tarda mucho"
      ]
    },
    {
      "cell_type": "markdown",
      "metadata": {
        "id": "68eFcEmuzRLR"
      },
      "source": [
        "---\n",
        "# Haciendo el ajuste"
      ]
    },
    {
      "cell_type": "code",
      "execution_count": null,
      "metadata": {
        "id": "0i9_HOmLzUDm"
      },
      "outputs": [],
      "source": [
        "def elementos_hasta_n_perezosamente(n: int):\n",
        "  i = 1\n",
        "  while i <= n:\n",
        "    yield i # Yield es como un return que después sigue donde se quedó\n",
        "    i += 1"
      ]
    },
    {
      "cell_type": "code",
      "execution_count": null,
      "metadata": {
        "id": "dbNOOEI1zk56"
      },
      "outputs": [],
      "source": [
        "resultado = elementos_hasta_n_perezosamente(100_000_000) # Comprobar que esto tarda poco, analizar el tipo de lo que retorna"
      ]
    },
    {
      "cell_type": "markdown",
      "metadata": {
        "id": "vHcCXjFHz1LE"
      },
      "source": [
        "---\n",
        "# Midiendo tiempos"
      ]
    },
    {
      "cell_type": "code",
      "execution_count": null,
      "metadata": {
        "id": "bYZTWXfHz4RN"
      },
      "outputs": [],
      "source": [
        "def consumir(iterable, cantidad: int) -> None:\n",
        "  i = 0\n",
        "  for _ in iterable: # Consumo el generador\n",
        "    if i >= cantidad: # Decido parar\n",
        "      break\n",
        "    i += 1"
      ]
    },
    {
      "cell_type": "code",
      "execution_count": null,
      "metadata": {
        "id": "oIk6Upy80AaV"
      },
      "outputs": [],
      "source": [
        "consumir(elementos_hasta_n(100_000_000), 100) # Demora mucho"
      ]
    },
    {
      "cell_type": "code",
      "execution_count": null,
      "metadata": {
        "id": "25EDY8mz0DXG"
      },
      "outputs": [],
      "source": [
        "consumir(elementos_hasta_n_perezosamente(100_000_000), 100) # Demora poco"
      ]
    },
    {
      "cell_type": "markdown",
      "metadata": {
        "id": "Y7eVmur502Tk"
      },
      "source": [
        "---\n",
        "# Otro uso: generación de secuencias complejas\n",
        "###### (¡y posiblemente infinitas!)"
      ]
    },
    {
      "cell_type": "code",
      "execution_count": null,
      "metadata": {
        "id": "1rWuQ3Ij1MjQ"
      },
      "outputs": [],
      "source": [
        "def fibonacci():\n",
        "  f0 = 0\n",
        "  f1 = 1\n",
        "  while True:\n",
        "    yield f0\n",
        "    fnext = f1 + f0\n",
        "    f0, f1 = f1, fnext"
      ]
    },
    {
      "cell_type": "code",
      "execution_count": null,
      "metadata": {
        "colab": {
          "base_uri": "https://localhost:8080/"
        },
        "id": "T1uEygC_1yWO",
        "outputId": "ac6d0ed2-a02a-4e90-9ce8-930ae7a5235f"
      },
      "outputs": [
        {
          "data": {
            "text/plain": [
              "<generator object fibonacci at 0x7fb0310a1e00>"
            ]
          },
          "execution_count": 16,
          "metadata": {},
          "output_type": "execute_result"
        }
      ],
      "source": [
        "fibonacci() # Funciona"
      ]
    },
    {
      "cell_type": "code",
      "execution_count": null,
      "metadata": {
        "id": "O_pJfpX-161A"
      },
      "outputs": [],
      "source": [
        "[f for f in fibonacci() if f < 100] # Infinito"
      ]
    },
    {
      "cell_type": "code",
      "execution_count": null,
      "metadata": {
        "colab": {
          "base_uri": "https://localhost:8080/"
        },
        "id": "GieKgTDj2MKf",
        "outputId": "fccddfe2-ffa0-420b-e520-42ae3b64911e"
      },
      "outputs": [
        {
          "data": {
            "text/plain": [
              "[0, 1, 1, 2, 3, 5, 8, 13, 21, 34, 55, 89]"
            ]
          },
          "execution_count": 18,
          "metadata": {},
          "output_type": "execute_result"
        }
      ],
      "source": [
        "lista = []\n",
        "for f in fibonacci():\n",
        "  if f >= 100:\n",
        "    break\n",
        "  lista.append(f)\n",
        "lista # Funciona"
      ]
    },
    {
      "cell_type": "code",
      "execution_count": null,
      "metadata": {
        "id": "VqkV5-Cj2iRp"
      },
      "outputs": [],
      "source": [
        "def rand_hasta_que_termine_en(n: int):\n",
        "  from random import randrange\n",
        "\n",
        "  f = randrange(0, 9)\n",
        "  while f != n:\n",
        "    yield f\n",
        "    f = randrange(0, 9)"
      ]
    },
    {
      "cell_type": "code",
      "execution_count": null,
      "metadata": {
        "colab": {
          "base_uri": "https://localhost:8080/"
        },
        "id": "ophgl9sJ3WSt",
        "outputId": "d0a52635-287e-4649-a3be-96e9c9b70bb4"
      },
      "outputs": [
        {
          "data": {
            "text/plain": [
              "[4, 5]"
            ]
          },
          "execution_count": 21,
          "metadata": {},
          "output_type": "execute_result"
        }
      ],
      "source": [
        "list(rand_hasta_que_termine_en(0)) # Probar varias veces"
      ]
    },
    {
      "cell_type": "code",
      "execution_count": null,
      "metadata": {
        "colab": {
          "base_uri": "https://localhost:8080/"
        },
        "id": "sLu53i0KaZSP",
        "outputId": "b10e6252-0717-475c-9113-d96bcd587fd8"
      },
      "outputs": [
        {
          "data": {
            "text/plain": [
              "[(1, 1, 1),\n",
              " (1, 1, 2),\n",
              " (1, 1, 3),\n",
              " (1, 2, 1),\n",
              " (1, 2, 2),\n",
              " (1, 2, 3),\n",
              " (1, 3, 1),\n",
              " (1, 3, 2),\n",
              " (1, 3, 3),\n",
              " (2, 1, 1),\n",
              " (2, 1, 2),\n",
              " (2, 1, 3),\n",
              " (2, 2, 1),\n",
              " (2, 2, 2),\n",
              " (2, 2, 3),\n",
              " (2, 3, 1),\n",
              " (2, 3, 2),\n",
              " (2, 3, 3),\n",
              " (3, 1, 1),\n",
              " (3, 1, 2),\n",
              " (3, 1, 3),\n",
              " (3, 2, 1),\n",
              " (3, 2, 2),\n",
              " (3, 2, 3),\n",
              " (3, 3, 1),\n",
              " (3, 3, 2),\n",
              " (3, 3, 3)]"
            ]
          },
          "execution_count": 22,
          "metadata": {},
          "output_type": "execute_result"
        }
      ],
      "source": [
        "from itertools import product\n",
        "\n",
        "A = [1, 2, 3]\n",
        "\n",
        "def tuplasDeA(k: int):\n",
        "  yield from product(A, repeat=k) # Sintaxis: yield from <iterable>\n",
        "\n",
        "list(tuplasDeA(3))"
      ]
    },
    {
      "cell_type": "markdown",
      "metadata": {
        "id": "Cf-PKMZp3jdr"
      },
      "source": [
        "---\n",
        "# Ejercicios\n",
        "\n",
        "1. Implementar las siguientes funciones de la librería de Python como generadores: `range`, `enumerate`, `zip`\n",
        "\n",
        "2. Implementar un generador de todas las coordenadas `(x, y)` de un plano de tamaño `N x M`, dimensiones pasadas como parámetros"
      ]
    },
    {
      "cell_type": "markdown",
      "metadata": {
        "id": "qX84mdhW2X8q"
      },
      "source": [
        "# Búsqueda Exhaustiva"
      ]
    },
    {
      "cell_type": "markdown",
      "metadata": {
        "id": "i-k9mQ0PyB2Z"
      },
      "source": [
        "Para resolver esta práctica, considere la estructura de solución enseñada en la materia, y el paquete `itertools`, que puede serle útil. Recordar que la estructura no siempre resolverá el problema tal cual está presentada."
      ]
    },
    {
      "cell_type": "code",
      "execution_count": null,
      "metadata": {
        "id": "f8RAH2xiyBfN"
      },
      "outputs": [],
      "source": [
        "import itertools\n",
        "\n",
        "def es_solucion(solucion: \"Solución\") -> bool:\n",
        "  pass\n",
        "\n",
        "def candidatos() -> \"Generador(Solución)\":\n",
        "  pass\n",
        "\n",
        "def resolver(problema: \"Problema\") -> \"Solución\":\n",
        "  pass\n",
        "\n",
        "# resolver(problema)"
      ]
    },
    {
      "cell_type": "markdown",
      "metadata": {
        "id": "DE49vwGLUvLr"
      },
      "source": [
        "**Ejercicio 1**: Dado un número entero compuesto, aplicar un algoritmo de busqueda exhaustiva para dar con uno de sus divisores no triviales."
      ]
    },
    {
      "cell_type": "markdown",
      "metadata": {
        "id": "zBtTyA6b3-7o"
      },
      "source": [
        "**Ejercicio 2**: Escribir una función que, dados cuatro números, devuelva el mayor producto\n",
        "de dos de ellos. Por ejemplo, si recibe los números 1, 5, -2, -4 debe devolver 8, que es el producto\n",
        "más grande que se puede obtener entre ellos (8 = −2 × −4)."
      ]
    },
    {
      "cell_type": "markdown",
      "metadata": {
        "id": "OiqDgyg39tbZ"
      },
      "source": [
        "**Ejercicio 3**: Encuentre todas las soluciones naturales de la ecuación $a² + b² = c²$, donde $1\\leq a, b, c \\leq n$.\n",
        "\n",
        "_Ayuda: puede utilizar_ `itertools.product`"
      ]
    },
    {
      "cell_type": "markdown",
      "metadata": {
        "id": "G5u4FQJVTFdz"
      },
      "source": [
        "**Ejercicio 4**: Dada una lista de $n$ números y un número mágico $m$, determinar si existen en la lista 3 números cuya suma sea el número mágico $m$. Se pueden repetir números.\n",
        "\n",
        "_Ayuda: puede utilizar_ `itertools.product`"
      ]
    },
    {
      "cell_type": "markdown",
      "metadata": {
        "id": "YPW238Hs7o6B"
      },
      "source": [
        "**Ejercicio 5**: Dada una lista de $n$ números y un número mágico $m$, determinar si existen en la lista $k$ números cuya suma sea el número mágico $m$. Se pueden repetir números.\n",
        "\n",
        "_Ayuda: puede utilizar_ `itertools.product`"
      ]
    },
    {
      "cell_type": "markdown",
      "metadata": {
        "id": "2XYVIdPC1CLv"
      },
      "source": [
        "**Ejercicio 6**: Suma máxima de subarray\n",
        "\n",
        "Dada una lista de $n$ números enteros, encontrar la sublista contigua de números cuya suma sea máxima.\n",
        "\n",
        "Ejemplo: para `[1, -5, 20, -6, 10]` la respuesta es `[20, -6, 10]`."
      ]
    },
    {
      "cell_type": "markdown",
      "metadata": {
        "id": "RtJ0AmLq4tZR"
      },
      "source": [
        "**Ejercicio 7**: Ordenamiento\n",
        "\n",
        "Ordene una lista usando búsqueda exhaustiva, para esto proponga todas las permutaciones de una lista y busque aquella que esté ordenada.\n",
        "\n",
        "_Ayuda: utilice_ `itertools.permutations`"
      ]
    },
    {
      "cell_type": "markdown",
      "metadata": {
        "id": "2njPPbBw8Zx-"
      },
      "source": [
        "**Ejercicio 8**: El problema del agente viajero\n",
        "\n",
        "Dada una lista de $n$ ciudades y las distancias entre cada par de ellas,\n",
        "encontrar el recorrido más corto posible que visita cada ciudad\n",
        "exactamente una vez y regresa a la ciudad origen.\n",
        "\n",
        "Por ejemplo, dadas las ciudad a, b, c y d con distancias:\n",
        "\n",
        "a - b: 2\n",
        "\n",
        "a - c: 5\n",
        "\n",
        "a - d: 7\n",
        "\n",
        "b - c: 8\n",
        "\n",
        "b - d: 3\n",
        "\n",
        "c - d: 1\n",
        "\n",
        "El camino optimo es a -> b -> d -> c -> a\n",
        "\n",
        "_Ayuda_: Utilice `networkx` y la función `simple_cycles`."
      ]
    },
    {
      "cell_type": "markdown",
      "metadata": {
        "id": "yoPdPd-KBdYI"
      },
      "source": [
        "**Ejercicio 9: El problema de la mochila**\n",
        "\n",
        "Sean $n$ distintos tipos de objetos, de los cuales se tienen $q_i$ unidades disponibles para cada tipo ($1 ≤ q_i ≤ ∞$). Cada tipo de objeto $i$ tiene un\n",
        "beneficio asociado $v_i$ y un peso (o volumen) $w_i$ ($vi\n",
        ", wi > 0$).\n",
        "\n",
        "Por otro lado se tiene una mochila, donde se pueden introducir los\n",
        "objetos, que soporta un peso máximo (o volumen máximo) $W$.\n",
        "El problema consiste en meter en la mochila objetos de tal forma que\n",
        "se maximice el valor de los objetos que contiene y siempre que no se\n",
        "supere el peso máximo que puede soportar la misma.\n",
        "\n",
        "Por ejemplo, si la capacidad de la mochila es $W=5 kg$ y los candidatoss objetos:\n",
        "\n",
        "| Objeto ($i$) | Cantidad ($q_i$)| Valor ($v_i)$ | Peso ($w_i$) |\n",
        "|--------------|-----------------|---------------|--------------|\n",
        "| objeto 1     |   1             | 10usd         | 1 kg         |\n",
        "| objeto 2     |   2             | 20usd         | 3 kg         |\n",
        "| objeto 3     |   1             | 15usd         | 2 kg         |\n",
        "| objeto 4     |   3             | 20usd         | 4 kg         |\n",
        "\n",
        "Conviene llevar una unidad del objeto 2 y una unidad del objeto 3.\n"
      ]
    },
    {
      "cell_type": "markdown",
      "metadata": {
        "id": "Mp75quWIanOS"
      },
      "source": [
        "# Greedy"
      ]
    },
    {
      "cell_type": "markdown",
      "metadata": {
        "id": "WKOA5qEvprm1"
      },
      "source": [
        "Para resolver esta práctica, considere la siguiente estructura de solucion. Recordar que la misma no siempre resolverá el problema tal cuál está presentada."
      ]
    },
    {
      "cell_type": "code",
      "execution_count": null,
      "metadata": {
        "id": "g6uYFRSpoygT"
      },
      "outputs": [],
      "source": [
        "def es_solucion(eleccion_actual: \"Solucion\") -> bool:\n",
        "  pass\n",
        "\n",
        "def elegir_candidato(problema: \"Problema\") -> \"Elemento\":\n",
        "  pass\n",
        "\n",
        "def es_factible(eleccion: \"Solucion\") -> bool:\n",
        "  pass\n",
        "\n",
        "def resolver(problema: \"Problema\") -> \"Solucion\":\n",
        "  pass"
      ]
    },
    {
      "cell_type": "markdown",
      "metadata": {
        "id": "wyUrQ_fMDUiC"
      },
      "source": [
        "**Ejercicio 1**: Dada una lista de pares `(letra, numero)` elegir aquellos pares con la letra `A` hasta que la suma de los numeros pase un umbral `S`, usando la receta de Greedy."
      ]
    },
    {
      "cell_type": "code",
      "execution_count": 28,
      "metadata": {},
      "outputs": [
        {
          "name": "stdout",
          "output_type": "stream",
          "text": [
            "Umbral: 10\n",
            "Solución: [('A', 5), ('A', 3), ('A', 1)]\n",
            "Suma de los números: 9\n"
          ]
        }
      ],
      "source": [
        "def es_solucion(par: tuple) -> bool:\n",
        "    '''\n",
        "      Para que sea solucion la letra de la tupla tiene que ser A\n",
        "    '''\n",
        "    return(par[0]=='A')\n",
        "\n",
        "def elegir_candidato(candidatos:list[tuple]):\n",
        "    '''\n",
        "      Para elegir el candidato recorre la lista de tuplas y utiliza la funcion es solucion para verificar que cumpla\n",
        "    '''\n",
        "    candidatos_totales=[]\n",
        "    for candidato in candidatos:\n",
        "        if es_solucion(candidato):\n",
        "          candidatos_totales.append(candidato)\n",
        "    return candidatos_totales\n",
        "\n",
        "def es_factible(candidatos_totales: list[tuple], suma_total: int, umbral:int) -> bool:\n",
        "  '''\n",
        "    Es factible verifica que se sumen candidatos hasta que se llegue al valor, y se van agregando a candidatos finales\n",
        "  '''\n",
        "  candidatos_finales=[]\n",
        "  for candidato in candidatos_totales:\n",
        "    if suma_total + candidato[1] <= umbral:\n",
        "      suma_total += candidato[1]\n",
        "      candidatos_finales.append(candidato)\n",
        "  return candidatos_finales, suma_total\n",
        "\n",
        "def resolver(problema:list[tuple]):\n",
        "  suma_total=0\n",
        "  umbral=0\n",
        "  for candidato in problema:\n",
        "    if(candidato[0]=='S'):\n",
        "      umbral=candidato[1]\n",
        "      break\n",
        "\n",
        "  candidatos_totales=elegir_candidato(problema)\n",
        "  solucion_final, suma_total = es_factible(candidatos_totales,suma_total,umbral)\n",
        "\n",
        "  return umbral, solucion_final, suma_total\n",
        "\n",
        "problema = [('A', 5), ('B', 2), ('A', 3), ('A', 8), ('B', 6), ('A', 1), ('S', 10)]\n",
        "umbral, solucion, suma = resolver(problema)\n",
        "\n",
        "print(\"Umbral:\", umbral)\n",
        "print(\"Solución:\", solucion)\n",
        "print(\"Suma de los números:\", suma)"
      ]
    },
    {
      "cell_type": "markdown",
      "metadata": {
        "id": "1wHKWh4JDFlH"
      },
      "source": [
        "**Ejercicio 2**: Ordenar\n",
        "\n",
        "Ordenar una lista de números usando Greedy."
      ]
    },
    {
      "cell_type": "code",
      "execution_count": 3,
      "metadata": {},
      "outputs": [
        {
          "name": "stdout",
          "output_type": "stream",
          "text": [
            "Lista ordenada: [9, 6, 5, 5, 4, 3, 2, 1, 1]\n",
            "Es factible: True\n",
            "Es solución: False\n"
          ]
        }
      ],
      "source": [
        "def es_solucion(list: list[int]) -> bool:\n",
        "  '''\n",
        "    Para que sea solucion el valor que elegimos tiene que ser menor al de la izquierda y mayor al de la derecha\n",
        "  '''\n",
        "  for i in range(1, len(list) - 2):\n",
        "        if list[i] <= list[i-1] and list[i] >= list[i+1]:\n",
        "            return False\n",
        "  return True\n",
        "\n",
        "def elegir_candidato(candidato:list[int]):\n",
        "  '''\n",
        "    Devuelve el mayor numero de la lista\n",
        "  '''\n",
        "  return max(candidato)\n",
        "\n",
        "def es_factible(lista_ordenada) -> bool:\n",
        "  '''\n",
        "    Ahora vamos a verificar que los valores de la lista esten ordenados de mayor a menor\n",
        "  '''\n",
        "  for i in range(len(lista_ordenada) -1 ):\n",
        "    if lista_ordenada[i] > lista_ordenada[i-1]:\n",
        "      return True\n",
        "    else:\n",
        "      return False\n",
        "\n",
        "def resolver(lista_desordenada: list[int]):\n",
        "  lista_ordenada = []\n",
        "  while lista_desordenada:\n",
        "      maximo = elegir_candidato(lista_desordenada)\n",
        "      lista_desordenada.remove(maximo)\n",
        "      lista_ordenada.append(maximo)\n",
        "  return lista_ordenada\n",
        "\n",
        "lista_desordenada = [3, 1, 4, 1, 5, 9, 2, 6, 5]\n",
        "lista_ordenada = resolver(lista_desordenada)\n",
        "print(\"Lista ordenada:\", lista_ordenada)\n",
        "print(\"Es factible:\", es_factible(lista_ordenada))\n",
        "print(\"Es solución:\", es_solucion(lista_ordenada))"
      ]
    },
    {
      "cell_type": "markdown",
      "metadata": {
        "id": "E3KZzsxYiqTz"
      },
      "source": [
        "**Ejercicio 3**: Tenemos una lista de tareas, cada tarea se simboliza con el tiempo que toma completarla, pero tenemos un tiempo límite $T$ que probablemente no nos alcance para hacerlas todas.\n",
        "\n",
        "¿Cuál es la mayor cantidad de tareas que puedo completar en $T$ tiempo o menos?\n",
        "\n",
        "Ejemplo:\n",
        "```python\n",
        "tasks = [5, 9, 2, 6, 1]\n",
        "T = 10\n",
        "# Respuesta: 3\n",
        "```"
      ]
    },
    {
      "cell_type": "code",
      "execution_count": 4,
      "metadata": {},
      "outputs": [],
      "source": [
        "def es_solucion(list: list[int],T:int) -> bool:\n",
        "  '''\n",
        "    Para que sea solucion la suma de la mayor cantidad de tareas tiene que ser menor o igual a 10\n",
        "  '''\n",
        "  return sum(list) <= T\n",
        "\n",
        "def elegir_candidato(tasks: list[int])->int:\n",
        "  return min(tasks)\n",
        "\n",
        "def es_factible(list: list[int]) -> bool:\n",
        "    return sum(list) < 10\n",
        "\n",
        "def resolver(tasks: list[int]) -> int:\n",
        "    tasks_list=[]\n",
        "    for i in range(len(tasks)-1):\n",
        "        min=elegir_candidato(tasks)\n",
        "        if es_solucion(tasks_list, T):\n",
        "            tasks_list\n",
        "tasks = [5, 9, 2, 6, 1]\n",
        "T = 10"
      ]
    },
    {
      "cell_type": "markdown",
      "metadata": {
        "id": "DppkYaoADS82"
      },
      "source": [
        "**Ejercicio 4**: Problema del Cambio. Dado un número entero $C$ que representa un vuelto que hay que dar, encuentre una combinación de monedas de 1, 5, 10 y 20 centavos que sumen $C$ y que sean la menor cantidad de monedas posible."
      ]
    },
    {
      "cell_type": "markdown",
      "metadata": {
        "id": "9ueoV2NyEDIO"
      },
      "source": [
        "**Ejercicio 5**: Sean $n$ actividades que podríamos hacer. Cada actividad tiene un tiempo de inicio y un tiempo de fin, $0 ≤ si < fi < ∞$. Calcule la cantidad máxima de actividades que podemos realizar, si no se pueden hacer en simultáneo."
      ]
    },
    {
      "cell_type": "markdown",
      "metadata": {
        "id": "HuUuShJIFSsc"
      },
      "source": [
        "**Ejercicio 6**: Algoritmo de Kruskall. Al igual que Prim, encuentra el árbol de expansión mínimo, pero es más sencillo a la hora de programarlo. Dado el conjunto de $E$ aristas ponderadas del grafo de $N$ vértices, elige las primeras $N - 1$ aristas de menor costo que no formen un ciclo.\n",
        "\n",
        "Ejemplo:\n",
        "\n",
        "$E = [(A, B, 1), (A, C, 2), (A, D, 3), (A, E, 4), (B, C, 5), (C, D, 6), (D, E, 7), (E, B, 8)]$\n",
        "\n",
        "Identificamos que hay 5 vertices unicos en esas aristas (los vertices estan implicitos y que es conexo tambien) y la respuesta son las primeras 4 aristas"
      ]
    },
    {
      "cell_type": "markdown",
      "metadata": {
        "id": "OqF-LaU2eN0J"
      },
      "source": [
        "**Ejercicio 7**: La codificación de Huffman es un algoritmo de compresión de datos. A los elementos más frecuentes se les asigna cadenas de bits más cortas.\n",
        "\n",
        "Se emplea un árbol para la codificación, donde los nodos internos no tienen datos, la rama izquierda representa leer un 0, la rama derecha representa leer un 1, y al llegar a la hoja interpretamos el dato que allí se encuentra.\n",
        "\n",
        "Ejemplo:\n",
        "\n",
        "Dado el siguiente árbol de codificación de Huffman\n",
        "```\n",
        "   .\n",
        " 0/ \\1\n",
        " /   \\\n",
        "a  0/ \\1\n",
        "   b   c\n",
        "```\n",
        "y la cadena de bits\n",
        "```\n",
        "01010110\n",
        "```\n",
        "interpretaríamos\n",
        "```\n",
        "0 -> a\n",
        "10 -> b\n",
        "10 -> b\n",
        "11 -> c\n",
        "0 -> a\n",
        "```\n",
        "Está garantizado que, si la cadena de bits salió de ese árbol, entonces la interpretación siempre se puede realizar sin errores.\n",
        "\n",
        "El algoritmo para construir el árbol toma siempre los dos nodos con menor frecuencia y los une en un nodo interno, cuyo valor es la suma de las frecuencias, el menor de los dos hijos va a la rama del 0, y el mayor a la del 1, e itera este proceso Greedy hasta que nos quede un solo nodo, la raíz del árbol entero.\n",
        "\n",
        "Implementar el algoritmo que transforma un string en un Árbol de Huffman para crear el árbol. Como extra, además escribir el algoritmo de interpretación de secuencias de 1s y 0s. El algoritmo toma los 2 nodos con menor frecuencia y crea un nuevo nodo interno."
      ]
    }
  ],
  "metadata": {
    "colab": {
      "collapsed_sections": [
        "Y7eVmur502Tk"
      ],
      "provenance": []
    },
    "kernelspec": {
      "display_name": "Python 3",
      "name": "python3"
    },
    "language_info": {
      "codemirror_mode": {
        "name": "ipython",
        "version": 3
      },
      "file_extension": ".py",
      "mimetype": "text/x-python",
      "name": "python",
      "nbconvert_exporter": "python",
      "pygments_lexer": "ipython3",
      "version": "3.10.12"
    }
  },
  "nbformat": 4,
  "nbformat_minor": 0
}
