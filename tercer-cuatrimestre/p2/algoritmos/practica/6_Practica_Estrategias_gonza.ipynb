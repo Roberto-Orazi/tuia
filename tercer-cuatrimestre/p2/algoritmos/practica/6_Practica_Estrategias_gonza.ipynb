{
  "cells": [
    {
      "cell_type": "markdown",
      "metadata": {
        "id": "7u24cwGnQTGB"
      },
      "source": [
        "# Práctica 6: Estrategias de Algoritmos"
      ]
    },
    {
      "cell_type": "markdown",
      "metadata": {
        "id": "FXKGUU31xj5f"
      },
      "source": [
        "# Generadores\n",
        "\n",
        "Los generadores en Python son una herramienta expresiva muy poderosa, que como veremos nos va a permitir resolver algunos problemas más fácilmente, ¡y otros más eficientemente!\n",
        "\n",
        "Vean la [documentación oficial](https://wiki.python.org/moin/Generators) si les interesa."
      ]
    },
    {
      "cell_type": "markdown",
      "metadata": {
        "id": "gC9j4BEFx9Ms"
      },
      "source": [
        "---\n",
        "# Problema de ejemplo"
      ]
    },
    {
      "cell_type": "code",
      "execution_count": null,
      "metadata": {
        "id": "pRVn_qMsxHaR"
      },
      "outputs": [],
      "source": [
        "def elementos_hasta_n(n: int) -> list[int]:\n",
        "  lista = []\n",
        "\n",
        "  i = 1\n",
        "  while i <= n:\n",
        "    lista.append(i)\n",
        "    i += 1\n",
        "\n",
        "  return lista"
      ]
    },
    {
      "cell_type": "code",
      "execution_count": null,
      "metadata": {
        "id": "AtItrjYeyqWQ"
      },
      "outputs": [],
      "source": [
        "resultado = elementos_hasta_n(100_000_000) # Comprobar que esto tarda mucho (los guiones bajos son separadores)"
      ]
    },
    {
      "cell_type": "markdown",
      "metadata": {
        "id": "68eFcEmuzRLR"
      },
      "source": [
        "---\n",
        "# Haciendo el ajuste"
      ]
    },
    {
      "cell_type": "code",
      "execution_count": null,
      "metadata": {
        "id": "0i9_HOmLzUDm"
      },
      "outputs": [],
      "source": [
        "def elementos_hasta_n_perezosamente(n: int):\n",
        "  i = 1\n",
        "  while i <= n:\n",
        "    yield i # Yield es como un return que después sigue donde se quedó\n",
        "    i += 1"
      ]
    },
    {
      "cell_type": "code",
      "execution_count": null,
      "metadata": {
        "colab": {
          "base_uri": "https://localhost:8080/"
        },
        "id": "dbNOOEI1zk56",
        "outputId": "a24eb9ad-58a3-48f3-abb6-f4d2ef2faa18"
      },
      "outputs": [
        {
          "name": "stdout",
          "output_type": "stream",
          "text": [
            "<class 'generator'>\n"
          ]
        }
      ],
      "source": [
        "resultado = elementos_hasta_n_perezosamente(100_000_000) # Comprobar que esto tarda poco, analizar el tipo de lo que retorna\n",
        "print(type(resultado))    # Un tipo especial de Python"
      ]
    },
    {
      "cell_type": "markdown",
      "metadata": {
        "id": "vHcCXjFHz1LE"
      },
      "source": [
        "---\n",
        "# Midiendo tiempos"
      ]
    },
    {
      "cell_type": "code",
      "execution_count": null,
      "metadata": {
        "id": "bYZTWXfHz4RN"
      },
      "outputs": [],
      "source": [
        "def consumir(iterable, cantidad: int) -> None:\n",
        "  i = 0\n",
        "  for _ in iterable: # Consumo el generador\n",
        "    if i >= cantidad: # Decido parar\n",
        "      break\n",
        "    i += 1"
      ]
    },
    {
      "cell_type": "code",
      "execution_count": null,
      "metadata": {
        "id": "oIk6Upy80AaV"
      },
      "outputs": [],
      "source": [
        "consumir(elementos_hasta_n(100_000_000), 100) # Demora mucho"
      ]
    },
    {
      "cell_type": "code",
      "execution_count": null,
      "metadata": {
        "id": "25EDY8mz0DXG"
      },
      "outputs": [],
      "source": [
        "consumir(elementos_hasta_n_perezosamente(100_000_000), 100) # Demora poco"
      ]
    },
    {
      "cell_type": "markdown",
      "metadata": {
        "id": "Y7eVmur502Tk"
      },
      "source": [
        "---\n",
        "# Otro uso: generación de secuencias complejas\n",
        "###### (¡y posiblemente infinitas!)"
      ]
    },
    {
      "cell_type": "code",
      "execution_count": null,
      "metadata": {
        "id": "1rWuQ3Ij1MjQ"
      },
      "outputs": [],
      "source": [
        "def fibonacci():\n",
        "  f0 = 0\n",
        "  f1 = 1\n",
        "  while True:\n",
        "    yield f0\n",
        "    fnext = f1 + f0\n",
        "    f0, f1 = f1, fnext"
      ]
    },
    {
      "cell_type": "code",
      "execution_count": null,
      "metadata": {
        "colab": {
          "base_uri": "https://localhost:8080/"
        },
        "id": "T1uEygC_1yWO",
        "outputId": "30d6ea60-9a69-433c-d2da-9fdde138dc4e"
      },
      "outputs": [
        {
          "data": {
            "text/plain": [
              "<generator object fibonacci at 0x7ccd7de5d310>"
            ]
          },
          "execution_count": 11,
          "metadata": {},
          "output_type": "execute_result"
        }
      ],
      "source": [
        "fibonacci() # Funciona"
      ]
    },
    {
      "cell_type": "code",
      "execution_count": null,
      "metadata": {
        "id": "O_pJfpX-161A"
      },
      "outputs": [],
      "source": [
        "[f for f in fibonacci() if f < 100] # Infinito"
      ]
    },
    {
      "cell_type": "code",
      "execution_count": null,
      "metadata": {
        "colab": {
          "base_uri": "https://localhost:8080/"
        },
        "id": "GieKgTDj2MKf",
        "outputId": "7a3829ca-2ba2-4fe6-b02a-332c6eb64c5f"
      },
      "outputs": [
        {
          "data": {
            "text/plain": [
              "[0, 1, 1, 2, 3, 5, 8, 13, 21, 34, 55, 89]"
            ]
          },
          "execution_count": 13,
          "metadata": {},
          "output_type": "execute_result"
        }
      ],
      "source": [
        "lista = []\n",
        "for f in fibonacci():\n",
        "  if f >= 100:\n",
        "    break\n",
        "  lista.append(f)\n",
        "lista # Funciona"
      ]
    },
    {
      "cell_type": "code",
      "execution_count": null,
      "metadata": {
        "id": "VqkV5-Cj2iRp"
      },
      "outputs": [],
      "source": [
        "def rand_hasta_que_termine_en(n: int):\n",
        "  from random import randrange\n",
        "\n",
        "  f = randrange(0, 9)\n",
        "  while f != n:\n",
        "    yield f\n",
        "    f = randrange(0, 9)"
      ]
    },
    {
      "cell_type": "code",
      "execution_count": null,
      "metadata": {
        "colab": {
          "base_uri": "https://localhost:8080/"
        },
        "id": "ophgl9sJ3WSt",
        "outputId": "718669de-2b20-492b-dbce-9a1c179b3892"
      },
      "outputs": [
        {
          "data": {
            "text/plain": [
              "[5, 1, 8, 8, 3, 2, 2, 6, 8, 1, 4, 5, 4, 5]"
            ]
          },
          "execution_count": 25,
          "metadata": {},
          "output_type": "execute_result"
        }
      ],
      "source": [
        "list(rand_hasta_que_termine_en(0)) # Probar varias veces"
      ]
    },
    {
      "cell_type": "code",
      "execution_count": null,
      "metadata": {
        "colab": {
          "base_uri": "https://localhost:8080/"
        },
        "id": "sLu53i0KaZSP",
        "outputId": "d6010bfb-b055-4524-f2f3-a586f7099a96"
      },
      "outputs": [
        {
          "data": {
            "text/plain": [
              "[(1, 1, 1),\n",
              " (1, 1, 2),\n",
              " (1, 1, 3),\n",
              " (1, 2, 1),\n",
              " (1, 2, 2),\n",
              " (1, 2, 3),\n",
              " (1, 3, 1),\n",
              " (1, 3, 2),\n",
              " (1, 3, 3),\n",
              " (2, 1, 1),\n",
              " (2, 1, 2),\n",
              " (2, 1, 3),\n",
              " (2, 2, 1),\n",
              " (2, 2, 2),\n",
              " (2, 2, 3),\n",
              " (2, 3, 1),\n",
              " (2, 3, 2),\n",
              " (2, 3, 3),\n",
              " (3, 1, 1),\n",
              " (3, 1, 2),\n",
              " (3, 1, 3),\n",
              " (3, 2, 1),\n",
              " (3, 2, 2),\n",
              " (3, 2, 3),\n",
              " (3, 3, 1),\n",
              " (3, 3, 2),\n",
              " (3, 3, 3)]"
            ]
          },
          "execution_count": 27,
          "metadata": {},
          "output_type": "execute_result"
        }
      ],
      "source": [
        "from itertools import product\n",
        "\n",
        "A = [1, 2, 3]\n",
        "\n",
        "def tuplasDeA(k: int):\n",
        "  yield from product(A, repeat=k) # Sintaxis: yield from <iterable>\n",
        "\n",
        "list(tuplasDeA(3))"
      ]
    },
    {
      "cell_type": "markdown",
      "metadata": {
        "id": "Cf-PKMZp3jdr"
      },
      "source": [
        "---\n",
        "# Ejercicios\n",
        "\n",
        "1. Implementar las siguientes funciones de la librería de Python como generadores: `range`, `enumerate`, `zip`\n",
        "\n",
        "2. Implementar un generador de todas las coordenadas `(x, y)` de un plano de tamaño `N x M`, dimensiones pasadas como parámetros"
      ]
    },
    {
      "cell_type": "code",
      "execution_count": null,
      "metadata": {
        "id": "LkjoS-JtFEcv"
      },
      "outputs": [],
      "source": [
        "# Ejercicio 1\n",
        "def gen_range(ini: int, fin: int, salto: int = 1) -> \"Generator\":\n",
        "    i = ini\n",
        "    while i != fin:\n",
        "        yield i\n",
        "        i += salto\n",
        "\n",
        "def gen_enumerate(lista: list) -> \"Generator\":\n",
        "    index = 0\n",
        "    for value in lista:\n",
        "        yield index, value\n",
        "        index += 1\n",
        "\n",
        "def gen_zip(it_1, it_2) -> \"Generator\":\n",
        "    lim = len(it_1)\n",
        "    if len(it_1) > len(it_2):\n",
        "        lim = len(it_2)\n",
        "    for i in gen_range(0, lim):\n",
        "        yield (it_1[i], it_2[i])\n",
        "\n",
        "lista_prueba_1 = []\n",
        "lista_prueba_2 = []\n",
        "\n",
        "for i in gen_range(2,10):\n",
        "  print(i)\n",
        "  lista_prueba_1.append(i)\n",
        "  lista_prueba_2.append(i*2)\n",
        "\n",
        "for index, value in gen_enumerate(lista_prueba_1):\n",
        "  print(index, value)\n",
        "\n",
        "for i in gen_zip(lista_prueba_1, lista_prueba_2):\n",
        "  print(i)"
      ]
    },
    {
      "cell_type": "code",
      "execution_count": null,
      "metadata": {
        "id": "eoJfsgMRFLxo"
      },
      "outputs": [],
      "source": [
        "# Ejercicio 2\n",
        "def gen_coord(n: int, m: int) -> \"Generator\":\n",
        "    for x in gen_range(0, n):\n",
        "        for y in gen_range(0, m):\n",
        "            yield x, y\n",
        "\n",
        "for i in gen_coord(3, 4):\n",
        "    print(i)"
      ]
    },
    {
      "cell_type": "markdown",
      "metadata": {
        "id": "qX84mdhW2X8q"
      },
      "source": [
        "# Búsqueda Exhaustiva"
      ]
    },
    {
      "cell_type": "markdown",
      "metadata": {
        "id": "i-k9mQ0PyB2Z"
      },
      "source": [
        "Para resolver esta práctica, considere la estructura de solución enseñada en la materia, y el paquete `itertools`, que puede serle útil. Recordar que la estructura no siempre resolverá el problema tal cual está presentada."
      ]
    },
    {
      "cell_type": "code",
      "execution_count": null,
      "metadata": {
        "id": "f8RAH2xiyBfN"
      },
      "outputs": [],
      "source": [
        "import itertools\n",
        "\n",
        "def es_solucion(solucion: \"Solución\") -> bool:\n",
        "  pass\n",
        "\n",
        "def candidatos() -> \"Generador(Solución)\":\n",
        "  pass\n",
        "\n",
        "def resolver(problema: \"Problema\") -> \"Solución\":\n",
        "  for candidato in candidatos():\n",
        "    if es_solucion(candidato):\n",
        "      return candidato\n",
        "  return -1\n",
        "\n",
        "# resolver(problema)"
      ]
    },
    {
      "cell_type": "markdown",
      "metadata": {
        "id": "DE49vwGLUvLr"
      },
      "source": [
        "**Ejercicio 1**: Dado un número entero compuesto, aplicar un algoritmo de busqueda exhaustiva para dar con uno de sus divisores no triviales."
      ]
    },
    {
      "cell_type": "code",
      "execution_count": null,
      "metadata": {
        "id": "NnJT0VlkUHq8",
        "outputId": "34e87d42-cf58-4def-9c49-50080f760b0e"
      },
      "outputs": [
        {
          "name": "stdout",
          "output_type": "stream",
          "text": [
            "3\n"
          ]
        }
      ],
      "source": [
        "def es_solucion(problema: int, solucion: int) -> bool:\n",
        "  return problema % solucion == 0\n",
        "\n",
        "def candidatos(problema: int) -> \"Generador(int)\":\n",
        "  for i in gen_range(2, problema):\n",
        "    yield i\n",
        "\n",
        "def resolver(problema: int) -> int:\n",
        "  for candidato in candidatos(problema):\n",
        "    if es_solucion(problema, candidato):\n",
        "      return candidato\n",
        "  return -1\n",
        "\n",
        "resultado = resolver(15)\n",
        "print(resultado)"
      ]
    },
    {
      "cell_type": "markdown",
      "metadata": {
        "id": "zBtTyA6b3-7o"
      },
      "source": [
        "**Ejercicio 2**: Escribir una función que, dados cuatro números, devuelva el mayor producto\n",
        "de dos de ellos. Por ejemplo, si recibe los números 1, 5, -2, -4 debe devolver 8, que es el producto\n",
        "más grande que se puede obtener entre ellos (8 = −2 × −4)."
      ]
    },
    {
      "cell_type": "code",
      "execution_count": null,
      "metadata": {
        "id": "ZCsZjeucUHq9",
        "outputId": "23cb0bce-f28c-41e6-b85b-81e072749dc1"
      },
      "outputs": [
        {
          "name": "stdout",
          "output_type": "stream",
          "text": [
            "8\n"
          ]
        }
      ],
      "source": [
        "# Aquí no es necesario es_solución\n",
        "\n",
        "def candidatos(n1: int, n2: int, n3: int, n4: int) -> \"Generador(int)\":\n",
        "    nums = [n1, n2, n3, n4]\n",
        "    for index_i, value_i in gen_enumerate(nums):\n",
        "        for index_j, value_j in gen_enumerate(nums):\n",
        "            if index_i != index_j:\n",
        "                yield (value_i * value_j)\n",
        "\n",
        "def resolver(n1: int, n2: int, n3: int, n4: int) -> int:\n",
        "    return max(candidatos(n1, n2, n3, n4))\n",
        "\n",
        "print(resolver(1, 5, -2, -4))"
      ]
    },
    {
      "cell_type": "markdown",
      "metadata": {
        "id": "OiqDgyg39tbZ"
      },
      "source": [
        "**Ejercicio 3**: Encuentre todas las soluciones naturales de la ecuación $a² + b² = c²$, donde $1\\leq a, b, c \\leq n$.\n",
        "\n",
        "_Ayuda: puede utilizar_ `itertools.product`"
      ]
    },
    {
      "cell_type": "code",
      "execution_count": null,
      "metadata": {
        "id": "DPd_YvGBUHq-",
        "outputId": "8b90e96d-4ad9-4d0b-86b3-8116fdf36617"
      },
      "outputs": [
        {
          "data": {
            "text/plain": [
              "[(3, 4, 5), (4, 3, 5), (6, 8, 10), (8, 6, 10)]"
            ]
          },
          "execution_count": 9,
          "metadata": {},
          "output_type": "execute_result"
        }
      ],
      "source": [
        "from itertools import product\n",
        "\n",
        "def es_solucion(solucion: tuple[int, int, int]) -> bool:\n",
        "    a, b, c = solucion\n",
        "    return (a**2 + b**2) == c**2\n",
        "\n",
        "def candidatos(n: int) -> \"Generador(tuple[int, int, int])\":\n",
        "    # for a in gen_range(1, n+1):\n",
        "    #     for b in gen_range(1, n+1):\n",
        "    #         for c in gen_range(1, n+1):\n",
        "    #             yield a, b, c\n",
        "    yield from product(range(1, n + 1), repeat = 3) # El producto cartesiano de tres vectores iguales\n",
        "\n",
        "def resolver(n: int) -> \"list[tuple[int, int, int]]\":\n",
        "    soluciones = []\n",
        "    for candidato in candidatos(n):\n",
        "        if es_solucion(candidato):\n",
        "            soluciones.append(candidato)\n",
        "    return soluciones\n",
        "\n",
        "resolver(10)"
      ]
    },
    {
      "cell_type": "markdown",
      "metadata": {
        "id": "G5u4FQJVTFdz"
      },
      "source": [
        "**Ejercicio 4**: Dada una lista de $n$ números y un número mágico $m$, determinar si existen en la lista 3 números cuya suma sea el número mágico $m$. Se pueden repetir números.\n",
        "\n",
        "_Ayuda: puede utilizar_ `itertools.product`"
      ]
    },
    {
      "cell_type": "code",
      "execution_count": null,
      "metadata": {
        "id": "HoMLTDL3UHq_",
        "outputId": "53489733-df44-4f15-9cd2-57dd4384f81a"
      },
      "outputs": [
        {
          "name": "stdout",
          "output_type": "stream",
          "text": [
            "[(1, 2, 9), (1, 3, 8), (1, 4, 7), (1, 5, 6), (1, 6, 5), (1, 7, 4), (1, 8, 3), (1, 9, 2), (2, 1, 9), (2, 2, 8), (2, 3, 7), (2, 4, 6), (2, 5, 5), (2, 6, 4), (2, 7, 3), (2, 8, 2), (2, 9, 1), (3, 1, 8), (3, 2, 7), (3, 3, 6), (3, 4, 5), (3, 5, 4), (3, 6, 3), (3, 7, 2), (3, 8, 1), (4, 1, 7), (4, 2, 6), (4, 3, 5), (4, 4, 4), (4, 5, 3), (4, 6, 2), (4, 7, 1), (5, 1, 6), (5, 2, 5), (5, 3, 4), (5, 4, 3), (5, 5, 2), (5, 6, 1), (6, 1, 5), (6, 2, 4), (6, 3, 3), (6, 4, 2), (6, 5, 1), (7, 1, 4), (7, 2, 3), (7, 3, 2), (7, 4, 1), (8, 1, 3), (8, 2, 2), (8, 3, 1), (9, 1, 2), (9, 2, 1)]\n"
          ]
        }
      ],
      "source": [
        "def es_solucion(solucion: tuple[int, int, int], m: int) -> bool:\n",
        "    a, b, c = solucion\n",
        "    return (a + b + c) == m\n",
        "\n",
        "def candidatos(lista: list) -> \"Generador(tuple[int, int, int])\":\n",
        "    for a in lista:\n",
        "        for b in lista:\n",
        "            for c in lista:\n",
        "                yield a, b, c\n",
        "\n",
        "def resolver(lista: list, m: int) -> \"list[tuple[int, int, int]]\":\n",
        "    soluciones = []\n",
        "    for candidato in candidatos(lista):\n",
        "        if es_solucion(candidato, m):\n",
        "            soluciones.append(candidato)\n",
        "    return soluciones\n",
        "\n",
        "lista_nums = [1,2,3,4,5,6,7,8,9]\n",
        "print(resolver(lista_nums, 12))"
      ]
    },
    {
      "cell_type": "markdown",
      "metadata": {
        "id": "YPW238Hs7o6B"
      },
      "source": [
        "**Ejercicio 5**: Dada una lista de $n$ números y un número mágico $m$, determinar si existen en la lista $k$ números cuya suma sea el número mágico $m$. Se pueden repetir números.\n",
        "\n",
        "_Ayuda: puede utilizar_ `itertools.product`"
      ]
    },
    {
      "cell_type": "code",
      "execution_count": null,
      "metadata": {
        "id": "xd72FKrMY7Pm",
        "outputId": "34926dae-5f87-4ef2-cc8d-8145859e2dbf"
      },
      "outputs": [
        {
          "name": "stdout",
          "output_type": "stream",
          "text": [
            "[(3, 9), (4, 8), (5, 7), (6, 6), (7, 5), (8, 4), (9, 3)]\n"
          ]
        }
      ],
      "source": [
        "from itertools import product\n",
        "\n",
        "def es_solucion(solucion: tuple, m: int) -> bool:\n",
        "    sum = 0\n",
        "    for value in solucion:\n",
        "        sum += value\n",
        "    return sum == m\n",
        "\n",
        "def candidatos(lista: list, k: int) -> \"Generador(tuple)\":\n",
        "    yield from product(lista, repeat = k)\n",
        "\n",
        "def resolver(lista: list, m: int, k: int) -> \"list[tuple]\":\n",
        "    soluciones = []\n",
        "    for candidato in candidatos(lista, k):\n",
        "        if es_solucion(candidato, m):\n",
        "            soluciones.append(candidato)\n",
        "    return soluciones\n",
        "\n",
        "lista_nums = [1,2,3,4,5,6,7,8,9]\n",
        "print(resolver(lista_nums, 12, 2))"
      ]
    },
    {
      "cell_type": "markdown",
      "metadata": {
        "id": "2XYVIdPC1CLv"
      },
      "source": [
        "**Ejercicio 6**: Suma máxima de subarray\n",
        "\n",
        "Dada una lista de $n$ números enteros, encontrar la sublista contigua de números cuya suma sea máxima.\n",
        "\n",
        "Ejemplo: para `[1, -5, 20, -6, 10]` la respuesta es `[20, -6, 10]`."
      ]
    },
    {
      "cell_type": "code",
      "execution_count": null,
      "metadata": {
        "id": "sXtABThUZgT2",
        "outputId": "7af7fb03-1dda-49b5-e59c-0aff14716aa8"
      },
      "outputs": [
        {
          "data": {
            "text/plain": [
              "[20, -6, 10]"
            ]
          },
          "execution_count": 18,
          "metadata": {},
          "output_type": "execute_result"
        }
      ],
      "source": [
        "# ESTO FUE UN EJERCICIO DE PARCIAL\n",
        "\n",
        "from itertools import product\n",
        "from typing import Iterable\n",
        "\n",
        "def medir(solucion: list[int]) -> int:\n",
        "  return sum(solucion)\n",
        "\n",
        "def es_solucion(solucion: list[int]) -> bool:\n",
        "  return True\n",
        "\n",
        "def candidatos(lista: list[int]) -> Iterable[list[int]]:\n",
        "  # Con lo de abajo, va enviando listas de distintos largos\n",
        "  # y que comienzan de distintos puntos, así logra probar todas las\n",
        "  # combinaciones posibles\n",
        "  for i, j in product(range(len(lista) + 1), repeat = 2):\n",
        "    yield lista[i:j]\n",
        "\n",
        "def resolver(lista: list[int]) -> list[int]:\n",
        "  mejor_solucion = None\n",
        "  costo_mejor_solucion = -float('inf')\n",
        "\n",
        "  for candidato in candidatos(lista):\n",
        "    if es_solucion(candidato):\n",
        "\n",
        "      costo = medir(candidato)\n",
        "      if costo > costo_mejor_solucion:\n",
        "        mejor_solucion = candidato\n",
        "        costo_mejor_solucion = costo\n",
        "\n",
        "  return mejor_solucion\n",
        "\n",
        "resolver([1, -5, 20, -6, 10])"
      ]
    },
    {
      "cell_type": "markdown",
      "metadata": {
        "id": "RtJ0AmLq4tZR"
      },
      "source": [
        "**Ejercicio 7**: Ordenamiento\n",
        "\n",
        "Ordene una lista usando búsqueda exhaustiva, para esto proponga todas las permutaciones de una lista y busque aquella que esté ordenada.\n",
        "\n",
        "_Ayuda: utilice_ `itertools.permutations`"
      ]
    },
    {
      "cell_type": "code",
      "execution_count": null,
      "metadata": {
        "id": "nULeCDeCZgrl",
        "outputId": "d2042813-50a2-4904-9e7c-8f069ac450a8"
      },
      "outputs": [
        {
          "data": {
            "text/plain": [
              "(-6, -5, 1, 10, 20)"
            ]
          },
          "execution_count": 20,
          "metadata": {},
          "output_type": "execute_result"
        }
      ],
      "source": [
        "from itertools import permutations\n",
        "\n",
        "def es_solucion(solucion: list) -> bool:\n",
        "    for i in range(len(solucion)-1):\n",
        "        if solucion[i] > solucion[i + 1]:\n",
        "            return False\n",
        "    return True\n",
        "\n",
        "def candidatos(lista: list) -> \"Generador(list)\":\n",
        "    yield from permutations(lista, len(lista))\n",
        "\n",
        "def resolver(problema: list) -> list:\n",
        "    for candidato in candidatos(problema):\n",
        "        if es_solucion(candidato):\n",
        "            return candidato\n",
        "    return -1\n",
        "\n",
        "resolver([1, -5, 20, -6, 10])"
      ]
    },
    {
      "cell_type": "markdown",
      "metadata": {
        "id": "2njPPbBw8Zx-"
      },
      "source": [
        "**Ejercicio 8**: El problema del agente viajero\n",
        "\n",
        "Dada una lista de $n$ ciudades y las distancias entre cada par de ellas,\n",
        "encontrar el recorrido más corto posible que visita cada ciudad\n",
        "exactamente una vez y regresa a la ciudad origen.\n",
        "\n",
        "Por ejemplo, dadas las ciudad a, b, c y d con distancias:\n",
        "\n",
        "a - b: 2\n",
        "\n",
        "a - c: 5\n",
        "\n",
        "a - d: 7\n",
        "\n",
        "b - c: 8\n",
        "\n",
        "b - d: 3\n",
        "\n",
        "c - d: 1\n",
        "\n",
        "El camino optimo es a -> b -> d -> c -> a\n",
        "\n",
        "_Ayuda_: Utilice `networkx` y la función `simple_cycles`."
      ]
    },
    {
      "cell_type": "code",
      "execution_count": null,
      "metadata": {
        "id": "wvw_Qru-943Y"
      },
      "outputs": [],
      "source": [
        "import networkx as nx\n",
        "\n",
        "def es_solucion(solucion: \"Solución\") -> bool:\n",
        "    return False\n",
        "\n",
        "def candidatos(problema: \"Graph\") -> \"Generador(Solución)\":\n",
        "    yield from nx.simple_cycles(problema)   # Esta función no me hace volver al punto 'a'\n",
        "\n",
        "def resolver(problema: \"Graph\") -> \"Solución\":\n",
        "    for candidato in candidatos(problema):\n",
        "        if es_solucion(candidato):\n",
        "            return candidato\n",
        "    return -1\n",
        "\n",
        "G = nx.Graph()\n",
        "G.add_edge(\"a\", \"b\", weight = 2)\n",
        "G.add_edge(\"a\", \"c\", weight = 5)\n",
        "G.add_edge(\"a\", \"d\", weight = 7)\n",
        "G.add_edge(\"b\", \"c\", weight = 8)\n",
        "G.add_edge(\"b\", \"d\", weight = 3)\n",
        "G.add_edge(\"c\", \"d\", weight = 1)\n",
        "resolver(G)\n",
        "\n",
        "# NO TERMINÉ ESTE PROBLEMA"
      ]
    },
    {
      "cell_type": "markdown",
      "metadata": {
        "id": "yoPdPd-KBdYI"
      },
      "source": [
        "**Ejercicio 9: El problema de la mochila**\n",
        "\n",
        "Sean $n$ distintos tipos de objetos, de los cuales se tienen $q_i$ unidades disponibles para cada tipo ($1 ≤ q_i ≤ ∞$). Cada tipo de objeto $i$ tiene un\n",
        "beneficio asociado $v_i$ y un peso (o volumen) $w_i$ ($vi\n",
        ", wi > 0$).\n",
        "\n",
        "Por otro lado se tiene una mochila, donde se pueden introducir los\n",
        "objetos, que soporta un peso máximo (o volumen máximo) $W$.\n",
        "El problema consiste en meter en la mochila objetos de tal forma que\n",
        "se maximice el valor de los objetos que contiene y siempre que no se\n",
        "supere el peso máximo que puede soportar la misma.\n",
        "\n",
        "Por ejemplo, si la capacidad de la mochila es $W=5 kg$ y los candidatoss objetos:\n",
        "\n",
        "| Objeto ($i$) | Cantidad ($q_i$)| Valor ($v_i)$ | Peso ($w_i$) |\n",
        "|--------------|-----------------|---------------|--------------|\n",
        "| objeto 1     |   1             | 10usd         | 1 kg         |\n",
        "| objeto 2     |   2             | 20usd         | 3 kg         |\n",
        "| objeto 3     |   1             | 15usd         | 2 kg         |\n",
        "| objeto 4     |   3             | 20usd         | 4 kg         |\n",
        "\n",
        "Conviene llevar una unidad del objeto 2 y una unidad del objeto 3.\n"
      ]
    },
    {
      "cell_type": "code",
      "execution_count": null,
      "metadata": {
        "id": "8PnDHbvJIdsm"
      },
      "outputs": [],
      "source": [
        "# SI ME ALCANZA EL TIEMPO, LO PIENSO"
      ]
    },
    {
      "cell_type": "markdown",
      "metadata": {
        "id": "yZhlNVB22dag"
      },
      "source": [
        "# Divide & Conquer"
      ]
    },
    {
      "cell_type": "markdown",
      "metadata": {
        "id": "iI58WR_F2nvO"
      },
      "source": [
        "Para resolver esta práctica, considere la estructura de solución enseñada en la materia. Recordar que la estructura no siempre resolverá el problema tal cuál está presentada."
      ]
    },
    {
      "cell_type": "code",
      "execution_count": null,
      "metadata": {
        "id": "HKG-LMqd2nvP"
      },
      "outputs": [],
      "source": [
        "def es_caso_base(problema: \"Problema\") -> bool:\n",
        "  return len(problema) <= 1\n",
        "\n",
        "def resolver_caso_base(problema: \"Problema\") -> \"Solución\":\n",
        "  if len(problema) == 0:\n",
        "    return [0]\n",
        "  else:\n",
        "    return problema[0]\n",
        "\n",
        "def dividir(problema: \"Problema\") -> \"(Problema, Problema)\":\n",
        "  M = len(problema) // 2\n",
        "  return problema[:M], problema[M:]\n",
        "\n",
        "def combinar(s1: \"Solución\", s2: \"Solución\") -> \"Solución\":\n",
        "  pass\n",
        "\n",
        "def resolver(problema: \"Problema\") -> \"Solución\":\n",
        "  if es_caso_base(problema):\n",
        "    return resolver_caso_base\n",
        "  p1, p2 = dividir(problema)\n",
        "  s1, s2 = resolver(p1), resolver(p2)\n",
        "  return combinar(s1, s2)"
      ]
    },
    {
      "cell_type": "markdown",
      "metadata": {
        "id": "rG_h_vvsYwQd"
      },
      "source": [
        "**Ejercicio 1** Implemente un algoritmo Divide y Vencerás que calcule la suma de los numeros en una lista"
      ]
    },
    {
      "cell_type": "code",
      "execution_count": null,
      "metadata": {
        "id": "ENtzmCivUHrP",
        "outputId": "158e8463-51c8-4220-e9dc-a6a212ec0852"
      },
      "outputs": [
        {
          "data": {
            "text/plain": [
              "20"
            ]
          },
          "execution_count": 32,
          "metadata": {},
          "output_type": "execute_result"
        }
      ],
      "source": [
        "def es_caso_base(problema: list[int]) -> bool:\n",
        "    return len(problema) <= 1   # Al partir la lista, me podía quedar alguna vacía, debo contemplarla\n",
        "\n",
        "def resolver_caso_base(problema: list[int]) -> int:\n",
        "    if len(problema) == 0:   # Al partir la lista, me podía quedar alguna vacía, debo contemplarla\n",
        "        return [0]\n",
        "    else:\n",
        "        return problema[0]\n",
        "\n",
        "def dividir(problema: list[int]) -> \"(list[int], list[int])\":\n",
        "    M = len(problema) // 2\n",
        "    return problema[:M], problema[M:]\n",
        "\n",
        "def combinar(s1: int, s2: int) -> int:\n",
        "    return s1 + s2\n",
        "\n",
        "def resolver(problema: list[int]) -> int:\n",
        "    if es_caso_base(problema):\n",
        "        return resolver_caso_base(problema)\n",
        "    p1, p2 = dividir(problema)\n",
        "    s1, s2 = resolver(p1), resolver(p2)\n",
        "    return combinar(s1, s2)\n",
        "\n",
        "resolver([1, -5, 20, -6, 10])"
      ]
    },
    {
      "cell_type": "markdown",
      "metadata": {
        "id": "LzWEZtqlaThI"
      },
      "source": [
        "**Ejercicio 2** Búsqueda binaria\n",
        "\n",
        "Implemente un algoritmo Divide y Vencerás que encuentre un número en una lista ordenada. ¿Es necesario resolver todos los subproblemas?"
      ]
    },
    {
      "cell_type": "code",
      "execution_count": null,
      "metadata": {
        "id": "kRZWi5Bmh2Ka",
        "outputId": "5ae8dcab-af28-411d-d100-f39202a1c99c"
      },
      "outputs": [
        {
          "data": {
            "text/plain": [
              "True"
            ]
          },
          "execution_count": 51,
          "metadata": {},
          "output_type": "execute_result"
        }
      ],
      "source": [
        "def es_caso_base(problema: list, num: int) -> bool:\n",
        "  return problema[0] == num or len(problema) == 1\n",
        "\n",
        "def resolver_caso_base(problema: list, num: int) -> int:\n",
        "  if len(problema) == 1 and problema[0] != num:\n",
        "    return False\n",
        "  return True\n",
        "\n",
        "def dividir(problema: list) -> \"(list, list)\":\n",
        "  m = len(problema) // 2\n",
        "  return problema[:m], problema[m:], m\n",
        "\n",
        "def combinar(s1: list, s2: list) -> int:\n",
        "  # No la necesito, ya toda la resolución fue validada por el profesor\n",
        "  pass\n",
        "\n",
        "def resolver(problema: list, num: int) -> int:\n",
        "  if es_caso_base(problema, num):\n",
        "    return resolver_caso_base(problema, num)\n",
        "  p1, p2, m = dividir(problema)\n",
        "  if num < problema[m]:\n",
        "    p = problema[:m]\n",
        "  else:\n",
        "    p = problema[m:]\n",
        "  s = resolver(p, num)\n",
        "\n",
        "  return s\n",
        "\n",
        "\n",
        "lista_num = [1,2,3,4,5,6,7,8,9,10,11]\n",
        "resolver(lista_num, 11)"
      ]
    },
    {
      "cell_type": "markdown",
      "metadata": {
        "id": "KmNNPhdIbhcr"
      },
      "source": [
        "**Ejercicio 3** Dada una lista de números, proponga algoritmos Divide & Conquer para:\n",
        "\n",
        "a. Encontrar el menor elemento de la lista\n",
        "\n",
        "b. Encontrar el mayor elemento de la lista\n",
        "\n",
        "c. Encontrar el menor y el mayor elemento de la lista"
      ]
    },
    {
      "cell_type": "code",
      "execution_count": null,
      "metadata": {
        "id": "LIpLPazaUHrQ",
        "outputId": "76d28111-ecfc-444e-a8f6-91bee64a45ae"
      },
      "outputs": [
        {
          "data": {
            "text/plain": [
              "1"
            ]
          },
          "execution_count": 52,
          "metadata": {},
          "output_type": "execute_result"
        }
      ],
      "source": [
        "def es_caso_base(problema: list) -> bool:\n",
        "    return len(problema) <= 1\n",
        "\n",
        "def resolver_caso_base(problema: list) -> int:\n",
        "    if len(problema) == 0:\n",
        "        return None\n",
        "    return problema[0]\n",
        "\n",
        "def dividir(problema: list) -> \"(list, list)\":\n",
        "    M = len(problema) // 2\n",
        "    return problema[:M], problema[M:]\n",
        "\n",
        "def combinar(s1: int, s2: int) -> int:\n",
        "    if s1 < s2:\n",
        "        return s1\n",
        "    return s2\n",
        "\n",
        "def resolver(problema: list) -> int:\n",
        "    if es_caso_base(problema):\n",
        "        return resolver_caso_base(problema)\n",
        "    p1, p2 = dividir(problema)\n",
        "    s1, s2 = resolver(p1) , resolver(p2)\n",
        "    return combinar(s1, s2)\n",
        "\n",
        "lista_num = [1,3,4,1,6,8,12,7,92,19,3,2,6,12,586,4,2,22,691,52,35]\n",
        "resolver(lista_num)"
      ]
    },
    {
      "cell_type": "code",
      "execution_count": null,
      "metadata": {
        "id": "VHMn9UObUHrR",
        "outputId": "a778db42-2730-4b28-a375-a38abb1922a6"
      },
      "outputs": [
        {
          "data": {
            "text/plain": [
              "691"
            ]
          },
          "execution_count": 53,
          "metadata": {},
          "output_type": "execute_result"
        }
      ],
      "source": [
        "def es_caso_base(problema: list) -> bool:\n",
        "    return len(problema) <= 1\n",
        "\n",
        "def resolver_caso_base(problema: list) -> int:\n",
        "    if len(problema) == 0:\n",
        "        return None\n",
        "    return problema[0]\n",
        "\n",
        "def dividir(problema: list) -> \"(list, list)\":\n",
        "    M = len(problema) // 2\n",
        "    return problema[:M], problema[M:]\n",
        "\n",
        "def combinar(s1: int, s2: int) -> int:\n",
        "    if s1 > s2:\n",
        "        return s1\n",
        "    return s2\n",
        "\n",
        "def resolver(problema: list) -> int:\n",
        "    if es_caso_base(problema):\n",
        "        return resolver_caso_base(problema)\n",
        "    p1, p2 = dividir(problema)\n",
        "    s1, s2 = resolver(p1) , resolver(p2)\n",
        "    return combinar(s1, s2)\n",
        "\n",
        "lista_num = [1,3,4,1,6,8,12,7,92,19,3,2,6,12,586,4,2,22,691,52,35]\n",
        "resolver(lista_num)"
      ]
    },
    {
      "cell_type": "code",
      "execution_count": null,
      "metadata": {
        "id": "fGp_dQSVUHrR",
        "outputId": "7b73d2c7-df7c-46e2-8e10-f87d1a4cf0d0"
      },
      "outputs": [
        {
          "data": {
            "text/plain": [
              "(1, 691)"
            ]
          },
          "execution_count": 54,
          "metadata": {},
          "output_type": "execute_result"
        }
      ],
      "source": [
        "def es_caso_base(problema: list) -> bool:\n",
        "    return len(problema) <= 1\n",
        "\n",
        "def resolver_caso_base(problema: list) -> \"(int, int)\":\n",
        "    if len(problema) == 0:\n",
        "        return None\n",
        "    return problema[0], problema[0]\n",
        "\n",
        "def dividir(problema: list) -> \"(list, list)\":\n",
        "    M = len(problema) // 2\n",
        "    return problema[:M], problema[M:]\n",
        "\n",
        "def combinar(s1: int, s2: int) -> \"(int, int)\":\n",
        "    s = []\n",
        "    if s1[0] < s2[0]:\n",
        "        s.append(s1[0])\n",
        "    else:\n",
        "        s.append(s2[0])\n",
        "    if s1[1] > s2[1]:\n",
        "        s.append(s1[1])\n",
        "    else:\n",
        "        s.append(s2[1])\n",
        "    return s[0], s[1]\n",
        "\n",
        "def resolver(problema: list) -> \"(int, int)\":\n",
        "    if es_caso_base(problema):\n",
        "        return resolver_caso_base(problema)\n",
        "    p1, p2 = dividir(problema)\n",
        "    s1, s2 = resolver(p1) , resolver(p2)\n",
        "    return combinar(s1, s2)\n",
        "\n",
        "lista_num = [1,3,4,1,6,8,12,7,92,19,3,2,6,12,586,4,2,22,691,52,35]\n",
        "resolver(lista_num)"
      ]
    },
    {
      "cell_type": "markdown",
      "metadata": {
        "id": "gkfJS7c9dQPf"
      },
      "source": [
        "**Ejercicio 4** Escriba un algoritmo Divide & Conquer para calcular la potencia $b^n$ calculando potencias menores en cada paso. Puede suponer que $n$ es un numero positivo"
      ]
    },
    {
      "cell_type": "code",
      "execution_count": null,
      "metadata": {
        "id": "xgDlDL-4UHrS",
        "outputId": "b7c1c91e-8015-4be4-fb05-25c2f67db7f3"
      },
      "outputs": [
        {
          "data": {
            "text/plain": [
              "32"
            ]
          },
          "execution_count": 58,
          "metadata": {},
          "output_type": "execute_result"
        }
      ],
      "source": [
        "def es_caso_base(n: int) -> bool:\n",
        "    return n == 0 or n == 1\n",
        "\n",
        "def resolver_caso_base(b: int, n: int) -> int:\n",
        "    if n == 0:\n",
        "        return 1\n",
        "    if n == 1:\n",
        "        return b\n",
        "\n",
        "def dividir(b: int, n: int) -> \"(int, int, int, int)\":\n",
        "    if n % 2 == 0:\n",
        "        return b, n/2, b, n/2\n",
        "    return b, n//2, b, n//2 + 1\n",
        "\n",
        "def combinar(s1: int, s2: int) -> int:\n",
        "    return s1 * s2\n",
        "\n",
        "def resolver(b: int, n: int) -> int:\n",
        "    if es_caso_base(n):\n",
        "        return resolver_caso_base(b, n)\n",
        "    b1, n1, b2, n2 = dividir(b, n)\n",
        "    s1, s2 = resolver(b1, n1) , resolver(b2, n2)\n",
        "    return combinar(s1, s2)\n",
        "\n",
        "resolver(2,5)"
      ]
    },
    {
      "cell_type": "markdown",
      "metadata": {
        "id": "n1dkqUSoexoa"
      },
      "source": [
        "**Ejercicio 5** De un algoritmo Divide & Conquer para encontrar el número más grande de una lista, y el segundo mas grande. Puede suponer que la lista siempre tiene al menos dos numeros y que los numeros son todos distintos entre si."
      ]
    },
    {
      "cell_type": "code",
      "execution_count": null,
      "metadata": {
        "id": "-YRPV2Dih3P5",
        "outputId": "a16c3a85-4111-4769-9d47-3b57b39fc6f5"
      },
      "outputs": [
        {
          "data": {
            "text/plain": [
              "(586, 691)"
            ]
          },
          "execution_count": 67,
          "metadata": {},
          "output_type": "execute_result"
        }
      ],
      "source": [
        "def es_caso_base(problema: list) -> bool:\n",
        "    return len(problema) <= 1\n",
        "\n",
        "def resolver_caso_base(problema: list) -> \"(int, int)\":\n",
        "    if len(problema) == 0:\n",
        "        return None\n",
        "    return problema[0], problema[0]\n",
        "\n",
        "def dividir(problema: list) -> \"(list, list)\":\n",
        "    M = len(problema) // 2\n",
        "    return problema[:M], problema[M:]\n",
        "\n",
        "def combinar(s1: \"(int, int)\", s2: \"(int, int)\") -> \"(int, int)\":\n",
        "    s = [s1[0], s1[1], s2[0], s2[1]]\n",
        "    s.sort()\n",
        "    if s[2] == s[3]:\n",
        "        return s[1], s[3]\n",
        "    return s[2], s[3]\n",
        "\n",
        "def resolver(problema: list) -> \"(int, int)\":\n",
        "    if es_caso_base(problema):\n",
        "        return resolver_caso_base(problema)\n",
        "    p1, p2 = dividir(problema)\n",
        "    s1, s2 = resolver(p1) , resolver(p2)\n",
        "    return combinar(s1, s2)\n",
        "\n",
        "lista_num = [1,3,4,1,6,8,12,7,92,19,3,2,6,12,586,4,2,22,691,52,35]\n",
        "resolver(lista_num)"
      ]
    },
    {
      "cell_type": "markdown",
      "metadata": {
        "id": "IZo4JZJ25gUI"
      },
      "source": [
        "**Ejercicio 6**: Ordenamiento\n",
        "\n",
        "Ordene una lista usando divide y vencerás, para esto preste atención cómo combina dos listas ordenadas para producir una nueva lista ordenada. No utilice ningún método de ordenamiento _builtin_"
      ]
    },
    {
      "cell_type": "code",
      "execution_count": null,
      "metadata": {
        "colab": {
          "base_uri": "https://localhost:8080/"
        },
        "id": "ai8IXi9Ph3tA",
        "outputId": "b64fd0c9-116a-4f5d-bbad-fd38254da852"
      },
      "outputs": [
        {
          "data": {
            "text/plain": [
              "[3, 3, 4, 4, 6, 6, 7, 8, 10, 12, 12, 13, 19, 22, 25, 26, 35, 52, 92, 586, 691]"
            ]
          },
          "execution_count": 19,
          "metadata": {},
          "output_type": "execute_result"
        }
      ],
      "source": [
        "\"\"\"\n",
        "problema == list(int)\n",
        "solucion == list(int)\n",
        "\"\"\"\n",
        "\n",
        "def es_caso_base(problema: \"Problema\") -> bool:\n",
        "  return len(problema) <= 1\n",
        "\n",
        "def resolver_caso_base(problema: \"Problema\") -> \"Solución\":\n",
        "  return problema\n",
        "\n",
        "def dividir(problema: \"Problema\") -> \"(Problema, Problema)\":\n",
        "  m = len(problema) // 2\n",
        "  return problema[:m], problema[m:]\n",
        "\n",
        "def combinar(s1: \"Solución\", s2: \"Solución\") -> \"Solución\":\n",
        "  # Tomamos el primer elemento de cada lista y agregamos\n",
        "  # el menor de ellos a una nueva lista\n",
        "\n",
        "  i = 0\n",
        "  j = 0\n",
        "  s = []\n",
        "\n",
        "  while i < len(s1) and j < len(s2):\n",
        "    if s1[i] < s2[j]:\n",
        "      s.append(s1[i])\n",
        "      i += 1\n",
        "    else:\n",
        "      s.append(s2[j])\n",
        "      j += 1\n",
        "\n",
        "  # El siguiente if va por si una lista terminó antes que la otra\n",
        "  if i < len(s1):\n",
        "    return s + s1[i:]\n",
        "  else:\n",
        "    return s + s2[j:]\n",
        "\n",
        "def resolver(problema: \"Problema\") -> \"Solución\":\n",
        "  if es_caso_base(problema):\n",
        "    return resolver_caso_base(problema)\n",
        "  p1, p2 = dividir(problema)\n",
        "  s1, s2 = resolver(p1), resolver(p2)\n",
        "\n",
        "  return combinar(s1, s2)\n",
        "\n",
        "\n",
        "lista_num = [10,3,4,13,6,8,12,7,92,19,3,26,6,12,586,4,25,22,691,52,35]\n",
        "resolver(lista_num)"
      ]
    },
    {
      "cell_type": "markdown",
      "metadata": {
        "id": "SHnfidWe8Ykb"
      },
      "source": [
        "**Ejercicio 7**: Suma máxima de subarray\n",
        "\n",
        "Repita el ejercicio de la sección anterior. Para poder hacerlo, necesitará más información que solamente la solución final. La llamada recursiva debe devolver, si representamos un subarray como sus dos índices $[i:j]$:\n",
        "- La suma máxima $[i:j]$\n",
        "- La suma total $[0:n]$\n",
        "- La suma máxima por izquierda $[0:j']$\n",
        "- La suma máxima por derecha $[i':n]$\n",
        "\n",
        "Con estos datos hay suficiente información en las llamadas recursivas para resolver el problema con recursión."
      ]
    },
    {
      "cell_type": "code",
      "execution_count": null,
      "metadata": {
        "id": "KG5YfTV1h4Ig"
      },
      "outputs": [],
      "source": [
        "# SI TENGO TIEMPO LO HAGO LUEGO"
      ]
    },
    {
      "cell_type": "markdown",
      "metadata": {
        "id": "Mp75quWIanOS"
      },
      "source": [
        "# Greedy"
      ]
    },
    {
      "cell_type": "markdown",
      "metadata": {
        "id": "WKOA5qEvprm1"
      },
      "source": [
        "Para resolver esta práctica, considere la siguiente estructura de solucion. Recordar que la misma no siempre resolverá el problema tal cuál está presentada."
      ]
    },
    {
      "cell_type": "code",
      "execution_count": null,
      "metadata": {
        "id": "g6uYFRSpoygT"
      },
      "outputs": [],
      "source": [
        "def es_solucion(eleccion_actual: \"Solucion\") -> bool:\n",
        "  pass\n",
        "\n",
        "def elegir_candidato(problema: \"Problema\") -> \"Elemento\":\n",
        "  pass\n",
        "\n",
        "def es_factible(eleccion: \"Solucion\") -> bool:\n",
        "  pass\n",
        "\n",
        "def resolver(problema: \"Problema\") -> \"Solucion\":\n",
        "  solucion = []\n",
        "  while not es_solucion(solucion):\n",
        "    x = elegir_candidato(problema)\n",
        "    problema.remove(x)\n",
        "    if es_factible(solucion + [x]):\n",
        "      solucion.append(x)\n",
        "  return solucion"
      ]
    },
    {
      "cell_type": "markdown",
      "metadata": {
        "id": "wyUrQ_fMDUiC"
      },
      "source": [
        "**Ejercicio 1**: Dada una lista de pares `(letra, numero)` elegir aquellos pares con la letra `A` hasta que la suma de los numeros pase un umbral `S`, usando la receta de Greedy."
      ]
    },
    {
      "cell_type": "code",
      "execution_count": null,
      "metadata": {
        "id": "8h7GFtu-91q2",
        "outputId": "2d62d9c0-dd32-4185-b608-41806053fee3"
      },
      "outputs": [
        {
          "data": {
            "text/plain": [
              "[['a', 3], ['a', 3], ['a', 3]]"
            ]
          },
          "execution_count": 75,
          "metadata": {},
          "output_type": "execute_result"
        }
      ],
      "source": [
        "def es_solucion(eleccion_actual: list[list], sumador: int, s: int) -> bool:\n",
        "    return len(eleccion_actual) == 0 or sumador > s\n",
        "\n",
        "def elegir_candidato(problema: list[list]) -> list:\n",
        "    return problema[0]\n",
        "\n",
        "def es_factible(eleccion: list) -> bool:\n",
        "    return eleccion[0] == 'a'\n",
        "\n",
        "def resolver(problema: list[list], s: int) -> \"list[list]\":\n",
        "    solucion = []\n",
        "    sumador = 0\n",
        "    while not es_solucion(problema, sumador, s):\n",
        "        x = elegir_candidato(problema)\n",
        "        problema.remove(x)\n",
        "        if es_factible(x):\n",
        "            solucion.append(x)\n",
        "            sumador += x[1]\n",
        "    return solucion\n",
        "\n",
        "lista = [['b', 3], ['b', 3], ['a', 3], ['b', 3], ['a', 3], ['b', 3], ['a', 3], ['a', 3], ['b', 3]]\n",
        "resolver(lista, 7)"
      ]
    },
    {
      "cell_type": "markdown",
      "metadata": {
        "id": "1wHKWh4JDFlH"
      },
      "source": [
        "**Ejercicio 2**: Ordenar\n",
        "\n",
        "Ordenar una lista de números usando Greedy."
      ]
    },
    {
      "cell_type": "code",
      "execution_count": null,
      "metadata": {
        "id": "gFq7qbAUUHrW",
        "outputId": "6110ba6a-ff9d-4d2c-b085-48a1387a3035"
      },
      "outputs": [
        {
          "data": {
            "text/plain": [
              "[3, 3, 4, 4, 6, 6, 7, 8, 10, 12, 12, 13, 19, 22, 25, 26, 35, 52, 92, 586, 691]"
            ]
          },
          "execution_count": 77,
          "metadata": {},
          "output_type": "execute_result"
        }
      ],
      "source": [
        "# En greedy, agarro elementos y veo si me sirven o no para usar\n",
        "# La factibilidad evalúa si sirven o si se desechan\n",
        "# En este problema, todos sirven, por lo que factibilidad daría siempre true\n",
        "\n",
        "def es_solucion(eleccion_actual: \"Solucion\") -> bool:\n",
        "    return len(eleccion_actual) == 0\n",
        "\n",
        "def elegir_candidato(problema: \"Problema\") -> \"Elemento\":\n",
        "    return min(problema)\n",
        "\n",
        "def es_factible(eleccion: \"Solucion\") -> bool:\n",
        "    return True\n",
        "\n",
        "def resolver(problema: \"Problema\") -> \"Solucion\":\n",
        "    solucion = []\n",
        "    while not es_solucion(problema):\n",
        "        x = elegir_candidato(problema)\n",
        "        problema.remove(x)\n",
        "        if es_factible(solucion + [x]):\n",
        "            solucion.append(x)\n",
        "    return solucion\n",
        "\n",
        "lista_num = [10,3,4,13,6,8,12,7,92,19,3,26,6,12,586,4,25,22,691,52,35]\n",
        "resolver(lista_num)"
      ]
    },
    {
      "cell_type": "markdown",
      "metadata": {
        "id": "E3KZzsxYiqTz"
      },
      "source": [
        "**Ejercicio 3**: Tenemos una lista de tareas, cada tarea se simboliza con el tiempo que toma completarla, pero tenemos un tiempo límite $T$ que probablemente no nos alcance para hacerlas todas.\n",
        "\n",
        "¿Cuál es la mayor cantidad de tareas que puedo completar en $T$ tiempo o menos?\n",
        "\n",
        "Ejemplo:\n",
        "```python\n",
        "tasks = [5, 9, 2, 6, 1]\n",
        "T = 10\n",
        "# Respuesta: 3\n",
        "```"
      ]
    },
    {
      "cell_type": "code",
      "execution_count": null,
      "metadata": {
        "id": "sv_P1hyxUHrW",
        "outputId": "f9ffa4e4-b181-46d9-dc80-2110ac3a9a01"
      },
      "outputs": [
        {
          "data": {
            "text/plain": [
              "[1, 2, 5]"
            ]
          },
          "execution_count": 79,
          "metadata": {},
          "output_type": "execute_result"
        }
      ],
      "source": [
        "def es_solucion(eleccion_actual: int) -> bool:\n",
        "    return len(eleccion_actual) == 0\n",
        "\n",
        "def elegir_candidato(problema: list) -> int:\n",
        "    return min(problema)\n",
        "\n",
        "def es_factible(eleccion: int, T: int) -> bool:\n",
        "    return sum(eleccion) <= T\n",
        "\n",
        "def resolver(problema: list, T: int) -> int:\n",
        "    solucion = []\n",
        "    while not es_solucion(problema):\n",
        "        x = elegir_candidato(problema)\n",
        "        problema.remove(x)\n",
        "        if es_factible(solucion + [x], T):\n",
        "            solucion.append(x)\n",
        "    return solucion\n",
        "\n",
        "tasks = [5, 9, 2, 6, 1]\n",
        "resolver(tasks, 10)"
      ]
    },
    {
      "cell_type": "markdown",
      "metadata": {
        "id": "DppkYaoADS82"
      },
      "source": [
        "**Ejercicio 4**: Problema del Cambio. Dado un número entero $C$ que representa un vuelto que hay que dar, encuentre una combinación de monedas de 1, 5, 10 y 20 centavos que sumen $C$ y que sean la menor cantidad de monedas posible."
      ]
    },
    {
      "cell_type": "code",
      "execution_count": null,
      "metadata": {
        "id": "9ueoV2NyEDIO",
        "outputId": "06017afa-fabd-4392-a993-5aecd9a599ba"
      },
      "outputs": [
        {
          "data": {
            "text/plain": [
              "[20, 20, 20, 10, 5]"
            ]
          },
          "execution_count": 11,
          "metadata": {},
          "output_type": "execute_result"
        }
      ],
      "source": [
        "def es_solucion(eleccion_actual: \"Solucion\", C: int) -> bool:\n",
        "    return sum(eleccion_actual) == C or len(eleccion_actual) == 0\n",
        "\n",
        "def elegir_candidato(problema: \"Problema\") -> \"Elemento\":\n",
        "    return max(problema)\n",
        "\n",
        "def es_factible(eleccion: \"Solucion\", C) -> bool:\n",
        "    return sum(eleccion) <= C\n",
        "\n",
        "def resolver(problema: \"Problema\", C: int) -> \"Solucion\":\n",
        "    solucion = []\n",
        "    while not es_solucion(problema, C):\n",
        "        x = elegir_candidato(problema)\n",
        "        if es_factible(solucion + [x], C):\n",
        "            solucion.append(x)\n",
        "        else:\n",
        "            problema.remove(x)\n",
        "    return solucion\n",
        "\n",
        "\n",
        "monedas = [20, 10, 5, 1]\n",
        "resolver(monedas, 75)"
      ]
    },
    {
      "cell_type": "markdown",
      "metadata": {
        "id": "qy0JNNq1UHrY"
      },
      "source": [
        "**Ejercicio 5**: Sean $n$ actividades que podríamos hacer. Cada actividad tiene un tiempo de inicio y un tiempo de fin, $0 ≤ si < fi < ∞$. Calcule la cantidad máxima de actividades que podemos realizar, si no se pueden hacer en simultáneo."
      ]
    },
    {
      "cell_type": "code",
      "execution_count": null,
      "metadata": {
        "id": "HuUuShJIFSsc"
      },
      "outputs": [],
      "source": [
        "# No se me ocurre cómo resolverlo"
      ]
    },
    {
      "cell_type": "markdown",
      "metadata": {
        "id": "p4589WPVUHrY"
      },
      "source": [
        "**Ejercicio 6**: Algoritmo de Kruskall. Al igual que Prim, encuentra el árbol de expansión mínimo, pero es más sencillo a la hora de programarlo. Dado el conjunto de $E$ aristas ponderadas del grafo de $N$ vértices, elige las primeras $N - 1$ aristas de menor costo que no formen un ciclo.\n",
        "\n",
        "Ejemplo:\n",
        "\n",
        "$E = [(A, B, 1), (A, C, 2), (A, D, 3), (A, E, 4), (B, C, 5), (C, D, 6), (D, E, 7), (E, B, 8)]$\n",
        "\n",
        "Identificamos que hay 5 vertices unicos en esas aristas (los vertices estan implicitos y que es conexo tambien) y la respuesta son las primeras 4 aristas"
      ]
    },
    {
      "cell_type": "code",
      "execution_count": null,
      "metadata": {
        "id": "OqF-LaU2eN0J",
        "outputId": "ce32aa25-7876-456f-b27c-3d7344c8f7f1"
      },
      "outputs": [
        {
          "data": {
            "text/plain": [
              "[('A', 'B', 1), ('A', 'C', 2), ('A', 'D', 3), ('A', 'E', 4)]"
            ]
          },
          "execution_count": 9,
          "metadata": {},
          "output_type": "execute_result"
        }
      ],
      "source": [
        "# Primero se crea una lista con todas las aristas ordenadas por peso (ya está hecho)\n",
        "\n",
        "def es_solucion(eleccion_actual: \"Solucion\", cant_vert: int) -> bool:\n",
        "    # La solución tenga n-1 aristas\n",
        "    return len(eleccion_actual) == cant_vert - 1\n",
        "\n",
        "def elegir_candidato(problema: \"Problema\") -> \"Elemento\":\n",
        "    # Elige el primer elemento (ya está ordendo por pesos)\n",
        "    return problema[0]\n",
        "\n",
        "def es_factible(eleccion: \"Solucion\", nuevo) -> \"Solucion\":\n",
        "    # Si alguno de los dos nuevos vértices no está en la solución, es factible\n",
        "    flag_i = False\n",
        "    flag_j = False\n",
        "    if eleccion == []:\n",
        "        return True\n",
        "    for i, j, v in eleccion:\n",
        "        if nuevo[0] == i or nuevo[1] == i:\n",
        "            flag_i = True\n",
        "        if nuevo[0] == j or nuevo[1] == j:\n",
        "            flag_j = True\n",
        "    if flag_i and flag_j:\n",
        "        return False\n",
        "    return True\n",
        "\n",
        "def resolver(problema: \"Problema\", cant_vert: int) -> \"Solucion\":\n",
        "    solucion = []\n",
        "    while not es_solucion(solucion, cant_vert):\n",
        "        x = elegir_candidato(problema)\n",
        "        problema.remove(x)\n",
        "        if es_factible(solucion, x):\n",
        "            solucion.append(x)\n",
        "    return solucion\n",
        "\n",
        "E = [(\"A\", \"B\", 1), (\"A\", \"C\", 2), (\"A\", \"D\", 3), (\"A\", \"E\", 4), (\"B\", \"C\", 5), (\"C\", \"D\", 6), (\"D\", \"E\", 7), (\"E\", \"B\", 8)]\n",
        "resolver(E, 5)"
      ]
    },
    {
      "cell_type": "markdown",
      "metadata": {
        "id": "Q7yuj45GUHrZ"
      },
      "source": [
        "**Ejercicio 7**: La codificación de Huffman es un algoritmo de compresión de datos. A los elementos más frecuentes se les asigna cadenas de bits más cortas.\n",
        "\n",
        "Se emplea un árbol para la codificación, donde los nodos internos no tienen datos, la rama izquierda representa leer un 0, la rama derecha representa leer un 1, y al llegar a la hoja interpretamos el dato que allí se encuentra.\n",
        "\n",
        "Ejemplo:\n",
        "\n",
        "Dado el siguiente árbol de codificación de Huffman\n",
        "```\n",
        "   .\n",
        " 0/ \\1\n",
        " /   \\\n",
        "a  0/ \\1\n",
        "   b   c\n",
        "```\n",
        "y la cadena de bits\n",
        "```\n",
        "01010110\n",
        "```\n",
        "interpretaríamos\n",
        "```\n",
        "0 -> a\n",
        "10 -> b\n",
        "10 -> b\n",
        "11 -> c\n",
        "0 -> a\n",
        "```\n",
        "Está garantizado que, si la cadena de bits salió de ese árbol, entonces la interpretación siempre se puede realizar sin errores.\n",
        "\n",
        "El algoritmo para construir el árbol toma siempre los dos nodos con menor frecuencia y los une en un nodo interno, cuyo valor es la suma de las frecuencias, el menor de los dos hijos va a la rama del 0, y el mayor a la del 1, e itera este proceso Greedy hasta que nos quede un solo nodo, la raíz del árbol entero.\n",
        "\n",
        "Implementar el algoritmo que transforma un string en un Árbol de Huffman para crear el árbol. Como extra, además escribir el algoritmo de interpretación de secuencias de 1s y 0s. El algoritmo toma los 2 nodos con menor frecuencia y crea un nuevo nodo interno."
      ]
    },
    {
      "cell_type": "code",
      "execution_count": null,
      "metadata": {
        "id": "RZxtNSvY96EY"
      },
      "outputs": [],
      "source": [
        "# Si me alcanza el tiempo, lo hago"
      ]
    }
  ],
  "metadata": {
    "colab": {
      "provenance": []
    },
    "kernelspec": {
      "display_name": "Python 3",
      "name": "python3"
    },
    "language_info": {
      "codemirror_mode": {
        "name": "ipython",
        "version": 3
      },
      "file_extension": ".py",
      "mimetype": "text/x-python",
      "name": "python",
      "nbconvert_exporter": "python",
      "pygments_lexer": "ipython3",
      "version": "3.11.6"
    }
  },
  "nbformat": 4,
  "nbformat_minor": 0
}