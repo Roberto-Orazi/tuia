{
  "nbformat": 4,
  "nbformat_minor": 0,
  "metadata": {
    "colab": {
      "provenance": []
    },
    "kernelspec": {
      "name": "python3",
      "display_name": "Python 3"
    },
    "language_info": {
      "name": "python"
    }
  },
  "cells": [
    {
      "cell_type": "markdown",
      "source": [
        "# Práctica 6: Estrategias de Algoritmos"
      ],
      "metadata": {
        "id": "7u24cwGnQTGB"
      }
    },
    {
      "cell_type": "markdown",
      "source": [
        "# Divide & Conquer"
      ],
      "metadata": {
        "id": "yZhlNVB22dag"
      }
    },
    {
      "cell_type": "markdown",
      "source": [
        "Para resolver esta práctica, considere la estructura de solución enseñada en la materia. Recordar que la estructura no siempre resolverá el problema tal cuál está presentada."
      ],
      "metadata": {
        "id": "iI58WR_F2nvO"
      }
    },
    {
      "cell_type": "code",
      "source": [
        "def es_caso_base(problema: \"Problema\") -> bool:\n",
        "  pass\n",
        "\n",
        "def resolver_caso_base(problema: \"Problema\") -> \"Solución\":\n",
        "  pass\n",
        "\n",
        "def dividir(problema: \"Problema\") -> \"(Problema, Problema)\":\n",
        "  pass\n",
        "\n",
        "def combinar(s1: \"Solución\", s2: \"Solución\") -> \"Solución\":\n",
        "  pass\n",
        "\n",
        "def resolver(problema: \"Problema\") -> \"Solución\":\n",
        "  pass"
      ],
      "metadata": {
        "id": "HKG-LMqd2nvP"
      },
      "execution_count": null,
      "outputs": []
    },
    {
      "cell_type": "markdown",
      "source": [
        "**Ejercicio 1** Implemente un algoritmo Divide y Vencerás que calcule la suma de los numeros en una lista"
      ],
      "metadata": {
        "id": "rG_h_vvsYwQd"
      }
    },
    {
      "cell_type": "markdown",
      "source": [
        "**Ejercicio 2**  Implemente un algoritmo Divide y Vencerás que determine si un número $n$ (fijo) se encuentra o no en una lista NO ordenada de números."
      ],
      "metadata": {
        "id": "A0m0PrNLFaCd"
      }
    },
    {
      "cell_type": "markdown",
      "source": [
        "**Ejercicio 3** Dada una lista de números, proponga algoritmos Divide & Conquer para:\n",
        "\n",
        "a. Encontrar el menor elemento de la lista\n",
        "\n",
        "b. Encontrar el mayor elemento de la lista\n",
        "\n",
        "c. Encontrar el menor y el mayor elemento de la lista"
      ],
      "metadata": {
        "id": "KmNNPhdIbhcr"
      }
    },
    {
      "cell_type": "markdown",
      "source": [
        "**Ejercicio 4** Escriba un algoritmo Divide & Conquer para calcular la potencia $b^n$ calculando potencias menores en cada paso. Puede suponer que $n$ es un numero positivo"
      ],
      "metadata": {
        "id": "gkfJS7c9dQPf"
      }
    },
    {
      "cell_type": "markdown",
      "source": [
        "**Ejercicio 5** De un algoritmo Divide & Conquer para encontrar el número más grande de una lista, y el segundo mas grande. Puede suponer que la lista siempre tiene al menos dos numeros y que los numeros son todos distintos entre si."
      ],
      "metadata": {
        "id": "n1dkqUSoexoa"
      }
    },
    {
      "cell_type": "markdown",
      "source": [
        "**Ejercicio 6**: Ordenamiento\n",
        "\n",
        "Ordene una lista usando divide y vencerás, para esto preste atención cómo combina dos listas ordenadas para producir una nueva lista ordenada. No utilice ningún método de ordenamiento _builtin_"
      ],
      "metadata": {
        "id": "IZo4JZJ25gUI"
      }
    },
    {
      "cell_type": "markdown",
      "source": [
        "**Ejercicio 7**: Sublista de suma máxima\n",
        "\n",
        "Dada una lista de números, el problema de encontrar la sublista consiste encontrar una sublista contigua de forma tal que la suma de sus elementos sea la maxima posible.\n",
        "\n",
        "Por ejemplo, para la lista [−2, 1, −3, 4, −1, 2, 1, −5, 4], la sublista de suma máxima es: [4, −1, 2, 1], que suma 6. Puede intentar convencerse de esto tomando otras posibles sublistas y notando que la suma siempre es menor o igual.\n",
        "\n",
        "Formalmente, dada una lista $L$ de números enteros, el problema trata sobre encontrar índices $i, j$ con $0 \\le i \\le j \\le n$ de forma tal que la suma\n",
        "\n",
        "$$\n",
        "\\sum_{x=i}^j L[x]\n",
        "$$\n",
        "\n",
        "sea lo mas grande posible.\n",
        "\n",
        "El algoritmo trivial para resolver este problema consiste en recorrer todos los posibles índices $i, j$, calcular la suma correspondiente en cada caso y elegir la máxima. Este algoritmo tiene complejidad temporal cúbica ( $O(n^3)$ ), es decir la cantidad de sumas que hay que resolver crece como una función cúbica del tamaño de la lista de entrada.\n",
        "\n",
        "Sin embargo, utilizando Divide y Vencerás puede resolver este problema con complejidad temporal O(n log(n)) (llamada complejidad subcuadratica).  \n",
        "\n",
        "Para poder lograrlo, necesitará en cada paso, más información que solo la solución final. La llamada recursiva debe devolver, si representamos una sublista como $L[i:j]$:\n",
        "- La suma máxima $L[i:j]$ (la \"solución final\").\n",
        "- La suma total $L[0:n]$\n",
        "- La suma máxima por izquierda $L[0:j']$\n",
        "- La suma máxima por derecha $L[i':n]$\n",
        "\n",
        "\n",
        "Implemente la solución divide y vencerás siguiendo estas ideas."
      ],
      "metadata": {
        "id": "SHnfidWe8Ykb"
      }
    },
    {
      "cell_type": "markdown",
      "source": [
        "**Ejercicio 8** Escriba un algoritmo Divide y Vencerás que tome como entrada una matriz de números (representada en Python como una lista de listas), y un número $n$ y determine cuantas veces aparece el número $n$ en la matriz."
      ],
      "metadata": {
        "id": "uVIM7PH3O9eG"
      }
    }
  ]
}