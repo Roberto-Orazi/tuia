{
  "cells": [
    {
      "cell_type": "markdown",
      "metadata": {
        "id": "7u24cwGnQTGB"
      },
      "source": [
        "# Práctica 6: Estrategias de Algoritmos"
      ]
    },
    {
      "cell_type": "markdown",
      "metadata": {
        "id": "yZhlNVB22dag"
      },
      "source": [
        "# Divide & Conquer"
      ]
    },
    {
      "cell_type": "markdown",
      "metadata": {
        "id": "iI58WR_F2nvO"
      },
      "source": [
        "Para resolver esta práctica, considere la estructura de solución enseñada en la materia. Recordar que la estructura no siempre resolverá el problema tal cuál está presentada."
      ]
    },
    {
      "cell_type": "code",
      "execution_count": null,
      "metadata": {
        "id": "HKG-LMqd2nvP"
      },
      "outputs": [],
      "source": [
        "def es_caso_base(problema: \"Problema\") -> bool:\n",
        "  pass\n",
        "\n",
        "def resolver_caso_base(problema: \"Problema\") -> \"Solución\":\n",
        "  pass\n",
        "\n",
        "def dividir(problema: \"Problema\") -> \"(Problema, Problema)\":\n",
        "  pass\n",
        "\n",
        "def combinar(s1: \"Solución\", s2: \"Solución\") -> \"Solución\":\n",
        "  pass\n",
        "\n",
        "def resolver(problema: \"Problema\") -> \"Solución\":\n",
        "  pass"
      ]
    },
    {
      "cell_type": "markdown",
      "metadata": {
        "id": "rG_h_vvsYwQd"
      },
      "source": [
        "**Ejercicio 1** Implemente un algoritmo Divide y Vencerás que calcule la suma de los numeros en una lista"
      ]
    },
    {
      "cell_type": "code",
      "execution_count": 2,
      "metadata": {},
      "outputs": [
        {
          "data": {
            "text/plain": [
              "6"
            ]
          },
          "execution_count": 2,
          "metadata": {},
          "output_type": "execute_result"
        }
      ],
      "source": [
        "def es_caso_base(lista: list[int]) -> bool:\n",
        "    return len(lista) <= 1\n",
        "\n",
        "def resolver_caso_base(lista:list[int]):\n",
        "    if len(lista) == 0:\n",
        "        return 0\n",
        "    else:\n",
        "        return lista[0]\n",
        "\n",
        "def dividir(lista)->list[int]:\n",
        "    mitad = len(lista) // 2\n",
        "    return lista[:mitad], lista[mitad:]\n",
        "\n",
        "def combinar(s1, s2)->int:\n",
        "    return s1+s2\n",
        "\n",
        "def resolver(lista):\n",
        "    if es_caso_base(lista):\n",
        "        return resolver_caso_base(lista)\n",
        "\n",
        "    subproblema1, subproblema2 = dividir(lista)\n",
        "    solucion1=resolver(subproblema1)\n",
        "    solucion2=resolver(subproblema2)\n",
        "\n",
        "    return combinar(solucion1,solucion2)\n",
        "\n",
        "l=[1,2,3]\n",
        "resolver(l)"
      ]
    },
    {
      "cell_type": "markdown",
      "metadata": {
        "id": "A0m0PrNLFaCd"
      },
      "source": [
        "**Ejercicio 2**  Implemente un algoritmo Divide y Vencerás que determine si un número $n$ (fijo) se encuentra o no en una lista NO ordenada de números."
      ]
    },
    {
      "cell_type": "code",
      "execution_count": 14,
      "metadata": {},
      "outputs": [
        {
          "ename": "TypeError",
          "evalue": "unsupported operand type(s) for +: 'bool' and 'str'",
          "output_type": "error",
          "traceback": [
            "\u001b[0;31m---------------------------------------------------------------------------\u001b[0m",
            "\u001b[0;31mTypeError\u001b[0m                                 Traceback (most recent call last)",
            "Cell \u001b[0;32mIn[14], line 34\u001b[0m\n\u001b[1;32m     32\u001b[0m num\u001b[38;5;241m=\u001b[39m\u001b[38;5;241m4\u001b[39m\n\u001b[1;32m     33\u001b[0m l\u001b[38;5;241m=\u001b[39m[\u001b[38;5;241m1\u001b[39m,\u001b[38;5;241m4\u001b[39m,\u001b[38;5;241m42\u001b[39m,\u001b[38;5;241m3\u001b[39m,\u001b[38;5;241m5\u001b[39m,\u001b[38;5;241m6\u001b[39m,\u001b[38;5;241m4\u001b[39m,\u001b[38;5;241m3\u001b[39m,\u001b[38;5;241m32\u001b[39m,\u001b[38;5;241m4\u001b[39m,\u001b[38;5;241m4\u001b[39m]\n\u001b[0;32m---> 34\u001b[0m \u001b[43mresolver\u001b[49m\u001b[43m(\u001b[49m\u001b[43ml\u001b[49m\u001b[43m,\u001b[49m\u001b[43mnum\u001b[49m\u001b[43m)\u001b[49m\n",
            "Cell \u001b[0;32mIn[14], line 22\u001b[0m, in \u001b[0;36mresolver\u001b[0;34m(lista, num)\u001b[0m\n\u001b[1;32m     19\u001b[0m     \u001b[38;5;28;01mreturn\u001b[39;00m resolver_caso_base(num,lista)\n\u001b[1;32m     21\u001b[0m subproblema1, subproblema2 \u001b[38;5;241m=\u001b[39m dividir(lista)\n\u001b[0;32m---> 22\u001b[0m solucion1\u001b[38;5;241m=\u001b[39m\u001b[43mresolver\u001b[49m\u001b[43m(\u001b[49m\u001b[43msubproblema1\u001b[49m\u001b[43m,\u001b[49m\u001b[43mnum\u001b[49m\u001b[43m)\u001b[49m\n\u001b[1;32m     23\u001b[0m solucion2\u001b[38;5;241m=\u001b[39mresolver(subproblema2,num)\n\u001b[1;32m     25\u001b[0m \u001b[38;5;28;01mif\u001b[39;00m combinar(solucion1, solucion2):\n",
            "Cell \u001b[0;32mIn[14], line 23\u001b[0m, in \u001b[0;36mresolver\u001b[0;34m(lista, num)\u001b[0m\n\u001b[1;32m     21\u001b[0m subproblema1, subproblema2 \u001b[38;5;241m=\u001b[39m dividir(lista)\n\u001b[1;32m     22\u001b[0m solucion1\u001b[38;5;241m=\u001b[39mresolver(subproblema1,num)\n\u001b[0;32m---> 23\u001b[0m solucion2\u001b[38;5;241m=\u001b[39m\u001b[43mresolver\u001b[49m\u001b[43m(\u001b[49m\u001b[43msubproblema2\u001b[49m\u001b[43m,\u001b[49m\u001b[43mnum\u001b[49m\u001b[43m)\u001b[49m\n\u001b[1;32m     25\u001b[0m \u001b[38;5;28;01mif\u001b[39;00m combinar(solucion1, solucion2):\n\u001b[1;32m     26\u001b[0m     \u001b[38;5;28;01mreturn\u001b[39;00m \u001b[38;5;124m'\u001b[39m\u001b[38;5;124mEl numero esta en la lista\u001b[39m\u001b[38;5;124m'\u001b[39m\n",
            "Cell \u001b[0;32mIn[14], line 25\u001b[0m, in \u001b[0;36mresolver\u001b[0;34m(lista, num)\u001b[0m\n\u001b[1;32m     22\u001b[0m solucion1\u001b[38;5;241m=\u001b[39mresolver(subproblema1,num)\n\u001b[1;32m     23\u001b[0m solucion2\u001b[38;5;241m=\u001b[39mresolver(subproblema2,num)\n\u001b[0;32m---> 25\u001b[0m \u001b[38;5;28;01mif\u001b[39;00m \u001b[43mcombinar\u001b[49m\u001b[43m(\u001b[49m\u001b[43msolucion1\u001b[49m\u001b[43m,\u001b[49m\u001b[43m \u001b[49m\u001b[43msolucion2\u001b[49m\u001b[43m)\u001b[49m:\n\u001b[1;32m     26\u001b[0m     \u001b[38;5;28;01mreturn\u001b[39;00m \u001b[38;5;124m'\u001b[39m\u001b[38;5;124mEl numero esta en la lista\u001b[39m\u001b[38;5;124m'\u001b[39m\n\u001b[1;32m     27\u001b[0m \u001b[38;5;28;01melse\u001b[39;00m:\n",
            "Cell \u001b[0;32mIn[14], line 15\u001b[0m, in \u001b[0;36mcombinar\u001b[0;34m(s1, s2)\u001b[0m\n\u001b[1;32m     14\u001b[0m \u001b[38;5;28;01mdef\u001b[39;00m \u001b[38;5;21mcombinar\u001b[39m(s1, s2)\u001b[38;5;241m-\u001b[39m\u001b[38;5;241m>\u001b[39m\u001b[38;5;28mint\u001b[39m:\n\u001b[0;32m---> 15\u001b[0m     \u001b[38;5;28;01mreturn\u001b[39;00m \u001b[43ms1\u001b[49m\u001b[38;5;241;43m+\u001b[39;49m\u001b[43ms2\u001b[49m\n",
            "\u001b[0;31mTypeError\u001b[0m: unsupported operand type(s) for +: 'bool' and 'str'"
          ]
        }
      ],
      "source": [
        "def es_caso_base(lista: list[int]) -> bool:\n",
        "    return len(lista) <= 1\n",
        "\n",
        "def resolver_caso_base(num, lista:list[int]):\n",
        "    if len(lista)==0:\n",
        "        return 'No pertenece'\n",
        "    else:\n",
        "        return lista[0] == num\n",
        "\n",
        "def dividir(lista)->list[int]:\n",
        "    mitad = len(lista) // 2\n",
        "    return lista[:mitad], lista[mitad:]\n",
        "\n",
        "def combinar(s1, s2)->int:\n",
        "    return s1+s2\n",
        "\n",
        "def resolver(lista, num):\n",
        "    if es_caso_base(lista):\n",
        "        return resolver_caso_base(num,lista)\n",
        "\n",
        "    subproblema1, subproblema2 = dividir(lista)\n",
        "    solucion1=resolver(subproblema1,num)\n",
        "    solucion2=resolver(subproblema2,num)\n",
        "\n",
        "    if combinar(solucion1, solucion2):\n",
        "        return 'El numero esta en la lista'\n",
        "    else:\n",
        "        return 'El numero no se encuentra en la lista'\n",
        "\n",
        "\n",
        "num=4\n",
        "l=[1,4,42,3,5,6,4,3,32,4,4]\n",
        "resolver(l,num)"
      ]
    },
    {
      "cell_type": "markdown",
      "metadata": {
        "id": "KmNNPhdIbhcr"
      },
      "source": [
        "**Ejercicio 3** Dada una lista de números, proponga algoritmos Divide & Conquer para:\n",
        "\n",
        "a. Encontrar el menor elemento de la lista\n",
        "\n",
        "b. Encontrar el mayor elemento de la lista\n",
        "\n",
        "c. Encontrar el menor y el mayor elemento de la lista"
      ]
    },
    {
      "cell_type": "markdown",
      "metadata": {
        "id": "gkfJS7c9dQPf"
      },
      "source": [
        "**Ejercicio 4** Escriba un algoritmo Divide & Conquer para calcular la potencia $b^n$ calculando potencias menores en cada paso. Puede suponer que $n$ es un numero positivo"
      ]
    },
    {
      "cell_type": "markdown",
      "metadata": {
        "id": "n1dkqUSoexoa"
      },
      "source": [
        "**Ejercicio 5** De un algoritmo Divide & Conquer para encontrar el número más grande de una lista, y el segundo mas grande. Puede suponer que la lista siempre tiene al menos dos numeros y que los numeros son todos distintos entre si."
      ]
    },
    {
      "cell_type": "markdown",
      "metadata": {
        "id": "IZo4JZJ25gUI"
      },
      "source": [
        "**Ejercicio 6**: Ordenamiento\n",
        "\n",
        "Ordene una lista usando divide y vencerás, para esto preste atención cómo combina dos listas ordenadas para producir una nueva lista ordenada. No utilice ningún método de ordenamiento _builtin_"
      ]
    },
    {
      "cell_type": "markdown",
      "metadata": {
        "id": "SHnfidWe8Ykb"
      },
      "source": [
        "**Ejercicio 7**: Sublista de suma máxima\n",
        "\n",
        "Dada una lista de números, el problema de encontrar la sublista consiste encontrar una sublista contigua de forma tal que la suma de sus elementos sea la maxima posible.\n",
        "\n",
        "Por ejemplo, para la lista [−2, 1, −3, 4, −1, 2, 1, −5, 4], la sublista de suma máxima es: [4, −1, 2, 1], que suma 6. Puede intentar convencerse de esto tomando otras posibles sublistas y notando que la suma siempre es menor o igual.\n",
        "\n",
        "Formalmente, dada una lista $L$ de números enteros, el problema trata sobre encontrar índices $i, j$ con $0 \\le i \\le j \\le n$ de forma tal que la suma\n",
        "\n",
        "$$\n",
        "\\sum_{x=i}^j L[x]\n",
        "$$\n",
        "\n",
        "sea lo mas grande posible.\n",
        "\n",
        "El algoritmo trivial para resolver este problema consiste en recorrer todos los posibles índices $i, j$, calcular la suma correspondiente en cada caso y elegir la máxima. Este algoritmo tiene complejidad temporal cúbica ( $O(n^3)$ ), es decir la cantidad de sumas que hay que resolver crece como una función cúbica del tamaño de la lista de entrada.\n",
        "\n",
        "Sin embargo, utilizando Divide y Vencerás puede resolver este problema con complejidad temporal O(n log(n)) (llamada complejidad subcuadratica).  \n",
        "\n",
        "Para poder lograrlo, necesitará en cada paso, más información que solo la solución final. La llamada recursiva debe devolver, si representamos una sublista como $L[i:j]$:\n",
        "- La suma máxima $L[i:j]$ (la \"solución final\").\n",
        "- La suma total $L[0:n]$\n",
        "- La suma máxima por izquierda $L[0:j']$\n",
        "- La suma máxima por derecha $L[i':n]$\n",
        "\n",
        "\n",
        "Implemente la solución divide y vencerás siguiendo estas ideas."
      ]
    },
    {
      "cell_type": "markdown",
      "metadata": {
        "id": "uVIM7PH3O9eG"
      },
      "source": [
        "**Ejercicio 8** Escriba un algoritmo Divide y Vencerás que tome como entrada una matriz de números (representada en Python como una lista de listas), y un número $n$ y determine cuantas veces aparece el número $n$ en la matriz."
      ]
    }
  ],
  "metadata": {
    "colab": {
      "provenance": []
    },
    "kernelspec": {
      "display_name": "Python 3",
      "name": "python3"
    },
    "language_info": {
      "codemirror_mode": {
        "name": "ipython",
        "version": 3
      },
      "file_extension": ".py",
      "mimetype": "text/x-python",
      "name": "python",
      "nbconvert_exporter": "python",
      "pygments_lexer": "ipython3",
      "version": "3.10.12"
    }
  },
  "nbformat": 4,
  "nbformat_minor": 0
}
