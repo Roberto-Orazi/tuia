{
  "cells": [
    {
      "cell_type": "markdown",
      "metadata": {
        "id": "42WZXXINVURQ"
      },
      "source": [
        "# Practica 3"
      ]
    },
    {
      "cell_type": "markdown",
      "metadata": {
        "id": "KSxMmelYVer0"
      },
      "source": [
        "##Árboles Binarios"
      ]
    },
    {
      "cell_type": "markdown",
      "metadata": {
        "id": "DbqscGTq3_x-"
      },
      "source": [
        "A lo largo de esta práctica trabajaremos con la siguiente estructura, observe lo similar que es a `Node` de Listas Enlazadas, pero en lugar de `next`, posee `left` y `right`."
      ]
    },
    {
      "cell_type": "code",
      "execution_count": null,
      "metadata": {
        "id": "EBYFkBxD48n0"
      },
      "outputs": [],
      "source": [
        "class Tree:\n",
        "  def __init__(self, cargo, left = None, right = None):\n",
        "    self.cargo = cargo\n",
        "    self.left = left\n",
        "    self.right = right"
      ]
    },
    {
      "cell_type": "markdown",
      "metadata": {
        "id": "1Gcpmsil4aiY"
      },
      "source": [
        "**Ejercicio 1**: Dibuje ejemplos de árboles en su hoja con las siguientes características, construya sus ejemplos en Python\n",
        "\n",
        "1. Un árbol con únicamente su raíz\n",
        "2. Un árbol parecido a una lista de largo 3\n",
        "3. Un árbol completo de altura 1\n",
        "4. Un árbol vacío ¿Puede hacerlo?"
      ]
    },
    {
      "cell_type": "markdown",
      "metadata": {
        "id": "ZUlsgVAEhPOz"
      },
      "source": [
        "**Ejercicio 2**:\n",
        "\n",
        "Implemente en la clase Tree los siguiente métodos:\n",
        "\n",
        " *Ayuda: pensar que cada árbol tiene a su izquierda y derecha objetos árboles como sus hijos*.\n",
        "* **nodos**: devuelve la cantidad de nodos del árbol\n",
        "* **menor_mayor**: devuelve el menor y el mayor elemento del árbol en una tupla\n",
        "* **buscar**: busca si un elemento está o no en el árbol\n",
        "* **altura**: calcula la altura del árbol, la distancia desde la raíz hasta la hoja más lejana"
      ]
    },
    {
      "cell_type": "markdown",
      "metadata": {
        "id": "boWybkv6hPPG"
      },
      "source": [
        "**Ejercicio 3**:\n",
        "\n",
        "a. Pensar y dibujar un ejemplo de árbol en papel, escribir los resultados de PreOrder, InOrder y PostOrder\n",
        "\n",
        "b. Implementar los recorridos PreOrder, InOrder y PostOrder como funciones recursivas, verificar sus resultados\n",
        "\n",
        "c. Implementar los recorridos PreOrder, InOrder y PostOrder como funciones iterativas, verificar sus resultados\n",
        "\n",
        "_Ayuda_: Para las versiones iterativas, necesitará utilizar una Pila como estructura de datos adicional. Puede importar una implementacion cualquiera de Pila que haya realizado en la Practica anterior."
      ]
    },
    {
      "cell_type": "markdown",
      "metadata": {
        "id": "lLmB1pL44YeX"
      },
      "source": [
        "**Ejercicio 4** Escriba una funcion `copiar` que reciba un árbol y devuelva un _nuevo_ árbol idéntico al original."
      ]
    },
    {
      "cell_type": "code",
      "execution_count": null,
      "metadata": {},
      "outputs": [],
      "source": [
        "def invertir_orden(arbol):\n",
        "    if arbol is None:\n",
        "        return None\n",
        "    arbol.left, arbol.right = arbol.right, arbol.left\n",
        "    invertir_orden(arbol.left)\n",
        "    invertir_orden(arbol.right)\n",
        "    return arbol"
      ]
    },
    {
      "cell_type": "markdown",
      "metadata": {
        "id": "vKpca6UAaDyp"
      },
      "source": [
        "##Árboles Binarios de Búsqueda"
      ]
    },
    {
      "cell_type": "markdown",
      "metadata": {
        "id": "vXy7uuVE53gN"
      },
      "source": [
        "**Ejercicio 5**: Dibuje un árbol binario de búsqueda de palabras, con al menos 5 palabras, utilizando orden de diccionario (lexicográfico). Acomódelo como más le guste, mientras sea correcto. Luego indique en qué lugar del árbol se insertaría la palabra `python`."
      ]
    },
    {
      "cell_type": "markdown",
      "metadata": {
        "id": "jcHTBLBdaDy7"
      },
      "source": [
        "**Ejercicio 6**: Utilizando la misma clase Tree de la sección anterior, implemente otra clase llamada BSTree que herede de esta, reimplemente los métodos **menor_mayor**, **buscar** e implemente un nuevo método llamado **insertar** que inserte un elemento.\n",
        "\n",
        "_Ayuda: puede optar por definir métodos menor y mayor **internamente** por separado para hacer la implementación más sencilla, pero no es estrictamente necesario._"
      ]
    },
    {
      "cell_type": "markdown",
      "metadata": {
        "id": "9hVIrj-FaDy8"
      },
      "source": [
        "**Ejercicio 7**:\n",
        "\n",
        "La [magia de IPython](https://ipython.readthedocs.io/en/stable/interactive/magics.html) es un sistema de comandos mágicos que sirven para realizar diversas tareas del sistema operativo directamente en un entorno que use a iPython, como Google Colab, IPython, Jupyter Notebooks, etc.\n",
        "\n",
        "Uno de estos comandos magicos es `%%timeit`, el cual sirve para medir cuando tiempo tarda en ejecutarse un bloque de codigo. Este comando corre las celdas muchas veces y calcula el tiempo promedio de ejecucion, para asegurarse de que la medicion sea confiable.\n",
        "\n",
        "En la siguientes dos celdas de código se realizan dos experimentos:\n",
        "\n",
        "1. Por un lado, se insertan los numeros del 1 al 900 en un BSTree en orden creciente, y luego, se chequea si cada uno esta en el arbol.\n",
        "2. En otra celda, se insertan los numeros del 1 al 900 en un BSTree en orden aleatorio, y luego, se chequea si cada uno esta en el arbo.\n",
        "\n",
        "Corra los experimentos utilizando Google Colab o IPython y explique porque uno de los dos tarda menos que el otro.\n",
        "\n"
      ]
    },
    {
      "cell_type": "code",
      "execution_count": null,
      "metadata": {
        "colab": {
          "base_uri": "https://localhost:8080/"
        },
        "id": "acHlNY23aDy8",
        "outputId": "5ac6ddfc-b3d7-4152-a1f7-cd06edc3a08a"
      },
      "outputs": [
        {
          "name": "stdout",
          "output_type": "stream",
          "text": [
            "321 ms ± 109 ms per loop (mean ± std. dev. of 7 runs, 1 loop each)\n"
          ]
        }
      ],
      "source": [
        "%%timeit\n",
        "# Insertamos los numeros del 1 al 100000 en un BSTree en orden creciente\n",
        "t = BSTree(1)\n",
        "for i in range(900):\n",
        "  t.insert(i)\n",
        "\n",
        "# Y luego chequeamos si cada numero fue insertado\n",
        "for i in range(900):\n",
        "  t.buscar(i)"
      ]
    },
    {
      "cell_type": "code",
      "execution_count": null,
      "metadata": {
        "colab": {
          "base_uri": "https://localhost:8080/"
        },
        "id": "PGDFsCGVw0s3",
        "outputId": "9ebe6a34-85ad-4751-98c7-49487083a1b5"
      },
      "outputs": [
        {
          "name": "stdout",
          "output_type": "stream",
          "text": [
            "6.64 ms ± 650 µs per loop (mean ± std. dev. of 7 runs, 100 loops each)\n"
          ]
        }
      ],
      "source": [
        "%%timeit\n",
        "# Insertamos los numeros del 1 al 100000 en un BSTree en orden aleatorio\n",
        "import random\n",
        "t = BSTree(1)\n",
        "L = list(range(900))\n",
        "random.shuffle(L)\n",
        "for i in L:\n",
        "  t.insert(i)\n",
        "\n",
        "# Y luego chequeamos si cada numero fue insertado\n",
        "for i in range(900):\n",
        "  t.buscar(i)"
      ]
    },
    {
      "cell_type": "markdown",
      "metadata": {
        "id": "WPJxhCb7aDy8"
      },
      "source": [
        "**Ejercicio 8**: Escriba una funcion `combinar` que combine dos arboles binarios de búsqueda en uno solo. El resultado tambien debe ser un arbol binario de busqueda.\n",
        "\n",
        "_Ayuda: quizás resulte conveniente implementar una función de copia pero para BSTree_"
      ]
    },
    {
      "cell_type": "markdown",
      "metadata": {
        "id": "1AcyW-xe66rx"
      },
      "source": [
        "**Ejercicio 9** Escriba una función `borrar_raiz`. Dado un arbol binario de busqueda, esta funcion deberia devolver un nuevo arbol binario de busqueda que contenga los mismos datos, a excepcion de la raiz."
      ]
    },
    {
      "cell_type": "markdown",
      "metadata": {
        "id": "biBZIZcv7zhA"
      },
      "source": [
        "**Ejercicio 10** Escriba una funcion `borrar_valor` que dado un arbol binario de busqueda y un valor, devuelva un arbol binario de busqueda sin ese valor."
      ]
    },
    {
      "cell_type": "markdown",
      "metadata": {
        "id": "alrqBhVx04Y-"
      },
      "source": [
        "# Ejercicios Adicionales"
      ]
    },
    {
      "cell_type": "markdown",
      "metadata": {
        "id": "iyjalnPnhPPH"
      },
      "source": [
        "**Ejercicio 11**: En la unidad anterior mencionamos cómo utilizamos notación postfija de expresiones para evaluar en un Stack y sin usar paréntesis. Con árboles podemos representar expresiones infijas sin paréntesis. Cada nodo interno del árbol representa un operador, izquierda y derecha son subexpresiones, y las hojas son números. Implementar una clase Expression que herede de Tree, un árbol de expresiones infijas, con dos métodos.\n",
        "\n",
        "* **imprimir**: que imprime la expresión de forma infija con paréntesis.\n",
        "* **evaluar**: evalúa todo el árbol y lo reduce a un número.\n",
        "\n",
        "Ejemplo\n",
        "```\n",
        "     *\n",
        "   /   \\\n",
        "  +     -     ==>   ((1 + 2) * (3 - 4))   ==>   -2\n",
        " / \\   / \\\n",
        "1   2 3   4\n",
        "```"
      ]
    },
    {
      "cell_type": "markdown",
      "metadata": {
        "id": "c3tzk8tcdNjz"
      },
      "source": [
        "**Ejercicio 12** ¿Se podrían representar los árboles (pensados como TAD) utilizando una estructura de datos contigua? ¿Porque?"
      ]
    }
  ],
  "metadata": {
    "colab": {
      "provenance": []
    },
    "kernelspec": {
      "display_name": "Python 3",
      "name": "python3"
    },
    "language_info": {
      "name": "python"
    }
  },
  "nbformat": 4,
  "nbformat_minor": 0
}
