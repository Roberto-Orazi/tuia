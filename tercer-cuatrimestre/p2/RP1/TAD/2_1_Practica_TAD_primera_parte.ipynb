{
  "cells": [
    {
      "cell_type": "markdown",
      "metadata": {
        "id": "42WZXXINVURQ"
      },
      "source": [
        "# Practica 2"
      ]
    },
    {
      "cell_type": "markdown",
      "metadata": {
        "id": "dKOzQXKcVXbF"
      },
      "source": [
        "## Tipo abstracto de datos"
      ]
    },
    {
      "cell_type": "markdown",
      "metadata": {
        "id": "FLFB5WQc5Oli"
      },
      "source": [
        "**Ejercicio 1**\n",
        "Un *Buffer Circular* es un TAD contenedor de datos, que utiliza un *buffer* de tamaño fijo como si el mismo estuviera conectado por las puntas. Admite las siguientes operaciones:\n",
        "\n",
        "- `__init__`: Recibe un número natural e inicializa un nuevo un *Buffer Circular* de dicho tamaño.\n",
        "- `get_oldest`: Devuelve el elemento mas antiguo del buffer, o muestra un error si el buffer esta vacio.\n",
        "- `append`: Dado un elemento, lo agrega al buffer si hay espacio. Si no hay espacio, muestra un mensaje de error.\n",
        "- `remove`: Remueve del buffer el elemento mas antiguo y lo devuelve, o muestra un error si el buffer esta vacío.\n",
        "- `is_empty`: Devuelve un booleano representando si el buffer esta vacìo, o no.\n",
        "- `is_full`: Devuelve un booleano representando si el buffer esta lleno o no.\n",
        "\n",
        "Un TAD de este estilo es útil para implementar *streaming* de datos, por ejemplo en plataformas como Spotify o Netflix.\n",
        "\n",
        "Dar una implementación del TAD en Python, y escribir código cliente para probarlo. Pensar intuitivamente en la complejidad temporal y espacial de las operaciones. Escribir los invariantes de objeto que se mantienen."
      ]
    },
    {
      "cell_type": "markdown",
      "metadata": {
        "id": "EzKhCO6i7NLE"
      },
      "source": [
        "**Ejercicio 2**: Un Conjunto es un TAD contenedor de datos preestablecidos, que nunca cambian, y la única operación posible es preguntarnos si un elemento pertenece o no al conjunto. Su interfaz esta dada por las siguientes operaciones:"
      ]
    },
    {
      "cell_type": "markdown",
      "metadata": {
        "id": "4XIK-bIt78V_"
      },
      "source": [
        "\n",
        "- `__init__`: Crea el conjunto con los valores especificados\n",
        "- `pertenece`: Determina si un elemento pertenece al conjunto"
      ]
    },
    {
      "cell_type": "code",
      "execution_count": 9,
      "metadata": {},
      "outputs": [
        {
          "name": "stdout",
          "output_type": "stream",
          "text": [
            "True\n",
            "False\n"
          ]
        }
      ],
      "source": [
        "from typing import Any\n",
        "\n",
        "\n",
        "class Contenedor:\n",
        "    def __init__(self, elementos: Any) -> None:\n",
        "        self.elementos=set(elementos)\n",
        "\n",
        "    def pertenece(self, elemento):\n",
        "        return elemento in self.elementos\n",
        "\n",
        "contenedor = Contenedor([1,2,3,4,5,6])\n",
        "print(contenedor.pertenece(5))\n",
        "print(contenedor.pertenece(7))"
      ]
    },
    {
      "cell_type": "markdown",
      "metadata": {
        "id": "LEOEXVLDnv_z"
      },
      "source": [
        "**Ejercicio 3**: El TAD Conjunto mutable soporta la operación `pertenece` del mismo modo que el TAD Conjunto. Además, este TAD soporta el agregado de elementos, y algunas operaciones adicionales. La interfaz esta dada por las siguiente operaciones:\n",
        "\n",
        "- `__init__`: Inicializa un conjunto **vacío**\n",
        "\n",
        "- `pertenece`: Toma un elemento y determina si pertenece al conjunto\n",
        "\n",
        "- `agrega`: Toma un elemento y lo agrega al conjunto. No se permiten elementos repetidos.\n",
        "\n",
        "- `anula`: Vacía el conjunto.\n",
        "\n",
        "- `union`: Recibe otro conjunto como argumento y devuelve un nuevo Conjunto con los elementos que pertenecen a cualquiera de los dos.\n",
        "\n",
        "- `__len__`: Determina la cantidad de elementos de un conjunto"
      ]
    },
    {
      "cell_type": "code",
      "execution_count": 24,
      "metadata": {},
      "outputs": [
        {
          "name": "stdout",
          "output_type": "stream",
          "text": [
            "False\n",
            "{0, 1, 2, 3, 66, 5, 9, 77, 23, 44, 55}\n",
            "7\n",
            "None\n"
          ]
        }
      ],
      "source": [
        "class Conjunto:\n",
        "    def __init__(self) -> None:\n",
        "        self.conjunto=set([])\n",
        "\n",
        "    def pertenece(self, elemento):\n",
        "        return elemento in self.conjunto\n",
        "\n",
        "    def agrega_elemento(self, elemento):\n",
        "        if self.pertenece(elemento):\n",
        "            return 'Ya esta en la lista no se puede agregar'\n",
        "        else:\n",
        "            self.conjunto.add(elemento)\n",
        "\n",
        "    def vaciar_conjunto(self):\n",
        "        return self.conjunto.clear()\n",
        "\n",
        "    def unir_conjuntos(self, conjunto):\n",
        "        return self.conjunto.union(conjunto)\n",
        "\n",
        "    def __len__(self):\n",
        "        return len(self.conjunto)\n",
        "\n",
        "conjunto = Conjunto()\n",
        "\n",
        "conjunto.agrega_elemento(1)\n",
        "conjunto.agrega_elemento(3)\n",
        "conjunto.agrega_elemento(0)\n",
        "conjunto.agrega_elemento(9)\n",
        "conjunto.agrega_elemento(23)\n",
        "conjunto.agrega_elemento(5)\n",
        "conjunto.agrega_elemento(2)\n",
        "print(conjunto.pertenece(4))\n",
        "print(conjunto.unir_conjuntos([1,2,3,44,55,66,77]))\n",
        "print(conjunto.__len__())\n",
        "print(conjunto.vaciar_conjunto())"
      ]
    },
    {
      "cell_type": "markdown",
      "metadata": {
        "id": "9n66GqW79Fz0"
      },
      "source": [
        "**Ejercicio 4**: Dar una implementacion en Python del TAD Vector, que representa un vector de números reales de algebra. La interfaz queda definida por las siguientes operaciones:\n",
        "\n",
        "- `__init__`: Recibe la dimensión y crea un vector de esa cantidad de ceros.\n",
        "\n",
        "- `get`: Recibe una posición y devuelve el valor en dicha posición del vector. Retorna `None` si la posición es inválida.\n",
        "\n",
        "- `put`: Recibe una posición y un `float`, y actualiza dicha posición del vector con el valor suministrado. **Devuelve el valor nuevo** si la posición es válida, o `None` si es inválida.\n",
        "\n",
        "- `__add__`: Recibe como parámetro otro vector. Si el tamaño no es compatible, devuelve `None`. Si el tamaño es compatible, devuelve un nuevo vector con el resultado de la suma componente a componente entre ambos."
      ]
    },
    {
      "cell_type": "code",
      "execution_count": 25,
      "metadata": {},
      "outputs": [],
      "source": [
        "class Vector:\n",
        "    def __init__(self, dimension) -> None:\n",
        "        self.vector=[0.0]*dimension"
      ]
    },
    {
      "cell_type": "markdown",
      "metadata": {
        "id": "lf86Ree0Q0qH"
      },
      "source": [
        "**Ejercicio 5**: El TAD Matriz representa una matriz algebraica. Su interfaz esta dada por:\n",
        "\n",
        "- `__init__`: Recibe dos dimensiones (filas y columnas) y crea una matriz nula.\n",
        "\n",
        "- `get`: Recibe una posición (i,j) y devuelve el valor en dicha posición. Retorna `None` si la posición es inválida.\n",
        "\n",
        "- `put`: Recibe una posición (i,j) y un `float`, y actualiza dicha posición con el valor suministrado. **Devuelve el valor nuevo** si la posición es válida, o `None` si es inválida.\n",
        "\n",
        "- `__add__`: Recibe otra matriz. Si el tamaño no es compatible, devuelve `None`. Si el tamaño es compatible, devuelve una nueva matriz con el resultado de la suma componente a componente entre ambas."
      ]
    },
    {
      "cell_type": "code",
      "execution_count": null,
      "metadata": {},
      "outputs": [],
      "source": [
        "class Matriz:\n",
        "    def __init__(self, fila, columna) -> None:\n",
        "        self.fila=fila\n",
        "        self.columna=columna\n",
        "        self.matriz=[]\n",
        "    \n",
        "    def get_matriz(self,i,j):"
      ]
    },
    {
      "cell_type": "markdown",
      "metadata": {
        "id": "B479dkEtVazZ"
      },
      "source": [
        "## Lista\n"
      ]
    },
    {
      "cell_type": "markdown",
      "metadata": {
        "id": "g4T-Q2fWBNw9"
      },
      "source": [
        "**Ejercicio 6**: Complete la implentación del TAD Lista utilizando nodos enlazados."
      ]
    },
    {
      "cell_type": "code",
      "execution_count": null,
      "metadata": {
        "id": "24sZKvtlI-l5"
      },
      "outputs": [],
      "source": [
        "from typing import Any\n",
        "\n",
        "\n",
        "class _Nodo:\n",
        "    def __init__(self, dato: Any = None, prox=None):\n",
        "        self.dato = dato\n",
        "        self.prox = prox\n",
        "\n",
        "    def __str__(self):\n",
        "        return str(self.dato)\n",
        "\n",
        "\n",
        "def ver_lista(nodo: _Nodo | None) -> None:\n",
        "    \"\"\"Recorre todos los nodos a través de sus enlaces,\n",
        "    mostrando sus contenidos .\"\"\"\n",
        "    while nodo is not None:\n",
        "        print(nodo)\n",
        "        nodo = nodo.prox\n",
        "\n",
        "\n",
        "class ListaEnlazada:\n",
        "    \"\"\"Modela una lista enlazada.\"\"\"\n",
        "\n",
        "    def __init__(self) -> None:\n",
        "        \"\"\"Crea una lista enlazada vacía.\"\"\"\n",
        "        # referencia al primer nodo ( None si la lista est á vac ía)\n",
        "        self.prim = None\n",
        "        # cantidad de elementos de la lista\n",
        "        self.len = 0\n",
        "\n",
        "    def insert(self, i: int, x: Any) -> None:\n",
        "        \"\"\"Inserta el elemento x en la posición i.\n",
        "        Si la posición es inv álida , imprime un error y retorna inmediatamente\"\"\"\n",
        "        if i < 0 or i > self.len:\n",
        "            print(\" Posici ón invá lida \")\n",
        "            return\n",
        "        nuevo = _Nodo(x)\n",
        "        if i == 0:\n",
        "            # Caso particular : insertar al principio\n",
        "            nuevo.prox = self.prim\n",
        "            self.prim = nuevo\n",
        "        else:\n",
        "            # Buscar el nodo anterior a la posici ón deseada\n",
        "            n_ant = self.prim\n",
        "            for pos in range(1, i):\n",
        "                n_ant = n_ant.prox\n",
        "            # Intercalar el nuevo nodo\n",
        "            nuevo.prox = n_ant.prox\n",
        "            n_ant.prox = nuevo\n",
        "        self.len += 1\n",
        "\n",
        "    def pop(self, i: int | None = None) -> Any:\n",
        "        \"\"\"Elimina el nodo de la posición i, y devuelve el dato contenido.\n",
        "        Si i está fuera de rango, se muestra un mensaje de error y se\n",
        "        retorna inmediatamente. Si no se recibe la posición, devuelve el\n",
        "        último elemento.\"\"\"\n",
        "        if i is None:\n",
        "            i = self.len - 1\n",
        "        if i < 0 or i >= self.len:\n",
        "            print(\" Posici ón invá lida \")\n",
        "            return\n",
        "        if i == 0:\n",
        "            # Caso particular : saltear la cabecera de la lista\n",
        "            dato = self.prim.dato\n",
        "            self.prim = self.prim.prox\n",
        "        else:\n",
        "            # Buscar los nodos en las posiciones (i -1) e (i)\n",
        "            n_ant = self.prim\n",
        "            n_act = n_ant.prox\n",
        "            for pos in range(1, i):\n",
        "                n_ant = n_act\n",
        "                n_act = n_ant.prox\n",
        "            # Guardar el dato y descartar el nodo\n",
        "            dato = n_act.dato\n",
        "            n_ant.prox = n_act.prox\n",
        "            self.len -= 1\n",
        "        return dato\n",
        "\n",
        "    def remove(self, x: Any) -> None:\n",
        "        \"\"\"Borra la primera aparici ón del valor x en la lista .\n",
        "        Si x no está en la lista, imprime un mensaje de error y retorna\n",
        "        inmediatamente .\"\"\"\n",
        "        if self.len == 0:\n",
        "            print(\"La lista esta vac ía\")\n",
        "            return\n",
        "        if self.prim.dato == x:\n",
        "            # Caso particular : saltear la cabecera de la lista\n",
        "            self.prim = self.prim.prox\n",
        "        else:\n",
        "            # Buscar el nodo anterior al que contiene a x ( n_ant )\n",
        "            n_ant = self.prim\n",
        "            n_act = n_ant.prox\n",
        "            while n_act is not None and n_act.dato != x:\n",
        "                n_ant = n_act\n",
        "                n_act = n_ant.prox\n",
        "            if n_act == None:\n",
        "                print(\"El valor no est á en la lista .\")\n",
        "                return\n",
        "            # Descartar el nodo\n",
        "            n_ant.prox = n_act.prox\n",
        "            self.len -= 1\n",
        "\n",
        "    def __len__(self):\n",
        "        \"\"\"completar\"\"\"\n",
        "        pass\n",
        "\n",
        "    def __str__(self):\n",
        "        \"\"\"completar\"\"\"\n",
        "        pass\n",
        "\n",
        "    # Faltan index y append\n"
      ]
    },
    {
      "cell_type": "markdown",
      "metadata": {
        "id": "6_q7_0oOpDOf"
      },
      "source": [
        "**Ejercicio 7** Agregar a ListaEnlazada un método `extend` que reciba una ListaEnlazada y agregue a la lista actual los elementos que se encuentran en la lista recibida. ¿Puede estimar la complejidad de este método?"
      ]
    },
    {
      "cell_type": "markdown",
      "metadata": {
        "id": "EydybeYJpN0Y"
      },
      "source": [
        "**Ejercicio 8** Implementar el método `remover_todos(elemento)` de ListaEnlazada, que recibe un elemento y remueve de la lista todas las apariciones del mismo, devolviendo la cantidad de elementos removidos. La lista debe ser recorrida una sola vez."
      ]
    },
    {
      "cell_type": "markdown",
      "metadata": {
        "id": "VG60e0MKpTbs"
      },
      "source": [
        "**Ejercicio 9** Implementar el método duplicar(elemento) de ListaEnlazada, que recibe un elemento y duplica todas las apariciones del mismo. Ejemplo:\n",
        "\n",
        "```python\n",
        "L = 1 -> 5 -> 8 -> 8 -> 2 -> 8\n",
        "L.duplicar(8) => L = 1 -> 5 -> 8 -> 8 -> 8 -> 8 -> 2 -> 8 -> 8\n",
        "```\n"
      ]
    },
    {
      "cell_type": "markdown",
      "metadata": {
        "id": "-0_41p9Dp01i"
      },
      "source": [
        "**Ejercicio 10** Escribir un método de la clase ListaEnlazada que invierta el orden de la lista (es decir, el primer elemento queda como último y viceversa)."
      ]
    },
    {
      "cell_type": "markdown",
      "metadata": {
        "id": "wbJoEIcg7bO6"
      },
      "source": [
        "**Ejercicio 11** Volver a dar una implementación de *Circular Buffers* (ejercicio 1) pero utilizando una estructura de datos enlazada. ¿Cambia la complejidad de las operaciones?"
      ]
    },
    {
      "cell_type": "markdown",
      "metadata": {
        "id": "7d8ROCxtp_Rr"
      },
      "source": [
        "**Ejercicio 12** Una desventaja de la implementación del TAD Lista que vimos es que es relativamente caro insertar al final de la lista, dado que necesitamos recorrer todo los nodos para poder lograrlo. Esto se puede solucionar utilizando la estructura conocida como `ListaDoblementeEnlazada`. Esta estructura funciona en escencia del mismo modo que la Lista Enlazada que ya vimos, pero incorpora un atributo más (`last`) y el siguiente invariante de objeto:\n",
        "\n",
        "\n",
        "> El atributo `last` es `None` si la lista está vacía. Si no esta vacía, `last` apunta al último elemento de la lista.\n",
        "\n",
        "Dar una implementación del TAD Lista utilizando una `ListaDoblementeEnlazada`.\n",
        "\n"
      ]
    }
  ],
  "metadata": {
    "colab": {
      "provenance": []
    },
    "kernelspec": {
      "display_name": "Python 3",
      "name": "python3"
    },
    "language_info": {
      "codemirror_mode": {
        "name": "ipython",
        "version": 3
      },
      "file_extension": ".py",
      "mimetype": "text/x-python",
      "name": "python",
      "nbconvert_exporter": "python",
      "pygments_lexer": "ipython3",
      "version": "3.12.3"
    }
  },
  "nbformat": 4,
  "nbformat_minor": 0
}
