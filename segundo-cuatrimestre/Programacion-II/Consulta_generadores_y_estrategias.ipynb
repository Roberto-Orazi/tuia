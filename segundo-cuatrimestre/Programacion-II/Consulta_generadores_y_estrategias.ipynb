{
  "cells": [
    {
      "cell_type": "markdown",
      "metadata": {
        "id": "v7py5xFxH-0J"
      },
      "source": [
        "## Generadores"
      ]
    },
    {
      "cell_type": "code",
      "execution_count": 1,
      "metadata": {
        "id": "S7Ewb50GH-XN"
      },
      "outputs": [],
      "source": [
        "def generador_basico():\n",
        "  yield 1"
      ]
    },
    {
      "cell_type": "code",
      "execution_count": 2,
      "metadata": {
        "id": "VFzrDvo7FBP-"
      },
      "outputs": [],
      "source": [
        "obj = generador_basico()"
      ]
    },
    {
      "cell_type": "code",
      "execution_count": 3,
      "metadata": {
        "colab": {
          "base_uri": "https://localhost:8080/"
        },
        "id": "dHQoQQXBILLd",
        "outputId": "7ab006ba-c1ad-4dba-b202-df5beb134283"
      },
      "outputs": [
        {
          "data": {
            "text/plain": [
              "generator"
            ]
          },
          "execution_count": 3,
          "metadata": {},
          "output_type": "execute_result"
        }
      ],
      "source": [
        "type(obj)"
      ]
    },
    {
      "cell_type": "code",
      "execution_count": 4,
      "metadata": {
        "colab": {
          "base_uri": "https://localhost:8080/"
        },
        "id": "vlHFCvXwIRwi",
        "outputId": "05cc1b05-2d9c-41c7-ed78-a1d04a2e0799"
      },
      "outputs": [
        {
          "name": "stdout",
          "output_type": "stream",
          "text": [
            "1\n"
          ]
        }
      ],
      "source": [
        "for i in obj:\n",
        "  print(i)"
      ]
    },
    {
      "cell_type": "code",
      "execution_count": 5,
      "metadata": {
        "id": "-8jEmO5RIYWY"
      },
      "outputs": [],
      "source": [
        "def generador_basico2():\n",
        "  yield 1\n",
        "  yield 2"
      ]
    },
    {
      "cell_type": "code",
      "execution_count": 6,
      "metadata": {
        "colab": {
          "base_uri": "https://localhost:8080/"
        },
        "id": "AtGlo768IYQ8",
        "outputId": "f77878a4-9747-4036-e103-4fd6733e372f"
      },
      "outputs": [
        {
          "name": "stdout",
          "output_type": "stream",
          "text": [
            "1\n",
            "2\n"
          ]
        }
      ],
      "source": [
        "for i in generador_basico2():\n",
        "  print(i)"
      ]
    },
    {
      "cell_type": "code",
      "execution_count": 7,
      "metadata": {
        "id": "KNpUihNAIufp"
      },
      "outputs": [],
      "source": [
        "def generador_range(n: int):\n",
        "  i = 0\n",
        "  while i != n:\n",
        "    yield i\n",
        "    i += 1"
      ]
    },
    {
      "cell_type": "code",
      "execution_count": 8,
      "metadata": {
        "colab": {
          "base_uri": "https://localhost:8080/"
        },
        "id": "nE_PlmNxI9wm",
        "outputId": "27be9dbe-d048-4ee8-a929-615e732fbc9f"
      },
      "outputs": [
        {
          "name": "stdout",
          "output_type": "stream",
          "text": [
            "0\n",
            "1\n",
            "2\n",
            "3\n",
            "4\n",
            "5\n",
            "6\n",
            "7\n"
          ]
        }
      ],
      "source": [
        "for i in generador_range(8):\n",
        "  print(i)"
      ]
    },
    {
      "cell_type": "markdown",
      "metadata": {
        "id": "KoZAVNySR9hb"
      },
      "source": [
        "## Ejercicio 6 final 15/02: Busqueda exhaustiva"
      ]
    },
    {
      "cell_type": "markdown",
      "metadata": {
        "id": "pnzLaWBzFU38"
      },
      "source": [
        "En una empresa se necesita seleccionar a dos directivos entre cinco candidatos diferentes. Cada candidato esta numerado del 1 al 5. Implementar un programa en  python que utilice un algoritmo de busqueda exhaustiva para generar todas las posibles combinaciones de elegir a dos directivos entre los 5 candidatos\n",
        "\n",
        "C1, C2, C3, C4, C5.\n",
        "\n",
        "Problema: lista de strings\n",
        "\n",
        "Posibles soluciones: (C1, C2), (C2, C3),\n",
        "\n",
        "Representamos cada solucion como una tupla de elementos (str, str)\n",
        "\n",
        "En que orden vamos a recorrer?: Primero recorremos todas las opciones que contienen el candidato C1, luego todas las que contienen al candidato C2 que no hayan sido consideradas previamente ...\n",
        "\n"
      ]
    },
    {
      "cell_type": "code",
      "execution_count": 23,
      "metadata": {
        "colab": {
          "base_uri": "https://localhost:8080/"
        },
        "id": "XBVk5G-uFVAZ",
        "outputId": "733d5de9-201e-4978-ec7f-689882989e9e"
      },
      "outputs": [
        {
          "name": "stdout",
          "output_type": "stream",
          "text": [
            "[(1, 2), (1, 3), (1, 4), (1, 5), (2, 3), (2, 4), (2, 5), (3, 4), (3, 5), (4, 5)]\n"
          ]
        }
      ],
      "source": [
        "from typing import Iterator\n",
        "import itertools\n",
        "\n",
        "posibles_directivos = [1, 2, 3, 4, 5]\n",
        "\n",
        "def es_solucion(x: tuple[int, int]) -> bool:\n",
        "  return True\n",
        "\n",
        "# Primera opcion: Sin usar itertools\n",
        "# def candidatos() -> Iterator[tuple[int, int]]:\n",
        "#     n = len(posibles_directivos)\n",
        "#     for i in posibles_directivos:\n",
        "#       for j in posibles_directivos:\n",
        "#         if i < j:\n",
        "#           yield (i, j)\n",
        "\n",
        "# Segunda opcion: Usando itertools\n",
        "# def candidatos() -> Iterator[tuple[int, int]]:\n",
        "#   for i in itertools.combinations(posibles_directivos, 2):\n",
        "#     yield i\n",
        "\n",
        "# Tercera opcion: Usando itertools y yield from\n",
        "def candidatos() -> Iterator[tuple[int, int]]:\n",
        "  yield from itertools.combinations(posibles_directivos, 2)\n",
        "\n",
        "soluciones = []\n",
        "for candidato in candidatos ():\n",
        "  if es_solucion ( candidato ):\n",
        "    soluciones . append ( candidato )\n",
        "\n",
        "print ( soluciones )"
      ]
    },
    {
      "cell_type": "markdown",
      "metadata": {
        "id": "8PryG-etMaxT"
      },
      "source": [
        "## Divide y Venceras\n",
        "\n",
        "Ejercicio 2 de la practica\n",
        "\n",
        "Implemente un algoritmo Divide y Vencerás que encuentre un número en una lista ordenada. ¿Es necesario resolver todos los subproblemas?\n"
      ]
    },
    {
      "cell_type": "code",
      "execution_count": 28,
      "metadata": {
        "colab": {
          "base_uri": "https://localhost:8080/"
        },
        "id": "aHTIen0eMdAn",
        "outputId": "65e18e7e-58f4-4b9d-c4ef-b318ed9b2a28"
      },
      "outputs": [
        {
          "data": {
            "text/plain": [
              "True"
            ]
          },
          "execution_count": 28,
          "metadata": {},
          "output_type": "execute_result"
        }
      ],
      "source": [
        "# P -> una instancia del problema\n",
        "# S -> una posible solucion\n",
        "\n",
        "N = 10\n",
        "\n",
        "# P -> list[int]\n",
        "# S -> bool\n",
        "\n",
        "### SI LA LISTA NO ESTA ORDENADA\n",
        "\n",
        "def es_caso_base(x: list[int]) -> bool:\n",
        "  return len(x) == 0 or len(x) == 1\n",
        "\n",
        "def resolver_caso_base(x: list[int]) -> bool:\n",
        "  if len(x) == 0:\n",
        "    return False\n",
        "  if len(x) == 1:\n",
        "    return x[0] == N\n",
        "\n",
        "def dividir(x: list[int]) -> tuple[list[int], list[int]]:\n",
        "  n = len(x) // 2\n",
        "  return x[:n], x[n:]\n",
        "\n",
        "def combinar(s1: bool, s2: bool) -> bool:\n",
        "  return s1 or s2\n",
        "\n",
        "def resolver(x: list[int]) -> int:\n",
        "  if es_caso_base(x):\n",
        "    return resolver_caso_base(x)\n",
        "\n",
        "  p1, p2 = dividir(x)\n",
        "  s1 = resolver(p1)\n",
        "  s2 = resolver(p2)\n",
        "  return combinar(s1, s2)\n",
        "\n",
        "\n",
        "lista = [0, 3, 5, 7, 10, 14, 36, 70]\n",
        "\n",
        "resolver(lista)\n"
      ]
    },
    {
      "cell_type": "code",
      "execution_count": 35,
      "metadata": {
        "colab": {
          "base_uri": "https://localhost:8080/"
        },
        "id": "nodGv9_AQcQv",
        "outputId": "0c6848cb-4399-4a7c-d22a-3e78af5b4d01"
      },
      "outputs": [
        {
          "data": {
            "text/plain": [
              "True"
            ]
          },
          "execution_count": 35,
          "metadata": {},
          "output_type": "execute_result"
        }
      ],
      "source": [
        "### SI LA LISTA ESTA ORDENADA -> me puedo evitar una de las dos recursiones\n",
        "\n",
        "def es_caso_base(x: list[int]) -> bool:\n",
        "  return len(x) == 0 or len(x) == 1\n",
        "\n",
        "def resolver_caso_base(x: list[int]) -> bool:\n",
        "  if len(x) == 0:\n",
        "    return False\n",
        "  if len(x) == 1:\n",
        "    return x[0] == N\n",
        "\n",
        "def dividir(x: list[int]) -> tuple[list[int], list[int]]:\n",
        "  n = len(x) // 2\n",
        "  return x[:n], x[n:]\n",
        "\n",
        "## COMBINAR DEJA DE SER NECESARIA\n",
        "\n",
        "def resolver(x: list[int]) -> int:\n",
        "  if es_caso_base(x):\n",
        "    return resolver_caso_base(x)\n",
        "\n",
        "  p1, p2 = dividir(x)\n",
        "  #\n",
        "  if p1[-1] < N:\n",
        "    s = resolver(p2)\n",
        "  else:\n",
        "    s = resolver(p1)\n",
        "\n",
        "  return s\n",
        "\n",
        "\n",
        "lista = [0, 3, 5, 7, 10, 14, 36, 70]\n",
        "\n",
        "resolver(lista)"
      ]
    }
  ],
  "metadata": {
    "colab": {
      "provenance": []
    },
    "kernelspec": {
      "display_name": "Python 3",
      "name": "python3"
    },
    "language_info": {
      "codemirror_mode": {
        "name": "ipython",
        "version": 3
      },
      "file_extension": ".py",
      "mimetype": "text/x-python",
      "name": "python",
      "nbconvert_exporter": "python",
      "pygments_lexer": "ipython3",
      "version": "3.12.3"
    }
  },
  "nbformat": 4,
  "nbformat_minor": 0
}
