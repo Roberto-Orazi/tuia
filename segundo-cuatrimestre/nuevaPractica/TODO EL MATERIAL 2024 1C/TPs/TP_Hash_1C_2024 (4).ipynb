{
  "nbformat": 4,
  "nbformat_minor": 0,
  "metadata": {
    "colab": {
      "provenance": []
    },
    "kernelspec": {
      "name": "python3",
      "display_name": "Python 3"
    },
    "language_info": {
      "name": "python"
    }
  },
  "cells": [
    {
      "cell_type": "markdown",
      "source": [
        "Giuliano esta ideando una aplicación que le a todo el mundo saber cuando salio campeón por última vez un equipo de fútbol. Por ejemplo, si alguien consulta por \\textit{boquita}, debería mostrarle una salida similar a la que sigue\n",
        "\n",
        "    Clave: Boquita\n",
        "    Nombre Oficial: Club Atletico Boca Juniors\n",
        "    Siglas: CABJ\n",
        "    Ultimo campeonato: 2022 (Liga Profesional)\n",
        "\n",
        "Giuliano sabe un par de cosas:\n",
        "\n",
        "- Sabe que pronto la aplicación sera de uso global, por la que habrá muchos equipos de todo el mundo utilizándola.\n",
        "- Sabe que entonces, mucha gente va a querer utilizar la aplicación para saber cuando fue la última vez que se utilizo.\n",
        "- Sabe que los fanáticos del fútbol son muy ansiosos, así que quieren saber el resultado rápido, lo que implica que nuevos datos deben insertarse rápidamente y las búsquedas también deben ser rápidas.\n",
        "\n",
        "Por suerte, Giuliano estudio mucho de estructuras de datos y sabe que la estructura de datos ideal para modelar este problema es una Tabla Hash.\n",
        "\n",
        "En este trabajo práctico deberás:\n",
        "\n",
        "1. Estudiar el problema y sugerir un tamaño de tabla apropiado, justificando adecuadamente.\n",
        "2. Escribir una función de hash apropiada. Explicar porque tu función cumple con las propiedades necesarias para ser una buena función de hash.\n",
        "3. Implementar el TAD Diccionario en la Tabla Hash. Deberá elegir un método para resolver las colisiones.\n",
        "4. Implementar el código cliente en la clase `AplicacionFutbol`. Recordar que este código utiliza la clase anterior basado en su interfaz, y por lo tanto, no puede acceder a ningun método que no forme parte de la interfaz."
      ],
      "metadata": {
        "id": "QX7xenTXAWpq"
      }
    },
    {
      "cell_type": "code",
      "source": [
        "from typing import Callable # Tipo de datos de una funcion\n",
        "\n",
        "class Equipo:\n",
        "    def __init__(self, nombre_oficial, siglas, ultimo_campeonato):\n",
        "        self.nombre_oficial = nombre_oficial\n",
        "        self.siglas = siglas\n",
        "        self.ultimo_campeonato = ultimo_campeonato\n",
        "\n",
        "CAPACIDAD_TABLA = 0 # <- Cambiar este valor!\n",
        "\n",
        "def funcion_hash(clave: str) -> int:\n",
        "  # Completar\n",
        "  pass\n",
        "\n",
        "class TablaHash:\n",
        "  def __init__(self) -> None:\n",
        "    #Completar\n",
        "    pass\n",
        "\n",
        "  def insert(self, key: str, value: Equipo) -> None:\n",
        "    # Completar\n",
        "    pass\n",
        "\n",
        "  def delete(self, key: str, value: Equipo) -> None:\n",
        "    # Completar\n",
        "    pass\n",
        "\n",
        "class AplicacionFutbol:\n",
        "    def __init__(self):\n",
        "        self.tabla_hash = TablaHash()\n",
        "\n",
        "    def agregar_equipo(self, clave, nombre_oficial, siglas, ultimo_campeonato):\n",
        "        # Completar\n",
        "        pass\n",
        "\n",
        "    def buscar_equipo(self, clave):\n",
        "        # completar\n",
        "\n",
        "# Ejemplo de uso\n",
        "app = AplicacionFutbol()\n",
        "app.agregar_equipo(\"Boquita\", \"Club Atletico Boca Juniors\", \"CABJ\", 2022)\n",
        "app.agregar_equipo(\"Milan\", \"Associazione Calcio Milan\", \"ACM\", 2021)\n",
        "\n",
        "app.buscar_equipo(\"Boquita\")\n",
        "app.buscar_equipo(\"Milan\")\n",
        "app.buscar_equipo(\"Real Madrid\")"
      ],
      "metadata": {
        "id": "ygqpF0mAAWZr"
      },
      "execution_count": null,
      "outputs": []
    }
  ]
}