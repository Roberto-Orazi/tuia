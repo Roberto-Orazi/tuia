{
  "nbformat": 4,
  "nbformat_minor": 0,
  "metadata": {
    "colab": {
      "provenance": []
    },
    "kernelspec": {
      "name": "python3",
      "display_name": "Python 3"
    },
    "language_info": {
      "name": "python"
    }
  },
  "cells": [
    {
      "cell_type": "markdown",
      "source": [
        "# Generadores\n",
        "\n",
        "Los generadores en Python son una herramienta expresiva muy poderosa, que como veremos nos va a permitir resolver algunos problemas más fácilmente, ¡y otros más eficientemente!\n",
        "\n",
        "Vean la [documentación oficial](https://wiki.python.org/moin/Generators) si les interesa."
      ],
      "metadata": {
        "id": "FXKGUU31xj5f"
      }
    },
    {
      "cell_type": "markdown",
      "source": [
        "---\n",
        "# Problema de ejemplo"
      ],
      "metadata": {
        "id": "gC9j4BEFx9Ms"
      }
    },
    {
      "cell_type": "code",
      "execution_count": 5,
      "metadata": {
        "id": "pRVn_qMsxHaR"
      },
      "outputs": [],
      "source": [
        "def elementos_hasta_n(n: int) -> list[int]:\n",
        "  lista = []\n",
        "  \n",
        "  i = 1\n",
        "  while i <= n:\n",
        "    lista.append(i)\n",
        "    i += 1\n",
        "\n",
        "  return lista"
      ]
    },
    {
      "cell_type": "code",
      "source": [
        "resultado = elementos_hasta_n(10) # todo bien con esta"
      ],
      "metadata": {
        "colab": {
          "base_uri": "https://localhost:8080/"
        },
        "id": "wHdoj_CLyb-P",
        "outputId": "be423f57-46d1-484d-db1b-2caa31ee31aa"
      },
      "execution_count": 11,
      "outputs": [
        {
          "output_type": "execute_result",
          "data": {
            "text/plain": [
              "[1, 2, 3, 4, 5, 6, 7, 8, 9, 10]"
            ]
          },
          "metadata": {},
          "execution_count": 11
        }
      ]
    },
    {
      "cell_type": "code",
      "source": [
        "resultado = elementos_hasta_n(100_000_000) # peeeeeeero"
      ],
      "metadata": {
        "id": "AtItrjYeyqWQ"
      },
      "execution_count": 13,
      "outputs": []
    },
    {
      "cell_type": "code",
      "source": [
        "resultado = range(100_000_000) # !?!?!?"
      ],
      "metadata": {
        "id": "hIu2mBnny99B"
      },
      "execution_count": 14,
      "outputs": []
    },
    {
      "cell_type": "markdown",
      "source": [
        "---\n",
        "# Haciendo el ajuste"
      ],
      "metadata": {
        "id": "68eFcEmuzRLR"
      }
    },
    {
      "cell_type": "code",
      "source": [
        "def elementos_hasta_n_perezosamente(n: int):\n",
        "  i = 1\n",
        "  while i <= n:\n",
        "    yield i # como return! pero varias veces! y se acuerda dónde quedó! :D\n",
        "    i += 1"
      ],
      "metadata": {
        "id": "0i9_HOmLzUDm"
      },
      "execution_count": 15,
      "outputs": []
    },
    {
      "cell_type": "code",
      "source": [
        "resultado = elementos_hasta_n_perezosamente(100_000_000) # B)"
      ],
      "metadata": {
        "id": "dbNOOEI1zk56"
      },
      "execution_count": 16,
      "outputs": []
    },
    {
      "cell_type": "markdown",
      "source": [
        "---\n",
        "# Midiendo tiempos"
      ],
      "metadata": {
        "id": "vHcCXjFHz1LE"
      }
    },
    {
      "cell_type": "code",
      "source": [
        "def consumir(iterable, cantidad: int) -> None:\n",
        "  i = 0\n",
        "  for _ in iterable: # * ruido de comida *\n",
        "    if i >= cantidad: # toy lleno\n",
        "      break\n",
        "    i += 1"
      ],
      "metadata": {
        "id": "bYZTWXfHz4RN"
      },
      "execution_count": 18,
      "outputs": []
    },
    {
      "cell_type": "code",
      "source": [
        "consumir(elementos_hasta_n(100_000_000), 100)"
      ],
      "metadata": {
        "id": "oIk6Upy80AaV"
      },
      "execution_count": 19,
      "outputs": []
    },
    {
      "cell_type": "code",
      "source": [
        "consumir(elementos_hasta_n_perezosamente(100_000_000), 100)"
      ],
      "metadata": {
        "id": "25EDY8mz0DXG"
      },
      "execution_count": 20,
      "outputs": []
    },
    {
      "cell_type": "markdown",
      "source": [
        "---\n",
        "# Otro uso: generación de secuencias complejas\n",
        "###### (¡y posiblemente infinitas!)"
      ],
      "metadata": {
        "id": "Y7eVmur502Tk"
      }
    },
    {
      "cell_type": "code",
      "source": [
        "def fibonacci():\n",
        "  f0 = 0\n",
        "  f1 = 1\n",
        "  while True: # nunca termina! pero... no importa...?\n",
        "    yield f0\n",
        "    fnext = f1 + f0\n",
        "    f0, f1 = f1, fnext"
      ],
      "metadata": {
        "id": "1rWuQ3Ij1MjQ"
      },
      "execution_count": 22,
      "outputs": []
    },
    {
      "cell_type": "code",
      "source": [
        "fibonacci() # ???"
      ],
      "metadata": {
        "id": "T1uEygC_1yWO"
      },
      "execution_count": null,
      "outputs": []
    },
    {
      "cell_type": "code",
      "source": [
        "[f for f in fibonacci() if f < 100] # ???"
      ],
      "metadata": {
        "id": "O_pJfpX-161A"
      },
      "execution_count": null,
      "outputs": []
    },
    {
      "cell_type": "code",
      "source": [
        "lista = []\n",
        "for f in fibonacci():\n",
        "  if f >= 100:\n",
        "    break\n",
        "  lista.append(f)\n",
        "lista # ???"
      ],
      "metadata": {
        "id": "GieKgTDj2MKf"
      },
      "execution_count": null,
      "outputs": []
    },
    {
      "cell_type": "code",
      "source": [
        "def rand_hasta_que_termine_en(n: int):\n",
        "  from random import randrange\n",
        "  \n",
        "  f = randrange(0, 9)\n",
        "  while f != n:\n",
        "    yield f\n",
        "    f = randrange(0, 9)"
      ],
      "metadata": {
        "id": "VqkV5-Cj2iRp"
      },
      "execution_count": 28,
      "outputs": []
    },
    {
      "cell_type": "code",
      "source": [
        "list(rand_hasta_que_termine_en(0))"
      ],
      "metadata": {
        "id": "ophgl9sJ3WSt"
      },
      "execution_count": null,
      "outputs": []
    },
    {
      "cell_type": "markdown",
      "source": [
        "---\n",
        "# Ejercicios\n",
        "\n",
        "1. Implementar las siguientes funciones de la librería de Python como generadores: `range`, `enumerate`, `zip`, `map`\n",
        "\n",
        "2. Implementar un generador de todas las coordenadas `(x, y)` de un plano de tamaño `N x M`, dimensiones pasadas como parámetros\n",
        "\n",
        "3. Agregue un parámetro extra llamado `traversal` a la función anterior que indique si las coordenadas se recorren primero por las `x` (`\"horizontal\"`), primero por las `y` (`\"vertical\"`), o al azar (`\"random\"`). Ejemplo: `coordinates(8, 8, traversal = \"horizontal\")`\n",
        "\n",
        "4. Desarrolle y consuma un generador que intermedie el input de datos. Este le pide al usuario un nombre y lo retorna al flujo de programa. Debe manejar el fin de datos de forma transparente y automática. Imprima `\"Así me llamo yo!\"` **del lado del consumidor** cuando el usuario escriba el nombre de ustedes!"
      ],
      "metadata": {
        "id": "Cf-PKMZp3jdr"
      }
    }
  ]
}