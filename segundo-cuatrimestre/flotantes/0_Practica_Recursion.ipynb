{
  "cells": [
    {
      "cell_type": "markdown",
      "metadata": {
        "id": "6rxdohV00iKL"
      },
      "source": [
        "# Practica Recursion"
      ]
    },
    {
      "cell_type": "markdown",
      "metadata": {
        "id": "bqQ5hKbTE5xz"
      },
      "source": [
        "**Ejercicio 1**\n",
        "\n",
        "1. Escribir una función recursiva `repite_hola` que reciba como parámetro un número entero $n$ y escriba por pantalla el mensaje \"Hola\" $n$ veces. Invocarla con distintos valores de $n$.\n",
        "\n",
        "2. Escribir otra función `repite_hola` que reciba como parámetro un número entero $n$ y devuelva la cadena formada por $n$ concatenaciones de \"Hola\". Invocarla con distintos valores de $n$"
      ]
    },
    {
      "cell_type": "code",
      "execution_count": 14,
      "metadata": {},
      "outputs": [
        {
          "name": "stdout",
          "output_type": "stream",
          "text": [
            "hola\n",
            "hola\n",
            "hola hola \n",
            "hola hola hola hola hola \n",
            "\n"
          ]
        }
      ],
      "source": [
        "def repite_hola(num:int)->str:\n",
        "    if num == 0:\n",
        "        return\n",
        "    else:\n",
        "        print('hola')\n",
        "        return repite_hola(num-1)\n",
        "\n",
        "repite_hola(2)\n",
        "\n",
        "def concatena_hola(num:int)->str:\n",
        "    if num <= 0:\n",
        "        return ''\n",
        "    else:\n",
        "        return 'hola ' + concatena_hola(num-1)\n",
        "\n",
        "print(concatena_hola(2))\n",
        "print(concatena_hola(5))\n",
        "print(concatena_hola(0))"
      ]
    },
    {
      "cell_type": "markdown",
      "metadata": {
        "id": "Nk9iHhz1ic64"
      },
      "source": [
        "**Ejercicio 2**\n",
        "\n",
        "1. Piense cuál sería el resultado de la expresión `misterio(5)` y luego compruebe su hipótesis ejecutándola.\n",
        "\n",
        "2. Explique con sus palabras qué hace `misterio(a)` para cualquier `a`, sea positivo, negativo o 0."
      ]
    },
    {
      "cell_type": "code",
      "execution_count": 16,
      "metadata": {
        "id": "jXGjJWpAioG4"
      },
      "outputs": [
        {
          "data": {
            "text/plain": [
              "10"
            ]
          },
          "execution_count": 16,
          "metadata": {},
          "output_type": "execute_result"
        }
      ],
      "source": [
        "def misterio(a: int) -> int:\n",
        "  if a == 0:\n",
        "    return a\n",
        "\n",
        "  return 1 + misterio(a - 1)\n",
        "\n",
        "# te devuelve a\n",
        "\n",
        "misterio(5)"
      ]
    },
    {
      "cell_type": "markdown",
      "metadata": {
        "id": "v6UoSVfAFaZG"
      },
      "source": [
        "**Ejercicio 3**\n",
        "\n",
        "1. Escribir una función `repite_saludo` que reciba como parámetro un número entero $n$ y una cadena saludo y escriba por pantalla el valor de saludo $n$ veces. Invocarla con distintos valores de $n$ y de saludo.\n",
        "\n",
        "2. Escribir otra función `repite_saludo` que reciba como parámetro un número entero $n$ y una cadena saludo devuelva el valor de $n$ concatenaciones de saludo. Invocarla con distintos valores de $n$ y de saludo."
      ]
    },
    {
      "cell_type": "code",
      "execution_count": 21,
      "metadata": {},
      "outputs": [
        {
          "name": "stdout",
          "output_type": "stream",
          "text": [
            "chau\n",
            "chau\n"
          ]
        },
        {
          "data": {
            "text/plain": [
              "'chau chau '"
            ]
          },
          "execution_count": 21,
          "metadata": {},
          "output_type": "execute_result"
        }
      ],
      "source": [
        "def repite_saludo(num:int,cadena:str)->str:\n",
        "    if num <= 0:\n",
        "        return ''\n",
        "    else:\n",
        "        print(cadena)\n",
        "        return repite_saludo(num-1, cadena)\n",
        "\n",
        "repite_saludo(2,'chau')\n",
        "def concatena_repite_saludo(num:int,cadena:str)->str:\n",
        "    if num <= 0:\n",
        "        return ''\n",
        "    else:\n",
        "        return cadena + ' ' + concatena_repite_saludo(num-1, cadena)\n",
        "\n",
        "concatena_repite_saludo(2,'chau')\n"
      ]
    },
    {
      "cell_type": "markdown",
      "metadata": {
        "id": "MgICSXQXEZz5"
      },
      "source": [
        "**Ejercicio 4**\n",
        "\n",
        "Escriba una funcion recursiva que tome un numero natural n e imprima todos los numeros desde n hasta 1."
      ]
    },
    {
      "cell_type": "code",
      "execution_count": 23,
      "metadata": {},
      "outputs": [
        {
          "name": "stdout",
          "output_type": "stream",
          "text": [
            "5\n",
            "4\n",
            "3\n",
            "2\n",
            "1\n"
          ]
        }
      ],
      "source": [
        "def imprime_numeros(num)->int:\n",
        "    if num == 0:\n",
        "        return\n",
        "    else:\n",
        "        print(num)\n",
        "        return imprime_numeros(num-1)\n",
        "\n",
        "imprime_numeros(5)"
      ]
    },
    {
      "cell_type": "markdown",
      "metadata": {
        "id": "Z7TjLxx3jaAM"
      },
      "source": [
        "**Ejercicio 5**\n",
        "\n",
        "Convierta la siguiente función recursiva a una iterativa."
      ]
    },
    {
      "cell_type": "code",
      "execution_count": null,
      "metadata": {
        "id": "nRIkRomhj-kv"
      },
      "outputs": [],
      "source": [
        "def recursiva(t: int, k: int) -> int:\n",
        "  if t >= 100:\n",
        "    return k\n",
        "  else:\n",
        "    return recursiva(t + k, k + 1)"
      ]
    },
    {
      "cell_type": "markdown",
      "metadata": {
        "id": "S_zEBM1d4wfm"
      },
      "source": [
        "**Ejercicio 6**\n",
        "\n",
        "Escribir una función recursiva que calcule recursivamente el n-ésimo número triangular (el número 1 + 2 + 3 + ⋯ + n)."
      ]
    },
    {
      "cell_type": "markdown",
      "metadata": {
        "id": "NcFbTBst0k9h"
      },
      "source": [
        "**Ejercicio 7**\n",
        "\n",
        "Escribir una función recursiva que reciba un número positivo n y devuelva la cantidad de dígitos que tiene."
      ]
    },
    {
      "cell_type": "markdown",
      "metadata": {
        "id": "GqKV9CUUlPMJ"
      },
      "source": [
        "**Ejercicio 8**\n",
        "\n",
        "Convierta la siguiente función iterativa a una recursiva."
      ]
    },
    {
      "cell_type": "code",
      "execution_count": null,
      "metadata": {
        "id": "NYXBEtDdmBvl"
      },
      "outputs": [],
      "source": [
        "def iterativa(l: list[int]) -> int:\n",
        "  c = 1\n",
        "  for i in l:\n",
        "    c = c * i\n",
        "  return c"
      ]
    },
    {
      "cell_type": "markdown",
      "metadata": {
        "id": "LnoHH96w5Boy"
      },
      "source": [
        "**Ejercicio 9** Escribir una funcion recursiva que encuentre el mayor elemento de una lista."
      ]
    },
    {
      "cell_type": "markdown",
      "metadata": {
        "id": "7Wvp-pzzmiqT"
      },
      "source": [
        "**Ejercicio 10**\n",
        "\n",
        "Dibuje el árbol de llamadas de `llamadas(3)`, y escriba para cada llamada el valor de su `n`, su resultado, y el orden en que se ejecuta en la máquina."
      ]
    },
    {
      "cell_type": "code",
      "execution_count": null,
      "metadata": {
        "id": "0JR39xkAmqFM"
      },
      "outputs": [],
      "source": [
        "def llamadas(n: int) -> int:\n",
        "  if n <= 0:\n",
        "    return 1\n",
        "\n",
        "  cantidad1 = llamadas(n - 1)\n",
        "  cantidad2 = llamadas(n - 2)\n",
        "\n",
        "  return cantidad1 + cantidad2 + 1"
      ]
    },
    {
      "cell_type": "markdown",
      "metadata": {
        "id": "iwkC8qNp1MLv"
      },
      "source": [
        "**Ejercicio 11** Escribir una función recursiva que reciba 2 enteros n y b y devuelva True si n es potencia de b.\n",
        "\n",
        "**Ejemplos**:\n",
        "- es_potencia(8, 2) -> True\n",
        "- es_potencia(64, 4) -> True\n",
        "- es_potencia(70, 10) -> False"
      ]
    },
    {
      "cell_type": "markdown",
      "metadata": {
        "id": "6dO9EqZ_qsGJ"
      },
      "source": [
        "# Ejercicios Adicionales"
      ]
    },
    {
      "cell_type": "markdown",
      "metadata": {
        "id": "3Xgvx8UH5oIZ"
      },
      "source": [
        "**Ejercicio 12** Escribir una función recursiva para replicar los elementos de una lista una cantidad n de veces. Por ejemplo:\n",
        "- replicar([1, 3, 3, 7], 2) -> ([1, 1, 3, 3, 3, 3, 7, 7])"
      ]
    },
    {
      "cell_type": "markdown",
      "metadata": {
        "id": "9mXgr_gQRWiH"
      },
      "source": [
        "**Ejercicio 13** Escriba una funcion que tome una lista y devuelva esa misma lista en orden inverso. Realice dos versiones:\n",
        "\n",
        "* `reversaR` que resuelva utilizando recursión.\n",
        "* `reversaI` que resuelva utilizando iteración."
      ]
    },
    {
      "cell_type": "markdown",
      "metadata": {
        "id": "R_MVS9FV2p2_"
      },
      "source": [
        "**Ejercicio 14** Escribir una funcion recursiva que reciba como parámetros dos cadenas a y b, y encuentre la posicion de la primer ocurrencia de b como subcadena de a\n",
        "\n",
        "**Ejemplo**:\n",
        "- posicion_de(\"Un tete a tete con Tete\", \"te\") -> 3\n",
        "- posicion_de(\"Un tete a tete con Tete\", \"Te\") -> 19\n",
        "\n",
        "**Ayuda**\n",
        "- Puede ser de utilidad el método de `str.startswith` que nos dice si una cadena empieza con una subcadena dada. Puede leer mas sobre este método en la [documentacion oficial](https://docs.python.org/3/library/stdtypes.html?highlight=startswith#str.startswith)"
      ]
    },
    {
      "cell_type": "markdown",
      "metadata": {
        "id": "zaR3YsHi7SaA"
      },
      "source": [
        "## Recursión con wrappers\n",
        "\n",
        "Al diseñar funciones recursivas muchas veces puede ser útil implementar una función **wrapper**, por ejemplo para cambiar los valores que hay que tomar, validar parámetros, inicializar datos o manejar excepciones.\n",
        "\n",
        "Se utiliza una función recursiva, llamada funcion auxiliar, como base y luego una funcion no recursiva, llamada wrapper, que utiliza la funcion auxiliar para resolver lo pedido.\n",
        "\n",
        "Por ejemplo, si necesitamos escribir una función recursiva para calcular el promedio, puede no ser evidente como hacerlo:\n",
        "\n",
        "```python\n",
        "def promediar(lista: list[float]) -> float:\n",
        "  if len(lista) == 0:\n",
        "    return ???\n",
        "  promediar(lista[1:]) ???\n",
        "```\n",
        "\n",
        "Para calcular un promedio necesitamos computar tanto una suma como contar la cantidad de elementos. Podemos hacerlo con una función auxiliar\n",
        "\n",
        "```python\n",
        "def _promediar(lista: list[float]) -> int, float:\n",
        "  if len(lista) == 0:\n",
        "    return 0, 0\n",
        "  cant, suma = promediar(lista[1:])\n",
        "  return cant +1, suma + lista[0]\n",
        "\n",
        "def promediar(lista: list[float]) -> float:\n",
        "  cant, suma = _promediar(lista)\n",
        "  return suma / cant\n",
        "```"
      ]
    },
    {
      "cell_type": "markdown",
      "metadata": {
        "id": "--lq2ot56HOe"
      },
      "source": [
        "**Ejercicio 15** Escribir una funcion recursiva que dada una cadena determine si en la misma hay más letras A o letras E. Utilizar una funcion auxiliar."
      ]
    },
    {
      "cell_type": "markdown",
      "metadata": {
        "id": "3dx3RMhe_ZTc"
      },
      "source": [
        "**Ejercicio 16** Escriba una función `potencia(b,n) que calcule la potencia para cualquier n entero, incluso si n es negativa. Utilizar una funcion auxiliar."
      ]
    },
    {
      "cell_type": "markdown",
      "metadata": {
        "id": "XD295CPgAQ0D"
      },
      "source": [
        "**Ejercicio 17** Ya sabemos que la implementación recursiva del cálculo del número de Fibonacci (Fn = Fn−1 + Fn−2, F0 = 0, F1 = 1) es ineficiente porque muchas de las ramas calculan reiteradamente los mismos valores.\n",
        "\n",
        "Escribir una función fibonacci(n) que calcule el enésimo número de Fibonacci de forma recursiva pero que utilice un diccionario para almacenar los valores ya computados y no computarlos más de una vez.\n",
        "\n",
        "**Nota**: Será necesario implementar una función wrapper para cumplir con la firma de la función pedida."
      ]
    }
  ],
  "metadata": {
    "colab": {
      "provenance": []
    },
    "kernelspec": {
      "display_name": "Python 3",
      "name": "python3"
    },
    "language_info": {
      "codemirror_mode": {
        "name": "ipython",
        "version": 3
      },
      "file_extension": ".py",
      "mimetype": "text/x-python",
      "name": "python",
      "nbconvert_exporter": "python",
      "pygments_lexer": "ipython3",
      "version": "3.10.12"
    }
  },
  "nbformat": 4,
  "nbformat_minor": 0
}
