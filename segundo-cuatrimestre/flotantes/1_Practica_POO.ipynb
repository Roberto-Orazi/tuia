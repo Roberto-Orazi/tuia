{
  "cells": [
    {
      "cell_type": "markdown",
      "metadata": {
        "id": "j3sTF5h-XSAK"
      },
      "source": [
        "# Practica 1\n",
        "\n"
      ]
    },
    {
      "cell_type": "markdown",
      "metadata": {
        "id": "RcviD8OMcsfg"
      },
      "source": [
        "**Ejercicio 1** Considere las clases `Point` y `Rectangle` que vimos en la clase de teoría."
      ]
    },
    {
      "cell_type": "code",
      "execution_count": null,
      "metadata": {
        "id": "G1gRmCjtcsCe"
      },
      "outputs": [],
      "source": [
        "class Point:\n",
        "    \"\"\" representación de un punto en un plano cartesiano 2D \"\"\"\n",
        "    def __init__(self, x: float, y: float) -> None:\n",
        "        self.x = x\n",
        "        self.y = y\n",
        "\n",
        "    def __str__(self) -> str:\n",
        "        return '(' + str(self.x) + ', '+ str(self.y) + ')'\n",
        "\n",
        "    def __eq__(self, other: 'Point') -> bool:\n",
        "        return self.x == other.x and self.y == other.y\n",
        "\n",
        "    def __add__ ( self , other : ' Point ') -> ' Point ':\n",
        "        return Point ( self . x + other .x , self . y + other . y )\n",
        "\n",
        "    def distance(pointA: 'Point', pointB: 'Point'):\n",
        "        return math.sqrt((pointA.x - pointB.x)**2 + (pointA.y - pointB.y)**2)\n",
        "\n",
        "\n",
        "class Rectangle:\n",
        "    def __init__(self, width: float, height: float, corner: Point) -> None:\n",
        "        self.width = width\n",
        "        self.height = height\n",
        "        self.corner = corner\n",
        "\n",
        "    def __str__(self):\n",
        "        return '('+ str(self.width) + str(self.corner.x) + str(self.height) + ')'\n",
        "\n",
        "    def __eq__(self,other: 'Rectangle'):\n",
        "        return self.width == other.width, self.height == other.height, self.corner == other.corner\n",
        "\n",
        "    def mover_rectangulo(self, reactangle: 'Rectangle', dx, dy):\n",
        "        "
      ]
    },
    {
      "cell_type": "markdown",
      "metadata": {
        "id": "JqALSes9dYuU"
      },
      "source": [
        "a. Defina métodos `__str__` y `__eq__` apropiados para `Rectangle`.\n",
        "\n",
        "b. Defina una función llamada mover rectangulo que tome un rectángulo y dos parámetros dx y dy. Esta función debería cambiar de posición el rectángulo sumando dx a la coordenada x de la esquina superior izquierda y del mismo modo sumar dy a la coordenada y de la esquina superior izquierda. Haga las dos versiones, una función pura y una función modificadora.\n",
        "\n",
        "c. Escriba código para crear algunas instancias de puntos y rectangulos y pruebe los métodos y funciones que escribió.\n",
        "\n",
        "d. Realice un pequeño diagrama de estados mostrando el estado global del programa y de los objetos involucrados."
      ]
    },
    {
      "cell_type": "markdown",
      "metadata": {
        "id": "mrJyQknhudRG"
      },
      "source": [
        "**Ejercicio 2** Defina, en la clase `Point`, un método `distancia()` que nos de la distancia euclídea entre dos puntos.\n",
        "\n",
        "**Nota** Recordar que la distancia euclídea entre dos puntos $A = (x_1, y_1)$ y $B = (x_2, y_2)$ se calcula como:\n",
        "$d = \\sqrt{(x_2 - x_1)^2 + (y_2 - y_1) ^2}$"
      ]
    },
    {
      "cell_type": "markdown",
      "metadata": {
        "id": "HX7KLHj0i0jD"
      },
      "source": [
        "**Ejercicio 3** Defina la clase `Automóvil` que contenga (al menos) los siguientes atributos:\n",
        "\n",
        "- patente (string)\n",
        "- marca (string)\n",
        "- kilometros_recorridos (float)\n",
        "- litros_nafta (float)\n",
        "\n",
        "La clase deberá proveer un constructor que permita inicializar los atributos, siendo obligatorios patente y marca. kilometros_recorridos y litros_nafta, se pueden especificar o no. Si no se especifican, se inicializarán por defecto en 0.\n",
        "\n",
        "La clase tendrá además un método llamado avanzar() que recibirá como argumento el número de kilómetros a conducir y sumará los kilómetros recorridos al valor del atributo kilometros_recorridos. El método también restará al valor de litros_nafta la cantidad consumida (se calcula el consumo de gasolina como 8,8 litros por cada 100kms recorridos).\n",
        "\n",
        "La clase también contendrá otro método llamado cargar_nafta() que recibirá como argumento los litros introducidos que deberán sumarse a la variable litros_nafta.\n",
        "\n",
        "Por último, será necesario controlar que el método avanzar nunca obtendrá un número negativo en la gasolina. En dicho caso, deberá mostrar el siguiente mensaje: \"Es necesario cargar nafta para recorrer la cantidad indicada de kilómetros\".\n",
        "\n",
        "Ejemplos de uso:\n",
        "\n",
        "```python\n",
        "auto = Automobil(\"AEF-202\", \"Peugeot\")\n",
        "auto.cargar_nafta(10)\n",
        "print(auto.kilometros_recorridos) # deberia mostrar 0\n",
        "print(auto.litros_nafta) # deberia mostrar 10\n",
        "auto.avanzar(50)\n",
        "print(auto.kilometros_recorridos) # deberia mostrar 50\n",
        "print(auto.litros_nafta) # deberia mostrar 5.6\n",
        "auto.avanzar(100) # Deberia mostrar un mensaje de error: no nos alcanza la nafta\n",
        "auto.avanzar(40)\n",
        "print(auto.kilometros_recorridos) # deberia mostrar 90\n",
        "print(auto.litros_nafta) # deberia mostrar 2.08\n",
        "```"
      ]
    },
    {
      "cell_type": "code",
      "execution_count": null,
      "metadata": {},
      "outputs": [],
      "source": [
        "class Automovil():\n",
        "    def __init__(self, patente: str, marca: str):\n",
        "        self.patente=patente\n",
        "        self.marca=marca\n",
        "        self.kilometros_recorridos=0\n",
        "        self.litros_combustible=0\n",
        "\n",
        "    def avanzar(self,km_conducidos):\n",
        "        consumo_por_km = 8.8 / 100\n",
        "        combustible_requerido = km_conducidos * consumo_por_km\n",
        "\n",
        "        if(self.litros_combustible<combustible_requerido):\n",
        "            print('Es necesario cagar nafta para recorrer la cantidad indicada')\n",
        "        else:\n",
        "            self.kilometros_recorridos+=km_conducidos\n",
        "            self.litros_combustible-=combustible_requerido\n",
        "\n",
        "    def cargar_nafta(self, litros_cargados):\n",
        "        self.litros_combustible+=litros_cargados\n",
        "\n",
        "\n",
        "auto = Automovil(\"AEF-202\", \"Peugeot\")\n",
        "auto.cargar_nafta(10)\n",
        "print(auto.kilometros_recorridos) # deberia mostrar 0\n",
        "print(auto.litros_combustible) # deberia mostrar 10\n",
        "auto.avanzar(50)\n",
        "print(auto.kilometros_recorridos) # deberia mostrar 50\n",
        "print(auto.litros_combustible) # deberia mostrar 5.6\n",
        "auto.avanzar(100) # Deberia mostrar un mensaje de error: no nos alcanza la nafta\n",
        "auto.avanzar(40)\n",
        "print(auto.kilometros_recorridos) # deberia mostrar 90\n",
        "print(auto.litros_combustible) # deberia mostrar 2.08"
      ]
    },
    {
      "cell_type": "markdown",
      "metadata": {
        "id": "pKEHPN34oqSw"
      },
      "source": [
        "**Ejercicio 4** Defina una clase Robot que simule los movimientos de un robot y calcule la posición en la que se encuentra cada momento. El robot se moverá por un tablero infinito de coordenadas X e Y, podrá realizar los siguientes movimientos:\n",
        "\n",
        "- Avanzar hacia adelante (A)\n",
        "- Retroceder (R)\n",
        "- Avanzar hacia la izquierda (I) o hacia la derecha (D)\n",
        "\n",
        "El robot tendrá un método llamado mueve() que recibirá la orden como parámetro y otro método, posicion_actual(), que indicará su posición en las coordenadas X e Y. Al crear el robot este se inicializará a las coordenadas (0,0).\n",
        "\n",
        "Puedes utilizar el siguiente código para probar la clase creada:\n",
        "```python\n",
        "mi_robot = Robot()\n",
        "orden = input(\"Introduce la orden: \")\n",
        "while orden != 'fin':\n",
        "    mi_robot.mueve(orden)\n",
        "    print(mi_robot.posicion_actual())\n",
        "    orden = input(\"Introduce la orden: \")\n",
        "\n",
        "```"
      ]
    },
    {
      "cell_type": "code",
      "execution_count": null,
      "metadata": {},
      "outputs": [],
      "source": [
        "class Robot():\n",
        "    def __init__(self):\n",
        "        self.posicion_x=0\n",
        "        self.posicion_y=0\n",
        "        self.historial=[]\n",
        "\n",
        "    def mueve(self, orden):\n",
        "        ordenes_validas=['A','R', 'I', 'D']\n",
        "        ordenes=list(orden)\n",
        "        while(ordenes is not None):\n",
        "            if(ordenes not in ordenes_validas):\n",
        "                print('Orden no valida')\n",
        "            if(orden =='A'):\n",
        "                self.posicion_y+=1\n",
        "                self.historial.append('A')\n",
        "            elif(orden =='R'):\n",
        "                self.posicion_y-=1\n",
        "                self.historial.append('R')\n",
        "            elif(orden =='I'):\n",
        "                self.posicion_y-=1\n",
        "                self.historial.append('I')\n",
        "            elif(orden =='D'):\n",
        "                self.posicion_y+=1\n",
        "                self.historial.append('D')\n",
        "\n",
        "    def como_volver(self):\n",
        "        movimientos_inversos = {\n",
        "            'A': 'R',\n",
        "            'R': 'A',\n",
        "            'I': 'D',\n",
        "            'D': 'I'\n",
        "        }\n",
        "        for orden in reversed(self.historial):\n",
        "            secuencia_inversa+=movimientos_inversos[orden]\n",
        "            self.historial.append(movimientos_inversos[orden])\n",
        "\n",
        "        return secuencia_inversa\n",
        "\n",
        "    def posicion_actual(self):\n",
        "        print(f'La posicion actual es: ({self.posicion_x} {self.posicion_y})')\n",
        "\n",
        "mi_robot = Robot()\n",
        "orden = input(\"Introduce la orden: \")\n",
        "while orden != 'fin':\n",
        "    mi_robot.mueve(orden)\n",
        "    print(mi_robot.posicion_actual())\n",
        "    orden = input(\"Introduce la orden: \")"
      ]
    },
    {
      "cell_type": "markdown",
      "metadata": {
        "id": "B449yaeKqeFX"
      },
      "source": [
        "**Ejercicio 5** Mejora el robot que acabamos de implementar:\n",
        "\n",
        "- Ahora `mover` puede recibir un solo movimiento, o bien, una secuencia de movimientos (por ejemplo, \"RRAARDDI\"). **Atención**: si la secuencia de movimientos contiene algun movimiento inválido, debe informarlo antes de realizar cualquier movimiento.\n",
        "\n",
        "- Agregar un método `obtener_historico_de_movimientos` que devuelva el historial de movimientos que realizo el robot.\n",
        "\n",
        "- Agregar un método `como_volver` que indique la secuencia de movimientos que deberiamos realizar para regresar a la coordenada (0,0)."
      ]
    },
    {
      "cell_type": "markdown",
      "metadata": {
        "id": "nKrNK6AXl_0w"
      },
      "source": [
        "# Composición y Herencia\n",
        "\n"
      ]
    },
    {
      "cell_type": "markdown",
      "metadata": {
        "id": "UU0HOHMdx3F7"
      },
      "source": [
        "**Ejercicio 6** Crear las clases Materia y Carrera.\n",
        "\n",
        "Cada materia tiene:\n",
        "- Un código de materia.\n",
        "- Un nombre de la materia.\n",
        "- Una cantidad de creditos que aporta.\n",
        "\n",
        "Una carrera puede pensarse como una lista de materias.\n",
        "\n",
        "La clase deberia comportarse de forma que el siguiente ejemplo tenga sentido:\n",
        "\n",
        "```python\n",
        ">>> analisis2 = Materia(\"61.03\", \"Análisis 2\", 8)\n",
        ">>> fisica2 = Materia(\"62.01\", \"Física 2\", 8)\n",
        ">>> algo1 = Materia(\"75.40\", \"Algoritmos 1\", 6)\n",
        ">>> c = Carrera([analisis2, fisica2, algo1])\n",
        ">>> str(c)\n",
        "Créditos: 0 -- Promedio: N/A -- Materias aprobadas:\n",
        ">>> c.aprobar(\"95.14\", 7)\n",
        "ValueError: La materia 95.14 no es parte del plan de estudios\n",
        ">>> c.aprobar(\"75.40\", 10)\n",
        ">>> c.aprobar(\"62.01\", 7)\n",
        ">>> str(c)\n",
        "Créditos: 14 -- Promedio: 8.5 -- Materias aprobadas:\n",
        "75.40 Algoritmos 1 (10)\n",
        "62.01 Física 2 (7)\n",
        "```\n"
      ]
    },
    {
      "cell_type": "code",
      "execution_count": 18,
      "metadata": {},
      "outputs": [
        {
          "name": "stdout",
          "output_type": "stream",
          "text": [
            "0\n"
          ]
        },
        {
          "ename": "TypeError",
          "evalue": "__str__ returned non-string (type NoneType)",
          "output_type": "error",
          "traceback": [
            "\u001b[0;31m---------------------------------------------------------------------------\u001b[0m",
            "\u001b[0;31mTypeError\u001b[0m                                 Traceback (most recent call last)",
            "Cell \u001b[0;32mIn[18], line 27\u001b[0m\n\u001b[1;32m     25\u001b[0m algo1 \u001b[38;5;241m=\u001b[39m Materia(\u001b[38;5;124m\"\u001b[39m\u001b[38;5;124m75.40\u001b[39m\u001b[38;5;124m\"\u001b[39m, \u001b[38;5;124m\"\u001b[39m\u001b[38;5;124mAlgoritmos 1\u001b[39m\u001b[38;5;124m\"\u001b[39m, \u001b[38;5;241m6\u001b[39m)\n\u001b[1;32m     26\u001b[0m c \u001b[38;5;241m=\u001b[39m Carrera([analisis2, fisica2, algo1])\n\u001b[0;32m---> 27\u001b[0m \u001b[38;5;28;43mstr\u001b[39;49m\u001b[43m(\u001b[49m\u001b[43mc\u001b[49m\u001b[43m)\u001b[49m\n\u001b[1;32m     28\u001b[0m \u001b[38;5;66;03m# Créditos: 0 -- Promedio: N/A -- Materias aprobadas:\u001b[39;00m\n\u001b[1;32m     29\u001b[0m c\u001b[38;5;241m.\u001b[39maprobar(\u001b[38;5;124m\"\u001b[39m\u001b[38;5;124m95.14\u001b[39m\u001b[38;5;124m\"\u001b[39m, \u001b[38;5;241m7\u001b[39m)\n",
            "\u001b[0;31mTypeError\u001b[0m: __str__ returned non-string (type NoneType)"
          ]
        }
      ],
      "source": [
        "class Materia():\n",
        "    def __init__(self, codigo, nombre, cantidad_creditos):\n",
        "        self.codigo=codigo\n",
        "        self.nombre=nombre\n",
        "        self.cantidad_creditos=cantidad_creditos\n",
        "\n",
        "class Carrera(Materia):\n",
        "    def __init__(self, materia: ['Materia']):\n",
        "        self.materia=[]\n",
        "        self.total_creditos=0\n",
        "\n",
        "    def aprobar(self, codigo_materia, creditos_a_sumar):\n",
        "        for i in self.materia:\n",
        "            if codigo_materia not in self.codigo:\n",
        "                return f'La materia {codigo_materia} no es parte del plan de estudios'\n",
        "            else:\n",
        "                self.total_creditos+=creditos_a_sumar\n",
        "                return self.total_creditos\n",
        "\n",
        "     def __str__(self):\n",
        "        aprobadas_str = \"\\n\".join([f\"{k} {v[0].nombre} ({v[1]})\" for k, v in self.aprobadas.items()])\n",
        "        return (\n",
        "            f\"Créditos: {self.total_creditos} -- Promedio: {self.promedio()} -- Materias aprobadas:\\n{aprobadas_str}\"\n",
        "        )\n",
        "\n",
        "analisis2 = Materia(\"61.03\", \"Análisis 2\", 8)\n",
        "fisica2 = Materia(\"62.01\", \"Física 2\", 8)\n",
        "algo1 = Materia(\"75.40\", \"Algoritmos 1\", 6)\n",
        "c = Carrera([analisis2, fisica2, algo1])\n",
        "str(c)\n",
        "# Créditos: 0 -- Promedio: N/A -- Materias aprobadas:\n",
        "c.aprobar(\"95.14\", 7)\n",
        "# ValueError: La materia 75.14 no es parte del plan de estudios\n",
        "c.aprobar(\"75.40\", 10)\n",
        "c.aprobar(\"62.01\", 7)\n",
        "str(c)\n",
        "# Créditos: 14 -- Promedio: 8.5 -- Materias aprobadas:\n",
        "\n",
        "#75.40 Algoritmos 1 (10)\n",
        "#62.01 Física 2 (7)"
      ]
    },
    {
      "cell_type": "markdown",
      "metadata": {
        "id": "-G4aoc0-5zIh"
      },
      "source": [
        "**Ejercicio 7** Encontrar los errores en el siguiente código y proponer soluciones"
      ]
    },
    {
      "cell_type": "code",
      "execution_count": null,
      "metadata": {
        "id": "XFUwcspj526y"
      },
      "outputs": [],
      "source": [
        "class Cosa:\n",
        "    def __init__(self, valor):\n",
        "        self.valor = valor\n",
        "\n",
        "class Coleccion:\n",
        "    def __init__(self):\n",
        "        self.coleccion = []\n",
        "\n",
        "    def agregar_cosa(cosa: Cosa):\n",
        "        coleccion.append(cosa)\n",
        "\n",
        "cosa = Cosa()\n",
        "coleccion = Coleccion()\n",
        "coleccion.agregar_cosa(cosa)"
      ]
    },
    {
      "cell_type": "markdown",
      "metadata": {
        "id": "l8GfGy9I2JlK"
      },
      "source": [
        "**Ejercicio 8** Considere la siguiente jerarquía de clases:\n",
        "\n",
        "\n",
        "```\n",
        "                          |--- Felinos\n",
        "Animales --- Mamiferos ---|--- Canidos\n",
        "                          |--- Primates --- Hacker\n",
        "```\n",
        "\n",
        "Programe un conjunto de seis clases que modele esta taxonomía utilizando clases. Luego, agregue un método `speak` a cada clase imprimiendo un mensaje apropiado a cada clase (por ejemplo, una instancia de animal podria imprimir \"Soy un animal\").\n",
        "\n",
        "Luego, agregue un método `talk` a la clase Animal, que simplemente delegue el funcionamiento en `speak`. ¿Que ocurre al llamar a `talk` en una sublacse? ¿Que ocurre si borramos el método `speak` de la clase `Hacker`?"
      ]
    },
    {
      "cell_type": "code",
      "execution_count": 26,
      "metadata": {},
      "outputs": [
        {
          "name": "stdout",
          "output_type": "stream",
          "text": [
            "Soy un animal\n",
            "Soy un mamífero\n",
            "Soy un Felinos\n",
            "Soy un Canidos\n",
            "Soy un Primates\n",
            "Soy un Hacker\n",
            "Soy un Primates\n"
          ]
        }
      ],
      "source": [
        "class Animales():\n",
        "    def speak(self):\n",
        "        print('Soy un animal')\n",
        "    def talk(self):\n",
        "        self.speak()\n",
        "\n",
        "class Mamiferos(Animales):\n",
        "    def speak(self):\n",
        "        print(\"Soy un mamífero\")\n",
        "\n",
        "class Primates(Mamiferos):\n",
        "    def speak(self):\n",
        "        print(\"Soy un Primates\")\n",
        "\n",
        "class Felinos(Mamiferos):\n",
        "    def speak(self):\n",
        "        print(\"Soy un Felinos\")\n",
        "\n",
        "class Canidos(Mamiferos):\n",
        "    def speak(self):\n",
        "        print(\"Soy un Canidos\")\n",
        "\n",
        "class Hacker(Primates):\n",
        "    def speak(self):\n",
        "        print(\"Soy un Hacker\")\n",
        "\n",
        "animal = Animales()\n",
        "mamifero = Mamiferos()\n",
        "felino = Felinos()\n",
        "canido = Canidos()\n",
        "primate = Primates()\n",
        "hacker = Hacker()\n",
        "\n",
        "# Llamar al método 'talk' en cada instancia\n",
        "animal.talk()  # Salida: Soy un animal\n",
        "mamifero.talk()  # Salida: Soy un mamífero\n",
        "felino.talk()  # Salida: Soy un felino\n",
        "canido.talk()  # Salida: Soy un cánido\n",
        "primate.talk()  # Salida: Soy un primate\n",
        "hacker.talk()  # Salida: Soy un hacker\n",
        "\n",
        "# Borrar el método 'speak' en Hacker\n",
        "del Hacker.speak\n",
        "\n",
        "# Llamar al método 'talk' en Hacker\n",
        "hacker.talk()  # Salida: Soy un primate"
      ]
    },
    {
      "cell_type": "markdown",
      "metadata": {
        "id": "cC6POVRl41zd"
      },
      "source": [
        "**Ejercicio 9** Complete la funcionalidad de la clase Jugador, implementando los siguientes métodos:\n",
        "\n",
        "- `golpeado`: quita vida al jugador.\n",
        "- `golpear`: quita vida al enemigo y lo agrega a la lista de enemigos golpeados\n"
      ]
    },
    {
      "cell_type": "code",
      "execution_count": null,
      "metadata": {
        "id": "eXrx51ol5knj"
      },
      "outputs": [],
      "source": [
        "class Entidad:\n",
        "    def __init__(self, vida_inicial: int):\n",
        "        self.vida = vida_inicial\n",
        "\n",
        "class Enemigo(Entidad):\n",
        "    pass\n",
        "\n",
        "class Jugador(Entidad):\n",
        "    def __init__(self, vida_inicial: int):\n",
        "        super().__init__(vida_inicial)\n",
        "        self.enemigos_golpeados = []\n",
        "\n",
        "    def golpeado(self, cuanto):\n",
        "        # Completar\n",
        "        pass\n",
        "\n",
        "    def golpear(self, enemigo, cuanto):\n",
        "        # completar!\n",
        "        pass"
      ]
    }
  ],
  "metadata": {
    "colab": {
      "provenance": [],
      "toc_visible": true
    },
    "kernelspec": {
      "display_name": "Python 3",
      "name": "python3"
    },
    "language_info": {
      "codemirror_mode": {
        "name": "ipython",
        "version": 3
      },
      "file_extension": ".py",
      "mimetype": "text/x-python",
      "name": "python",
      "nbconvert_exporter": "python",
      "pygments_lexer": "ipython3",
      "version": "3.10.12"
    }
  },
  "nbformat": 4,
  "nbformat_minor": 0
}
