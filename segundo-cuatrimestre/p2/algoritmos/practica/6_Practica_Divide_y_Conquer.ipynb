{
  "cells": [
    {
      "cell_type": "markdown",
      "metadata": {
        "id": "7u24cwGnQTGB"
      },
      "source": [
        "# Práctica 6: Estrategias de Algoritmos"
      ]
    },
    {
      "cell_type": "markdown",
      "metadata": {
        "id": "yZhlNVB22dag"
      },
      "source": [
        "# Divide & Conquer"
      ]
    },
    {
      "cell_type": "markdown",
      "metadata": {
        "id": "iI58WR_F2nvO"
      },
      "source": [
        "Para resolver esta práctica, considere la estructura de solución enseñada en la materia. Recordar que la estructura no siempre resolverá el problema tal cuál está presentada."
      ]
    },
    {
      "cell_type": "code",
      "execution_count": null,
      "metadata": {
        "id": "HKG-LMqd2nvP"
      },
      "outputs": [],
      "source": [
        "def es_caso_base(problema: \"Problema\") -> bool:\n",
        "  pass\n",
        "\n",
        "def resolver_caso_base(problema: \"Problema\") -> \"Solución\":\n",
        "  pass\n",
        "\n",
        "def dividir(problema: \"Problema\") -> \"(Problema, Problema)\":\n",
        "  pass\n",
        "\n",
        "def combinar(s1: \"Solución\", s2: \"Solución\") -> \"Solución\":\n",
        "  pass\n",
        "\n",
        "def resolver(problema: \"Problema\") -> \"Solución\":\n",
        "  pass"
      ]
    },
    {
      "cell_type": "markdown",
      "metadata": {
        "id": "rG_h_vvsYwQd"
      },
      "source": [
        "**Ejercicio 1** Implemente un algoritmo Divide y Vencerás que calcule la suma de los numeros en una lista"
      ]
    },
    {
      "cell_type": "code",
      "execution_count": 2,
      "metadata": {},
      "outputs": [
        {
          "data": {
            "text/plain": [
              "6"
            ]
          },
          "execution_count": 2,
          "metadata": {},
          "output_type": "execute_result"
        }
      ],
      "source": [
        "def es_caso_base(lista: list[int]) -> bool:\n",
        "    return len(lista) <= 1\n",
        "\n",
        "def resolver_caso_base(lista:list[int]):\n",
        "    if len(lista) == 0:\n",
        "        return 0\n",
        "    else:\n",
        "        return lista[0]\n",
        "\n",
        "def dividir(lista)->list[int]:\n",
        "    mitad = len(lista) // 2\n",
        "    return lista[:mitad], lista[mitad:]\n",
        "\n",
        "def combinar(s1, s2)->int:\n",
        "    return s1+s2\n",
        "\n",
        "def resolver(lista):\n",
        "    if es_caso_base(lista):\n",
        "        return resolver_caso_base(lista)\n",
        "\n",
        "    subproblema1, subproblema2 = dividir(lista)\n",
        "    solucion1=resolver(subproblema1)\n",
        "    solucion2=resolver(subproblema2)\n",
        "\n",
        "    return combinar(solucion1,solucion2)\n",
        "\n",
        "l=[1,2,3]\n",
        "resolver(l)"
      ]
    },
    {
      "cell_type": "markdown",
      "metadata": {
        "id": "A0m0PrNLFaCd"
      },
      "source": [
        "**Ejercicio 2**  Implemente un algoritmo Divide y Vencerás que determine si un número $n$ (fijo) se encuentra o no en una lista NO ordenada de números."
      ]
    },
    {
      "cell_type": "code",
      "execution_count": 1,
      "metadata": {},
      "outputs": [
        {
          "name": "stdout",
          "output_type": "stream",
          "text": [
            "True\n",
            "False\n"
          ]
        }
      ],
      "source": [
        "def es_caso_base(lista: list[int]) -> bool:\n",
        "    return len(lista) <= 1\n",
        "\n",
        "def resolver_caso_base(num, lista:list[int]):\n",
        "    if len(lista)==0:\n",
        "        return 'No pertenece'\n",
        "    else:\n",
        "        return lista[0] == num\n",
        "\n",
        "def dividir(lista)->list[int]:\n",
        "    mitad = len(lista) // 2\n",
        "    return lista[:mitad], lista[mitad:]\n",
        "\n",
        "def combinar(s1, s2)->int:\n",
        "    return s1 or s2\n",
        "\n",
        "def resolver(lista, num):\n",
        "    if es_caso_base(lista):\n",
        "        return resolver_caso_base(num,lista)\n",
        "\n",
        "    subproblema1, subproblema2 = dividir(lista)\n",
        "    solucion1=resolver(subproblema1,num)\n",
        "    solucion2=resolver(subproblema2,num)\n",
        "\n",
        "    return combinar(solucion1,solucion2)\n",
        "\n",
        "\n",
        "num=6\n",
        "l=[1,4,42,3,5,6,4,3,32,4,4]\n",
        "print(resolver(l,num))\n",
        "\n",
        "num2=2\n",
        "print(resolver(l,num2))"
      ]
    },
    {
      "cell_type": "markdown",
      "metadata": {
        "id": "KmNNPhdIbhcr"
      },
      "source": [
        "**Ejercicio 3** Dada una lista de números, proponga algoritmos Divide & Conquer para:\n",
        "\n",
        "a. Encontrar el menor elemento de la lista\n",
        "\n",
        "b. Encontrar el mayor elemento de la lista\n",
        "\n",
        "c. Encontrar el menor y el mayor elemento de la lista"
      ]
    },
    {
      "cell_type": "markdown",
      "metadata": {},
      "source": [
        "a. Menor elemento de la lista"
      ]
    },
    {
      "cell_type": "code",
      "execution_count": 20,
      "metadata": {},
      "outputs": [
        {
          "name": "stdout",
          "output_type": "stream",
          "text": [
            "1\n"
          ]
        }
      ],
      "source": [
        "def es_caso_base(problema: list[int]) -> bool:\n",
        "  return len(problema) <= 1\n",
        "\n",
        "def resolver_caso_base(problema: list[int]) -> int:\n",
        "  if len(problema)==0:\n",
        "    return 'No pertenece'\n",
        "  else:\n",
        "    return problema[0]\n",
        "\n",
        "\n",
        "def dividir(problema: list[int]):\n",
        "  mitad = len(problema) // 2\n",
        "  return problema[:mitad],problema[mitad:]\n",
        "\n",
        "def combinar(s1: int, s2: int) -> int:\n",
        "  return min(s1, s2)\n",
        "\n",
        "def resolver(problema):\n",
        "  if es_caso_base(problema):\n",
        "    return resolver_caso_base(problema)\n",
        "\n",
        "  subproblema1, subproblema2 = dividir(problema)\n",
        "  solucion1=resolver(subproblema1)\n",
        "  solucion2=resolver(subproblema2)\n",
        "\n",
        "  return combinar(solucion1,solucion2)\n",
        "\n",
        "\n",
        "l=[1,4,42,3,5,6,4,3,32,4,4]\n",
        "print(resolver(l))\n"
      ]
    },
    {
      "cell_type": "markdown",
      "metadata": {},
      "source": [
        "b. encontrar el mayor elemento de la lista"
      ]
    },
    {
      "cell_type": "code",
      "execution_count": 22,
      "metadata": {},
      "outputs": [
        {
          "name": "stdout",
          "output_type": "stream",
          "text": [
            "42\n"
          ]
        }
      ],
      "source": [
        "def es_caso_base(problema) -> bool:\n",
        "  return len(problema)<=1\n",
        "\n",
        "def resolver_caso_base(problema) :\n",
        "  if len(problema)==0:\n",
        "    return 'no mostro la cagaste'\n",
        "  else:\n",
        "    return problema[0]\n",
        "\n",
        "def dividir(problema):\n",
        "  mitad=len(problema) // 2\n",
        "  return problema[:mitad], problema[mitad:]\n",
        "def combinar(s1, s2):\n",
        "  return max(s1,s2)\n",
        "\n",
        "def resolver(problema):\n",
        "  if es_caso_base(problema):\n",
        "    return resolver_caso_base(problema)\n",
        "\n",
        "  subproblema1,subproblema2=dividir(problema)\n",
        "  solucion1=resolver(subproblema1)\n",
        "  solucion2=resolver(subproblema2)\n",
        "  return combinar(solucion1,solucion2)\n",
        "\n",
        "l=[1,4,42,3,5,6,4,3,32,4,4]\n",
        "print(resolver(l))\n"
      ]
    },
    {
      "cell_type": "markdown",
      "metadata": {},
      "source": [
        "c. encontrar el menor y el mayor elemento de la lista"
      ]
    },
    {
      "cell_type": "code",
      "execution_count": 7,
      "metadata": {},
      "outputs": [
        {
          "name": "stdout",
          "output_type": "stream",
          "text": [
            "(1, 6)\n"
          ]
        }
      ],
      "source": [
        "def es_caso_base(problema) -> bool:\n",
        "  return len(problema) <= 1\n",
        "\n",
        "def resolver_caso_base(problema):\n",
        "  if len(problema) == 0:\n",
        "    return 'Estas en problemas manito'\n",
        "  else:\n",
        "    return (problema[0], problema[0])\n",
        "\n",
        "def dividir(problema):\n",
        "  mitad = len(problema)//2\n",
        "  return problema[:mitad], problema[mitad:]\n",
        "\n",
        "def combinar(s1, s2):\n",
        "    min1, max1 = s1\n",
        "    min2, max2 = s2\n",
        "    return min(min1, min2), max(max1, max2)\n",
        "\n",
        "def resolver(problema) :\n",
        "  if es_caso_base(problema):\n",
        "    return resolver_caso_base(problema)\n",
        "\n",
        "  subproblema1,subproblema2=dividir(problema)\n",
        "  minimo1, maximo1 = resolver(subproblema1)\n",
        "  minimo2, maximo2 = resolver(subproblema2)\n",
        "  return combinar((minimo1, maximo1), (minimo2, maximo2))\n",
        "\n",
        "lista=[1,2,3,4,5,6]\n",
        "print(resolver(lista))"
      ]
    },
    {
      "cell_type": "markdown",
      "metadata": {
        "id": "gkfJS7c9dQPf"
      },
      "source": [
        "**Ejercicio 4** Escriba un algoritmo Divide & Conquer para calcular la potencia $b^n$ calculando potencias menores en cada paso. Puede suponer que $n$ es un numero positivo"
      ]
    },
    {
      "cell_type": "markdown",
      "metadata": {
        "id": "n1dkqUSoexoa"
      },
      "source": [
        "**Ejercicio 5** De un algoritmo Divide & Conquer para encontrar el número más grande de una lista, y el segundo mas grande. Puede suponer que la lista siempre tiene al menos dos numeros y que los numeros son todos distintos entre si."
      ]
    },
    {
      "cell_type": "markdown",
      "metadata": {
        "id": "IZo4JZJ25gUI"
      },
      "source": [
        "**Ejercicio 6**: Ordenamiento\n",
        "\n",
        "Ordene una lista usando divide y vencerás, para esto preste atención cómo combina dos listas ordenadas para producir una nueva lista ordenada. No utilice ningún método de ordenamiento _builtin_"
      ]
    },
    {
      "cell_type": "markdown",
      "metadata": {
        "id": "SHnfidWe8Ykb"
      },
      "source": [
        "**Ejercicio 7**: Sublista de suma máxima\n",
        "\n",
        "Dada una lista de números, el problema de encontrar la sublista consiste encontrar una sublista contigua de forma tal que la suma de sus elementos sea la maxima posible.\n",
        "\n",
        "Por ejemplo, para la lista [−2, 1, −3, 4, −1, 2, 1, −5, 4], la sublista de suma máxima es: [4, −1, 2, 1], que suma 6. Puede intentar convencerse de esto tomando otras posibles sublistas y notando que la suma siempre es menor o igual.\n",
        "\n",
        "Formalmente, dada una lista $L$ de números enteros, el problema trata sobre encontrar índices $i, j$ con $0 \\le i \\le j \\le n$ de forma tal que la suma\n",
        "\n",
        "$$\n",
        "\\sum_{x=i}^j L[x]\n",
        "$$\n",
        "\n",
        "sea lo mas grande posible.\n",
        "\n",
        "El algoritmo trivial para resolver este problema consiste en recorrer todos los posibles índices $i, j$, calcular la suma correspondiente en cada caso y elegir la máxima. Este algoritmo tiene complejidad temporal cúbica ( $O(n^3)$ ), es decir la cantidad de sumas que hay que resolver crece como una función cúbica del tamaño de la lista de entrada.\n",
        "\n",
        "Sin embargo, utilizando Divide y Vencerás puede resolver este problema con complejidad temporal O(n log(n)) (llamada complejidad subcuadratica).  \n",
        "\n",
        "Para poder lograrlo, necesitará en cada paso, más información que solo la solución final. La llamada recursiva debe devolver, si representamos una sublista como $L[i:j]$:\n",
        "- La suma máxima $L[i:j]$ (la \"solución final\").\n",
        "- La suma total $L[0:n]$\n",
        "- La suma máxima por izquierda $L[0:j']$\n",
        "- La suma máxima por derecha $L[i':n]$\n",
        "\n",
        "\n",
        "Implemente la solución divide y vencerás siguiendo estas ideas."
      ]
    },
    {
      "cell_type": "markdown",
      "metadata": {
        "id": "uVIM7PH3O9eG"
      },
      "source": [
        "**Ejercicio 8** Escriba un algoritmo Divide y Vencerás que tome como entrada una matriz de números (representada en Python como una lista de listas), y un número $n$ y determine cuantas veces aparece el número $n$ en la matriz."
      ]
    }
  ],
  "metadata": {
    "colab": {
      "provenance": []
    },
    "kernelspec": {
      "display_name": "Python 3",
      "name": "python3"
    },
    "language_info": {
      "codemirror_mode": {
        "name": "ipython",
        "version": 3
      },
      "file_extension": ".py",
      "mimetype": "text/x-python",
      "name": "python",
      "nbconvert_exporter": "python",
      "pygments_lexer": "ipython3",
      "version": "3.12.3"
    }
  },
  "nbformat": 4,
  "nbformat_minor": 0
}
