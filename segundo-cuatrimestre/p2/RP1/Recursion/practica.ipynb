{
  "cells": [
    {
      "cell_type": "markdown",
      "metadata": {
        "id": "6rxdohV00iKL"
      },
      "source": [
        "# Practica Recursion"
      ]
    },
    {
      "cell_type": "markdown",
      "metadata": {
        "id": "bqQ5hKbTE5xz"
      },
      "source": [
        "**Ejercicio 1**\n",
        "\n",
        "1. Escriba una función recursiva `repite_hola` que reciba como parámetro un número entero $n$ y escriba por pantalla el mensaje \"Hola\" $n$ veces. Invoquela con distintos valores de $n$.\n",
        "\n",
        "2. Escriba otra función `repite_hola` que reciba como parámetro un número entero $n$ y devuelva la cadena formada por $n$ concatenaciones de \"Hola\". Invoquela con distintos valores de $n$"
      ]
    },
    {
      "cell_type": "code",
      "execution_count": 13,
      "metadata": {},
      "outputs": [
        {
          "name": "stdout",
          "output_type": "stream",
          "text": [
            "hola\n",
            "hola\n",
            "hola\n",
            "hola\n",
            "hola\n"
          ]
        }
      ],
      "source": [
        "def repite_palabra(n:int)->str:\n",
        "    if n == 0:\n",
        "        return ''\n",
        "    print('hola')\n",
        "    repite_palabra(n-1)\n",
        "\n",
        "repite_palabra(5)"
      ]
    },
    {
      "cell_type": "code",
      "execution_count": 2,
      "metadata": {},
      "outputs": [
        {
          "data": {
            "text/plain": [
              "'holaholaholaholahola'"
            ]
          },
          "execution_count": 2,
          "metadata": {},
          "output_type": "execute_result"
        }
      ],
      "source": [
        "def concatena_palabra(n:int)->str:\n",
        "    if n == 0:\n",
        "        return ''\n",
        "    return 'hola' + ' ' + concatena_palabra(n-1)\n",
        "\n",
        "concatena_palabra(5)"
      ]
    },
    {
      "cell_type": "markdown",
      "metadata": {
        "id": "v6UoSVfAFaZG"
      },
      "source": [
        "**Ejercicio 2**\n",
        "\n",
        "1. Escriba una función `repite_saludo` que reciba como parámetro un número entero $n$ y una cadena saludo y escriba por pantalla el valor de saludo $n$ veces. Invoquela con distintos valores de $n$ y de saludo.\n",
        "\n",
        "2. Escriba otra función `repite_saludo` que reciba como parámetro un número entero $n$ y una cadena saludo devuelva el valor de $n$ concatenaciones de saludo. Invoquela con distintos valores de $n$ y de saludo."
      ]
    },
    {
      "cell_type": "code",
      "execution_count": 10,
      "metadata": {},
      "outputs": [
        {
          "name": "stdout",
          "output_type": "stream",
          "text": [
            "hola\n",
            "hola\n",
            "hola\n",
            "hola\n",
            "hola\n"
          ]
        },
        {
          "data": {
            "text/plain": [
              "'hola hola hola hola hola '"
            ]
          },
          "execution_count": 10,
          "metadata": {},
          "output_type": "execute_result"
        }
      ],
      "source": [
        "def repite_palabra(palabra:str, n:int)->str:\n",
        "    if n == 0:\n",
        "        return ''\n",
        "    print(palabra)\n",
        "    repite_palabra(palabra, n-1)\n",
        "\n",
        "repite_palabra('hola', 5)\n",
        "\n",
        "def concatena_palabra(palabra:str, n:int)->str:\n",
        "    if n == 0:\n",
        "        return ''\n",
        "    return palabra + ' ' + concatena_palabra(palabra, n-1)\n",
        "\n",
        "concatena_palabra('hola', 5)"
      ]
    },
    {
      "cell_type": "markdown",
      "metadata": {
        "id": "Nk9iHhz1ic64"
      },
      "source": [
        "**Ejercicio 3**\n",
        "\n",
        "1. Piense cuál sería el resultado de la expresión `misterio(5)` y luego compruebe su hipótesis ejecutándola.\n",
        "\n",
        "2. Explique con sus palabras qué hace `misterio(a)` para cualquier `a`, sea positivo, negativo o 0."
      ]
    },
    {
      "cell_type": "code",
      "execution_count": 16,
      "metadata": {
        "id": "jXGjJWpAioG4"
      },
      "outputs": [
        {
          "data": {
            "text/plain": [
              "5"
            ]
          },
          "execution_count": 16,
          "metadata": {},
          "output_type": "execute_result"
        }
      ],
      "source": [
        "def misterio(a: int) -> int:\n",
        "  if a == 0:\n",
        "    return a\n",
        "\n",
        "  return 1 + misterio(a - 1)\n",
        "# El resultado va a ser a porque suma los 1 y solo retorna a cuando es igual a cero,\n",
        "# por ende va a devolver 5, si es igual a 0 va a devolver 0 ya que no entra en la recursion\n",
        "# y si es negativo va a dar un bucle infinito ya que nunca va a ser = 0 por ende nunca llega la caso recursivo\n",
        "misterio(5)"
      ]
    },
    {
      "cell_type": "markdown",
      "metadata": {
        "id": "A0v_wx5AsPsx"
      },
      "source": [
        "**Ejercicio 4**\n",
        "\n",
        "Considere la siguiente función recursiva:\n",
        "\n",
        "```python\n",
        "def f(n: int, d: int) -> None:\n",
        "  if n > 1:\n",
        "    if n % d == 0:\n",
        "      print(d)\n",
        "      f(n//d, d)\n",
        "    else:\n",
        "      f(n, d+1)\n",
        "```\n",
        "\n",
        "1. ¿Que muestra por pantalla la llamada `f(30, 2)`? Intente deducirlo sin ejecutar el código.\n",
        "2. A nivel general, ¿que muestra por pantalla la mmada `f(x, 2)` para un `x` cualquiera?\n",
        "3. Implemente una función iterativa equivalente."
      ]
    },
    {
      "cell_type": "code",
      "execution_count": 22,
      "metadata": {},
      "outputs": [
        {
          "name": "stdout",
          "output_type": "stream",
          "text": [
            "recursiva\n",
            "2\n",
            "3\n",
            "5\n",
            "iterativa\n",
            "2\n",
            "3\n",
            "5\n"
          ]
        }
      ],
      "source": [
        "'''\n",
        "a-\n",
        "30 2\n",
        "print 2\n",
        "15 2\n",
        "15 3\n",
        "print 3\n",
        "5 3\n",
        "5 4\n",
        "5 5\n",
        "print 5\n",
        "\n",
        "b-\n",
        "va a mostrar todos los valores d que n%d==0\n",
        "\n",
        "'''\n",
        "print('recursiva')\n",
        "def f(n: int, d: int) -> None:\n",
        "  if n > 1:\n",
        "    if n % d == 0:\n",
        "      print(d)\n",
        "      f(n//d, d)\n",
        "    else:\n",
        "      f(n, d+1)\n",
        "f(30,2)\n",
        "\n",
        "print('iterativa')\n",
        "def f_iterativa(n:int,d:int)->None:\n",
        "    while(n>1):\n",
        "        if n%d==0:\n",
        "            print(d)\n",
        "            n=n//d\n",
        "        else:\n",
        "            d+=1\n",
        "\n",
        "f_iterativa(30,2)"
      ]
    },
    {
      "cell_type": "markdown",
      "metadata": {
        "id": "nyPQsQ4AuG7p"
      },
      "source": [
        "**Ejercicio 5**\n",
        "Considere la siguiente función recursiva:\n",
        "\n",
        "```python\n",
        "def mystery ( a: int, b: int ) -> int:\n",
        "  if ( b == 0) : return a\n",
        "  return mystery (2* a , b -1)\n",
        "\n",
        "result = mystery (7 , 3)\n",
        "print ( result )\n",
        "```\n",
        "\n",
        "1. ¿Que muestra por pantalla este código? Intente deducirlo sin ejecutar el código.\n",
        "2. ¿Cuantas veces se llama recursivamente mystery en este código?\n",
        "3. A nivel general, ¿que muestra por pantalla la llamada `f(x, 3)` para un x cualquiera? ¿que muestra por pantalla la llamada `f(x, y)` para x, y cualesquiera?"
      ]
    },
    {
      "cell_type": "code",
      "execution_count": 46,
      "metadata": {},
      "outputs": [
        {
          "name": "stdout",
          "output_type": "stream",
          "text": [
            "224\n"
          ]
        }
      ],
      "source": [
        "# El codigo va a mostrar b veces el doble de a, ya que lo unico que retorna es a y lo retorna cuando b es == , se llama recursivamente b+1 veces\n",
        "# Para f(x,3) va a mostrar 3 veces el doble del valor de x\n",
        "def mystery ( a: int, b: int ) -> int:\n",
        "  if ( b == 0) : return a\n",
        "  return mystery (2* a , b -1)\n",
        "\n",
        "result = mystery (7 , 5)\n",
        "print ( result )"
      ]
    },
    {
      "cell_type": "markdown",
      "metadata": {
        "id": "MgICSXQXEZz5"
      },
      "source": [
        "**Ejercicio 6**\n",
        "\n",
        "Escriba una funcion recursiva que tome un numero natural n e imprima todos los numeros desde n hasta 1."
      ]
    },
    {
      "cell_type": "code",
      "execution_count": 50,
      "metadata": {},
      "outputs": [
        {
          "name": "stdout",
          "output_type": "stream",
          "text": [
            "5\n",
            "4\n",
            "3\n",
            "2\n",
            "1\n"
          ]
        }
      ],
      "source": [
        "def recursive(n:int)-> int:\n",
        "    if n < 1:\n",
        "        return\n",
        "    print(n)\n",
        "    return recursive(n-1)\n",
        "\n",
        "recursive(5)"
      ]
    },
    {
      "cell_type": "markdown",
      "metadata": {
        "id": "Z7TjLxx3jaAM"
      },
      "source": [
        "**Ejercicio 7**\n",
        "\n",
        "Convierta la siguiente función recursiva a una iterativa."
      ]
    },
    {
      "cell_type": "code",
      "execution_count": 43,
      "metadata": {
        "id": "nRIkRomhj-kv"
      },
      "outputs": [
        {
          "name": "stdout",
          "output_type": "stream",
          "text": [
            "recursiva 21\n",
            "iterativa 21\n"
          ]
        }
      ],
      "source": [
        "def recursiva(t: int, k: int) -> int:\n",
        "  if t >= 100:\n",
        "    return k\n",
        "  else:\n",
        "    return recursiva(t + k, k + 1)\n",
        "print('recursiva',recursiva(10,15))\n",
        "\n",
        "def iterativa(t: int, k:int) -> int:\n",
        "  while t<=100:\n",
        "    t+=k\n",
        "    k+=1\n",
        "  return k\n",
        "\n",
        "print('iterativa', iterativa(10,15))"
      ]
    },
    {
      "cell_type": "markdown",
      "metadata": {
        "id": "S_zEBM1d4wfm"
      },
      "source": [
        "**Ejercicio 8**\n",
        "\n",
        "Escribir una función recursiva que calcule recursivamente el n-ésimo número triangular (el número 1 + 2 + 3 + ⋯ + n)."
      ]
    },
    {
      "cell_type": "code",
      "execution_count": 60,
      "metadata": {},
      "outputs": [
        {
          "data": {
            "text/plain": [
              "15"
            ]
          },
          "execution_count": 60,
          "metadata": {},
          "output_type": "execute_result"
        }
      ],
      "source": [
        "def recursiva_n_esimo(n:int)->int:\n",
        "    if n == 0:\n",
        "        return 0\n",
        "    return n + recursiva_n_esimo(n-1)\n",
        "\n",
        "recursiva_n_esimo(5)"
      ]
    },
    {
      "cell_type": "markdown",
      "metadata": {
        "id": "NcFbTBst0k9h"
      },
      "source": [
        "**Ejercicio 9**\n",
        "\n",
        "Escribir una función recursiva que reciba un número positivo n y devuelva la cantidad de dígitos que tiene."
      ]
    },
    {
      "cell_type": "code",
      "execution_count": 79,
      "metadata": {},
      "outputs": [
        {
          "data": {
            "text/plain": [
              "5"
            ]
          },
          "execution_count": 79,
          "metadata": {},
          "output_type": "execute_result"
        }
      ],
      "source": [
        "def cuenta_digitos(n:int)->int:\n",
        "    if n == 0:\n",
        "        return 0\n",
        "    return 1 + cuenta_digitos(n//10)\n",
        "\n",
        "cuenta_digitos(10000)"
      ]
    },
    {
      "cell_type": "markdown",
      "metadata": {
        "id": "iwkC8qNp1MLv"
      },
      "source": [
        "**Ejercicio 10** Escribir una función recursiva que reciba 2 enteros n y b y devuelva True si n es potencia de b.\n",
        "\n",
        "**Ejemplos**:\n",
        "- es_potencia(8, 2) -> True\n",
        "- es_potencia(64, 4) -> True\n",
        "- es_potencia(70, 10) -> False"
      ]
    },
    {
      "cell_type": "code",
      "execution_count": 91,
      "metadata": {},
      "outputs": [
        {
          "name": "stdout",
          "output_type": "stream",
          "text": [
            "True\n",
            "True\n",
            "False\n"
          ]
        }
      ],
      "source": [
        "def es_potencia(num:int,pot:int)->bool:\n",
        "    if num <= 1:\n",
        "        if num == 1:\n",
        "            return True\n",
        "        else: return False\n",
        "    return es_potencia(num/pot, pot)\n",
        "\n",
        "print(es_potencia(8,2))\n",
        "print(es_potencia(64,4))\n",
        "print(es_potencia(70,10))\n"
      ]
    },
    {
      "cell_type": "markdown",
      "metadata": {
        "id": "BJqWGGBSv3_n"
      },
      "source": [
        "## Recursión con listas"
      ]
    },
    {
      "cell_type": "markdown",
      "metadata": {
        "id": "LnoHH96w5Boy"
      },
      "source": [
        "**Ejercicio 11** Escribir una funcion recursiva que encuentre el mayor elemento de una lista."
      ]
    },
    {
      "cell_type": "code",
      "execution_count": 104,
      "metadata": {},
      "outputs": [
        {
          "data": {
            "text/plain": [
              "5"
            ]
          },
          "execution_count": 104,
          "metadata": {},
          "output_type": "execute_result"
        }
      ],
      "source": [
        "def mayor_valor(l:list[int])->int:\n",
        "    if len(l)==1:\n",
        "        return l[0]\n",
        "    return max(l[0], mayor_valor(l[1:]))\n",
        "mayor_valor([1,5,2,4])\n"
      ]
    },
    {
      "cell_type": "markdown",
      "metadata": {
        "id": "GqKV9CUUlPMJ"
      },
      "source": [
        "**Ejercicio 12**\n",
        "\n",
        "Convierta la siguiente función iterativa a una recursiva."
      ]
    },
    {
      "cell_type": "code",
      "execution_count": 109,
      "metadata": {
        "id": "NYXBEtDdmBvl"
      },
      "outputs": [
        {
          "name": "stdout",
          "output_type": "stream",
          "text": [
            "6\n",
            "6\n"
          ]
        }
      ],
      "source": [
        "def iterativa(l: list[int]) -> int:\n",
        "  c = 1\n",
        "  for i in l:\n",
        "    c = c * i\n",
        "  return c\n",
        "\n",
        "print(iterativa([1,2,3]))\n",
        "def recursiva(l:list[int])->int:\n",
        "  if len(l)==1:\n",
        "    return l[0]\n",
        "\n",
        "  return l[0]*recursiva(l[1:])\n",
        "\n",
        "print(recursiva([1,2,3]))"
      ]
    },
    {
      "cell_type": "markdown",
      "metadata": {
        "id": "3Xgvx8UH5oIZ"
      },
      "source": [
        "**Ejercicio 13** Escribir una función recursiva para replicar los elementos de una lista una cantidad n de veces. Por ejemplo:\n",
        "- replicar([1, 3, 3, 7], 2) -> ([1, 1, 3, 3, 3, 3, 7, 7])"
      ]
    },
    {
      "cell_type": "code",
      "execution_count": 147,
      "metadata": {},
      "outputs": [
        {
          "data": {
            "text/plain": [
              "[1, 1, 1, 2, 2, 2, 3, 3, 3]"
            ]
          },
          "execution_count": 147,
          "metadata": {},
          "output_type": "execute_result"
        }
      ],
      "source": [
        "def replicar(l:list[int], n:int)->list:\n",
        "    if len(l) == 0:\n",
        "        return []\n",
        "\n",
        "    return [l[0]]*n + replicar(l[1:],n)\n",
        "\n",
        "replicar([1,2,3],3)"
      ]
    },
    {
      "cell_type": "markdown",
      "metadata": {
        "id": "9mXgr_gQRWiH"
      },
      "source": [
        "**Ejercicio 14** Escriba una funcion que tome una lista y devuelva esa misma lista en orden inverso. Realice dos versiones:\n",
        "\n",
        "* `reversaR` que resuelva utilizando recursión.\n",
        "* `reversaI` que resuelva utilizando iteración.\n",
        "\n",
        "**Nota**: No utilice la función *built-in* `reversed` en su solución, ni el método `reversed`."
      ]
    },
    {
      "cell_type": "code",
      "execution_count": 158,
      "metadata": {},
      "outputs": [
        {
          "data": {
            "text/plain": [
              "[3, 2, 1]"
            ]
          },
          "execution_count": 158,
          "metadata": {},
          "output_type": "execute_result"
        }
      ],
      "source": [
        "def reversaR(l:list[int])->list:\n",
        "    if len(l) == 0:\n",
        "        return []\n",
        "    return [l[-1]] + reversaR(l[:-1])\n",
        "\n",
        "reversaR([1,2,3])"
      ]
    },
    {
      "cell_type": "markdown",
      "metadata": {
        "id": "XDBqSNZnwuv9"
      },
      "source": [
        "## Recursión con strings"
      ]
    },
    {
      "cell_type": "markdown",
      "metadata": {
        "id": "R_MVS9FV2p2_"
      },
      "source": [
        "**Ejercicio 15** Escribir una funcion recursiva que reciba como parámetros dos cadenas a y b, y encuentre la posicion de la primer ocurrencia de b como subcadena de a\n",
        "\n",
        "**Ejemplo**:\n",
        "- posicion_de(\"Un tete a tete con Tete\", \"te\") -> 3\n",
        "- posicion_de(\"Un tete a tete con Tete\", \"Te\") -> 19\n",
        "\n",
        "**Ayuda**\n",
        "- Puede ser de utilidad el método de `str.startswith` que nos dice si una cadena empieza con una subcadena dada. Puede leer mas sobre este método en la [documentacion oficial](https://docs.python.org/3/library/stdtypes.html?highlight=startswith#str.startswith)"
      ]
    },
    {
      "cell_type": "code",
      "execution_count": 5,
      "metadata": {},
      "outputs": [
        {
          "name": "stdout",
          "output_type": "stream",
          "text": [
            "3\n",
            "19\n"
          ]
        }
      ],
      "source": [
        "def posicion_de(a: str, b: str, index: int = 0) -> int:\n",
        "    if len(a) < len(b):\n",
        "        return -1\n",
        "\n",
        "    if a.startswith(b):\n",
        "        return index\n",
        "\n",
        "    return posicion_de(a[1:], b, index + 1)\n",
        "\n",
        "print(posicion_de(\"Un tete a tete con Tete\", \"te\"))\n",
        "print(posicion_de(\"Un tete a tete con Tete\", \"Te\"))\n"
      ]
    },
    {
      "cell_type": "markdown",
      "metadata": {
        "id": "zaR3YsHi7SaA"
      },
      "source": [
        "## Recursión con wrappers\n",
        "\n",
        "Al diseñar funciones recursivas muchas veces puede ser útil implementar una función **wrapper**, por ejemplo para cambiar los valores que hay que tomar, validar parámetros, inicializar datos o manejar excepciones.\n",
        "\n",
        "Se utiliza una función recursiva, llamada funcion auxiliar, como base y luego una funcion no recursiva, llamada wrapper, que utiliza la funcion auxiliar para resolver lo pedido.\n",
        "\n",
        "Por ejemplo, si necesitamos escribir una función recursiva para calcular el promedio, puede no ser evidente como hacerlo:\n",
        "\n",
        "```python\n",
        "def promediar(lista: list[float]) -> float:\n",
        "  if len(lista) == 0:\n",
        "    return ???\n",
        "  promediar(lista[1:]) ???\n",
        "```\n",
        "\n",
        "Para calcular un promedio necesitamos computar tanto una suma como contar la cantidad de elementos. Podemos hacerlo con una función auxiliar\n",
        "\n",
        "```python\n",
        "def _promediar(lista: list[float]) -> int, float:\n",
        "  if len(lista) == 0:\n",
        "    return 0, 0\n",
        "  cant, suma = promediar(lista[1:])\n",
        "  return cant +1, suma + lista[0]\n",
        "\n",
        "def promediar(lista: list[float]) -> float:\n",
        "  cant, suma = _promediar(lista)\n",
        "  return suma / cant\n",
        "```"
      ]
    },
    {
      "cell_type": "markdown",
      "metadata": {
        "id": "--lq2ot56HOe"
      },
      "source": [
        "**Ejercicio 16** Escribir una funcion recursiva que dada una cadena determine si en la misma hay más letras A o letras E. Utilizar una funcion auxiliar."
      ]
    },
    {
      "cell_type": "markdown",
      "metadata": {
        "id": "3dx3RMhe_ZTc"
      },
      "source": [
        "**Ejercicio 17** Escriba una función `potencia(b,n) que calcule la potencia para cualquier n entero, incluso si n es negativa. Utilizar una funcion auxiliar."
      ]
    },
    {
      "cell_type": "markdown",
      "metadata": {
        "id": "XD295CPgAQ0D"
      },
      "source": [
        "**Ejercicio 18** Ya sabemos que la implementación recursiva del cálculo del número de Fibonacci (Fn = Fn−1 + Fn−2, F0 = 0, F1 = 1) es ineficiente porque muchas de las ramas calculan reiteradamente los mismos valores.\n",
        "\n",
        "Escribir una función fibonacci(n) que calcule el enésimo número de Fibonacci de forma recursiva pero que utilice un diccionario para almacenar los valores ya computados y no computarlos más de una vez.\n",
        "\n",
        "**Nota**: Será necesario implementar una función wrapper para cumplir con la firma de la función pedida."
      ]
    }
  ],
  "metadata": {
    "colab": {
      "provenance": []
    },
    "kernelspec": {
      "display_name": "Python 3",
      "name": "python3"
    },
    "language_info": {
      "codemirror_mode": {
        "name": "ipython",
        "version": 3
      },
      "file_extension": ".py",
      "mimetype": "text/x-python",
      "name": "python",
      "nbconvert_exporter": "python",
      "pygments_lexer": "ipython3",
      "version": "3.10.12"
    }
  },
  "nbformat": 4,
  "nbformat_minor": 0
}
