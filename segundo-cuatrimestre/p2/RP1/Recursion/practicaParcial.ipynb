{
 "cells": [
  {
   "cell_type": "code",
   "execution_count": 1,
   "metadata": {},
   "outputs": [
    {
     "data": {
      "text/plain": [
       "True"
      ]
     },
     "execution_count": 1,
     "metadata": {},
     "output_type": "execute_result"
    }
   ],
   "source": [
    "def g(xs:list,n:int)->bool:\n",
    "    if len(xs)==0:\n",
    "        return False\n",
    "    if len(xs)==n:\n",
    "        return True\n",
    "    return g(xs[1:],n)\n",
    "\n",
    "g([1,2,4],2)"
   ]
  },
  {
   "cell_type": "code",
   "execution_count": 9,
   "metadata": {},
   "outputs": [
    {
     "name": "stdout",
     "output_type": "stream",
     "text": [
      "after recursion 1\n",
      "after recursion 2\n",
      "after recursion 3\n",
      "after recursion 4\n",
      "after recursion 5\n"
     ]
    }
   ],
   "source": [
    "def funcion(contador):\n",
    "    if contador==0:\n",
    "        return\n",
    "    funcion(contador -1)\n",
    "    print('after recursion',contador)\n",
    "    return\n",
    "\n",
    "funcion(5)"
   ]
  },
  {
   "cell_type": "code",
   "execution_count": 11,
   "metadata": {},
   "outputs": [
    {
     "name": "stdout",
     "output_type": "stream",
     "text": [
      "before recursion 5\n",
      "before recursion 4\n",
      "before recursion 3\n",
      "before recursion 2\n",
      "before recursion 1\n"
     ]
    }
   ],
   "source": [
    "def funcion ( contador ):\n",
    "    if( contador == 0):\n",
    "        return\n",
    "    print ('before recursion', contador )\n",
    "    funcion ( contador - 1)\n",
    "\n",
    "funcion (5)"
   ]
  },
  {
   "cell_type": "code",
   "execution_count": 20,
   "metadata": {},
   "outputs": [
    {
     "name": "stdout",
     "output_type": "stream",
     "text": [
      "digito 4\n",
      "digito 3\n",
      "resto 0\n",
      "resto 03\n"
     ]
    },
    {
     "data": {
      "text/plain": [
       "'034'"
      ]
     },
     "execution_count": 20,
     "metadata": {},
     "output_type": "execute_result"
    }
   ],
   "source": [
    "def recursiva(numero:int)->str:\n",
    "    if numero == 0:\n",
    "        return '0'\n",
    "    digito = numero % 10\n",
    "    print('digito',digito)\n",
    "    resto = recursiva(numero//10)\n",
    "    print('resto',resto)\n",
    "    return str(resto) + str(digito)\n",
    "\n",
    "recursiva(34)"
   ]
  }
 ],
 "metadata": {
  "kernelspec": {
   "display_name": "Python 3",
   "language": "python",
   "name": "python3"
  },
  "language_info": {
   "codemirror_mode": {
    "name": "ipython",
    "version": 3
   },
   "file_extension": ".py",
   "mimetype": "text/x-python",
   "name": "python",
   "nbconvert_exporter": "python",
   "pygments_lexer": "ipython3",
   "version": "3.10.12"
  }
 },
 "nbformat": 4,
 "nbformat_minor": 2
}
