{
  "cells": [
    {
      "cell_type": "code",
      "source": [
        "from typing import Any\n",
        "class _Nodo:\n",
        "    def __init__(self, v: Any= None, next: \"_Nodo\"=None) -> None:\n",
        "      self.value = v\n",
        "      self.next = next\n",
        "\n",
        "class QueueE:\n",
        "  def __init__(self):\n",
        "    self.head = None\n",
        "    self.last = None\n",
        "\n",
        "  def insert(self, item):\n",
        "    n = _Nodo(item)\n",
        "    if self.head == None:\n",
        "      self.head = self.last = n\n",
        "    else:\n",
        "      self.last.next = n\n",
        "      self.last = n\n",
        "\n",
        "  def remove(self):\n",
        "    if self.head == None:\n",
        "      print( \"Error: Cola Vacia\")\n",
        "      return\n",
        "    dato = self.head.value\n",
        "    self.head = self.head.next\n",
        "    if self.head == None:\n",
        "      self.last == None\n",
        "    return dato\n",
        "\n",
        "  def isEmpty(self):\n",
        "      return self.head == None"
      ],
      "metadata": {
        "id": "8Jpv8uAst0Va"
      },
      "execution_count": 2,
      "outputs": []
    },
    {
      "cell_type": "code",
      "source": [
        "class Cliente():\n",
        "  def __init__(self, nombre: str, cant_cartas: int =1) -> None:\n",
        "    self.nombre = nombre\n",
        "    self.cant_cartas = cant_cartas\n",
        "\n",
        "class ColaGeneralizada:\n",
        "  \"\"\"\n",
        "  Es como una cola, pero en el constructor recibe la maxima cantidad de\n",
        "  cartas que se acepta por persona.\n",
        "  \"\"\"\n",
        "  def __init__(self, cant_maxima_de_cartas: int = 5) -> None:\n",
        "    self.cant_max_de_cartas = cant_maxima_de_cartas\n",
        "    self.cola = QueueE()\n",
        "\n",
        "\n",
        "  def push(self, cliente: Cliente) -> None:\n",
        "    \"\"\" llega un cliente a la cola \"\"\"\n",
        "    self.cola.insert(cliente)\n",
        "\n",
        "  def remove(self) -> None:\n",
        "    \"\"\" atendemos un cliente de la cola \"\"\"\n",
        "    if self.isEmpty():\n",
        "      print(\"No hay clientes que atender\")\n",
        "      return\n",
        "\n",
        "    cliente = self.cola.remove()\n",
        "    if cliente.cant_cartas <= 5:\n",
        "      print(f\"Atendido cliente {cliente.nombre} (tenia {cliente.cant_cartas})\")\n",
        "    else:\n",
        "      print(f\"Atendido cliente {cliente.nombre} (tenia {cliente.cant_cartas})\")\n",
        "      cliente.cant_cartas = cliente.cant_cartas - 5\n",
        "      self.cola.insert(cliente)\n",
        "\n",
        "  def isEmpty(self) -> bool:\n",
        "    return self.cola.isEmpty()\n",
        "\n",
        "correo = ColaGeneralizada()\n",
        "correo.push(Cliente(\"Ana\", 1))\n",
        "correo.push(Cliente(\"Facu\", 1))\n",
        "correo.push(Cliente(\"Seba\", 2))\n",
        "correo.push(Cliente(\"Joe\", 6))\n",
        "correo.push(Cliente(\"Pablo\", 9))\n",
        "correo.push(Cliente(\"Ana\", 1))\n",
        "correo.push(Cliente(\"Facu\", 1))\n",
        "correo.push(Cliente(\"Seba\", 2))\n",
        "\n",
        "while not correo.isEmpty(): correo.remove()"
      ],
      "metadata": {
        "id": "x9w3qAU1rjko",
        "outputId": "9896d087-d3d2-4920-a157-e16b6a331ff3",
        "colab": {
          "base_uri": "https://localhost:8080/"
        }
      },
      "execution_count": 4,
      "outputs": [
        {
          "output_type": "stream",
          "name": "stdout",
          "text": [
            "Atendido cliente Ana (tenia 1)\n",
            "Atendido cliente Facu (tenia 1)\n",
            "Atendido cliente Seba (tenia 2)\n",
            "Atendido cliente Joe (tenia 6)\n",
            "Atendido cliente Pablo (tenia 9)\n",
            "Atendido cliente Ana (tenia 1)\n",
            "Atendido cliente Facu (tenia 1)\n",
            "Atendido cliente Seba (tenia 2)\n",
            "Atendido cliente Joe (tenia 1)\n",
            "Atendido cliente Pablo (tenia 4)\n"
          ]
        }
      ]
    }
  ],
  "metadata": {
    "colab": {
      "name": "Te damos la bienvenida a Colaboratory",
      "provenance": []
    },
    "kernelspec": {
      "display_name": "Python 3",
      "name": "python3"
    }
  },
  "nbformat": 4,
  "nbformat_minor": 0
}