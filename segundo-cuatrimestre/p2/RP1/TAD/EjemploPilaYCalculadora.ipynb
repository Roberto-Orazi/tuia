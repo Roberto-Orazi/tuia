{
  "cells": [
    {
      "cell_type": "markdown",
      "metadata": {},
      "source": [
        "## Ejemplo Pila\n",
        "\n"
      ]
    },
    {
      "cell_type": "code",
      "execution_count": 1,
      "metadata": {
        "id": "8YQ_-HRhWIkk"
      },
      "outputs": [],
      "source": [
        "class Pila:\n",
        "  def __init__(self):\n",
        "    self.items = []\n",
        "\n",
        "  def push(self, x):\n",
        "    self.items.append(x)\n",
        "\n",
        "  def pop(self):\n",
        "    if self.isEmpty():\n",
        "      print(\"Error: esta vacia\")\n",
        "      return\n",
        "    return self.items.pop()\n",
        "\n",
        "  def isEmpty(self):\n",
        "    return self.items == []"
      ]
    },
    {
      "cell_type": "code",
      "execution_count": 2,
      "metadata": {
        "colab": {
          "base_uri": "https://localhost:8080/"
        },
        "id": "FVgUkko-XDoh",
        "outputId": "61d8e5e5-5a38-4848-d5d7-212bc4ceb8a8"
      },
      "outputs": [
        {
          "data": {
            "text/plain": [
              "True"
            ]
          },
          "execution_count": 2,
          "metadata": {},
          "output_type": "execute_result"
        }
      ],
      "source": [
        "p = Pila()\n",
        "p.isEmpty()"
      ]
    },
    {
      "cell_type": "code",
      "execution_count": 3,
      "metadata": {
        "colab": {
          "base_uri": "https://localhost:8080/"
        },
        "id": "oHF0oBLYXIWr",
        "outputId": "870a3b71-1204-4b3d-b679-5912506d94c9"
      },
      "outputs": [
        {
          "data": {
            "text/plain": [
              "False"
            ]
          },
          "execution_count": 3,
          "metadata": {},
          "output_type": "execute_result"
        }
      ],
      "source": [
        "p.push(3)\n",
        "p.isEmpty()"
      ]
    },
    {
      "cell_type": "code",
      "execution_count": 4,
      "metadata": {
        "colab": {
          "base_uri": "https://localhost:8080/"
        },
        "id": "FWiHAn06XMMq",
        "outputId": "d12bae90-f395-4975-8765-e8087df2023b"
      },
      "outputs": [
        {
          "data": {
            "text/plain": [
              "3"
            ]
          },
          "execution_count": 4,
          "metadata": {},
          "output_type": "execute_result"
        }
      ],
      "source": [
        "p.pop()"
      ]
    },
    {
      "cell_type": "code",
      "execution_count": 5,
      "metadata": {
        "colab": {
          "base_uri": "https://localhost:8080/"
        },
        "id": "ErVqtSrmXOg4",
        "outputId": "5755bd31-e4e4-4c11-8c52-b447b8cb86a7"
      },
      "outputs": [
        {
          "name": "stdout",
          "output_type": "stream",
          "text": [
            "Error: esta vacia\n"
          ]
        }
      ],
      "source": [
        "p.pop()"
      ]
    },
    {
      "cell_type": "markdown",
      "metadata": {
        "id": "eamFwxRoZUsb"
      },
      "source": []
    },
    {
      "cell_type": "markdown",
      "metadata": {},
      "source": [
        "## Calculadora en Notacion Polaca Inversa"
      ]
    },
    {
      "cell_type": "code",
      "execution_count": 51,
      "metadata": {
        "id": "XiI9rO0BXRip"
      },
      "outputs": [],
      "source": [
        "def calculadora(operacion: list[str] ) -> float:\n",
        "  \"\"\"\n",
        "  Recibe una operacion en notacion polaca inversa y devuelve el resultado\n",
        "  de dicha operacion.\n",
        "\n",
        "  Solo funciona con numeros enteros positivos y cero.\n",
        "\n",
        "  Por ejemplo:\n",
        "  - calculadora([\"3\", \"1\", \"+\"]) -> 4\n",
        "  - calculadora([\"3\", \"1\", \"+\", \"3\", \"x\"]) -> 12\n",
        "  - calculadora([\"3\", \"3\", \"3\"]) -> Error\n",
        "  - calculadora([\"&\"]) -> Error\n",
        "  \"\"\"\n",
        "  p = Pila()\n",
        "  while len(operacion) != 0:\n",
        "    x = operacion.pop(0)\n",
        "    if x.isnumeric():\n",
        "      operando = int(x)\n",
        "      p.push(operando)\n",
        "    elif x in \"+-x/\":\n",
        "        if p.isEmpty():\n",
        "          print(\"Error: No me alcanzan los argumentos\")\n",
        "          return\n",
        "        a = p.pop()\n",
        "        if p.isEmpty():\n",
        "          print(\"Error: No me alcanzan los argumentos\")\n",
        "          return\n",
        "        b = p.pop()\n",
        "        if x == \"+\":\n",
        "          resultado = a+b\n",
        "        elif x == \"-\":\n",
        "          resultado = b - a\n",
        "        elif x == \"x\":\n",
        "          resultado = a * b\n",
        "        else:\n",
        "          if a == 0:\n",
        "            print(\"Error: No se puede dividir por cero.\")\n",
        "            return\n",
        "          resultado = b / a\n",
        "        p.push(resultado)\n",
        "    else:\n",
        "        print(\"Error: No conozco el operador\")\n",
        "        return\n",
        "  resultado = p.pop()\n",
        "  if p.isEmpty():\n",
        "    return resultado\n",
        "  else:\n",
        "    print(\"Error: Operacion invalida\")"
      ]
    },
    {
      "cell_type": "code",
      "execution_count": 52,
      "metadata": {
        "colab": {
          "base_uri": "https://localhost:8080/"
        },
        "id": "uYxYSgf3Y1AB",
        "outputId": "236533f8-2399-455e-d3b4-460064a57543"
      },
      "outputs": [
        {
          "data": {
            "text/plain": [
              "5"
            ]
          },
          "execution_count": 52,
          "metadata": {},
          "output_type": "execute_result"
        }
      ],
      "source": [
        "calculadora([\"8\", \"3\", \"-\"])"
      ]
    },
    {
      "cell_type": "code",
      "execution_count": 53,
      "metadata": {
        "colab": {
          "base_uri": "https://localhost:8080/"
        },
        "id": "53VmqFh-df64",
        "outputId": "4a821363-a173-4290-a179-c54db58c4b33"
      },
      "outputs": [
        {
          "data": {
            "text/plain": [
              "4"
            ]
          },
          "execution_count": 53,
          "metadata": {},
          "output_type": "execute_result"
        }
      ],
      "source": [
        "calculadora([\"3\", \"1\", \"+\"])\n"
      ]
    },
    {
      "cell_type": "code",
      "execution_count": 54,
      "metadata": {
        "colab": {
          "base_uri": "https://localhost:8080/"
        },
        "id": "cvf-VSQBdmwv",
        "outputId": "b47f7c2f-dd94-434b-e7d6-832380a12249"
      },
      "outputs": [
        {
          "data": {
            "text/plain": [
              "12"
            ]
          },
          "execution_count": 54,
          "metadata": {},
          "output_type": "execute_result"
        }
      ],
      "source": [
        "calculadora([\"3\", \"1\", \"+\", \"3\", \"x\"])"
      ]
    },
    {
      "cell_type": "code",
      "execution_count": 55,
      "metadata": {
        "colab": {
          "base_uri": "https://localhost:8080/"
        },
        "id": "MwL1BtDSduPH",
        "outputId": "ce4fe506-85de-41ec-9390-64f2f1238329"
      },
      "outputs": [
        {
          "name": "stdout",
          "output_type": "stream",
          "text": [
            "Error: Operacion invalida\n"
          ]
        }
      ],
      "source": [
        "calculadora([\"3\", \"3\", \"3\"])"
      ]
    },
    {
      "cell_type": "code",
      "execution_count": 56,
      "metadata": {
        "colab": {
          "base_uri": "https://localhost:8080/"
        },
        "id": "I2HkHb8-dy1x",
        "outputId": "d342051e-e771-47cc-8a81-8277b10b6d1f"
      },
      "outputs": [
        {
          "name": "stdout",
          "output_type": "stream",
          "text": [
            "Error: No conozco el operador\n"
          ]
        }
      ],
      "source": [
        "calculadora([\"&\"])"
      ]
    },
    {
      "cell_type": "code",
      "execution_count": 46,
      "metadata": {
        "colab": {
          "base_uri": "https://localhost:8080/"
        },
        "id": "4YooIEcPd3Nu",
        "outputId": "117920a7-0335-4d0e-c629-ef6148480f0a"
      },
      "outputs": [
        {
          "name": "stdout",
          "output_type": "stream",
          "text": [
            "Error: No me alcanzan los argumentos\n"
          ]
        }
      ],
      "source": [
        "calculadora([\"3\", \"3\", \"x\", \"+\"])"
      ]
    },
    {
      "cell_type": "code",
      "execution_count": 47,
      "metadata": {
        "colab": {
          "base_uri": "https://localhost:8080/"
        },
        "id": "apjjTk7petys",
        "outputId": "5ccbbd1a-bf5f-4848-9cf9-3209ed1bd97d"
      },
      "outputs": [
        {
          "data": {
            "text/plain": [
              "12"
            ]
          },
          "execution_count": 47,
          "metadata": {},
          "output_type": "execute_result"
        }
      ],
      "source": [
        "calculadora([\"3\", \"3\", \"3\", \"x\", \"+\"])"
      ]
    },
    {
      "cell_type": "code",
      "execution_count": 48,
      "metadata": {
        "colab": {
          "base_uri": "https://localhost:8080/"
        },
        "id": "pytGkrcGfJ4r",
        "outputId": "902cb31d-7167-4ce5-9b67-f4b359ea3ee3"
      },
      "outputs": [
        {
          "name": "stdout",
          "output_type": "stream",
          "text": [
            "Error: No se puede dividir por cero.\n"
          ]
        }
      ],
      "source": [
        "calculadora([\"3\", \"0\", \"/\"])"
      ]
    },
    {
      "cell_type": "code",
      "execution_count": 57,
      "metadata": {
        "colab": {
          "base_uri": "https://localhost:8080/"
        },
        "id": "O472ROnnf7dF",
        "outputId": "2426d2f0-f20c-400b-9a4f-e33f770d933b"
      },
      "outputs": [
        {
          "data": {
            "text/plain": [
              "1"
            ]
          },
          "execution_count": 57,
          "metadata": {},
          "output_type": "execute_result"
        }
      ],
      "source": [
        "calculadora([\"12\", \"11\", \"-\"])"
      ]
    },
    {
      "cell_type": "code",
      "execution_count": 58,
      "metadata": {
        "colab": {
          "base_uri": "https://localhost:8080/"
        },
        "id": "TRqa78Wjf-bq",
        "outputId": "cc386c81-7170-4ec5-80b9-008da5e8d2a4"
      },
      "outputs": [
        {
          "name": "stdout",
          "output_type": "stream",
          "text": [
            "Error: No conozco el operador\n"
          ]
        }
      ],
      "source": [
        "calculadora([\"-10\", \"10\", \"+\"])"
      ]
    }
  ],
  "metadata": {
    "colab": {
      "name": "Te damos la bienvenida a Colaboratory",
      "provenance": []
    },
    "kernelspec": {
      "display_name": "Python 3",
      "name": "python3"
    }
  },
  "nbformat": 4,
  "nbformat_minor": 0
}
