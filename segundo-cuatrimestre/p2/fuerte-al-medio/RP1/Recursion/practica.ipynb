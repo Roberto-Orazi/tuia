{
  "cells": [
    {
      "cell_type": "markdown",
      "metadata": {
        "id": "6rxdohV00iKL"
      },
      "source": [
        "# Practica Recursion"
      ]
    },
    {
      "cell_type": "markdown",
      "metadata": {
        "id": "bqQ5hKbTE5xz"
      },
      "source": [
        "**Ejercicio 1**\n",
        "\n",
        "1. Escriba una función recursiva `repite_hola` que reciba como parámetro un número entero $n$ y escriba por pantalla el mensaje \"Hola\" $n$ veces. Invoquela con distintos valores de $n$.\n",
        "\n",
        "2. Escriba otra función `repite_hola` que reciba como parámetro un número entero $n$ y devuelva la cadena formada por $n$ concatenaciones de \"Hola\". Invoquela con distintos valores de $n$"
      ]
    },
    {
      "cell_type": "code",
      "execution_count": null,
      "metadata": {},
      "outputs": [],
      "source": [
        "def imprime_hola(n):\n",
        "    if n==0:\n",
        "        return\n",
        "    print('hola')\n",
        "    return imprime_hola(n-1)\n",
        "\n",
        "imprime_hola(5)"
      ]
    },
    {
      "cell_type": "code",
      "execution_count": null,
      "metadata": {},
      "outputs": [],
      "source": [
        "def repite_hola(n):\n",
        "    if n == 0:\n",
        "        return ''\n",
        "    return 'hola' + ' ' + repite_hola(n-1)\n",
        "\n",
        "repite_hola(5)"
      ]
    },
    {
      "cell_type": "markdown",
      "metadata": {
        "id": "v6UoSVfAFaZG"
      },
      "source": [
        "**Ejercicio 2**\n",
        "\n",
        "1. Escriba una función `repite_saludo` que reciba como parámetro un número entero $n$ y una cadena saludo y escriba por pantalla el valor de saludo $n$ veces. Invoquela con distintos valores de $n$ y de saludo.\n",
        "\n",
        "2. Escriba otra función `repite_saludo` que reciba como parámetro un número entero $n$ y una cadena saludo devuelva el valor de $n$ concatenaciones de saludo. Invoquela con distintos valores de $n$ y de saludo."
      ]
    },
    {
      "cell_type": "code",
      "execution_count": null,
      "metadata": {},
      "outputs": [],
      "source": [
        "def imprime_saludo(n, str):\n",
        "    if n==0:\n",
        "        return\n",
        "    print(str)\n",
        "    return imprime_saludo(n-1, str)\n",
        "\n",
        "imprime_saludo(3, 'chau')"
      ]
    },
    {
      "cell_type": "code",
      "execution_count": null,
      "metadata": {},
      "outputs": [],
      "source": [
        "def repite_saludo(n,str):\n",
        "    if n==0:\n",
        "        return ''\n",
        "    return str + ' ' + repite_saludo(n-1, str)\n",
        "\n",
        "repite_saludo(2, 'gato')"
      ]
    },
    {
      "cell_type": "markdown",
      "metadata": {
        "id": "Nk9iHhz1ic64"
      },
      "source": [
        "**Ejercicio 3**\n",
        "\n",
        "1. Piense cuál sería el resultado de la expresión `misterio(5)` y luego compruebe su hipótesis ejecutándola.\n",
        "\n",
        "2. Explique con sus palabras qué hace `misterio(a)` para cualquier `a`, sea positivo, negativo o 0."
      ]
    },
    {
      "cell_type": "code",
      "execution_count": null,
      "metadata": {
        "id": "jXGjJWpAioG4"
      },
      "outputs": [],
      "source": [
        "def misterio(a: int) -> int:\n",
        "  if a == 0:\n",
        "    return a\n",
        "\n",
        "  return 1 + misterio(a - 1)\n",
        "\n",
        "'''\n",
        "Esto va a retornar el valor de a\n",
        "ya que suma uno cada vez que resta uno al valor de a\n",
        "Si el valor es negativo va a quedar en un bucle infinito\n",
        "'''"
      ]
    },
    {
      "cell_type": "markdown",
      "metadata": {
        "id": "A0v_wx5AsPsx"
      },
      "source": [
        "**Ejercicio 4**\n",
        "\n",
        "Considere la siguiente función recursiva:\n",
        "\n",
        "```python\n",
        "def f(n: int, d: int) -> None:\n",
        "  if n > 1:\n",
        "    if n % d == 0:\n",
        "      print(d)\n",
        "      f(n//d, d)\n",
        "    else:\n",
        "      f(n, d+1)\n",
        "```\n",
        "\n",
        "1. ¿Que muestra por pantalla la llamada `f(30, 2)`? Intente deducirlo sin ejecutar el código.\n",
        "2. A nivel general, ¿que muestra por pantalla la mmada `f(x, 2)` para un `x` cualquiera?\n",
        "3. Implemente una función iterativa equivalente."
      ]
    },
    {
      "cell_type": "code",
      "execution_count": null,
      "metadata": {},
      "outputs": [],
      "source": [
        "def f(n: int, d: int) -> None:\n",
        "  if n > 1:\n",
        "    if n % d == 0:\n",
        "      print(d)\n",
        "      f(n//d, d)\n",
        "    else:\n",
        "      f(n, d+1)\n",
        "f(30,2)\n",
        "'''\n",
        "f(30,2)\n",
        "2\n",
        "3\n",
        "5\n",
        "Muestra todos los divisores en el cual el resto es 0 hasta que n=1\n",
        "'''\n",
        "def f_recursiva(n,d):\n",
        "    while n>1:\n",
        "        if n%d == 0:\n",
        "            print(d)\n",
        "            n=n//d\n",
        "        else:\n",
        "            d+=1\n",
        "f_recursiva(30,2)"
      ]
    },
    {
      "cell_type": "markdown",
      "metadata": {
        "id": "nyPQsQ4AuG7p"
      },
      "source": [
        "**Ejercicio 5**\n",
        "Considere la siguiente función recursiva:\n",
        "\n",
        "```python\n",
        "def mystery ( a: int, b: int ) -> int:\n",
        "  if ( b == 0) : return a\n",
        "  return mystery (2* a , b -1)\n",
        "\n",
        "result = mystery (7 , 3)\n",
        "print ( result )\n",
        "```\n",
        "\n",
        "1. ¿Que muestra por pantalla este código? Intente deducirlo sin ejecutar el código.\n",
        "2. ¿Cuantas veces se llama recursivamente mystery en este código?\n",
        "3. A nivel general, ¿que muestra por pantalla la llamada `f(x, 3)` para un x cualquiera? ¿que muestra por pantalla la llamada `f(x, y)` para x, y cualesquiera?"
      ]
    },
    {
      "cell_type": "code",
      "execution_count": null,
      "metadata": {},
      "outputs": [],
      "source": [
        "'''\n",
        "El codigo devuelve el doble de a 3 veces\n",
        "El codigo se ejecuta 3 veces\n",
        "El codigo va a devolver el doble del valor a b veces\n",
        "'''\n",
        "\n",
        "def mystery ( a: int, b: int ) -> int:\n",
        "  if ( b == 0) : return a\n",
        "  return mystery (2* a , b -1)\n",
        "\n",
        "result = mystery (1 , 3)\n",
        "print ( result )"
      ]
    },
    {
      "cell_type": "markdown",
      "metadata": {
        "id": "MgICSXQXEZz5"
      },
      "source": [
        "**Ejercicio 6**\n",
        "\n",
        "Escriba una funcion recursiva que tome un numero natural n e imprima todos los numeros desde n hasta 1."
      ]
    },
    {
      "cell_type": "code",
      "execution_count": null,
      "metadata": {},
      "outputs": [],
      "source": [
        "def natural_recursivo(n):\n",
        "    if n == 0:\n",
        "        return\n",
        "    print(n)\n",
        "    return natural_recursivo(n-1)\n",
        "\n",
        "natural_recursivo(5)"
      ]
    },
    {
      "cell_type": "markdown",
      "metadata": {
        "id": "Z7TjLxx3jaAM"
      },
      "source": [
        "**Ejercicio 7**\n",
        "\n",
        "Convierta la siguiente función recursiva a una iterativa."
      ]
    },
    {
      "cell_type": "code",
      "execution_count": null,
      "metadata": {
        "id": "nRIkRomhj-kv"
      },
      "outputs": [],
      "source": [
        "def recursiva(t: int, k: int) -> int:\n",
        "  if t >= 100:\n",
        "    return k\n",
        "  else:\n",
        "    return recursiva(t + k, k + 1)\n",
        "print('recursiva',recursiva(10,15))\n",
        "\n",
        "def iterativa(t, k):\n",
        "    while t<=100:\n",
        "        t+=k\n",
        "        k+=1\n",
        "    return k\n",
        "print('iterativa',iterativa(10,15))\n"
      ]
    },
    {
      "cell_type": "markdown",
      "metadata": {
        "id": "S_zEBM1d4wfm"
      },
      "source": [
        "**Ejercicio 8**\n",
        "\n",
        "Escribir una función recursiva que calcule recursivamente el n-ésimo número triangular (el número 1 + 2 + 3 + ⋯ + n)."
      ]
    },
    {
      "cell_type": "code",
      "execution_count": null,
      "metadata": {},
      "outputs": [],
      "source": [
        "def nesimo(n):\n",
        "    if n==0:\n",
        "        return 0\n",
        "    return n + nesimo(n-1)\n",
        "\n",
        "nesimo(3)"
      ]
    },
    {
      "cell_type": "markdown",
      "metadata": {
        "id": "NcFbTBst0k9h"
      },
      "source": [
        "**Ejercicio 9**\n",
        "\n",
        "Escribir una función recursiva que reciba un número positivo n y devuelva la cantidad de dígitos que tiene."
      ]
    },
    {
      "cell_type": "code",
      "execution_count": 37,
      "metadata": {},
      "outputs": [
        {
          "name": "stdout",
          "output_type": "stream",
          "text": [
            "4\n"
          ]
        }
      ],
      "source": [
        "def contar_digitos(n)->int:\n",
        "    if n // 10 == 0:\n",
        "        return 1\n",
        "\n",
        "    return 1 + contar_digitos(n//10)\n",
        "\n",
        "print(contar_digitos(3000))"
      ]
    },
    {
      "cell_type": "markdown",
      "metadata": {
        "id": "iwkC8qNp1MLv"
      },
      "source": [
        "**Ejercicio 10** Escribir una función recursiva que reciba 2 enteros n y b y devuelva True si n es potencia de b.\n",
        "\n",
        "**Ejemplos**:\n",
        "- es_potencia(8, 2) -> True\n",
        "- es_potencia(64, 4) -> True\n",
        "- es_potencia(70, 10) -> False"
      ]
    },
    {
      "cell_type": "code",
      "execution_count": null,
      "metadata": {},
      "outputs": [],
      "source": [
        "def es_potencia(n,b):\n",
        "    if n<b:\n",
        "        return False\n",
        "    if n==b:\n",
        "        return True\n",
        "    return es_potencia(n/b,b)\n",
        "\n",
        "print(es_potencia(8,2))\n",
        "print(es_potencia(64,4))\n",
        "print(es_potencia(70,10))"
      ]
    },
    {
      "cell_type": "markdown",
      "metadata": {
        "id": "BJqWGGBSv3_n"
      },
      "source": [
        "## Recursión con listas"
      ]
    },
    {
      "cell_type": "markdown",
      "metadata": {
        "id": "LnoHH96w5Boy"
      },
      "source": [
        "**Ejercicio 11** Escribir una funcion recursiva que encuentre el mayor elemento de una lista."
      ]
    },
    {
      "cell_type": "code",
      "execution_count": null,
      "metadata": {},
      "outputs": [],
      "source": [
        "def mayor_elemento(lista):\n",
        "    if len(lista) == 1:\n",
        "        return lista[0]\n",
        "\n",
        "    primero = lista[0]\n",
        "    resto = lista[1:]\n",
        "\n",
        "    mayor_del_resto = mayor_elemento(resto)\n",
        "\n",
        "    return max(primero, mayor_del_resto)\n",
        "\n",
        "\n",
        "print(mayor_elemento([5, 3, 8, 2, 7]))\n",
        "print(mayor_elemento([-5, -3, -8, -2, -7]))\n",
        "print(mayor_elemento([42]))"
      ]
    },
    {
      "cell_type": "markdown",
      "metadata": {
        "id": "GqKV9CUUlPMJ"
      },
      "source": [
        "**Ejercicio 12**\n",
        "\n",
        "Convierta la siguiente función iterativa a una recursiva."
      ]
    },
    {
      "cell_type": "code",
      "execution_count": null,
      "metadata": {
        "id": "NYXBEtDdmBvl"
      },
      "outputs": [],
      "source": [
        "def iterativa(l: list[int]) -> int:\n",
        "  c = 1\n",
        "  for i in l:\n",
        "    c = c * i\n",
        "  return c\n",
        "\n",
        "def recursiva(lista,c=1):\n",
        "  if len(lista)==0:\n",
        "    return\n",
        "  c*lista[-1]\n",
        "  lista.pop()\n",
        "  return recursiva(lista)\n",
        "\n",
        "recursiva([1,2,3])\n",
        "iterativa([1,2,3])"
      ]
    },
    {
      "cell_type": "markdown",
      "metadata": {
        "id": "3Xgvx8UH5oIZ"
      },
      "source": [
        "**Ejercicio 13** Escribir una función recursiva para replicar los elementos de una lista una cantidad n de veces. Por ejemplo:\n",
        "- replicar([1, 3, 3, 7], 2) -> ([1, 1, 3, 3, 3, 3, 7, 7])"
      ]
    },
    {
      "cell_type": "code",
      "execution_count": 55,
      "metadata": {},
      "outputs": [
        {
          "name": "stdout",
          "output_type": "stream",
          "text": [
            "[1, 1, 3, 3, 3, 3, 7, 7]\n"
          ]
        }
      ],
      "source": [
        "def replicar(lista, n):\n",
        "    if not lista:\n",
        "        return []\n",
        "    return [lista[0]] * n + replicar(lista[1:], n)\n",
        "\n",
        "resultado = replicar([1, 3, 3, 7], 2)\n",
        "print(resultado)\n"
      ]
    },
    {
      "cell_type": "markdown",
      "metadata": {
        "id": "9mXgr_gQRWiH"
      },
      "source": [
        "**Ejercicio 14** Escriba una funcion que tome una lista y devuelva esa misma lista en orden inverso. Realice dos versiones:\n",
        "\n",
        "* `reversaR` que resuelva utilizando recursión.\n",
        "* `reversaI` que resuelva utilizando iteración.\n",
        "\n",
        "**Nota**: No utilice la función *built-in* `reversed` en su solución, ni el método `reversed`."
      ]
    },
    {
      "cell_type": "code",
      "execution_count": 27,
      "metadata": {},
      "outputs": [
        {
          "name": "stdout",
          "output_type": "stream",
          "text": [
            "Recursiva lista 1 2 3 [3, 2, 1]\n",
            "Iterativa lista 1 2 3 4 [4, 3, 2, 1]\n"
          ]
        }
      ],
      "source": [
        "def reversaR(lista:list[int])->list[int]:\n",
        "    if not lista:\n",
        "        return []\n",
        "    return[lista[-1]] + reversaR(lista[:-1])\n",
        "\n",
        "print('Recursiva lista 1 2 3',reversaR([1,2,3]))\n",
        "\n",
        "def reversaI(lista:list[int])->list[int]:\n",
        "    for i in range(len(lista) -1, -1, -1):\n",
        "        lista.append(lista[i])\n",
        "        lista.pop(i)\n",
        "    return lista\n",
        "print('Iterativa lista 1 2 3 4',reversaI([1,2,3,4]))\n"
      ]
    },
    {
      "cell_type": "markdown",
      "metadata": {
        "id": "XDBqSNZnwuv9"
      },
      "source": [
        "## Recursión con strings"
      ]
    },
    {
      "cell_type": "markdown",
      "metadata": {
        "id": "R_MVS9FV2p2_"
      },
      "source": [
        "**Ejercicio 15** Escribir una funcion recursiva que reciba como parámetros dos cadenas a y b, y encuentre la posicion de la primer ocurrencia de b como subcadena de a\n",
        "\n",
        "**Ejemplo**:\n",
        "- posicion_de(\"Un tete a tete con Tete\", \"te\") -> 3\n",
        "- posicion_de(\"Un tete a tete con Tete\", \"Te\") -> 19\n",
        "\n",
        "**Ayuda**\n",
        "- Puede ser de utilidad el método de `str.startswith` que nos dice si una cadena empieza con una subcadena dada. Puede leer mas sobre este método en la [documentacion oficial](https://docs.python.org/3/library/stdtypes.html?highlight=startswith#str.startswith)"
      ]
    },
    {
      "cell_type": "code",
      "execution_count": null,
      "metadata": {},
      "outputs": [],
      "source": [
        "\n"
      ]
    },
    {
      "cell_type": "markdown",
      "metadata": {
        "id": "zaR3YsHi7SaA"
      },
      "source": [
        "## Recursión con wrappers\n",
        "\n",
        "Al diseñar funciones recursivas muchas veces puede ser útil implementar una función **wrapper**, por ejemplo para cambiar los valores que hay que tomar, validar parámetros, inicializar datos o manejar excepciones.\n",
        "\n",
        "Se utiliza una función recursiva, llamada funcion auxiliar, como base y luego una funcion no recursiva, llamada wrapper, que utiliza la funcion auxiliar para resolver lo pedido.\n",
        "\n",
        "Por ejemplo, si necesitamos escribir una función recursiva para calcular el promedio, puede no ser evidente como hacerlo:\n",
        "\n",
        "```python\n",
        "def promediar(lista: list[float]) -> float:\n",
        "  if len(lista) == 0:\n",
        "    return ???\n",
        "  promediar(lista[1:]) ???\n",
        "```\n",
        "\n",
        "Para calcular un promedio necesitamos computar tanto una suma como contar la cantidad de elementos. Podemos hacerlo con una función auxiliar\n",
        "\n",
        "```python\n",
        "def _promediar(lista: list[float]) -> int, float:\n",
        "  if len(lista) == 0:\n",
        "    return 0, 0\n",
        "  cant, suma = promediar(lista[1:])\n",
        "  return cant +1, suma + lista[0]\n",
        "\n",
        "def promediar(lista: list[float]) -> float:\n",
        "  cant, suma = _promediar(lista)\n",
        "  return suma / cant\n",
        "```"
      ]
    },
    {
      "cell_type": "markdown",
      "metadata": {
        "id": "--lq2ot56HOe"
      },
      "source": [
        "**Ejercicio 16** Escribir una funcion recursiva que dada una cadena determine si en la misma hay más letras A o letras E. Utilizar una funcion auxiliar."
      ]
    },
    {
      "cell_type": "markdown",
      "metadata": {
        "id": "3dx3RMhe_ZTc"
      },
      "source": [
        "**Ejercicio 17** Escriba una función `potencia(b,n) que calcule la potencia para cualquier n entero, incluso si n es negativa. Utilizar una funcion auxiliar."
      ]
    },
    {
      "cell_type": "markdown",
      "metadata": {
        "id": "XD295CPgAQ0D"
      },
      "source": [
        "**Ejercicio 18** Ya sabemos que la implementación recursiva del cálculo del número de Fibonacci (Fn = Fn−1 + Fn−2, F0 = 0, F1 = 1) es ineficiente porque muchas de las ramas calculan reiteradamente los mismos valores.\n",
        "\n",
        "Escribir una función fibonacci(n) que calcule el enésimo número de Fibonacci de forma recursiva pero que utilice un diccionario para almacenar los valores ya computados y no computarlos más de una vez.\n",
        "\n",
        "**Nota**: Será necesario implementar una función wrapper para cumplir con la firma de la función pedida."
      ]
    }
  ],
  "metadata": {
    "colab": {
      "provenance": []
    },
    "kernelspec": {
      "display_name": "Python 3",
      "name": "python3"
    },
    "language_info": {
      "codemirror_mode": {
        "name": "ipython",
        "version": 3
      },
      "file_extension": ".py",
      "mimetype": "text/x-python",
      "name": "python",
      "nbconvert_exporter": "python",
      "pygments_lexer": "ipython3",
      "version": "3.12.3"
    }
  },
  "nbformat": 4,
  "nbformat_minor": 0
}
